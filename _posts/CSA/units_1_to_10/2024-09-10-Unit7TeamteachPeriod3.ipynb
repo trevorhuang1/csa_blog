{
 "cells": [
  {
   "cell_type": "markdown",
   "metadata": {},
   "source": [
    "---\n",
    "layout: post\n",
    "toc: true\n",
    "title: Unit 7 - Array List P3 \n",
    "description: A Unit of documents that overview Array Lists in Java\n",
    "courses: { csa: {week: 4} }\n",
    "type: ccc\n",
    "categories: [AP CSA]\n",
    "---"
   ]
  },
  {
   "cell_type": "markdown",
   "metadata": {},
   "source": [
    "**UNIT 7: ARRAY LISTS**\n",
    "\n",
    "<p>7.1: Array List Intro</p>\n",
    "7.2: Array List Methods</p>\n",
    "7.3 Traversing Array Lists</p>\n",
    "7.4: Developing Algorithms Using Array Lists</p>\n",
    "7.5: Searching</p>\n",
    "7.6: Sorting</p>\n",
    "7.7: Ethical issues around Data Collection</p>"
   ]
  },
  {
   "cell_type": "markdown",
   "metadata": {},
   "source": [
    "**7.1 ARRAY LIST INTRO**\n",
    "- ArrayList is a resizeable array\n",
    "- ArrayLists are dynamic meaning that its size can be altered as necessary \n",
    "- Instead of creating a new array of a different size and copying the data from the initial array to the new one, we can use ArrayLists\n",
    "\n",
    "- To use an arrayList it is necessary to be imported from the java util package\n"
   ]
  },
  {
   "cell_type": "markdown",
   "metadata": {
    "vscode": {
     "languageId": "java"
    }
   },
   "source": [
    "**VOCABULARY**\n",
    "\n",
    "Static: Once initialized, size cannot be changed (arrays)\n",
    "\n",
    "Dynamic: Size of list can be changed at any time (arrayLists)\n",
    "\n",
    "<img src=\"https://drishyamody.github.io/TeamTeachP3/images/comparison.png\" alt=\"Arrays VS ArrayList\">\n"
   ]
  },
  {
   "cell_type": "code",
   "execution_count": 1,
   "metadata": {
    "vscode": {
     "languageId": "java"
    }
   },
   "outputs": [],
   "source": [
    "import java.util.ArrayList;  // Import the ArrayList class\n",
    "// Declare and initialize an ArrayList of integers\n",
    "ArrayList<Integer> numbersList = new ArrayList<>();\n",
    "System.out.println(numbersList);"
   ]
  },
  {
   "cell_type": "markdown",
   "metadata": {},
   "source": [
    "- ArrayLists are created in a similar manner as other object classes\n",
    "- in the <> when declaring an arrayList is the data type it will contain. (integer, string, etc...)\n",
    "- Can also make an arraylist without declaring the data type but it can prevent error detection "
   ]
  },
  {
   "cell_type": "code",
   "execution_count": 2,
   "metadata": {
    "vscode": {
     "languageId": "java"
    }
   },
   "outputs": [],
   "source": [
    "ArrayList<String> wordList = new ArrayList<String>(); // with data type\n",
    "ArrayList blankList = new ArrayList(); // without data type\n",
    "System.out.println(wordList);"
   ]
  },
  {
   "cell_type": "markdown",
   "metadata": {
    "vscode": {
     "languageId": "java"
    }
   },
   "source": [
    "**7.2 ARRAY LIST METHODS**\n",
    "- "
   ]
  },
  {
   "cell_type": "markdown",
   "metadata": {},
   "source": [
    "- You can get the number of items in an ArrayList using the .size() method\n",
    "- All arrayLists start with 0"
   ]
  },
  {
   "cell_type": "code",
   "execution_count": 3,
   "metadata": {
    "vscode": {
     "languageId": "java"
    }
   },
   "outputs": [],
   "source": [
    "ArrayList<String> sizeList = new ArrayList<String>();\n",
    "System.out.println(sizeList.size());"
   ]
  },
  {
   "cell_type": "markdown",
   "metadata": {},
   "source": [
    "- You can add values to an array list by using add method.\n",
    "syntax: list.add(obj)\n",
    "\n",
    "- How you would join the end of a line to buy a ticket (similar concept)"
   ]
  },
  {
   "cell_type": "code",
   "execution_count": 7,
   "metadata": {
    "vscode": {
     "languageId": "java"
    }
   },
   "outputs": [],
   "source": [
    "ArrayList<String> addList = new ArrayList<String>();\n",
    "addList.add(\"CSA\");\n",
    "System.out.println(addList.size());\n",
    "System.out.println(addList);\n"
   ]
  },
  {
   "cell_type": "markdown",
   "metadata": {},
   "source": [
    "- int size() - Returns the count of elements within the list.\n",
    "\n",
    "- boolean add(E obj) - Appends the object obj to the end of the list and returns true.\n",
    "\n",
    "- void add(int index, E obj) - Inserts obj at the specified index, shifting elements at and above that position to the right (incrementing their indices by 1) and increasing the list's size by 1.\n",
    "\n",
    "- E get(int index) - Retrieves the element at the given index in the list.\n",
    "\n",
    "- E set(int index, E obj) - Replaces the element at the specified index with obj and returns the previous element at that index.\n",
    "\n",
    "- E remove(int index) - Deletes the element at the specified index, shifting all subsequent elements one index to the left, reducing the list's size by one, and returning the removed element.\n",
    "\n",
    "- Java allows the generic ArrayList<E>, where the generic type E specifies the type of element.\n",
    "\n",
    "- When ArrayList<E> is specified, the types of the reference parameters and return type when using the methods are type E.\n",
    "\n",
    "- ArrayList<E> is preferred over ArrayList because it allows the compiler to find errors that would otherwise be found at runtime."
   ]
  },
  {
   "cell_type": "code",
   "execution_count": 11,
   "metadata": {
    "vscode": {
     "languageId": "java"
    }
   },
   "outputs": [],
   "source": [
    "ArrayList<Integer> a1 = new ArrayList<>();\n",
    "System.out.println(a1.size());\n",
    "\n",
    "ArrayList<Double> a2 = new ArrayList<>();\n",
    "a2.add(1.0);\n",
    "a2.add(2.0);\n",
    "a2.add(3.0);\n",
    "System.out.println(a2);\n",
    "\n",
    "a2.remove(2.0);\n",
    "System.out.println(a2);\n",
    "\n",
    "\n"
   ]
  },
  {
   "cell_type": "code",
   "execution_count": 13,
   "metadata": {
    "vscode": {
     "languageId": "java"
    }
   },
   "outputs": [],
   "source": [
    "import java.util.ArrayList;\n",
    " // Create ArrayList of Integers\n",
    "ArrayList<Integer> a1 = new ArrayList<>();\n",
    "System.out.println(\"Initial size of a1: \" + a1.size());\n",
    "\n",
    "// Create ArrayList of Doubles and add elements\n",
    "ArrayList<Double> a2 = new ArrayList<>();\n",
    "a2.add(1.0);\n",
    "a2.add(2.0);\n",
    "a2.add(3.0);\n",
    "System.out.println(\"Initial a2: \" + a2);\n",
    "\n",
    "// Remove element at index 2\n",
    "a2.remove(2); // Use index for removal, not value\n",
    "System.out.println(\"After removing element at index 2: \" + a2);\n",
    "\n",
    "// Insert element at index 1\n",
    "a2.add(1, 1.5);\n",
    "System.out.println(\"After inserting 1.5 at index 1: \" + a2);\n",
    "\n",
    "// Retrieve element at index 2\n",
    "Double elementAtIndex2 = a2.get(2);\n",
    "System.out.println(\"Element at index 2: \" + elementAtIndex2);\n",
    "\n",
    "// Replace element at index 1\n",
    "Double previousElement = a2.set(1, 1.75);\n",
    "System.out.println(\"After replacing element at index 1: \" + a2);\n",
    "System.out.println(\"Previous element at index 1: \" + previousElement);\n",
    "\n",
    "// Get the size of a2\n",
    "int sizeOfA2 = a2.size();\n",
    "System.out.println(\"Size of a2: \" + sizeOfA2);\n"
   ]
  },
  {
   "cell_type": "markdown",
   "metadata": {},
   "source": [
    "**POPCORN HACKS 7.1 & 7.2**\n",
    "Create an ArrayList of Strings with the following elements: \"Apple\", \"Banana\", \"Cherry\", \"Date\", \"Elderberry\".\n",
    "Complete the following tasks using the ArrayList methods you've learned:\n",
    "- Task 1: Print the size of the ArrayList.\n",
    "- Task 2: Add a new element \"Fig\" to the end of the list.\n",
    "- Task 3: Insert \"Grape\" at index 2.\n",
    "- Task 4: Replace the element at index 4 with \"Guava\".\n",
    "- Task 5: Remove the element at index 1.\n",
    "- Task 6: Retrieve and print the element at index 3.\n",
    "\n",
    "At the end of each task, print the current state of the ArrayList to verify the result."
   ]
  },
  {
   "cell_type": "markdown",
   "metadata": {},
   "source": [
    "# 7.3: Traversing Arrays\n"
   ]
  },
  {
   "cell_type": "markdown",
   "metadata": {},
   "source": [
    "variable.get(i) retreives #i value.\n",
    "variable.remove(i) removes #i value from a list.\n",
    "    when you remove #i value from a list, it will move all the values in that ArrayList up one value.\n",
    "under and over traversing results in errors.\n",
    "\n",
    "traversing using and enhanced for loop\n",
    "    known as *for-each*\n",
    "        goes from first to last order in an ArrayList\n",
    "        easier to setup than for loop\n",
    "structure consists of:"
   ]
  },
  {
   "cell_type": "code",
   "execution_count": null,
   "metadata": {
    "vscode": {
     "languageId": "java"
    }
   },
   "outputs": [],
   "source": [
    "for (DataType variable : Collection )\n",
    "{\n",
    "    // statement one;\n",
    "    // statement two;\n",
    "    // ...\n",
    "}"
   ]
  },
  {
   "cell_type": "markdown",
   "metadata": {},
   "source": [
    " example of how to use an enhanced for loop is this segment of code being used to determine the total number of charecters needed to write out the roster of student names:"
   ]
  },
  {
   "cell_type": "code",
   "execution_count": null,
   "metadata": {
    "vscode": {
     "languageId": "java"
    }
   },
   "outputs": [],
   "source": [
    "int sum=0;\n",
    "for (String names : roster)\n",
    "{\n",
    "    sum = sum +name.length();\n",
    "}"
   ]
  },
  {
   "cell_type": "markdown",
   "metadata": {},
   "source": [
    "the biggest flaw of all with enhanced for loops is the fact that rather than updati0ng the ArrayList, they create a copy of the ArrayList. when you try to add entry, it brings up the error: ConcurrentModificationException"
   ]
  },
  {
   "cell_type": "code",
   "execution_count": null,
   "metadata": {
    "vscode": {
     "languageId": "java"
    }
   },
   "outputs": [],
   "source": [
    "import java.util.ArrayList"
   ]
  },
  {
   "cell_type": "markdown",
   "metadata": {},
   "source": [
    "you cannot declare or instantiate a ArrayList witha  primitive data type\n",
    "include parenthasis () at the end of the Arraylist Constructor call\n",
    "not specifying the element type is a common problem\n",
    "when removing elements, ensure that you are not skipping over elements after removal.\n"
   ]
  },
  {
   "cell_type": "code",
   "execution_count": null,
   "metadata": {
    "vscode": {
     "languageId": "java"
    }
   },
   "outputs": [],
   "source": [
    "swapConsecutive(ArrayList<Double> myList)"
   ]
  },
  {
   "cell_type": "markdown",
   "metadata": {},
   "source": [
    "# 7.4 Developing ALgorithms Using Array Lists"
   ]
  },
  {
   "cell_type": "markdown",
   "metadata": {},
   "source": [
    "## Essential Knowledge\n",
    "\n",
    "\n",
    "-> Iteration statements provide a means to access all the elements stored within an ArrayList. This process is referred to as \"traversing the ArrayList.\"\n",
    "\n",
    "-> The following methods related to ArrayLists, their functions, and appropriate use are covered in the Java Quick Reference:\n",
    "\n",
    "    -> int size() - Returns the count of elements within the list.\n",
    "    -> boolean add(E obj) - Appends the object obj to the end of the list and returns true.\n",
    "    -> void add(int index, E obj) - Inserts obj at the specified index, shifting elements at and -> above that position to the right (incrementing their indices by 1) and increasing the list's size by 1.\n",
    "    -> E get(int index) - Retrieves the element at the given index in the list.\n",
    "    -> E set(int index, E obj) - Replaces the element at the specified index with obj and returns the previous element at that index.\n",
    "    -> E remove(int index) - Deletes the element at the specified index, shifting all subsequent elements one index to the left, reducing the list's size by one, and returning the removed element.\n",
    "\n",
    "->There exist established algorithms for ArrayLists that make use of traversals to:\n",
    "\n",
    "    -> Insert elements.\n",
    "    -> Remove elements.\n",
    "    -> Apply the same algorithms commonly used with 1D arrays."
   ]
  },
  {
   "cell_type": "code",
   "execution_count": null,
   "metadata": {
    "vscode": {
     "languageId": "java"
    }
   },
   "outputs": [],
   "source": [
    "List<Integer> list1 = new ArrayList<Integer>();\n",
    "list1.add(new Integer(1));\n",
    "list1.add(new Integer(2));\n",
    "list1.add(new Integer(3));\n",
    "list1.remove(1);"
   ]
  },
  {
   "cell_type": "markdown",
   "metadata": {},
   "source": [
    "A. [2, 3]\n",
    "\n",
    "B. [1, 2, 3]\n",
    "\n",
    "C. [1, 2]\n",
    "\n",
    "D. [1, 3]"
   ]
  },
  {
   "cell_type": "code",
   "execution_count": null,
   "metadata": {
    "vscode": {
     "languageId": "java"
    }
   },
   "outputs": [],
   "source": [
    "List<Integer> numList = new ArrayList<Integer>();\n",
    "numList.add(new Integer(1));\n",
    "numList.add(new Integer(2));\n",
    "numList.add(new Integer(3));\n",
    "numList.set(2,new Integer(4));\n",
    "numList.add(1, new Integer(5));\n",
    "numList.add(new Integer(6));"
   ]
  },
  {
   "cell_type": "markdown",
   "metadata": {},
   "source": [
    "A. [1, 2, 3, 4, 5]\n",
    "\n",
    "B. [1, 2, 4, 5, 6]\n",
    "\n",
    "C. [1, 2, 5, 4, 6]\n",
    "\n",
    "D. [1, 5, 2, 4, 6]"
   ]
  },
  {
   "cell_type": "code",
   "execution_count": null,
   "metadata": {
    "vscode": {
     "languageId": "java"
    }
   },
   "outputs": [],
   "source": [
    "public class ArrayListExample {\n",
    "\n",
    "    private double getMax(double[] numbers) {\n",
    "        double highest = numbers[0];\n",
    "        for (double num : numbers) {\n",
    "            if (num > highest) {\n",
    "                highest = num;\n",
    "            }\n",
    "        }\n",
    "        return highest;\n",
    "    }\n",
    "\n",
    "    public static void main(String[] args) {\n",
    "        double[] nums = {1.0, 3.8, 2.0, 2.0, 1.9, 70.2, 2.0, 4.0, 6.3, 2.1, 5.0, 10.7};\n",
    "        ArrayListExample instance = new ArrayListExample();\n",
    "        System.out.println(instance.getMax(nums));\n",
    "    }\n",
    "}\n",
    "\n",
    "ArrayListExample.main(null);"
   ]
  },
  {
   "cell_type": "markdown",
   "metadata": {},
   "source": [
    "When you look at the code above you should pay attention to the getMax() method. What the method is doing is it accepts a list of doubles as input and then uses a for loop to determine the highest value in the list."
   ]
  },
  {
   "cell_type": "markdown",
   "metadata": {},
   "source": [
    "Now instead of using just a List of Doubles, lets use an ArrayList of Doubles. "
   ]
  },
  {
   "cell_type": "code",
   "execution_count": null,
   "metadata": {
    "vscode": {
     "languageId": "java"
    }
   },
   "outputs": [],
   "source": [
    "\n",
    "public class ArrayListExample {\n",
    "\n",
    "    private double getMax(ArrayList<Double> numbers) {\n",
    "        double highest = numbers.get(0);\n",
    "        for (double num : numbers) {\n",
    "            if (num > highest) {\n",
    "                highest = num;\n",
    "            }\n",
    "        }\n",
    "        return highest;\n",
    "    }\n",
    "\n",
    "    public static void main(String[] args) {\n",
    "        ArrayList<Double> nums = new ArrayList<>(Arrays.asList(1.0, 3.8, 2.0, 2.0, 1.9, 70.2, 2.0, 4.0, 6.3, 2.1, 5.0, 10.7));\n",
    "        ArrayListExample instance = new ArrayListExample();\n",
    "        System.out.println(instance.getMax(nums));\n",
    "    }\n",
    "}\n",
    "\n",
    "ArrayListExample.main(null);"
   ]
  },
  {
   "cell_type": "markdown",
   "metadata": {},
   "source": [
    "Finish the code below so that it uses the findSum() method and it finds the sum of the numbers. "
   ]
  },
  {
   "cell_type": "code",
   "execution_count": null,
   "metadata": {
    "vscode": {
     "languageId": "java"
    }
   },
   "outputs": [],
   "source": [
    "public class ArrayListHacks {\n",
    "    private int findSum(ArrayList<Integer> values) {\n",
    "        // Your code here\n",
    "        return 0;\n",
    "    }\n",
    "\n",
    "    public static void main(String[] args) {\n",
    "        ArrayList<Integer> nums = new ArrayList<>();\n",
    "        nums.add(0);\n",
    "        nums.add(1);\n",
    "        nums.add(2);\n",
    "        nums.add(3);\n",
    "        nums.add(5);\n",
    "        nums.add(8);\n",
    "\n",
    "        ArrayListHacks hacks = new ArrayListHacks();\n",
    "        hacks.findSum(nums);\n",
    "    }\n",
    "}\n",
    "\n",
    "ArrayListHacks.main(null);"
   ]
  },
  {
   "cell_type": "markdown",
   "metadata": {},
   "source": [
    "# 7.5 Searching"
   ]
  },
  {
   "cell_type": "markdown",
   "metadata": {},
   "source": [
    "## We will be learning about Sequential Searching but also known as Linear Searching. \n",
    "\n",
    "Linear search looks for a value in unsorted data by checking each element in order that the data is in. It then returns the index if found, or -1 if the value isn’t in the list."
   ]
  },
  {
   "cell_type": "code",
   "execution_count": null,
   "metadata": {
    "vscode": {
     "languageId": "java"
    }
   },
   "outputs": [],
   "source": [
    "public class ArraySearcher {\n",
    "\n",
    "    public static int sequentialSearch(int[] elements, int target) {\n",
    "        for (int j = 0; j < elements.length; j++) {\n",
    "            if (elements[j] == target) {\n",
    "                return j;\n",
    "            }\n",
    "        }\n",
    "        return -1;\n",
    "    }\n",
    "\n",
    "    public static void main(String[] args) {\n",
    "        int[] numArray = {3, -2, 9, 38, -23};\n",
    "        System.out.println(\"Tests of sequentialSearch\");\n",
    "        System.out.println(sequentialSearch(numArray, 3));  \n",
    "        System.out.println(sequentialSearch(numArray, 9));  // Expected output: 2\n",
    "        System.out.println(sequentialSearch(numArray, -23)); // Expected output: 4\n",
    "        System.out.println(sequentialSearch(numArray, 99)); // Expected output: -1\n",
    "    }\n",
    "}\n",
    "\n",
    "\n",
    "ArraySearcher.main(null);"
   ]
  },
  {
   "cell_type": "markdown",
   "metadata": {},
   "source": [
    "You can also look for a String in an array or list, but be sure to use equals rather than ==. Remember that == is only true when the two references refer to the same String object, while equals returns true if the characters in the two String objects are the same.\n"
   ]
  },
  {
   "cell_type": "code",
   "execution_count": null,
   "metadata": {
    "vscode": {
     "languageId": "java"
    }
   },
   "outputs": [],
   "source": [
    "public class SearchTest\n",
    "{\n",
    "\n",
    "    public static int sequentialSearch(String[] elements, String target)\n",
    "    {\n",
    "        for (int j = 0; j < elements.length; j++)\n",
    "        {\n",
    "            if (elements[j].equals(target))\n",
    "            {\n",
    "                return j;\n",
    "            }\n",
    "        }\n",
    "        return -1;\n",
    "    }\n",
    "\n",
    "    public static void main(String[] args)\n",
    "    {\n",
    "        String[] arr1 = {\"blue\", \"red\", \"purple\", \"green\"};\n",
    "\n",
    "        // test when the target is in the array\n",
    "        int index = sequentialSearch(arr1, \"red\");\n",
    "        System.out.println(index);\n",
    "\n",
    "        // test when the target is not in the array\n",
    "        index = sequentialSearch(arr1, \"pink\");\n",
    "        System.out.println(index);\n",
    "    }\n",
    "}\n",
    "\n",
    "SearchTest.main(null)\n"
   ]
  },
  {
   "cell_type": "markdown",
   "metadata": {},
   "source": [
    "# **7.6 - ArrayLists, Sorting**\n",
    "\n",
    "## Selection Sort. \n",
    "- The one of the easiest sorts to demonstrate. \n",
    "- The selection sort identifies either the **maximum** or **minimum** of the compared values and iterates over the structure checking if the item stored at the index matches that condition, if so, it will swap the value stroed at that index and continue. \n",
    "- This implementation uses a helper method to perform the swap operation since variables can hold **only one value at a time**!!!\n",
    "\n",
    "### Let’s use this array as an example: **arr[] = {64, 25, 12, 22, 11}**\n",
    "![picture 1 for selection sortin](https://i.ibb.co/0CLDsNx/Screenshot-2024-09-17-12-39-20.png)\n",
    "![picture 2 for selection sortin](https://i.ibb.co/cLVWs6T/Screenshot-2024-09-17-12-41-30.png)\n",
    "![picture 3 for selection sortin](https://i.ibb.co/T2KjMtR/Screenshot-2024-09-17-12-41-37.png)\n",
    "![picture 4 for selection sortin](https://i.ibb.co/109NWPk/Screenshot-2024-09-17-12-41-42.png)\n",
    "![picture 5 for selection sortin](https://i.ibb.co/h8vhKcQ/Screenshot-2024-09-17-12-41-57.png)\n",
    "\n",
    "\n",
    "\n",
    "\n",
    "## **College Board Example code below...**"
   ]
  },
  {
   "cell_type": "code",
   "execution_count": null,
   "metadata": {
    "vscode": {
     "languageId": "java"
    }
   },
   "outputs": [],
   "source": [
    "public class SelectionSortExample {\n",
    "\n",
    "    public static void main(String[] args) {\n",
    "        // Example array of DebugDuck objects\n",
    "        DebugDuck[] myDucks = {\n",
    "            new DebugDuck(5),\n",
    "            new DebugDuck(1),\n",
    "            new DebugDuck(3),\n",
    "            new DebugDuck(4),\n",
    "            new DebugDuck(2)\n",
    "        };\n",
    "\n",
    "        // Perform selection sort\n",
    "        selectionSort(myDucks);\n",
    "\n",
    "        // Print sorted array\n",
    "        System.out.println(\"Sorted array:\");\n",
    "        for (DebugDuck duck : myDucks) {\n",
    "            System.out.println(duck);\n",
    "        }\n",
    "    }\n",
    "\n",
    "    // Method to perform selection sort\n",
    "    public static void selectionSort(DebugDuck[] myDucks) {\n",
    "        for (int outerLoop = 0; outerLoop < myDucks.length; outerLoop++) {\n",
    "            // Start by assuming the current item is the smallest\n",
    "            int minIndex = outerLoop;\n",
    "\n",
    "            // Check the rest of the array for anything smaller\n",
    "            for (int inner = outerLoop + 1; inner < myDucks.length; inner++) {\n",
    "                // If you find something smaller, update the index\n",
    "                if (myDucks[inner].compareTo(myDucks[minIndex]) < 0) {\n",
    "                    minIndex = inner;\n",
    "                }\n",
    "            }\n",
    "\n",
    "            // If the smallest item isn’t already in the right place, swap them\n",
    "            if (minIndex != outerLoop) {\n",
    "                swapItems(minIndex, outerLoop, myDucks);\n",
    "            }\n",
    "        }\n",
    "    }\n",
    "\n",
    "    // Method to swap elements in the array\n",
    "    private static void swapItems(int i, int j, DebugDuck[] myDucks) {\n",
    "        DebugDuck temp = myDucks[i];\n",
    "        myDucks[i] = myDucks[j];\n",
    "        myDucks[j] = temp;\n",
    "    }\n",
    "}\n",
    "\n",
    "// DebugDuck class implementing Comparable\n",
    "class DebugDuck implements Comparable<DebugDuck> {\n",
    "    private int someAttribute;\n",
    "\n",
    "    public DebugDuck(int someAttribute) {\n",
    "        this.someAttribute = someAttribute;\n",
    "    }\n",
    "\n",
    "    @Override\n",
    "    public int compareTo(DebugDuck other) {\n",
    "        return Integer.compare(this.someAttribute, other.someAttribute);\n",
    "    }\n",
    "\n",
    "    @Override\n",
    "    public String toString() {\n",
    "        return \"DebugDuck{\" + \"someAttribute=\" + someAttribute + '}';\n",
    "    }\n",
    "}\n"
   ]
  },
  {
   "cell_type": "markdown",
   "metadata": {},
   "source": [
    "### Another Example..."
   ]
  },
  {
   "cell_type": "code",
   "execution_count": null,
   "metadata": {
    "vscode": {
     "languageId": "java"
    }
   },
   "outputs": [],
   "source": [
    "public class SelectionSort {\n",
    "    public static void main(String[] args) {\n",
    "        int[] numbers = {64, 25, 12, 22, 11};  // Example array of numbers\n",
    "\n",
    "        // Perform selection sort\n",
    "        for (int outerLoop = 0; outerLoop < numbers.length - 1; outerLoop++) {\n",
    "            // Start by assuming the current item is the smallest\n",
    "            int minIndex = outerLoop;\n",
    "\n",
    "            // Check the rest of the array for anything smaller\n",
    "            for (int inner = outerLoop + 1; inner < numbers.length; inner++) {\n",
    "                // If you find something smaller, update the index\n",
    "                if (numbers[inner] < numbers[minIndex]) {\n",
    "                    minIndex = inner;\n",
    "                }\n",
    "            }\n",
    "\n",
    "            // If the smallest item isn’t already in the right place, swap them\n",
    "            if (minIndex != outerLoop) {\n",
    "                // Swap numbers[outerLoop] and numbers[minIndex]\n",
    "                int temp = numbers[outerLoop];\n",
    "                numbers[outerLoop] = numbers[minIndex];\n",
    "                numbers[minIndex] = temp;\n",
    "            }\n",
    "        }\n",
    "\n",
    "        // Print the sorted array\n",
    "        System.out.println(\"Sorted array:\");\n",
    "        for (int num : numbers) {\n",
    "            System.out.print(num + \" \");\n",
    "        }\n",
    "    }\n",
    "}\n"
   ]
  },
  {
   "cell_type": "markdown",
   "metadata": {},
   "source": [
    "### How does the swapping actualy happen?\n",
    "- We use swap-item mothod.\n",
    "\n",
    "**Swap Algorithm**"
   ]
  },
  {
   "cell_type": "code",
   "execution_count": null,
   "metadata": {
    "vscode": {
     "languageId": "java"
    }
   },
   "outputs": [],
   "source": [
    "private void swapItems(int firstIndex, int secondIndex, Object[] arrayOfStuff)\n",
    "{\n",
    "    // **thirdHand** temporarily holds the value from firstIndex so it doesn't get lost during the swap\n",
    "    Object thirdHand = arrayOfStuff[firstIndex];\n",
    "    \n",
    "    // Move the value from secondIndex to firstIndex\n",
    "    arrayOfStuff[firstIndex] = arrayOfStuff[secondIndex];\n",
    "    \n",
    "    // Place the value that was originally at firstIndex (stored in thirdHand) into secondIndex\n",
    "    arrayOfStuff[secondIndex] = thirdHand;\n",
    "}\n",
    "// First you will see the three parameters as you can see below↓↓↓\n",
    "// **The firstIndex** = The index of the first item to be swapped.\n",
    "// **The secondIndex** = The index of the second item to be swapped.\n",
    "// **arrayOfStuff** = The array where the swapping takes place."
   ]
  },
  {
   "cell_type": "markdown",
   "metadata": {},
   "source": [
    "## Some common questions:\n",
    "### ***Can an enhanced for loop be used?***\n",
    "- **Answer:** No, The Selection Sort algorithm needs to know the index of the item it is working with.\n",
    "### ***How does the swap occur?***\n",
    "- **Answer:** A third variable is needed to temporarily hold on to the swapped value from the array since variables can only hold one thing at a time."
   ]
  },
  {
   "cell_type": "markdown",
   "metadata": {},
   "source": [
    "<br><br><br><br>"
   ]
  },
  {
   "cell_type": "markdown",
   "metadata": {},
   "source": [
    "## Inserting Sort\n",
    "- The insertion sort is characterized by building a sorted structure as it proceeds. It inserts each value it finds at the appropriate location in the data structure. This is often accomplished by using a while loop as the inner loop.\n",
    "\n",
    "![picture 1 for inserting sortin](https://media.geeksforgeeks.org/wp-content/uploads/20240802210251/Insertion-sorting.png)\n",
    "- Consider an array having elements : {23, 1, 10, 5, 2}\n",
    "\n",
    "\n",
    "\n",
    "***initial***:\n",
    "- Current element is ***23***\n",
    "- The first element in the array is assumed to be sorted.\n",
    "- The sorted part until ***0th*** index is : ***[23]***\n",
    "\n",
    "***First Pass***:\n",
    "- Compare ***1*** with ***23*** (current element with the sorted part).\n",
    "- Since ***1*** is smaller, insert ***1*** before ***23*** .\n",
    "- The sorted part until ***1st*** index is: ***[1, 23]***\n",
    "\n",
    "***Second Pass***:\n",
    "- Compare ***10*** with ***1*** and ***23*** (current element with the sorted part).\n",
    "- Since ***10*** is greater than ***1*** and smaller than ***23*** , insert ***10*** between ***1*** and ***23*** .\n",
    "- The sorted part until ***2nd*** index is: ***[1, 10, 23]***\n",
    "\n",
    "***Third Pass:***\n",
    "- Compare ***5*** with ***1*** , ***10***, and ***23*** (current element with the sorted part).\n",
    "- Since ***5*** is greater than ***1*** and smaller than ***10*** , insert ***5*** between ***1*** and ***10***\n",
    "- The sorted part until ***3rd*** index is : ***[1, 5, 10, 23]***\n",
    "\n",
    "***Fourth Pass:***\n",
    "- Compare ***2*** with ***1***, ***5***, ***10*** , and ***23*** (current element with the sorted part).\n",
    "- Since ***2*** is greater than ***1*** and smaller than ***5*** insert ***2*** between ***1*** and ***5*** .\n",
    "- The sorted part until ***4th*** index is: ***[1, 2, 5, 10, 23]***\n",
    "\n",
    "***Final Array:***\n",
    "- The sorted array is: ***[1, 2, 5, 10, 23]***"
   ]
  },
  {
   "cell_type": "markdown",
   "metadata": {},
   "source": [
    "## **College Board Example code below...**"
   ]
  },
  {
   "cell_type": "code",
   "execution_count": null,
   "metadata": {
    "vscode": {
     "languageId": "java"
    }
   },
   "outputs": [
    {
     "name": "stdout",
     "output_type": "stream",
     "text": [
      "Unsorted list:\n",
      "DebugDuck{someAttribute=5}\n",
      "DebugDuck{someAttribute=1}\n",
      "DebugDuck{someAttribute=3}\n",
      "DebugDuck{someAttribute=4}\n",
      "DebugDuck{someAttribute=2}\n",
      "Sorted list:\n",
      "DebugDuck{someAttribute=1}\n",
      "DebugDuck{someAttribute=2}\n",
      "DebugDuck{someAttribute=3}\n",
      "DebugDuck{someAttribute=4}\n",
      "DebugDuck{someAttribute=5}\n"
     ]
    }
   ],
   "source": [
    "import java.util.ArrayList;\n",
    "import java.util.List;\n",
    "\n",
    "\n",
    "// Create a list of DebugDuck objects\n",
    "List<DebugDuck> randomList = new ArrayList<>();\n",
    "randomList.add(new DebugDuck(5));\n",
    "randomList.add(new DebugDuck(1));\n",
    "randomList.add(new DebugDuck(3));\n",
    "randomList.add(new DebugDuck(4));\n",
    "randomList.add(new DebugDuck(2));\n",
    "\n",
    "// Print unsorted list\n",
    "System.out.println(\"Unsorted list:\");\n",
    "for (DebugDuck duck : randomList) {\n",
    "System.out.println(duck);\n",
    "        }\n",
    "\n",
    "        // Perform insertion sort\n",
    "for (int outer = 1; outer < randomList.size(); outer++) {\n",
    "// Store the current element to be inserted into the sorted portion\n",
    "DebugDuck tested = randomList.get(outer);\n",
    "int inner = outer - 1;\n",
    "\n",
    "// Move elements to the right if they are greater than 'tested'\n",
    "while (inner >= 0 && tested.compareTo(randomList.get(inner)) < 0) {\n",
    "// Shift element at 'inner' to the right\n",
    "randomList.set(inner + 1, randomList.get(inner));\n",
    "inner--;\n",
    "            }\n",
    "\n",
    "// Insert 'tested' at the correct position\n",
    "randomList.set(inner + 1, tested);\n",
    "        }\n",
    "\n",
    "// Print sorted list\n",
    "System.out.println(\"Sorted list:\");\n",
    "for (DebugDuck duck : randomList) {\n",
    "System.out.println(duck);\n",
    "        }\n",
    "\n",
    "// DebugDuck class implementing Comparable\n",
    "class DebugDuck implements Comparable<DebugDuck> {\n",
    "    private int someAttribute;\n",
    "\n",
    "    public DebugDuck(int someAttribute) {\n",
    "        this.someAttribute = someAttribute;\n",
    "    }\n",
    "\n",
    "    @Override\n",
    "    public int compareTo(DebugDuck other) {\n",
    "        return Integer.compare(this.someAttribute, other.someAttribute);\n",
    "    }\n",
    "\n",
    "    @Override\n",
    "    public String toString() {\n",
    "        return \"DebugDuck{\" + \"someAttribute=\" + someAttribute + '}';\n",
    "    }\n",
    "}\n"
   ]
  },
  {
   "cell_type": "markdown",
   "metadata": {},
   "source": [
    "### Another Example..."
   ]
  },
  {
   "cell_type": "markdown",
   "metadata": {},
   "source": [
    "# 6th PopCorn - Hack\n",
    "\n",
    "### **Problem: Sort the Ducks!**\n",
    "\n",
    "You have a list of ducks, and each duck has a **name** and **weight**. Your task is to sort these ducks by weight in **ascending order**.\n",
    "\n",
    "Choose **either Selection Sort or Insertion Sort** to do the sorting.\n",
    "\n",
    "### Example:\n",
    "Given this list:\n",
    "- Duck A (4.5 kg)\n",
    "- Duck B (2.1 kg)\n",
    "- Duck C (5.0 kg)\n",
    "- Duck D (1.9 kg)\n",
    "\n",
    "After sorting, the output should be:\n",
    "- Duck D (1.9 kg)\n",
    "- Duck B (2.1 kg)\n",
    "- Duck A (4.5 kg)\n",
    "- Duck C (5.0 kg)\n",
    "\n",
    "You can use this class for the ducks:\n",
    "\n",
    "```java\n",
    "class DebugDuck implements Comparable<DebugDuck> {\n",
    "    String name;\n",
    "    double weight;\n",
    "\n",
    "    public DebugDuck(String name, double weight) {\n",
    "        this.name = name;\n",
    "        this.weight = weight;\n",
    "    }\n",
    "\n",
    "    @Override\n",
    "    public int compareTo(DebugDuck other) {\n",
    "        return Double.compare(this.weight, other.weight);\n",
    "    }\n",
    "\n",
    "    @Override\n",
    "    public String toString() {\n",
    "        return name + \" (\" + weight + \" kg)\";\n",
    "    }\n",
    "}\n",
    "```\n",
    "\n",
    "### Task:\n",
    "- Implement **either** sorting algorithm to sort the ducks by weight.\n",
    "- Print the sorted list.\n"
   ]
  },
  {
   "cell_type": "markdown",
   "metadata": {},
   "source": [
    "# 7.7:Ethical issues around data collection"
   ]
  },
  {
   "cell_type": "markdown",
   "metadata": {},
   "source": [
    "- **Privacy Risks**: Personal data can be vulnerable to breaches or misuse when stored in systems. Programmers need to protect it.\n",
    "  \n",
    "- **Protection Methods**:\n",
    "  - **Delete Data**: Remove personal info when it’s no longer needed.\n",
    "  - **Minimize Data**: Only collect essential information.\n",
    "  - **Anonymize Data**: Use methods like `hashCode()` in Java to hide real info.\n",
    "  - **Encrypt**: Secure data so it can’t be easily accessed even if stolen.\n",
    "\n",
    "The main goal? Keep personal data safe with smart coding practices."
   ]
  },
  {
   "cell_type": "markdown",
   "metadata": {},
   "source": [
    "# 7th mini Hack:\n",
    "What can be used in place of the blank to ensure the users data is cleared?"
   ]
  },
  {
   "cell_type": "code",
   "execution_count": null,
   "metadata": {
    "vscode": {
     "languageId": "java"
    }
   },
   "outputs": [],
   "source": [
    "ArrayList<String> userData = new ArrayList<>();\n",
    "userData.add(\"John Doe\");\n",
    "userData.add(\"john@example.com\");\n",
    "\n",
    "// Once you're done using the data\n",
    "userData.clear(); // Removes all entries\n",
    "userData = _____;  //"
   ]
  }
 ],
 "metadata": {
  "kernelspec": {
   "display_name": "Java",
   "language": "java",
   "name": "java"
  },
  "language_info": {
   "codemirror_mode": "java",
   "file_extension": ".jshell",
   "mimetype": "text/x-java-source",
   "name": "Java",
   "pygments_lexer": "java",
   "version": "17.0.12+7"
  }
 },
 "nbformat": 4,
 "nbformat_minor": 2
}
