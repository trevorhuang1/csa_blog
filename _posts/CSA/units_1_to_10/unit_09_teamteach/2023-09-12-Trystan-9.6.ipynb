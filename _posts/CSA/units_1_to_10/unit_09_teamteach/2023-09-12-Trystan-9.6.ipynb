{
 "cells": [
  {
   "cell_type": "raw",
   "metadata": {},
   "source": [
    "---\n",
    "layout: post\n",
    "title:  9.6 Polymorphism\n",
    "description: Team Teach for Java.\n",
    "courses: { csse: {week: 1}, csp: {week: 1}, csa: {week: 1} }\n",
    "categories: [DevOps]\n",
    "permalink: /inheritance/polymorphism\n",
    "menu: nav/inheritance.html\n",
    "type: collab\n",
    "comments: true\n",
    "sticky_rank: 1\n",
    "---"
   ]
  },
  {
   "cell_type": "markdown",
   "metadata": {},
   "source": [
    "## Polymorphism"
   ]
  },
  {
   "cell_type": "markdown",
   "metadata": {},
   "source": [
    "Learning Targets:\n",
    "* What is Polymorphism\n",
    "* Difference between Static and Dynamic Data Types\n",
    "* Compile Time vs Run time"
   ]
  },
  {
   "cell_type": "markdown",
   "metadata": {},
   "source": [
    "***"
   ]
  },
  {
   "cell_type": "markdown",
   "metadata": {},
   "source": [
    "* \"A reference variable **polymorphic** when it can refer to objects of different classes in the code\"\n",
    "* \"A method is **polymorphic** when it is overriden in at least one subclass\"\n",
    "* \"**Polymorphism** is the act of executing an overriden ```non-static``` method from the correct class at runtime based on the actual object type\""
   ]
  },
  {
   "cell_type": "code",
   "execution_count": null,
   "metadata": {},
   "outputs": [],
   "source": [
    "class Water {\n",
    "    public String typeOfWater(){\n",
    "        return \"water\";\n",
    "    }\n",
    "}\n",
    "\n",
    "class Lake extends Water {\n",
    "    @Override\n",
    "    public String typeOfWater(){\n",
    "        return \"lake\";\n",
    "    }\n",
    "}\n",
    "\n",
    "Water lake = new Lake(); //creates a \"Water\" class using a \"Lake\" constructor\n",
    "System.out.println(lake.typeOfWater()); // Therefore the typeOfWater is overriden"
   ]
  },
  {
   "cell_type": "markdown",
   "metadata": {},
   "source": [
    "## How Does This Work?\n",
    "\n",
    "<iframe src=\"https://drive.google.com/file/d/1VQifozSUwet6bfmXzgzQkj5t9AQ2zh3b/preview\" width=\"640\" height=\"480\" allow=\"autoplay\"></iframe>\n",
    "\n",
    "Let's start with this line:\n",
    "``` SuperClass myObject = new SubClass();```\n",
    "\n",
    "It may seem like you are magically creating a SuperClass Object with the SubClass, but you are not. Instead you actually are creating a SubClass Object. The difference is that the SuperClass variable is referencing the SuperClass parts of the SubClass.\n",
    "* \"A reference variable can store a refernece to its declared class or any subclass of its declared class\"\n",
    "\n",
    "\n",
    "This also means that if the data type is the SuperClass and you try to call a method that doesn't exist in the SuperClass, it will return an error. But you can cast the variable to the SubClass because the refrence is the SubClass. After casting if you call a method that is only in the subclass then it won't return an error.\n",
    "\n",
    "Next running methods:\n",
    "``` SuperClass.method() == SubClass.method(); //where the method is overriden by a subclass```\n",
    "\n",
    "When you run a method that the SuperClass has, it starts at the referenced object and checks if there is an override, if not it moves up the ancestry chain until it either finds an override or finds the orginal method."
   ]
  },
  {
   "cell_type": "markdown",
   "metadata": {},
   "source": [
    "## Popcorn Hacks\n",
    "* Create an example of Polymorphism in your own project.\n",
    "\n",
    "If you want some more information and examples of Polymorphism see the examples further down"
   ]
  },
  {
   "cell_type": "markdown",
   "metadata": {},
   "source": [
    "## Static vs Dynamic Types"
   ]
  },
  {
   "cell_type": "markdown",
   "metadata": {},
   "source": [
    "**static types**: static types is simply the type.\n",
    "\n",
    "**dynamic types**: dynamic type is the type of the value during runtime"
   ]
  },
  {
   "cell_type": "code",
   "execution_count": null,
   "metadata": {},
   "outputs": [],
   "source": [
    "class Shape {\n",
    "    String getName(){\n",
    "        return \"Shape\"\n",
    "    }\n",
    "}\n",
    "\n",
    "class Square extends Shape{\n",
    "    @Override\n",
    "    String getName(){\n",
    "        return \"Square\"\n",
    "    }\n",
    "}\n",
    "\n",
    "Shape myShape = new Square();"
   ]
  },
  {
   "cell_type": "markdown",
   "metadata": {},
   "source": [
    "**Shape** is a static type, but at runtime ```myShape``` is referencing  **Sqaure**, so my ```myShape``` is the dynamic type of **Square**.\n",
    "\n"
   ]
  },
  {
   "cell_type": "markdown",
   "metadata": {},
   "source": [
    "## Popcorn Hacks\n",
    "\n",
    "Using your previous polymorphism example, explain which parts are the static types and which are the dynamic types\n",
    "\n",
    "*Read [this](https://www.cs.cornell.edu/courses/JavaAndDS/files/staticType.pdf) for more information*"
   ]
  },
  {
   "cell_type": "markdown",
   "metadata": {},
   "source": [
    "## Compile-Time vs Run-Time methods"
   ]
  },
  {
   "cell_type": "markdown",
   "metadata": {},
   "source": [
    "When you are creating a dynamic reference of a different with a type than the static type, it searches the superclass for the attributes of the static type, then overrides any that the child has overriden. But it doesn't include the methods from the child. If you want to run a method that is only in the child class then you can use **down-casting**."
   ]
  },
  {
   "cell_type": "code",
   "execution_count": null,
   "metadata": {},
   "outputs": [],
   "source": [
    "class Shape {\n",
    "    String getName(){\n",
    "        return \"Shape\"\n",
    "    }\n",
    "}\n",
    "\n",
    "class Square extends Shape{\n",
    "    @Override\n",
    "    String getName(){\n",
    "        return \"Square\"\n",
    "    }\n",
    "\n",
    "    int getSides(){\n",
    "        return 4;\n",
    "    }\n",
    "}\n",
    "\n",
    "Shape myShape = new Square(); //this does not have access to the Sqaure methods despite referencing a sqaure\n",
    "\n",
    "Sqaure mySqaure = (Sqaure)myShape; //down-cast the Shape to a Sqaure to run the Sqaure specific methods\n",
    "System.out.println(mySqaure.getSides());//after down-casting you can now run the Square methods"
   ]
  },
  {
   "cell_type": "markdown",
   "metadata": {},
   "source": [
    "## Popcorn Hacks\n",
    "* Define **down-casting**\n",
    "* add an example of down-casting to your previous polymorphism example"
   ]
  },
  {
   "cell_type": "markdown",
   "metadata": {},
   "source": [
    "***\n",
    "***"
   ]
  },
  {
   "cell_type": "markdown",
   "metadata": {},
   "source": [
    "## More examples of Polymorphism and the effects\n",
    "Here are some examples of Polymorphism."
   ]
  },
  {
   "cell_type": "markdown",
   "metadata": {},
   "source": [
    "1. Executing the overriden method from the referenced subclass in the datatype of the superclass."
   ]
  },
  {
   "cell_type": "code",
   "execution_count": null,
   "metadata": {},
   "outputs": [],
   "source": [
    "class Water {\n",
    "    public String typeOfWater(){\n",
    "        return \"water\";\n",
    "    }\n",
    "}\n",
    "\n",
    "class Lake extends Water {\n",
    "    @Override\n",
    "    public String typeOfWater(){\n",
    "        return \"lake\";\n",
    "    }\n",
    "}\n",
    "\n",
    "Water lake = new Lake(); //creates a \"Water\" class using a \"Lake\" constructor\n",
    "System.out.println(lake.typeOfWater()); // Therefore the typeOfWater is overriden"
   ]
  },
  {
   "cell_type": "markdown",
   "metadata": {},
   "source": [
    "2. You can also cast from the subclass to the superclass. This means you can pass a subclass into an argument that is asking for the parent class. "
   ]
  },
  {
   "cell_type": "code",
   "execution_count": null,
   "metadata": {},
   "outputs": [],
   "source": [
    "class Shape{\n",
    "    public int getSize(){\n",
    "        return 1;\n",
    "    }\n",
    "}\n",
    "\n",
    "class Square extends Shape{\n",
    "    @Override\n",
    "    public int getSize(){\n",
    "        return 2;\n",
    "    }\n",
    "}\n",
    "\n",
    "int getSizePlusOne(Shape s){ //argument of class \"Shape\"\n",
    "    return s.getSize() +1;\n",
    "}\n",
    "\n",
    "Shape myShape = new Shape();\n",
    "System.out.println(getSizePlusOne(myShape)); //passes through a \"Shape\"\n",
    "\n",
    "Square mySquare = new Square();\n",
    "System.out.println(getSizePlusOne(mySquare)); //passes through a \"Square\" as a \"Shape\" with the square's \"getSize()\" method"
   ]
  },
  {
   "cell_type": "markdown",
   "metadata": {},
   "source": [
    "3. And finally it allows you to cast from the superclass to the subclass (**down-casting**). The superclass **must** be referencing the subclass."
   ]
  },
  {
   "cell_type": "code",
   "execution_count": null,
   "metadata": {},
   "outputs": [],
   "source": [
    "class Electronic{\n",
    "    public void playSound(){\n",
    "        System.out.println(\"Beep boop\");\n",
    "    }\n",
    "}\n",
    "\n",
    "class Computer extends Electronic{\n",
    "    @Override\n",
    "    public void playSound(){\n",
    "        System.out.println(\"Click clack\");\n",
    "    }\n",
    "}\n",
    "\n",
    "Electronic device = new Computer(); //creates a \"Electronic\" class using a \"Computer\" constructor\n",
    "\n",
    "Computer  computer = (Computer)device; //casts the \"Electronic\" to a \"Computer\"\n",
    "\n",
    "computer.playSound();"
   ]
  },
  {
   "cell_type": "code",
   "execution_count": null,
   "metadata": {},
   "outputs": [],
   "source": [
    "class Electronic{\n",
    "    public void playSound(){\n",
    "        System.out.println(\"Beep boop\");\n",
    "    }\n",
    "}\n",
    "\n",
    "class Computer extends Electronic{\n",
    "    @Override\n",
    "    public void playSound(){\n",
    "        System.out.println(\"Click clack\");\n",
    "    }\n",
    "}\n",
    "\n",
    "Electronic device = new Electronic(); //creates a \"Electronic\" class using a \"Electronic\" constructor\n",
    "\n",
    "Computer  computer = (Computer)device; //cannot cast the \"Electronic\" to a \"Computer\""
   ]
  },
  {
   "cell_type": "markdown",
   "metadata": {},
   "source": [
    "### Polymorphism with the Object class\n",
    "* see the lesson 9.7 about [Object Superclass](linkHere)\n",
    "\n",
    "Polymorphism also applies with the **Object Superclass**.\n",
    "Techically any class or object is an ```Object```."
   ]
  },
  {
   "cell_type": "code",
   "execution_count": null,
   "metadata": {},
   "outputs": [],
   "source": [
    "class Fruit{\n",
    "    @Override\n",
    "    public String toString(){\n",
    "        return \"I'm a Fruit!\";\n",
    "    }\n",
    "}\n",
    "class Banana extends Fruit{\n",
    "    @Override\n",
    "    public boolean equals(Object obj){ //overrides the equals\n",
    "        return true;\n",
    "    }\n",
    "}\n",
    "\n",
    "\n",
    "Object banana = new Banana();\n",
    "System.out.println(banana.toString());\n",
    "System.out.println(banana.equals(null)); //if \".equals()\" was not overriden from the \"Object\" this should always return false"
   ]
  },
  {
   "cell_type": "code",
   "execution_count": null,
   "metadata": {},
   "outputs": [],
   "source": [
    "class Furniture{\n",
    "    String getName(){\n",
    "        return \"Furniture\";\n",
    "    }\n",
    "}\n",
    "\n",
    "class Table extends Furniture{\n",
    "    @Override\n",
    "    String getName(){\n",
    "        return \"Table\";\n",
    "    }\n",
    "}\n",
    "\n",
    "class CoffeeTable extends Table{\n",
    "    @Override\n",
    "    String getName(){\n",
    "        return super.getName() + \" Coffee\";\n",
    "    }\n",
    "}\n",
    "\n",
    "Furniture myTable = new CoffeeTable();\n",
    "System.out.println(myTable.getName()); //runs \"CoffeeTable\" method\n",
    "\n",
    "Table myOtherTable = (Table)myTable;\n",
    "System.out.println(myOtherTable.getName()); //method exectuted doesn't change despite casting-down"
   ]
  }
 ],
 "metadata": {
  "kernelspec": {
   "display_name": "java (IJava/j!)",
   "language": "java",
   "name": "jbang-ijava"
  },
  "language_info": {
   "codemirror_mode": {
    "name": "ipython",
    "version": 3
   },
   "file_extension": ".py",
   "mimetype": "text/x-python",
   "name": "java",
   "nbconvert_exporter": "python",
   "pygments_lexer": "ipython3",
   "version": "3.12.6"
  }
 },
 "nbformat": 4,
 "nbformat_minor": 2
}
