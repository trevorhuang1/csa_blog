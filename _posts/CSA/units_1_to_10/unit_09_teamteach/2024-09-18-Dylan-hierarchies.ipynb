{
 "cells": [
  {
   "cell_type": "markdown",
   "metadata": {},
   "source": [
    "---\n",
    "layout: post\n",
    "title:  9.5 Team Teach\n",
    "description: Team Teach for Java.\n",
    "courses: { csse: {week: 1}, csp: {week: 1}, csa: {week: 1} }\n",
    "categories: [DevOps]\n",
    "permalink: /lesson\n",
    "menu: nav/inheritance.html\n",
    "type: collab\n",
    "comments: true\n",
    "sticky_rank: 1\n",
    "---"
   ]
  },
  {
   "cell_type": "markdown",
   "metadata": {
    "vscode": {
     "languageId": "plaintext"
    }
   },
   "source": [
    "# Creating References Using Inheritance Hierarchies with Shapes\n",
    "\n",
    "## Introduction\n",
    "\n",
    "Inheritance in object-oriented programming allows us to create a new class that is based on an existing class. This concept is fundamental for organizing and structuring code efficiently. In this lesson, we will explore inheritance hierarchies using a simple example involving shapes.\n",
    "\n",
    "## Objectives\n",
    "\n",
    "- Understand the basics of inheritance in Java.\n",
    "- Learn how to create and use an inheritance hierarchy with shapes.\n",
    "- Explore how references work in the context of an inheritance hierarchy.\n",
    "\n",
    "## Inheritance Basics\n",
    "\n",
    "Inheritance allows a subclass to inherit fields and methods from a superclass. This helps in creating a hierarchical relationship between classes.\n",
    "\n",
    "### Example: Basic Shape Hierarchy\n",
    "\n",
    "Let's start with a basic example involving a `Shape` class and its subclasses.\n",
    "\n",
    "```java\n",
    "// Superclass\n",
    "class Shape {\n",
    "    void draw() {\n",
    "        System.out.println(\"Drawing a shape.\");\n",
    "    }\n",
    "}\n",
    "\n",
    "// Subclass\n",
    "class Circle extends Shape {\n",
    "    void draw() {\n",
    "        System.out.println(\"Drawing a circle.\");\n",
    "    }\n",
    "}\n",
    "\n",
    "// Another subclass\n",
    "class Rectangle extends Shape {\n",
    "    void draw() {\n",
    "        System.out.println(\"Drawing a rectangle.\");\n",
    "    }\n",
    "}\n",
    "\n",
    "// Main class to test the hierarchy\n",
    "public class Main {\n",
    "    public static void main(String[] args) {\n",
    "        Shape myShape1 = new Circle();    // Reference of Shape pointing to Circle\n",
    "        Shape myShape2 = new Rectangle(); // Reference of Shape pointing to Rectangle\n",
    "        \n",
    "        myShape1.draw();  // Calls overridden method in Circle\n",
    "        myShape2.draw();  // Calls overridden method in Rectangle\n",
    "    }\n",
    "}\n"
   ]
  },
  {
   "cell_type": "markdown",
   "metadata": {},
   "source": [
    "## Explanation:\n",
    "\n",
    "- Shape is the base class with a method draw.\n",
    "- Circle and Rectangle are subclasses of Shape, each overriding the draw method to provide specific behavior.\n",
    "- In the Main class, myShape1 and myShape2 are references of type Shape, but they point to objects of Circle and Rectangle, respectively. The overridden draw method is called based on the actual object type.\n",
    "\n",
    "Inheritance hierarchies create a structured relationship between classes, allowing for more complex designs.\n",
    "\n",
    "## Example: Shape Hierarchy with Additional Methods\n",
    "Let's expand our example by adding more functionality:"
   ]
  },
  {
   "cell_type": "code",
   "execution_count": 3,
   "metadata": {},
   "outputs": [
    {
     "name": "stdout",
     "output_type": "stream",
     "text": [
      "Drawing a circle.\n",
      "Calculating area of circle.\n",
      "Drawing a rectangle.\n",
      "Calculating area of rectangle.\n"
     ]
    }
   ],
   "source": [
    "// Base class\n",
    "class Shape {\n",
    "    void draw() {\n",
    "        System.out.println(\"Drawing a shape.\");\n",
    "    }\n",
    "    \n",
    "    void area() {\n",
    "        System.out.println(\"Calculating area of shape.\");\n",
    "    }\n",
    "}\n",
    "\n",
    "// Subclass\n",
    "class Circle extends Shape {\n",
    "    void draw() {\n",
    "        System.out.println(\"Drawing a circle.\");\n",
    "    }\n",
    "    \n",
    "    void area() {\n",
    "        System.out.println(\"Calculating area of circle.\");\n",
    "    }\n",
    "}\n",
    "\n",
    "// Another subclass\n",
    "class Rectangle extends Shape {\n",
    "    void draw() {\n",
    "        System.out.println(\"Drawing a rectangle.\");\n",
    "    }\n",
    "    \n",
    "    void area() {\n",
    "        System.out.println(\"Calculating area of rectangle.\");\n",
    "    }\n",
    "}\n",
    "\n",
    "// Main class to test the hierarchy\n",
    "public class Main {\n",
    "    public static void main(String[] args) {\n",
    "        Shape myShape1 = new Circle();    // Reference of Shape pointing to Circle\n",
    "        Shape myShape2 = new Rectangle(); // Reference of Shape pointing to Rectangle\n",
    "        \n",
    "        myShape1.draw();  // Calls overridden method in Circle\n",
    "        myShape1.area();  // Calls overridden method in Circle\n",
    "        \n",
    "        myShape2.draw();  // Calls overridden method in Rectangle\n",
    "        myShape2.area();  // Calls overridden method in Rectangle\n",
    "    }\n",
    "}\n",
    "\n",
    "Main.main(null);"
   ]
  },
  {
   "cell_type": "markdown",
   "metadata": {},
   "source": [
    "\n",
    "Conclusion\n",
    "\n",
    "- Inheritance hierarchies allow for organized and reusable code by establishing a hierarchy of classes. Understanding how to create and use these hierarchies, as well as how to work with references, is essential for effective object-oriented design.\n",
    "\n",
    "Hacks \n",
    "- Create a hierarchy of Shape classes where Shape is the base class and Circle, Rectangle, and Triangle are subclasses. Implement methods to calculate and display the perimeter  of each shape.\n",
    "\n",
    "- Add an abstract method to the Shape class that forces subclasses to implement a specific behavior, and demonstrate its usage."
   ]
  }
 ],
 "metadata": {
  "kernelspec": {
   "display_name": "java (IJava/j!)",
   "language": "java",
   "name": "jbang-ijava"
  },
  "language_info": {
   "codemirror_mode": "java",
   "file_extension": ".jshell",
   "mimetype": "text/x-java-source",
   "name": "java",
   "pygments_lexer": "java",
   "version": "22.0.2"
  }
 },
 "nbformat": 4,
 "nbformat_minor": 2
}
