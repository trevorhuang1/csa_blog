{
 "cells": [
  {
   "cell_type": "markdown",
   "metadata": {},
   "source": [
    "---\n",
    "layout: post\n",
    "title: 9.3/9.4 Introduction\n",
    "description: Team Teach for Java.\n",
    "categories: [DevOps]\n",
    "menu: nav/inheritance.html\n",
    "permalink: /override\n",
    "toc: true\n",
    "comments: true\n",
    "---"
   ]
  },
  {
   "cell_type": "markdown",
   "metadata": {},
   "source": [
    "## Method Overrides"
   ]
  },
  {
   "cell_type": "markdown",
   "metadata": {},
   "source": [
    "Every class inherits methods from its **parent class**. These methods can be called in the child class and can also be **overridden**."
   ]
  },
  {
   "cell_type": "code",
   "execution_count": 1,
   "metadata": {},
   "outputs": [],
   "source": [
    "public class Shape {\n",
    "    protected String name;\n",
    "    private int length;\n",
    "    private int width;\n",
    "\n",
    "    // Default constructor\n",
    "    public Shape() {\n",
    "        this.name = \"rectangle\";\n",
    "        this.length = 10;\n",
    "        this.width = 5;\n",
    "    }\n",
    "\n",
    "    // Parameterized constructor\n",
    "    public Shape(String name, int length, int width) {\n",
    "        this.name = name;\n",
    "        this.length = length;\n",
    "        this.width = width;\n",
    "    }\n",
    "\n",
    "    // Getter methods\n",
    "    public String get_name() {\n",
    "        return this.name;\n",
    "    }\n",
    "\n",
    "    public int get_length() {\n",
    "        return this.length;\n",
    "    }\n",
    "\n",
    "    public int get_width() {\n",
    "        return this.width;\n",
    "    }\n",
    "\n",
    "    // Setter methods\n",
    "    public void set_name(String n) {\n",
    "        this.name = n;\n",
    "    }\n",
    "\n",
    "    public void set_length(int a) {\n",
    "        this.length = a;\n",
    "    }\n",
    "\n",
    "    public void set_width(int b) {\n",
    "        this.width = b;\n",
    "    }\n",
    "\n",
    "    // Method to calculate the area\n",
    "    public double calc_area() {\n",
    "        return this.length * this.width;\n",
    "    }\n",
    "\n",
    "    // Method to print the shape\n",
    "    public void print_shape() {\n",
    "        System.out.println(\"Shape: \" + this.name);\n",
    "    }\n",
    "\n",
    "    // Additional method to print something\n",
    "    public void print_something() {\n",
    "        System.out.println(\"This is a shape\");\n",
    "    }\n",
    "}\n",
    "\n",
    "public class Driver {\n",
    "    public static void main(String[] args) {\n",
    "        Shape s1 = new Shape();\n",
    "    }\n",
    "}\n",
    "\n",
    "// Run the driver code\n",
    "Driver.main(new String[0]);\n"
   ]
  },
  {
   "cell_type": "markdown",
   "metadata": {
    "vscode": {
     "languageId": "plaintext"
    }
   },
   "source": [
    "### Creating a Triangle:\n",
    "\n",
    "Currently Our shape class only takes in length and width parameters. This works fine for squares and rectangles, but what if we wanted to make a different shape? To define a Triangle we can use the 3 side lengths. while still inheriting the same behavior from the base Shape class. "
   ]
  },
  {
   "cell_type": "code",
   "execution_count": 2,
   "metadata": {},
   "outputs": [
    {
     "name": "stdout",
     "output_type": "stream",
     "text": [
      "Area of t1 = 3.897114317029974\n"
     ]
    }
   ],
   "source": [
    "public class Triangle extends Shape {\n",
    "    private int side1;\n",
    "    private int side2;\n",
    "    private int side3;\n",
    "\n",
    "\n",
    "    public Triangle() {\n",
    "        this.name = \"triangle\";\n",
    "        this.side1 = 1;\n",
    "        this.side2 = 2;\n",
    "        this.side3 = 3;\n",
    "    }\n",
    "\n",
    "    // Constructor that takes a name and three side lengths\n",
    "    public Triangle(String name, int s1, int s2, int s3) {\n",
    "        super(name, 0, 0); // Call to Shape constructor to set the name\n",
    "        this.name = \"triangle\";\n",
    "        this.side1 = s1;\n",
    "        this.side2 = s2;\n",
    "        this.side3 = s3;\n",
    "    }\n",
    "\n",
    "    @Override\n",
    "    public double calc_area() {\n",
    "        double s = (side1 + side2 + side3) / 2.0; // Semi-perimeter\n",
    "        return Math.sqrt(s * (s - side1) * (s - side2) * (s - side3));\n",
    "    }\n",
    "\n",
    "    @Override\n",
    "    public void print_something() {\n",
    "        System.out.println(\"This is a Triangle\");\n",
    "    }\n",
    "}\n",
    "\n",
    "\n",
    "public class Driver {\n",
    "    public static void main(String[] args) {\n",
    "        Triangle t1 = new Triangle(\"triangle\", 3, 3, 3);\n",
    "        System.out.println(\"Area of t1 = \" + t1.calc_area());\n",
    "\n",
    "    }\n",
    "}\n",
    "\n",
    "// Run the driver code\n",
    "Driver.main(new String[0]);"
   ]
  },
  {
   "cell_type": "markdown",
   "metadata": {},
   "source": [
    "## Here's our Triangle\n",
    "\n",
    "As seen above, we're creating a new child class: Triangle\n",
    "This class inherits name paramiter from the parent shape class and takes in 3 new side length paramiters to define the triangle's geometry.\n"
   ]
  },
  {
   "cell_type": "markdown",
   "metadata": {},
   "source": []
  }
 ],
 "metadata": {
  "kernelspec": {
   "display_name": "java (IJava/j!)",
   "language": "java",
   "name": "jbang-ijava"
  },
  "language_info": {
   "codemirror_mode": "java",
   "file_extension": ".jshell",
   "mimetype": "text/x-java-source",
   "name": "java",
   "pygments_lexer": "java",
   "version": "11.0.24+8-post-Ubuntu-1ubuntu322.04"
  }
 },
 "nbformat": 4,
 "nbformat_minor": 2
}
