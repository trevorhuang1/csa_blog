{
 "cells": [
  {
   "cell_type": "raw",
   "metadata": {
    "vscode": {
     "languageId": "raw"
    }
   },
   "source": [
    "---\n",
    "layout: post\n",
    "title: This Keyword\n",
    "description: Team Teach\n",
    "toc: True\n",
    "permalink: this_keyword\n",
    "---"
   ]
  },
  {
   "cell_type": "markdown",
   "metadata": {},
   "source": [
    "# `This` Keyword\n",
    "\n",
    "### General\n",
    "- `this` keyword is used as a reference to the object itself\n",
    "    - It can be used to reference the object’s instance variables, methods, constructors, etc.\n",
    "    - Enables instance variables to access an object’s variables and methods\n",
    "- It is used to avoid confusion between instance variables and parameter values\n"
   ]
  },
  {
   "cell_type": "code",
   "execution_count": null,
   "metadata": {
    "vscode": {
     "languageId": "java"
    }
   },
   "outputs": [],
   "source": [
    "public class F {\n",
    "    private int i = 5;\n",
    "    public void setI(int i) {\n",
    "    this.i = i; //this.i refers to the instance variable i\n",
    "    // i refers to the parameter i\n",
    "    }\n",
    "}"
   ]
  },
  {
   "cell_type": "markdown",
   "metadata": {},
   "source": [
    "### Calling Another Constructor\n",
    "- `this` keyword can be used to invoke another constructor of the same class\n",
    "\n",
    "Format: this.(*argument*)\n"
   ]
  },
  {
   "cell_type": "code",
   "execution_count": null,
   "metadata": {
    "vscode": {
     "languageId": "java"
    }
   },
   "outputs": [],
   "source": [
    "public class Circle {\n",
    "    private double radius;\n",
    "    public Circle(double radius) {\n",
    "        this.radius = radius; //this keyword references the hidden data field, radius\n",
    "    }\n",
    "    public Circle() {\n",
    "        this(1.0); //passes 1.0 as an argument to the 1st constructor\n",
    "    }\n",
    "}"
   ]
  },
  {
   "cell_type": "markdown",
   "metadata": {},
   "source": [
    "### Calling Other Methods\n",
    "- this keyword can be used to call other methods in the same class\n",
    "\n",
    "Format: this.*methodName*()"
   ]
  },
  {
   "cell_type": "code",
   "execution_count": null,
   "metadata": {
    "vscode": {
     "languageId": "java"
    }
   },
   "outputs": [],
   "source": [
    "public class Robot {\n",
    "    private String name;\n",
    "\n",
    "    public Robot(String name) {\n",
    "        this.name = name;\n",
    "    }\n",
    "\n",
    "    public void start() {\n",
    "        System.out.println(this.name + \" is starting up...\");\n",
    "        this.speak();  // Calls the speak method of the current object\n",
    "    }\n",
    "\n",
    "    public void speak() {\n",
    "        System.out.println(this.name + \" says: 'Hello, human!'\");\n",
    "    }\n",
    "}"
   ]
  },
  {
   "cell_type": "markdown",
   "metadata": {},
   "source": [
    "## Popcorn Hacks"
   ]
  },
  {
   "cell_type": "code",
   "execution_count": null,
   "metadata": {
    "vscode": {
     "languageId": "java"
    }
   },
   "outputs": [],
   "source": [
    "public class Minion {\n",
    "    private String eyeCount;\n",
    "    private int height;\n",
    "\n",
    "    public minion(String eyeCount, int height) {\n",
    "        this.eyeCount = eyeCount;\n",
    "        this.height = height;\n",
    "    }\n",
    "\n",
    "    public void setHeight(int height) {\n",
    "        this.height = height;  \n",
    "    }\n",
    "\n",
    "    public String getEyeCount() {\n",
    "        return this.eyeCount;  \n",
    "    }\n",
    "\n",
    "    public boolean isTallerThan(Minion otherMinion) {\n",
    "        return this.height > otherMinion.height;  \n",
    "    }\n",
    "\n",
    "    public static void main(String[] args) {\n",
    "        Minion minion1 = new Minion(1, 28);\n",
    "        Minion minion2 = new Minion(2, 43);\n",
    "\n",
    "        System.out.println(\"minion 1 number of eyes: \" + minion1.getEyeCount());\n",
    "        System.out.println(\"Is minion1 taller than minion2? \" + minion1.isTallerThan(minion2));\n",
    "\n",
    "        minion2.setHeight(50);\n",
    "        System.out.println(\"Is minion1 still taller than minion2? \" + minion1.isTallerThan(minion2));\n",
    "    }\n",
    "}"
   ]
  },
  {
   "cell_type": "markdown",
   "metadata": {},
   "source": [
    "1. What is the output of the statement System.out.println(\"minion 1 eyeCount: \" + minion1.getEyeCount());? Explain why the this keyword is useful in the getEyeCount() method.\n",
    "\n",
    "2. What does the isTallerThan() method compare? How does the this keyword play a role in this comparison?\n",
    "\n",
    "3. What happens to the result of System.out.println(\"Is minion1 taller than minion2? \" + minion1.isTallerThan(minion2)); after minion2.setHeight(50); is called? Why does the result change?\n",
    "\n",
    "4. Do minion1 and minion2 refer to the same object in memory?"
   ]
  }
 ],
 "metadata": {
  "language_info": {
   "name": "python"
  }
 },
 "nbformat": 4,
 "nbformat_minor": 2
}
