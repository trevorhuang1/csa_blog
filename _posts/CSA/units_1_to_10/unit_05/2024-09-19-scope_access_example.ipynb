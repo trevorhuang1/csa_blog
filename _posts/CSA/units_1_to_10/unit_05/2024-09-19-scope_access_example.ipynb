{
 "cells": [
  {
   "cell_type": "raw",
   "metadata": {
    "vscode": {
     "languageId": "raw"
    }
   },
   "source": [
    "---\n",
    "layout: post\n",
    "title: Scope and Access\n",
    "description: Team Teach\n",
    "toc: True\n",
    "permalink: scope_access_examples\n",
    "---\n"
   ]
  },
  {
   "cell_type": "markdown",
   "metadata": {},
   "source": [
    "## Let's go through an example\n",
    "\n",
    "Lets create a class called MinionMood. In order to ensure maximum productivity with the minions we have to keep track of how they're feeling throughout the day.\n",
    "\n",
    "Then lets create some instance variables and a method to increase the happiness level of the minion based on how many bananas they have eaten, and make it such that the energy level of the minion decreases based on how many tasks they have to complete."
   ]
  },
  {
   "cell_type": "code",
   "execution_count": null,
   "metadata": {},
   "outputs": [],
   "source": [
    "public class MinionMood\n",
    "{\n",
    "    private int happinessLevel;\n",
    "    private int energyLevel;\n",
    "\n",
    "    public MinionMood(int bananas, int tasks)\n",
    "    {\n",
    "        int happinessLevel = 2*bananas;\n",
    "        int energyLevel = tasks;\n",
    "    }\n",
    "    public String toString()\n",
    "    {\n",
    "        return \"Happiness Level: \" + happinessLevel + \"\\nEnergy Level: \" + energyLevel;\n",
    "    }\n",
    "}\n",
    "\n",
    "MinionMood bob = new MinionMood(5, 2);\n",
    "System.out.println(bob);\n"
   ]
  },
  {
   "cell_type": "markdown",
   "metadata": {},
   "source": [
    "## Popcorn Hack\n",
    "- Figure out why the happiness level and the energy level is not showing up the way we want it to. First one to do so will get a high five from Trevor Huang."
   ]
  },
  {
   "cell_type": "markdown",
   "metadata": {},
   "source": [
    "## Oops...\n",
    "\n",
    "Its very important to keep in mind that a local variable within a method that has the same name as an instance variable will just redeclare the variable. So, to make the code work the way we want it to, all that we have to do is get rid of the statements that redeclare the variable.s"
   ]
  }
 ],
 "metadata": {
  "kernelspec": {
   "display_name": "Java",
   "language": "java",
   "name": "java"
  },
  "language_info": {
   "name": "java"
  }
 },
 "nbformat": 4,
 "nbformat_minor": 2
}
