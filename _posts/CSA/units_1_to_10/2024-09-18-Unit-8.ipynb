{
 "cells": [
  {
   "cell_type": "markdown",
   "metadata": {},
   "source": [
    "---\n",
    "layout: post\n",
    "title: 2D Arrays Team Teach\n",
    "description: By David, Torin, Josh, Nandan \n",
    "toc: true\n",
    "comments: true\n",
    "---"
   ]
  },
  {
   "cell_type": "markdown",
   "metadata": {},
   "source": [
    "# **8.1 Info** "
   ]
  },
  {
   "cell_type": "markdown",
   "metadata": {},
   "source": [
    "# Main Concepts\n",
    "\n",
    "### Representing Collections with 2D Arrays\n",
    "- **2D arrays**: Arrays of arrays, representing collections of related primitive or object reference data.\n",
    "- **Creation and Indexing**: Created and indexed similarly to 1D arrays, but each element is an array.\n",
    "- **Initializer Arrays**: Can be initialized using initializer lists, which represent 1D arrays.\n",
    "\n",
    "---\n",
    "\n",
    "# Vocabulary\n",
    "\n",
    "### Array\n",
    "- A data structure used to implement a list of primitive or object reference data.\n",
    "\n",
    "### Element\n",
    "- A single value in an array.\n",
    "\n",
    "### Index\n",
    "- The position of an element in an array. The first element is at index `0` in Java.\n",
    "\n",
    "### Length of an Array\n",
    "- The number of elements in the array. It's a `public final` data member of an array.\n",
    "  - **Public**: Accessible in any class.\n",
    "  - **Final**: The length of the array cannot change after it is created.\n",
    "  - The last element of an array is the length of the index - 1.\n",
    "\n",
    "### Example\n",
    "- **1D Array**: Roster of students with strings.\n",
    "\n",
    "<img src=\"{{site.baseurl}}/images/1D_Array.png\" alt=\"Image 1\">\n",
    "\n",
    "- **2D Array**: Student grades (array of arrays).\n",
    "\n",
    "<img src=\"{{site.baseurl}}/images/2d_Array.png\" alt=\"Image 1\">\n",
    "- A student's grades:\n",
    "    -  Collection of arrays representing student grades, where each entry is an array of a student’s grades.\n",
    "    - This is a rectangular 2D array since each row array has the same number of entries.\n",
    "    - Example: 7 arrays (students), each with 4 grades (tests). Total: 28 elements.\n"
   ]
  },
  {
   "cell_type": "markdown",
   "metadata": {},
   "source": [
    "# Declaring and Initializing 2D Arrays in Java\n",
    "\n",
    "### Declaring Arrays\n",
    "\n",
    "To declare a 2D array in Java, use the following format:\n",
    "\n",
    "int[][] 2DArrayName = new datatype[# of rows][# of columns]\n",
    "\n",
    "### Example\n",
    "int[][] grades = new int[3][4];\n",
    "\n"
   ]
  },
  {
   "cell_type": "code",
   "execution_count": 3,
   "metadata": {
    "vscode": {
     "languageId": "java"
    }
   },
   "outputs": [
    {
     "name": "stdout",
     "output_type": "stream",
     "text": [
      "Number of rows: 3\n",
      "Number of columns: 4\n",
      "Element at row 2, column 3: 78\n"
     ]
    }
   ],
   "source": [
    "public class Main {\n",
    "    public static void main(String[] args) {\n",
    "        int[][] grades = {\n",
    "            {90, 85, 88, 92}, \n",
    "            {75, 80, 78, 85},\n",
    "            {60, 65, 70, 75}\n",
    "        };\n",
    "\n",
    "        int rows = grades.length; // Attribute 1\n",
    "        int columns = grades[0].length;\n",
    "\n",
    "        System.out.println(\"Number of rows: \" + rows);\n",
    "        System.out.println(\"Number of columns: \" + columns);\n",
    "\n",
    "        int element = grades[1][2]; // Accessing an element \n",
    "        System.out.println(\"Element at row 2, column 3: \" + element);\n",
    "    }\n",
    "}\n",
    "\n",
    "Main.main(null)"
   ]
  },
  {
   "cell_type": "markdown",
   "metadata": {},
   "source": [
    "## Popcorn Hack #1\n",
    "\n",
    "<img src=\"{{site.baseurl}}/images/p1.png\" alt=\"Image 1\">\n",
    "\n",
    "How would you write the code to access the last score? MC\n",
    "- A. grades[6][3]\n",
    "- B. grades[7][4]\n",
    "- C. grades[grades.length - 1] [grades[0].length - 1]\n",
    "- D. A and C\n",
    "\n"
   ]
  },
  {
   "cell_type": "markdown",
   "metadata": {},
   "source": [
    "# Learning Objectives:\n",
    "- Traverse 2D arrays using nested for loops.\n",
    "- Traverse 2D arrays using nested enhanced for loops.\n",
    "\n",
    "---\n",
    "\n",
    "## Needed Knowledge:\n",
    "- **Nested iteration** refers to statements that iterate over elements in a 2D array.\n",
    "- **2D arrays** are arrays of arrays and are traversed using for loops, similar to enhanced for loops for 1D arrays.\n",
    "\n",
    "### Key Concept:\n",
    "- Nested iteration statements can be written to traverse the 2D array in **row-major order** or **column-major order**.\n",
    "\n",
    "---\n",
    "\n",
    "### Traversing with Nested Enhanced For Loops:\n",
    "- The **outer loop** in a nested enhanced for loop traverses the rows.\n",
    "- The enhanced for loop variable must be a 1D array type since the row itself is a 1D array.\n",
    "- The **inner loop** traverses a single row, and the inner enhanced for loop variable must be the same type as the elements in the 1D array.\n",
    "\n",
    "---\n",
    "\n",
    "## Example Code: Nested For Loops"
   ]
  },
  {
   "cell_type": "code",
   "execution_count": 5,
   "metadata": {
    "vscode": {
     "languageId": "java"
    }
   },
   "outputs": [
    {
     "name": "stdout",
     "output_type": "stream",
     "text": [
      "1 2 \n",
      "1 2 \n",
      "1 2 \n",
      "1 2 \n"
     ]
    }
   ],
   "source": [
    "public class NestedLoops {\n",
    "    public static void main(String[] args) {\n",
    "        for (int outer = 1; outer < 5; outer++) {\n",
    "            for(int inner = 1; inner < 3; inner++) {\n",
    "                System.out.print(inner + \" \");\n",
    "            }\n",
    "            System.out.println();\n",
    "        }\n",
    "    }\n",
    "}\n",
    "\n",
    "NestedLoops.main(null);"
   ]
  },
  {
   "cell_type": "markdown",
   "metadata": {
    "vscode": {
     "languageId": "java"
    }
   },
   "source": [
    "## How this applies to 2D Arrays:"
   ]
  },
  {
   "cell_type": "code",
   "execution_count": 7,
   "metadata": {
    "vscode": {
     "languageId": "java"
    }
   },
   "outputs": [
    {
     "name": "stdout",
     "output_type": "stream",
     "text": [
      "null null null null null \n",
      "null null null null null \n",
      "null null null null null \n",
      "null null null null null \n"
     ]
    }
   ],
   "source": [
    "public class Main {\n",
    "    public static void main(String[] args) {\n",
    "        String[][] grid = new String[4][5];\n",
    "        for (int row = 0; row < 4; row++) {\n",
    "            for (int col = 0; col < 5; col++) {\n",
    "                System.out.print(grid[row][col] + \" \"); // Look at the Double For loops, this is used for 2D-arrays, not 1D\n",
    "            }\n",
    "        System.out.println();\n",
    "        }\n",
    "    }\n",
    "}\n",
    "\n",
    "Main.main(null);"
   ]
  },
  {
   "cell_type": "markdown",
   "metadata": {
    "vscode": {
     "languageId": "java"
    }
   },
   "source": [
    "## Popcorn Hack 2\n",
    "\n",
    "\n",
    "<img src=\"{{site.baseurl}}/images/stuff.png\" alt=\"Image 1\"> \n",
    "\n",
    "- Reference code below \n",
    "\n",
    "\n",
    "<img src=\"{{site.baseurl}}/images/image.png\" alt=\"Image 1\"> \n"
   ]
  },
  {
   "cell_type": "markdown",
   "metadata": {},
   "source": [
    "## Row Order\n",
    "\n",
    "- Given the code below:\n",
    "<img src=\"{{site.baseurl}}/images/row_order.png\" alt=\"Image 1\">\n",
    "\n",
    "\n",
    "Output is:\n",
    "\n",
    "<img src=\"{{site.baseurl}}/images/output.png\" alt=\"Image 1\">\n",
    "\n",
    "\n",
    "- Another way of writing this is by using colons (:)\n",
    "<img src=\"{{site.baseurl}}/images/colon.png\" alt=\"Image 1\">\n",
    "\n",
    "\n"
   ]
  },
  {
   "cell_type": "markdown",
   "metadata": {},
   "source": [
    "## Homework\n",
    "\n",
    "- Create a program using 2D-Arrays\n",
    "\n",
    "Requirements:\n",
    "\n",
    "- It must use row order\n",
    "- Use the length attributes to go through the double for loop\n",
    "- Create one program for integers and one using string\n"
   ]
  }
 ],
 "metadata": {
  "kernelspec": {
   "display_name": "Java",
   "language": "java",
   "name": "java"
  },
  "language_info": {
   "codemirror_mode": "java",
   "file_extension": ".jshell",
   "mimetype": "text/x-java-source",
   "name": "Java",
   "pygments_lexer": "java",
   "version": "17.0.12+7-Ubuntu-1ubuntu222.04"
  }
 },
 "nbformat": 4,
 "nbformat_minor": 2
}
