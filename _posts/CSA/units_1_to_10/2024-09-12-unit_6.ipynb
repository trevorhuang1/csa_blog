{
 "cells": [
  {
   "cell_type": "markdown",
   "metadata": {},
   "source": [
    "---\n",
    "layout: post\n",
    "title: Unit 6 - Arrays\n",
    "description: Unit 6 Team Teach - Arrays\n",
    "comments: true\n",
    "---"
   ]
  },
  {
   "cell_type": "markdown",
   "metadata": {},
   "source": [
    "By: (J)onathan, (I)an, (T)arun, (S)rijan"
   ]
  },
  {
   "cell_type": "markdown",
   "metadata": {},
   "source": [
    "## 6.1 Array Creation and Access\n",
    "\n",
    "#### MUST KNOW TERMS\n",
    "- Array: A data structure that holds a group of object references.\n",
    "- Element: A single item stored inside an array.\n",
    "- Element index: The location of an element in the array (in Java AND PYTHON(called a list) the first element is at index 0).\n",
    "- Array length: Number of elements in the Array\n"
   ]
  },
  {
   "cell_type": "markdown",
   "metadata": {},
   "source": [
    "## Declaring Array\n",
    "To declare an array, you need the name of the array and the datatype.\n",
    "\n",
    "Syntax: dataType[] arrayName;\n",
    "\n",
    "\n",
    "(note in python that no need to declare which is called dynamic typing)"
   ]
  },
  {
   "cell_type": "code",
   "execution_count": 5,
   "metadata": {
    "vscode": {
     "languageId": "java"
    }
   },
   "outputs": [],
   "source": [
    "int[] grades; // Declare an integer array\n",
    "String[] class_list; // Declare a string array\n",
    "boolean[] light_switch;"
   ]
  },
  {
   "cell_type": "markdown",
   "metadata": {},
   "source": [
    "## Creating an Array\n",
    "\n",
    "Gives memory for the array but we need to specify its size for java compared to python(with arraylists in the next lesson you won't)"
   ]
  },
  {
   "cell_type": "code",
   "execution_count": 6,
   "metadata": {
    "vscode": {
     "languageId": "java"
    }
   },
   "outputs": [],
   "source": [
    "\n",
    "// Syntax: arrayName = new dataType[size];\n",
    "int[]grades = new int[5]; // Create an integer array with 5 elements\n",
    "String[]class_list = new String[3]; // Create a string array with 3 elements\n",
    "boolean[]light_switch= new boolean[5];\n",
    "\n",
    "// Can also predefine the terms rather than setting to default value\n",
    "int[]grades={100,90,100,10,20};\n",
    "boolean[]light_switch={true,false,true,false,true};\n",
    "\n"
   ]
  },
  {
   "cell_type": "code",
   "execution_count": 1,
   "metadata": {
    "vscode": {
     "languageId": "java"
    }
   },
   "outputs": [],
   "source": [
    "numbers=list()\n",
    "names=list()\n",
    "light_switch=list()"
   ]
  },
  {
   "cell_type": "markdown",
   "metadata": {},
   "source": [
    "## Printing out an Array"
   ]
  },
  {
   "cell_type": "code",
   "execution_count": 7,
   "metadata": {
    "vscode": {
     "languageId": "java"
    }
   },
   "outputs": [
    {
     "name": "stdout",
     "output_type": "stream",
     "text": [
      "[100, 90, 100, 10, 20]\n"
     ]
    }
   ],
   "source": [
    "import java.util.Arrays;\n",
    "// Printing out the array with java method\n",
    "int[]grades={100,90,100,10,20};\n",
    "System.out.println(Arrays.toString(grades));"
   ]
  },
  {
   "cell_type": "markdown",
   "metadata": {},
   "source": [
    "## Popcorn Hack 1(Time 0.5 minute)\n",
    "\n",
    "Create an array that represents numerous car brands(Audi, toyota,etc. )"
   ]
  },
  {
   "cell_type": "markdown",
   "metadata": {},
   "source": [
    "##  Array with custom Objects"
   ]
  },
  {
   "cell_type": "code",
   "execution_count": 8,
   "metadata": {
    "vscode": {
     "languageId": "java"
    }
   },
   "outputs": [
    {
     "name": "stdout",
     "output_type": "stream",
     "text": [
      "[REPL.$JShell$26$Coder@5a4be8a2, REPL.$JShell$26$Coder@548c1d9b, REPL.$JShell$26$Coder@50b383d2, REPL.$JShell$26$Coder@15b117a0, REPL.$JShell$26$Coder@10baf34c]\n"
     ]
    }
   ],
   "source": [
    "class Coder{\n",
    "    public boolean codecodecoder;\n",
    "    public int age;\n",
    "    Coder(boolean codecodecoder, int age){\n",
    "        this.codecodecoder=codecodecoder;\n",
    "        this.age=age;\n",
    "    }\n",
    "    \n",
    "}\n",
    "Coder[]allthecoders=new Coder[5];\n",
    "\n",
    "\n",
    "for(int i=0;i<allthecoders.length;i++){\n",
    "    allthecoders[i]=new Coder(true,10);\n",
    "}\n",
    "\n",
    "System.out.println(Arrays.toString(allthecoders));"
   ]
  },
  {
   "cell_type": "markdown",
   "metadata": {},
   "source": [
    "## Accessing Array Elements\n",
    "\n",
    "Acsessing an element's value using it's index in the array"
   ]
  },
  {
   "cell_type": "code",
   "execution_count": 9,
   "metadata": {
    "vscode": {
     "languageId": "java"
    }
   },
   "outputs": [
    {
     "name": "stdout",
     "output_type": "stream",
     "text": [
      "20\n"
     ]
    }
   ],
   "source": [
    "int[] grades = {10, 20, 30, 40, 50};\n",
    "int element = grades[1]; // Access the second grade (20) using index 2\n",
    "System.out.println(element); // Output: 30"
   ]
  },
  {
   "cell_type": "code",
   "execution_count": 3,
   "metadata": {
    "vscode": {
     "languageId": "java"
    }
   },
   "outputs": [
    {
     "name": "stdout",
     "output_type": "stream",
     "text": [
      "10\n"
     ]
    }
   ],
   "source": [
    "# Python translation/example\n",
    "grades=[10,20,30,40,50]\n",
    "student1_grade=grades[0] # the first element in the array/list\n",
    "print(student1_grade)\n"
   ]
  },
  {
   "cell_type": "markdown",
   "metadata": {
    "vscode": {
     "languageId": "java"
    }
   },
   "source": [
    "## Popcorn Hack #2(Time 1.5 Minutes)\n",
    "\n",
    "\n",
    "1. Make an array of chars, representing people's grades\n",
    "2. Try to adjust the letter grade of at least 3 people"
   ]
  },
  {
   "cell_type": "markdown",
   "metadata": {},
   "source": [
    "## Array Length\n",
    "Finding the length of the array."
   ]
  },
  {
   "cell_type": "code",
   "execution_count": 5,
   "metadata": {
    "vscode": {
     "languageId": "java"
    }
   },
   "outputs": [
    {
     "name": "stdout",
     "output_type": "stream",
     "text": [
      "Array length and number of coders: 9\n"
     ]
    }
   ],
   "source": [
    "int[] Students_commits = {10, 20, 30, 40, 50, 60, 70, 80, 90}; //number of commits for each student\n",
    "int length = Students_commits.length; // Get the length of the array and assign to an integer variable\n",
    "System.out.println(\"Array length and number of coders: \" + length); // Output: Array length: 5"
   ]
  },
  {
   "cell_type": "code",
   "execution_count": 1,
   "metadata": {
    "vscode": {
     "languageId": "java"
    }
   },
   "outputs": [
    {
     "name": "stdout",
     "output_type": "stream",
     "text": [
      "number of students 9\n"
     ]
    }
   ],
   "source": [
    "grades=[10,20,30,40,50,60,70,80,90]\n",
    "length=len(grades)\n",
    "print(\"number of students\",length)"
   ]
  },
  {
   "cell_type": "markdown",
   "metadata": {},
   "source": [
    "## Modifying Array Elements\n",
    "Updates the value of a specific element in the array."
   ]
  },
  {
   "cell_type": "code",
   "execution_count": 7,
   "metadata": {
    "vscode": {
     "languageId": "java"
    }
   },
   "outputs": [
    {
     "name": "stdout",
     "output_type": "stream",
     "text": [
      "Before: [10, 20, 30, 40, 50]\n",
      "After: [10, 20, 35, 40, 50]\n",
      "Before: [true, false, true, false]\n",
      "After: [false, false, true, false]\n",
      "Before: [Bob, Sir Mort,  Sir Tarun, Sensei Wu]\n",
      "After: [Sir Jonathon, Sir Mort,  Sir Tarun, Sensei Wu]\n"
     ]
    }
   ],
   "source": [
    "// integer array\n",
    "\n",
    "int[] grades = {10, 20, 30, 40, 50};\n",
    "System.out.println(\"Before: \"+Arrays.toString(grades));\n",
    "grades[2] = 35; // Change the third grade to 35\n",
    "System.out.println(\"After: \"+Arrays.toString(grades));\n",
    "\n",
    "\n",
    "// boolean array\n",
    "\n",
    "boolean[]light_switch={true,false,true,false}; //array of light switches with true meaning the light is on and false meaning its off\n",
    "System.out.println(\"Before: \"+Arrays.toString(light_switch));\n",
    "light_switch[0]=false; // turn off the first switch    true-->false\n",
    "System.out.println(\"After: \"+Arrays.toString(light_switch));\n",
    "\n",
    "// String array\n",
    "String[]student_names={\"Bob\", \"Sir Mort\",\" Sir Tarun\", \"Sensei Wu\"};\n",
    "System.out.println(\"Before: \"+Arrays.toString(student_names));\n",
    "student_names[0]=\"Sir Jonathon\";\n",
    "System.out.println(\"After: \"+Arrays.toString(student_names));\n",
    "\n"
   ]
  },
  {
   "cell_type": "code",
   "execution_count": 3,
   "metadata": {
    "vscode": {
     "languageId": "java"
    }
   },
   "outputs": [
    {
     "name": "stdout",
     "output_type": "stream",
     "text": [
      "Before [10, 20, 30, 40]\n",
      "After [10, 100, 30, 40]\n"
     ]
    }
   ],
   "source": [
    "\n",
    "# Python translation/example\n",
    "grades=[10,20,30,40]\n",
    "print(\"Before\",grades)\n",
    "\n",
    "grades[1]=100 # changing the secon d element to 100\n",
    "print(\"After\",grades)"
   ]
  },
  {
   "cell_type": "markdown",
   "metadata": {},
   "source": [
    "## Iterating Through an Array\n",
    "Loops through the array, printing each element."
   ]
  },
  {
   "cell_type": "code",
   "execution_count": 8,
   "metadata": {
    "vscode": {
     "languageId": "java"
    }
   },
   "outputs": [
    {
     "name": "stdout",
     "output_type": "stream",
     "text": [
      "Index 0: 10\n",
      "Index 1: 20\n",
      "Index 2: 30\n",
      "Index 3: 40\n",
      "Index 4: 50\n"
     ]
    }
   ],
   "source": [
    "int[] numbers = {10, 20, 30, 40, 50};\n",
    "for (int i = 0; i < numbers.length; i++) { // going from the first index(0) to the last index(length of array-1)\n",
    "    System.out.println(\"Index \"+i+\": \"+numbers[i]);\n",
    "}"
   ]
  },
  {
   "cell_type": "code",
   "execution_count": null,
   "metadata": {
    "vscode": {
     "languageId": "java"
    }
   },
   "outputs": [
    {
     "name": "stdout",
     "output_type": "stream",
     "text": [
      "Index 0 : 10\n",
      "Index 1 : 20\n",
      "Index 2 : 30\n",
      "Index 3 : 40\n"
     ]
    }
   ],
   "source": [
    "numbers=[10,20,30,40]\n",
    "for i in range(0,len(numbers)):\n",
    "    print(\"Index\",i,\":\",numbers[i])"
   ]
  },
  {
   "cell_type": "markdown",
   "metadata": {},
   "source": [
    "## Topic 6.2 - Traversing Array (1D)\n",
    "> Using iteration statements (standard for loops and while loops) to access each element in an array."
   ]
  },
  {
   "cell_type": "markdown",
   "metadata": {},
   "source": [
    "### The Classic For Loop\n",
    "- An array in java is indexed from n1 to the number of elements n2.\n",
    "\n",
    "#### Review on what a for loop is?\n",
    "- init: The init expression is used to initialize a variable (executed once)\n",
    "- condition: The loop executes the condition statement every iteration.\n",
    "- incr/decr: The increment/decrement statement applied to the variables which updates the initial expression.\n",
    "![forLoopExample](https://github.com/user-attachments/assets/b3805ce2-eaeb-427e-9eca-acb3fa2421fe)\n",
    "\n",
    "\n",
    "#### Here's some basic code (boring stuff): "
   ]
  },
  {
   "cell_type": "code",
   "execution_count": 4,
   "metadata": {
    "vscode": {
     "languageId": "java"
    }
   },
   "outputs": [
    {
     "name": "stdout",
     "output_type": "stream",
     "text": [
      "0\n",
      "0\n",
      "1\n",
      "2\n",
      "2\n",
      "2\n"
     ]
    }
   ],
   "source": [
    "import java.util.Random;\n",
    "\n",
    "public class RandomArray {\n",
    "    public static void main(String[] args){\n",
    "    int [] list = new int[6];\n",
    "    Random rand = new Random(); \n",
    "\n",
    "    // FOR LOOP 1\n",
    "    for (int i = 0; i < list.length; i++){\n",
    "        list[i] = rand.nextInt(4);\n",
    "    }\n",
    "\n",
    "    // FOR LOOP 2\n",
    "   for(int element: list){\n",
    "        System.out.println(element);\n",
    "    }\n",
    "\n",
    "   }\n",
    "\n",
    "   }\n",
    "\n",
    "  RandomArray.main(null);"
   ]
  },
  {
   "cell_type": "markdown",
   "metadata": {},
   "source": [
    "![forLoopGif](https://github.com/user-attachments/assets/684186c5-1833-436c-9292-24075e6ba9d3)"
   ]
  },
  {
   "cell_type": "markdown",
   "metadata": {},
   "source": [
    "## For Loop: Accessing List Elements\n",
    "\n",
    "**Popcorn hack question**\n",
    "\n",
    "Which part of the following code would I want to change if I wanted to access all odd indices of the list."
   ]
  },
  {
   "cell_type": "code",
   "execution_count": 2,
   "metadata": {
    "vscode": {
     "languageId": "java"
    }
   },
   "outputs": [
    {
     "name": "stdout",
     "output_type": "stream",
     "text": [
      "Even Index\n",
      "0\n",
      "2\n",
      "4\n"
     ]
    }
   ],
   "source": [
    "// EVEN\n",
    "int[] list = {0, 1, 2, 3, 4, 5};\n",
    "System.out.println(\"Even Index\");\n",
    "for(int index = 0; index < list.length; index+=2){\n",
    "    System.out.println(list[index]);\n",
    "}"
   ]
  },
  {
   "cell_type": "markdown",
   "metadata": {},
   "source": [
    "## Standard While Loop\n",
    "Does the following loop accomplish traversing the array?"
   ]
  },
  {
   "cell_type": "code",
   "execution_count": 4,
   "metadata": {
    "vscode": {
     "languageId": "java"
    }
   },
   "outputs": [
    {
     "name": "stdout",
     "output_type": "stream",
     "text": [
      "New index: 5\n"
     ]
    }
   ],
   "source": [
    "int [] list = new int[5];\n",
    "int index = 0; \n",
    "\n",
    "while (index < list.length) \n",
    "{\n",
    "    // Do something\n",
    "    index ++; \n",
    "}\n",
    "\n",
    "System.out.println(\"New index: \" + index);"
   ]
  },
  {
   "cell_type": "markdown",
   "metadata": {},
   "source": [
    "**Popcorn hack question:**\n",
    "\n",
    "This while loop and the for loop we used earlier accomplish the same task. The main difference is that after the loop is completed, the variable 'index' in the while loop will still exist. The variable 'i' in the for loop will not. Why?"
   ]
  },
  {
   "cell_type": "markdown",
   "metadata": {},
   "source": [
    "## Bounds Errors\n",
    "\n",
    "\n",
    "\n",
    "When traversing an array, we need to be careful with the indices to avoid an ArrayIndexOutOfBoundsException being thrown.\n",
    "\n",
    "**ATTENTION: MOST COMMON MISTAKE: **\n",
    "8. What is wrong with the for loop and while loop below? Why does this produce an ArrayIndexOutOfBoundsException error? The first index is 0 making the equation invalid. You must change the signs or add a -1\n"
   ]
  },
  {
   "cell_type": "markdown",
   "metadata": {},
   "source": [
    "Off by One Error : missing the first or last element of an array when trying to traverse"
   ]
  },
  {
   "cell_type": "markdown",
   "metadata": {},
   "source": [
    "## Developing Methods Using Arrays\n",
    "\n",
    "Reviewing common methods asked on AP Exams FRQs\n",
    "\n",
    "### Average Value\n",
    "\n",
    "**Popcorn Hack**:\n",
    "\n",
    "Create/complete the code in order to return the average grade of all grades in the list of grades.\n",
    "\n",
    "**Homework:**\n",
    "\n",
    " Have the code print \"Man, you guys need to study more\" if the grades are beneath a certain percentage. \n",
    " \n",
    " Bonus:\n",
    " Have the code iterate through the list and add some points to each grade because you're a very generous grader."
   ]
  },
  {
   "cell_type": "code",
   "execution_count": null,
   "metadata": {
    "vscode": {
     "languageId": "java"
    }
   },
   "outputs": [],
   "source": [
    "public class GradeAverage {\n",
    "    public static void main(String[] args) {\n",
    "        /* grades out of 100 */\n",
    "        int[] grades = {90, 50, 70, 20, 80, 97};\n",
    "        int sum = 0;\n",
    "        double average;\n",
    "        \n",
    "        for (int i = 0; i<grades.length;i++) {\n",
    "            sum += grades[i]; \n",
    "        }\n",
    "       \n",
    "        average = (double) sum / grades.length; /* missing code */\n",
    "        \n",
    "        System.out.println(\"The average of the grades is: \" + average);\n",
    "    }\n",
    "}\n",
    "\n",
    "GradeAverage.main(null);"
   ]
  },
  {
   "cell_type": "markdown",
   "metadata": {
    "vscode": {
     "languageId": "java"
    }
   },
   "source": [
    "# 6.3 Enhanced For Loop for Arrays\n",
    "\n",
    "The \"Enhanced For Loop\" is otherwise known as a for each loop.\n",
    "This provides a simple way to loop through iterable data structures such as arrays and lists. \n",
    "The syntax for this loop is as follows,"
   ]
  },
  {
   "cell_type": "code",
   "execution_count": null,
   "metadata": {
    "vscode": {
     "languageId": "java"
    }
   },
   "outputs": [],
   "source": [
    "for(dataType element : array) { \n",
    "    //code to be ran on an element\n",
    "}"
   ]
  },
  {
   "cell_type": "markdown",
   "metadata": {},
   "source": [
    "If this syntax is unfamiliar, perhaps the Python version can be used as reference"
   ]
  },
  {
   "cell_type": "code",
   "execution_count": null,
   "metadata": {
    "vscode": {
     "languageId": "java"
    }
   },
   "outputs": [],
   "source": [
    "for element in array:\n",
    "    #code to be ran on element"
   ]
  },
  {
   "cell_type": "markdown",
   "metadata": {},
   "source": [
    "Here's an example of using these types of loops to calculate the sum of an Array\n",
    "Do note the iterated element has to be of the data type in the array. "
   ]
  },
  {
   "cell_type": "code",
   "execution_count": 13,
   "metadata": {
    "vscode": {
     "languageId": "java"
    }
   },
   "outputs": [
    {
     "name": "stdout",
     "output_type": "stream",
     "text": [
      "1\n",
      "2\n",
      "3\n",
      "4\n",
      "5\n",
      "6\n",
      "7\n",
      "8\n",
      "9\n",
      "10\n",
      "55\n"
     ]
    }
   ],
   "source": [
    "int sum = 0;\n",
    "int[] numArray = {1,2,3,4,5,6,7,8,9,10};\n",
    "for(int numElement : numArray)\n",
    "{\n",
    "    System.out.println(numElement);\n",
    "    sum += numElement;\n",
    "}\n",
    "System.out.println(sum);"
   ]
  },
  {
   "cell_type": "markdown",
   "metadata": {
    "vscode": {
     "languageId": "java"
    }
   },
   "source": [
    "# Popcorn Hack: Rewrite For Loop with For Each Loop\n",
    "\n",
    "You are working as an intern for a car sales company at their IT department. \n",
    "Your new task your boss gave you is to post the prices and names of the newest cars to be sold\n",
    "The previous IT developer couldnt get their for loop to work.\n",
    "Could you fix the issue?\n",
    "\n",
    "\n",
    "Given the following code, rewrite the script to use a for each loop instead of the for loop and fix the problem"
   ]
  },
  {
   "cell_type": "code",
   "execution_count": null,
   "metadata": {
    "vscode": {
     "languageId": "java"
    }
   },
   "outputs": [],
   "source": [
    "import java.util.HashMap;\n",
    "import java.util.Map;\n",
    "Map<String, Integer> carMap = new HashMap<String, Integer>();\n",
    "/*\n",
    " HashMap Syntax\n",
    " Map.Entry<String, Integer> entry for iterable loops\n",
    " Refer to the iterated HashMap as carMap.entrySet()\n",
    " entry.getKey()\n",
    "  entry.getValue()\n",
    "*/\n",
    "\n",
    "carMap.put(\"MortMobile\",9999);\n",
    "carMap.put(\"CSAwesomeCar\",500);\n",
    "carMap.put(\"ArrayceCar\",5000);\n",
    "\n",
    "for(int i=0;i<carMap.length;i++) //for the next developer: please fix this!!\n",
    "{\n",
    "    System.out.println(carMap[i]);\n",
    "    \n",
    "}"
   ]
  },
  {
   "cell_type": "code",
   "execution_count": 15,
   "metadata": {
    "vscode": {
     "languageId": "java"
    }
   },
   "outputs": [
    {
     "name": "stdout",
     "output_type": "stream",
     "text": [
      "CSAwesomeCar\n",
      "500\n",
      "ArrayceCar\n",
      "5000\n",
      "MortMobile\n",
      "9999\n"
     ]
    }
   ],
   "source": [
    "//Sample Solution\n",
    "import java.util.HashMap;\n",
    "import java.util.Map;\n",
    "        Map<String, Integer> carMap = new HashMap<String, Integer>();\n",
    "\n",
    "        carMap.put(\"MortMobile\",9999);\n",
    "        carMap.put(\"CSAwesomeCar\",500);\n",
    "        carMap.put(\"ArrayceCar\",5000);\n",
    "        for(Map.Entry<String, Integer> entry : carMap.entrySet())\n",
    "        {\n",
    "            System.out.println(entry.getKey());\n",
    "            System.out.println(entry.getValue());\n",
    "        }"
   ]
  },
  {
   "cell_type": "markdown",
   "metadata": {},
   "source": [
    "# Limitations On Enhanced For Loops\n",
    "\n",
    "It does not allow for access to the index number of the element,\n",
    "You cannot modify elements of the loop\n",
    "You cannot get a specific index in the same way array[ i ] can\n",
    "\n",
    "# Final Hack\n",
    "Finish the following code with a for each and normal for loop\n"
   ]
  },
  {
   "cell_type": "code",
   "execution_count": 16,
   "metadata": {
    "vscode": {
     "languageId": "java"
    }
   },
   "outputs": [],
   "source": [
    "int[] nums = {1,2,3,4,5,6,2000};\n",
    "\n",
    "//loop through the array and print if the current index is even"
   ]
  },
  {
   "cell_type": "code",
   "execution_count": 17,
   "metadata": {
    "vscode": {
     "languageId": "java"
    }
   },
   "outputs": [
    {
     "name": "stdout",
     "output_type": "stream",
     "text": [
      "false\n",
      "true\n",
      "false\n",
      "true\n",
      "false\n",
      "true\n",
      "true\n",
      "false\n",
      "true\n",
      "false\n",
      "true\n",
      "false\n",
      "true\n",
      "true\n"
     ]
    }
   ],
   "source": [
    "//Sample Solution\n",
    "int[] nums = {1,2,3,4,5,6,2000};\n",
    "\n",
    "for(int i=0;i<nums.length;i++)\n",
    "{\n",
    "    System.out.println(nums[i] % 2 ==0);\n",
    "}\n",
    "\n",
    "for(int number : nums)\n",
    "{\n",
    "    System.out.println(number % 2 ==0);\n",
    "}"
   ]
  },
  {
   "cell_type": "markdown",
   "metadata": {},
   "source": [
    "# 6.4 Developing Algorithms Using Arrays\n",
    "\n",
    "#### Finding Maximum and Minimum of Arrays\n",
    "We've done this in python many times in the past, but in java it will be different.\n",
    "Steps:\n",
    "1. Initialize a variable to store a maximum value\n",
    "2. Iterate through every element in the list\n",
    "    - In python we would use `for x in list` but this isn't possible now, instead we must use an enhanced for loop\n",
    "3. Check if element is greater than max, if so replace\n",
    "4. return element"
   ]
  },
  {
   "cell_type": "code",
   "execution_count": 30,
   "metadata": {
    "vscode": {
     "languageId": "java"
    }
   },
   "outputs": [
    {
     "name": "stdout",
     "output_type": "stream",
     "text": [
      "1.23091283901823E15\n"
     ]
    }
   ],
   "source": [
    "/* function, takes in array of doubles as values */\n",
    "private double findMax(double [] values) {\n",
    "    /* Sets max to first number in the list. Min Value could be the min value */\n",
    "    double max = values[0];\n",
    "\n",
    "    /* enhanced for loop notation */\n",
    "    for (double value : values) {\n",
    "        /* check for max */\n",
    "        if (value > max) {\n",
    "            max = value;\n",
    "        }\n",
    "    }\n",
    "    return max;\n",
    "}\n",
    "\n",
    "/* run on array */\n",
    "double[] nums = {1,2,3,4,5,6,2000, 123.123, 1230912839018230.123901823};\n",
    "System.out.println(findMax(nums));"
   ]
  },
  {
   "cell_type": "markdown",
   "metadata": {},
   "source": [
    "### Popcorn Hack\n",
    "Implement a function to find the minimum of the EVEN INDEXED elements in array of integers. "
   ]
  },
  {
   "cell_type": "code",
   "execution_count": null,
   "metadata": {
    "vscode": {
     "languageId": "java"
    }
   },
   "outputs": [],
   "source": [
    "private double findMinEven(int [] values) {\n",
    "    /*Function here */\n",
    "}\n",
    "\n",
    "int[] nums = {};\n",
    "System.out.println(findMinEven(nums));"
   ]
  },
  {
   "cell_type": "markdown",
   "metadata": {},
   "source": [
    "Ok wait but i don't want to copy this every time. what happened to python's .max?"
   ]
  },
  {
   "cell_type": "code",
   "execution_count": null,
   "metadata": {
    "vscode": {
     "languageId": "java"
    }
   },
   "outputs": [],
   "source": [
    "double[] nums = {1,2,3,4,5,6,2000};\n",
    "System.out.println(Arrays.stream(nums).max().getAsDouble())\n"
   ]
  },
  {
   "cell_type": "markdown",
   "metadata": {},
   "source": [
    "## Shifting Arrays\n",
    "Oftentimes we need to shift an array. \n",
    "ex. Shifting an array right two:\n",
    "Original: {\"a\", \"b\", \"c\", \"d\"}\n",
    "Final: {\"d\", \"c\", \"a\", \"b\"}\n",
    "\n",
    "How do we do this?\n",
    "1. Create a new array\n",
    "2. Iterate through each element in the array\n",
    "3. Place in appropriate spoce"
   ]
  },
  {
   "cell_type": "code",
   "execution_count": 40,
   "metadata": {
    "vscode": {
     "languageId": "java"
    }
   },
   "outputs": [
    {
     "name": "stdout",
     "output_type": "stream",
     "text": [
      "3\n",
      "4\n",
      "5\n",
      "6\n",
      "7\n",
      "8\n",
      "9\n",
      "10\n",
      "1\n",
      "2\n"
     ]
    }
   ],
   "source": [
    "int [] numbers = {1,2,3,4,5,6,7,8,9,10};\n",
    "\n",
    "int shift = 8;\n",
    "\n",
    "/* function */\n",
    "private int [] shiftRight(int [] values, int shift) {\n",
    "    /* declare new array */\n",
    "    int [] shifted = new int [values.length];\n",
    "    /* iterate through each array */\n",
    "    for (int index = 0; index < values.length; index++) {\n",
    "        /*\n",
    "         Breakdown:\n",
    "         shifted [new index] = numbers[index] (old value)\n",
    "\n",
    "         WAIT! but i'm adding a value to somewhere in the middle of the array! \n",
    "         we couldn't do that in python but since we specified the type and length of the array, this is possible in java\n",
    "\n",
    "         Calculating the new index:\n",
    "         1. we add the shift to the index\n",
    "         2. handle overflow: we use % to take the modulo operation\n",
    "         */\n",
    "        shifted [Math.abs((index + shift) % numbers.length)] = numbers[index];\n",
    "    }\n",
    "    return shifted;\n",
    "}\n",
    "\n",
    "for ( int value : shiftRight(numbers, shift)) {\n",
    "    System.out.println(value);\n",
    "}"
   ]
  },
  {
   "cell_type": "markdown",
   "metadata": {},
   "source": [
    "Challenge Hack:\n",
    "Create a function that iterates through every X items and shifts *only* those elements Y shift left.\n",
    "\n",
    "Example: ({1, 2, 3, 4, 5, 6}, Y = 1, X = 2)\n",
    "Output: {5, 2, 1, 4, 3, 6}\n",
    "\n",
    "Example: ({1, 2, 3, 4, 5, 6, 7, 8, 9, 10}, Y = 2, X = 3)\n",
    "Output: {10, 2, 3, 1, 5, 6, 4, 8, 9, 7}"
   ]
  },
  {
   "cell_type": "code",
   "execution_count": null,
   "metadata": {
    "vscode": {
     "languageId": "java"
    }
   },
   "outputs": [],
   "source": [
    "int [] numbers = {1,2,3,4,5,6,7,8,9,10,11,12,13,14,15,16,17,18,19,20};\n",
    "\n",
    "int shift = 2;\n",
    "int space = 4;\n",
    "\n",
    "/* function */\n",
    "private int [] shiftRight(int [] values, int shift, int space) {\n",
    "    /* code here */\n",
    "}\n",
    "\n",
    "for ( int value : shiftRight(numbers, shift, space)) {\n",
    "    System.out.println(value);\n",
    "}"
   ]
  }
 ],
 "metadata": {
  "kernelspec": {
   "display_name": "Java",
   "language": "java",
   "name": "java"
  },
  "language_info": {
   "codemirror_mode": "java",
   "file_extension": ".jshell",
   "mimetype": "text/x-java-source",
   "name": "Java",
   "pygments_lexer": "java",
   "version": "17.0.12+7-Ubuntu-1ubuntu222.04"
  }
 },
 "nbformat": 4,
 "nbformat_minor": 2
}
