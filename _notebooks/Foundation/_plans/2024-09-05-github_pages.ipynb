{
 "cells": [
  {
   "cell_type": "raw",
   "metadata": {
    "vscode": {
     "languageId": "raw"
    }
   },
   "source": [
    "---\n",
    "toc: True\n",
    "comments: True\n",
    "layout: post\n",
    "title: Github Pages Mini Project Brain Write\n",
    "description: Here, Matthew and I will be writing down our ideas for the github pages mini project. We originally ideated on a google document, so I am just pasting it in right now.\n",
    "type: issues\n",
    "courses: { csa: {week: 1} }\n",
    "---"
   ]
  }
 ],
 "metadata": {
  "language_info": {
   "name": "python"
  }
 },
 "nbformat": 4,
 "nbformat_minor": 2
}
