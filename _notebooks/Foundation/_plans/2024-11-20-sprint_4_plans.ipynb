{
 "cells": [
  {
   "cell_type": "raw",
   "metadata": {
    "vscode": {
     "languageId": "raw"
    }
   },
   "source": [
    "---\n",
    "toc: True\n",
    "comments: True\n",
    "layout: post\n",
    "title: Sprint 4 Plans/Agile Manifesto \n",
    "description: This will be my planning notebook for sprint 4. My emphasis will be integrating the bathroom pass with the analytics team while possibly merging the two different queue systems that Ian and I have.\n",
    "type: issues\n",
    "courses: { csa: {week: 13} }\n",
    "---"
   ]
  },
  {
   "cell_type": "markdown",
   "metadata": {},
   "source": [
    "https://www.agilealliance.org/agile101/12-principles-behind-the-agile-manifesto/"
   ]
  }
 ],
 "metadata": {
  "language_info": {
   "name": "python"
  }
 },
 "nbformat": 4,
 "nbformat_minor": 2
}
