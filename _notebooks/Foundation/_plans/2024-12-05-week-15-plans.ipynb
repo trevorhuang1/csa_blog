{
 "cells": [
  {
   "cell_type": "markdown",
   "metadata": {},
   "source": [
    "---\n",
    "toc: True\n",
    "comments: True\n",
    "layout: post\n",
    "title: Week 15 Plans\n",
    "description: \n",
    "type: issues\n",
    "courses: { csa: {week: 15} }\n",
    "---"
   ]
  }
 ],
 "metadata": {
  "language_info": {
   "name": "python"
  }
 },
 "nbformat": 4,
 "nbformat_minor": 2
}
