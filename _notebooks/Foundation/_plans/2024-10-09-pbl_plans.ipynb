{
 "cells": [
  {
   "cell_type": "markdown",
   "metadata": {},
   "source": [
    "---\n",
    "toc: True\n",
    "comments: True\n",
    "layout: post\n",
    "title: Spring 2025 PBL Plans\n",
    "description: A short list of ideas that group 5 came up with during class during the brain storm.\n",
    "type: issues\n",
    "courses: { csa: {week: 7} }\n",
    "---"
   ]
  },
  {
   "cell_type": "markdown",
   "metadata": {},
   "source": [
    "## Overarching theme:\n",
    "Our team was to create an application that complements the pre-existing portfolio_2025 repository, and also solves an issue (hopefully related to school). Every person in our team needs to have their own feature before integration."
   ]
  },
  {
   "cell_type": "markdown",
   "metadata": {
    "vscode": {
     "languageId": "plaintext"
    }
   },
   "source": [
    "### List of Ideas\n",
    "- Bathroom pass expansion\n",
    "- Canvas + synergy integration (this would be a clone)\n",
    "- Something to do with senior assassins"
   ]
  }
 ],
 "metadata": {
  "language_info": {
   "name": "python"
  }
 },
 "nbformat": 4,
 "nbformat_minor": 2
}
