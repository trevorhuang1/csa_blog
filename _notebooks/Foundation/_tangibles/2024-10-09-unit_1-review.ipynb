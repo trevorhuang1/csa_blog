{
 "cells": [
  {
   "cell_type": "raw",
   "metadata": {
    "vscode": {
     "languageId": "raw"
    }
   },
   "source": [
    "---\n",
    "toc: False\n",
    "comments: True\n",
    "layout: post\n",
    "title: Unit 1 Summary \n",
    "description: A summary of the key concepts in Unit 1 of AP CSA\n",
    "courses: { csa: {week: 7} }\n",
    "permalink: /csa/sprint2/unit-1/\n",
    "menu: nav/CSA_Units/summary.html\n",
    "---"
   ]
  },
  {
   "cell_type": "markdown",
   "metadata": {},
   "source": [
    "## Overview: Primitives and Reference Types (Weighting: 2.5-5%)\n",
    "Unit 1 is all about primitive and reference types, which are both data types in Java.\n",
    "\n",
    "> A type is a set of values (e.g., integers, floats, strings, etc.) which determines how data is stored in memory and how a set of operators (e.g., +, -, *, /, etc.) will work with them."
   ]
  },
  {
   "cell_type": "markdown",
   "metadata": {},
   "source": [
    "## Primitives\n",
    "- Primitive data types specify the size and type of data they store, and are not associated with any class.\n",
    "- There are three types of primitive data types used in the AP CSA exam:\n",
    "    - `int`: -2,147,483,648 to 2,147,483,647\n",
    "    - `double`: Stores decimal numbers (up to 15 digits past the decimal)\n",
    "    - `boolean`: Stores true or false values\n",
    "\n",
    "- Syntax for declaring a variable:\n",
    "    - `Type variableName = Value;`\n",
    "    - EX: `int count = 0;`\n",
    "\n",
    "- 8 more primitive data types (not tested on AP Exam, but good to know):\n",
    "    - `byte`: An 8-bit signed two's complement integer.\n",
    "    - `short`: A 16-bit signed two's complement integer.\n",
    "    - `int`: A 32-bit signed two's complement integer.\n",
    "    - `long`: A 64-bit signed two's complement integer.\n",
    "    - `float`: A single-precision 32-bit IEEE 754 floating point.\n",
    "    - `double`: A double-precision 64-bit IEEE 754 floating point.\n",
    "    - `boolean`: Stores either `true` or `false`.\n",
    "    - `char`: Stores a single 16-bit Unicode character."
   ]
  },
  {
   "cell_type": "code",
   "execution_count": null,
   "metadata": {},
   "outputs": [],
   "source": [
    "// Fill in the data type\n",
    "___ zero = 0; //Whole number\n",
    "___ pi = 3.14159; //Decimal values. Floating point numbers.\n",
    "___ iAmTakingCSA = true; //Stores a true of false binary value\n",
    "___ myProjectedGrad = 'A'; //Single character\n",
    "___ iLoveCodeCodeCoding = \"Yes\"; //String of characters"
   ]
  },
  {
   "cell_type": "markdown",
   "metadata": {},
   "source": [
    "## Reference Types\n",
    "- References store addresses (references) to objects, rather than the objects themselves\n",
    "    - `SIMPLIFIED`: When you create an object, it resides somewhere in memory. A reference points to that memory location\n",
    "- Types:\n",
    "    - `Objects`: Instances of classes like `String` or `ArrayList`. When you create an object, the variable holds a reference to its memory location.\n",
    "    - `Arrays`: Arrays store references to the actual data in memory, whether it's an array of primitive types or objects.\n",
    "    - `Interface Types`: When a variable is declared with an interface type, it holds a reference to an object of a class that implements that interface. An example would be an `ArrayList`.\n"
   ]
  },
  {
   "cell_type": "code",
   "execution_count": null,
   "metadata": {},
   "outputs": [],
   "source": [
    "// Here's an example of how reference types are stored as references in Java.\n",
    "import java.util.ArrayList;\n",
    "import java.util.List;\n",
    "\n",
    "public class ReferenceTypeExample {\n",
    "    public static void main(String[] args) {\n",
    "        // Create an ArrayList, which is an object and implements the List interface\n",
    "        List<String> fruits = new ArrayList<>();\n",
    "\n",
    "        // Add elements to the ArrayList\n",
    "        fruits.add(\"Apple\");\n",
    "        fruits.add(\"Banana\");\n",
    "        fruits.add(\"Cherry\");\n",
    "\n",
    "        // Accessing the object through its reference\n",
    "        System.out.println(\"Fruits: \" + fruits);\n",
    "\n",
    "        // Modifying the object via its reference\n",
    "        fruits.remove(\"Banana\");\n",
    "        System.out.println(\"Updated Fruits: \" + fruits);\n",
    "    }\n",
    "}\n"
   ]
  },
  {
   "cell_type": "markdown",
   "metadata": {},
   "source": [
    "## Memory Allocation: Stack and Heap\n",
    "- Stack Memory:\n",
    "    - Used to store temporary variables created by each function\n",
    "    - Stores primitive data types and references to objects.\n",
    "    - Memory is allocated in a last-in-first-out (LIFO) manner.\n",
    "    - Each thread has its own stack, ensuring thread safety.\n",
    "    - `Analogy`: Think of LIFO like a stack of plates. When you add a place, you place it on the top of the stack, and when you need a plate, you take the top one off first.\n",
    "    - EX: \n",
    "```java\n",
    "int number = 100; // Stored in the stack\n",
    "```\n",
    "    \n",
    "- Heap Memory:\n",
    "    - Used for dynamic memory allocation\n",
    "    - Stores objects and arrays\n",
    "    - Shared among all threads\n",
    "    - Heap variables stay alive as long as a stack variable points to them."
   ]
  }
 ],
 "metadata": {
  "kernelspec": {
   "display_name": "Java",
   "language": "java",
   "name": "java"
  },
  "language_info": {
   "name": "java"
  }
 },
 "nbformat": 4,
 "nbformat_minor": 2
}
