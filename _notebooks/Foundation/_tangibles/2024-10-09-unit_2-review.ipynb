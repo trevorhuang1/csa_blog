{
 "cells": [
  {
   "cell_type": "raw",
   "metadata": {
    "vscode": {
     "languageId": "raw"
    }
   },
   "source": [
    "---\n",
    "toc: False\n",
    "comments: True\n",
    "layout: post\n",
    "title: Unit 2 Summary\n",
    "description: A summary of the key concepts in Unit 2 of AP CSA\n",
    "courses: { csa: {week: 7} }\n",
    "permalink: /csa/sprint2/unit-2/\n",
    "menu: nav/CSA_Units/summary.html\n",
    "---"
   ]
  },
  {
   "cell_type": "markdown",
   "metadata": {
    "vscode": {
     "languageId": "raw"
    }
   },
   "source": [
    "## Overview: Using Objects (Weighting: 5-7.5%)\n",
    "- `Objects`: instances of a class that are created to use attributes and methods of class. \n",
    "- `Classes`: blueprints, and objects are what is made using the blueprints."
   ]
  },
  {
   "cell_type": "markdown",
   "metadata": {},
   "source": [
    "## Objects:\n",
    "- Objects have attributes that holds data specific to the object and then methods that allow the object to perform actions"
   ]
  },
  {
   "cell_type": "code",
   "execution_count": null,
   "metadata": {},
   "outputs": [],
   "source": [
    "// Example of a class with an object:\n",
    "class Dog {\n",
    "    public String name;\n",
    "    public String breed;\n",
    "    public int age;\n",
    "\n",
    "    public Dog(String name, String breed, int age) {\n",
    "        this.name = name;\n",
    "        this.breed = breed;\n",
    "        this.age = age;\n",
    "    }\n",
    "    public void bark() {\n",
    "        System.out.println(\"Woof!\");\n",
    "    }\n",
    "}\n",
    "\n",
    "public class Main {\n",
    "    public static void main(String[] args) {\n",
    "        Dog myDog = new Dog(\"Shelby\", \"Golden Retriever\", 5); // name, breed, age\n",
    "        myDog.bark(); // should print \"Woof!\"\n",
    "    }\n",
    "}\n",
    "\n",
    "Main.main(null);"
   ]
  },
  {
   "cell_type": "markdown",
   "metadata": {},
   "source": [
    "- Here, the object myDog is made from the class Dog. The attributes are its name (shelby), its breed (golden retriever), and its age (5 years).\n",
    "\n",
    "- Additionally, it has a method which allows it to bark."
   ]
  },
  {
   "cell_type": "markdown",
   "metadata": {},
   "source": [
    "## College Board Practice!"
   ]
  },
  {
   "cell_type": "markdown",
   "metadata": {},
   "source": [
    "Consider the following class. Which of the following code segments will construct a Movie object m with a title of “Lion King” and rating of 8.0?"
   ]
  },
  {
   "cell_type": "code",
   "execution_count": null,
   "metadata": {},
   "outputs": [],
   "source": [
    "public class Movie\n",
    "{\n",
    "    private String title;\n",
    "    private String director;\n",
    "    private double rating;\n",
    "    private boolean inTheaters;\n",
    "\n",
    "    public Movie(String t, String d, double r)\n",
    "    {\n",
    "        title = t;\n",
    "        director = d;\n",
    "        rating = r;\n",
    "        inTheaters = false;\n",
    "    }\n",
    "\n",
    "    public Movie(String t)\n",
    "    {\n",
    "        title = t;\n",
    "        director = \"unknown\";\n",
    "        rating = 0.0;\n",
    "        inTheaters = false;\n",
    "    }\n",
    "}"
   ]
  },
  {
   "cell_type": "markdown",
   "metadata": {},
   "source": [
    "1. Movie m = new Movie(8.0, \"Lion King\");\n",
    "2. Movie m = Movie(\"Lion King\", 8.0);\n",
    "3. Movie m = new Movie();\n",
    "4. Movie m = new Movie(\"Lion King\", \"Disney\", 8.0);\n",
    "5. Movie m = new Movie(\"Lion King\");\n",
    "\n",
    "<details>\n",
    "<summary>Click to reveal the answer</summary>\n",
    "\n",
    "The correct answer is D because the Movie object needs to be made with the correct attributes. Answer choice D is the only answer that satisfies each of the 3 attributes the Movie object has, respectively.\n",
    "\n",
    "</details>"
   ]
  },
  {
   "cell_type": "markdown",
   "metadata": {},
   "source": [
    "Consider the following class. Which of the following successfully creates a new Cat object?"
   ]
  },
  {
   "cell_type": "code",
   "execution_count": null,
   "metadata": {},
   "outputs": [],
   "source": [
    "public class Cat\n",
    "{\n",
    "    private String color;\n",
    "    private String breed;\n",
    "    private boolean isHungry;\n",
    "\n",
    "    public Cat()\n",
    "    {\n",
    "        color = \"unknown\";\n",
    "        breed = \"unknown\";\n",
    "        isHungry = false;\n",
    "    }\n",
    "\n",
    "    public Cat(String c, String b, boolean h)\n",
    "    {\n",
    "        color = c;\n",
    "        breed = b;\n",
    "        isHungry = h;\n",
    "    }\n",
    "}\n",
    "\n",
    "I.   Cat a = new Cat();\n",
    "II.  Cat b = new Cat(\"Shorthair\", true);\n",
    "III. String color = \"orange\";\n",
    "     boolean hungry = false;\n",
    "     Cat c = new Cat(color, \"Tabby\", hungry);"
   ]
  },
  {
   "cell_type": "markdown",
   "metadata": {},
   "source": [
    "1. I only\n",
    "2. I and II\n",
    "3. I and III\n",
    "4. I, II, and III\n",
    "5. II and III\n",
    "\n",
    "<details>\n",
    "<summary>Click to reveal the answer</summary>\n",
    "\n",
    "The answer choice is C because the first option creates an object of the class Cat using the default constructor, while option choice 3 uses the overloaded constructor for the cat object.\n",
    "\n",
    "</details>"
   ]
  }
 ],
 "metadata": {
  "kernelspec": {
   "display_name": "Java",
   "language": "java",
   "name": "java"
  },
  "language_info": {
   "name": "java"
  }
 },
 "nbformat": 4,
 "nbformat_minor": 2
}
