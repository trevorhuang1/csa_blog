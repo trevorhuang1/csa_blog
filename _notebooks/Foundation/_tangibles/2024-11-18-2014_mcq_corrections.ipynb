{
 "cells": [
  {
   "cell_type": "raw",
   "metadata": {
    "vscode": {
     "languageId": "raw"
    }
   },
   "source": [
    "---\n",
    "toc: False\n",
    "comments: True\n",
    "layout: post\n",
    "title: 2014 College Board MCQ Corrections\n",
    "description: These will be my corrections for \n",
    "courses: { csa: {week: 13} }\n",
    "permalink: /corrections\n",
    "---"
   ]
  },
  {
   "cell_type": "markdown",
   "metadata": {},
   "source": [
    "## My score and the future:\n",
    "> I scored a **32/40** on the CSA practice MCQ, which is only around the range of a 4 on the AP exam.\n",
    "\n",
    "The score was super disappointing at first, but after reviewing my mistakes, I'm positive that I just need to understand the tricks that College Board pulls and I will be fine. My conceptual knowledge was there for most, if not all problems, but the amount of boneheaded or sloppy mistakes that I made was just ridiculous. In the future, I need to take practice more serious and think more critically when analyzing questions."
   ]
  },
  {
   "cell_type": "markdown",
   "metadata": {},
   "source": [
    "- Question 4: 2B\n",
    "- Question 10: 4A\n",
    "- Question 11: 1B\n",
    "- Question 15: 1B\n",
    "- Question 16: 1B\n",
    "- Question 18: 1C\n",
    "- Question 22: 5B\n",
    "- Question 23: 2C\n",
    "- Question 30: 2C\n",
    "- Question 35: 2B\n",
    "- Question 40: 2C\n",
    "\n",
    "I don't even need to total each section to see how my main struggles were with unit 1 (primitive types) and unit 2 (using objects). I think that being more surgical and precise while doing targetted practice for these units will help with my future score.\n"
   ]
  },
  {
   "cell_type": "markdown",
   "metadata": {},
   "source": [
    "### Question 4\n",
    "![4](https://assets.learnosity.com/organisations/537/media.academicmerit.com/9030876d3f339beb4985ad70e46c4d62/original.jpg)\n",
    "\n",
    "What is printed as a result of executing the code segment?\n",
    "\n",
    "A. Value is: 21\n",
    "\n",
    "B. Value is: 2.3333333\n",
    "\n",
    "**C. Value is: 2**\n",
    "\n",
    "D. Value is: 0\n",
    "\n",
    "E. Value is: 1"
   ]
  },
  {
   "cell_type": "markdown",
   "metadata": {},
   "source": [
    "### Correction\n",
    "My original answer was B, because I forgot about how x and y are both integers, so 2.333333 will actually round down to 2 because of integer division. I only spend 22 seconds on this question because I assumed that the easier questions would be a cakewalk, but in the future I will spend more time on even easy questions to assure that I'm not missing the \"trick\". "
   ]
  },
  {
   "cell_type": "markdown",
   "metadata": {},
   "source": [
    "### Question 10\n",
    "Directions: Select the choice that best fits each statement. The following question(s) refer to the following information\n",
    "\n",
    "Consider the following instance variable and methods. You may assume that data has been initialized with length > 0. The methods are intended to return the index of an array element equal to target, or -1 if no such element exists.\n",
    "\n",
    "![10](https://assets.learnosity.com/organisations/537/media.academicmerit.com/a6bf889b2fe003ec68b291c4bf3d7b3a/original.jpg)\n",
    "\n",
    "For which of the following test cases will the call seqSearchRec(5) *always* result in an error?\n",
    "\n",
    "I. data contains only one element.\n",
    "\n",
    "II. data does not contain the value 5.\n",
    "\n",
    "III. data contains the value 5 multiple times.\n",
    "\n",
    "A. I only\n",
    "\n",
    "**B. II only**\n",
    "\n",
    "C. III only\n",
    "\n",
    "D. I and II only\n",
    "\n",
    "E. I, II, and III"
   ]
  },
  {
   "cell_type": "markdown",
   "metadata": {},
   "source": [
    "### Correction\n",
    "I chose answer choice D because I missed the key word **always**. My original thought process was that the else statement would break if the data had a length of 0, but in retrospective I needed to consider the key word, since seqSearchRec(5) would actually work if the one element data contained was also 5. I spent a decent amount of time on this question, but I think I just need to read through the code a bit more thoroughly."
   ]
  },
  {
   "cell_type": "markdown",
   "metadata": {},
   "source": [
    "### Question 11\n",
    "Directions: Select the choice that best fits each statement. The following question(s) refer to the following information\n",
    "\n",
    "Consider the following instance variable and methods. You may assume that data has been initialized with length > 0. The methods are intended to return the index of an array element equal to target, or -1 if no such element exists.\n",
    "\n",
    "![11](https://assets.learnosity.com/organisations/537/media.academicmerit.com/a6bf889b2fe003ec68b291c4bf3d7b3a/original.jpg)\n",
    "\n",
    "Which of the following should be used to replace // Line 1 in seqSearchRecHelper so that seqSearchRec will work as intended?\n",
    "\n",
    "A.\n",
    "```\n",
    "if (last <= 0) {\n",
    "    return -1;\n",
    "}\n",
    "```\n",
    "**B.**\n",
    "```\n",
    "if (last < 0) {\n",
    "    return -1;\n",
    "}\n",
    "```\n",
    "C.\n",
    "```\n",
    "if (last < data.length) {\n",
    "    return -1;\n",
    "}\n",
    "```\n",
    "D.\n",
    "```\n",
    "while (last < data.length)\n",
    "```\n",
    "E.\n",
    "```\n",
    "while (last >= 0)\n",
    "```"
   ]
  },
  {
   "cell_type": "markdown",
   "metadata": {},
   "source": [
    "### Correction\n",
    "I selected answer choice A over B because of a minor mistake. My reasoning was that there needed to be some code to prevent an ArrayIndexOutOfBoundsException error when for when `last - 1`, but I just happened to click the wrong option. Option choice A does not actually work as intended if `last = 0`, since it would not return -1 if `last = 0`. Unfortunate ☹️"
   ]
  },
  {
   "cell_type": "markdown",
   "metadata": {},
   "source": [
    "### Question 15\n",
    "Consider the following method, isSorted, which is intended to return true if an array of integers is sorted in nondecreasing order and to return false otherwise.\n",
    "\n",
    "![15A](https://assets.learnosity.com/organisations/537/media.academicmerit.com/9ad4757b9e4a6d8dfb944bfeee34f602/original.jpg)\n",
    "\n",
    "Which of the following can be used to replace /* missing code */ so that isSorted will work as intended?\n",
    "\n",
    "![15B](https://assets.learnosity.com/organisations/537/media.academicmerit.com/43352e6beae0e7ebb9b15e352b32944a/original.jpg)\n",
    "\n",
    "**A. I only**\n",
    "\n",
    "B. II only\n",
    "\n",
    "C. III only\n",
    "\n",
    "D. I and II only\n",
    "\n",
    "E. I and III only"
   ]
  },
  {
   "cell_type": "markdown",
   "metadata": {},
   "source": [
    "### Correction\n",
    "I chose E, since I saw `I` as correct, but I didn't recognize how `III` returns true or false only based on the first two elements. This means that the 2nd element could be greater than the 1st element, but all other elements are decreasing and it would still return `true`. Option choice I is the code block that works since Option Choice II would have an ArrayIndexOutOfBoundsException."
   ]
  },
  {
   "cell_type": "markdown",
   "metadata": {},
   "source": [
    "### Question 16\n",
    "Consider the following incomplete method that is intended to return an array that contains the contents of its first array parameter followed by the contents of its second array parameter.\n",
    "\n",
    "![16](https://assets.learnosity.com/organisations/537/media.academicmerit.com/7fcd53f95a149d73a904e9a98c286dc7/original.jpg)\n",
    "\n",
    "Which of the following expressions can be used to replace /* index */ so that append will work as intended?\n",
    "\n",
    "A. j\n",
    "\n",
    "B. k\n",
    "\n",
    "C. k + a1.length - 1\n",
    "\n",
    "**D. k + a1.length**\n",
    "\n",
    "E. k + a1.length + 1"
   ]
  },
  {
   "cell_type": "markdown",
   "metadata": {},
   "source": [
    "### Correction\n",
    "I chose answer choice C because I rushed the question and I thought I would need to account for how the array is zero indexed, but I actually didn't need to given how it uses `a1.length`, NOT `a2.length`. I think this mistake can easily be remedied by taking more time, since I spent less than a minute on this question."
   ]
  },
  {
   "cell_type": "markdown",
   "metadata": {},
   "source": [
    "### Question 18\n",
    "Assume that myList is an ArrayList that has been correctly constructed and populated with objects. Which of the following expressions produces a valid random index for myList?\n",
    "\n",
    "A. (int) ( Math.random () * myList.size () ) - 1\n",
    "\n",
    "**B. (int) ( Math.random () * myList.size () )**\n",
    "\n",
    "C. (int) ( Math.random () * myList.size () ) + 1\n",
    "\n",
    "D. (int) ( Math.random () * (myList.size () + 1) )\n",
    "\n",
    "E. Math.random (myList.size () )"
   ]
  },
  {
   "cell_type": "markdown",
   "metadata": {},
   "source": [
    "### Correction\n",
    "This was by one of the trickiest questions in this practice test. I thought of the possibility of a ArrayIndexOutOfBoundsException if Math.random() returned 1 and therefore chose A, but I didn't account for how A would not run if Math.random() returned 0.\n",
    "\n",
    "B is correct because Math.random() actually includes 0 but is non inclusive for 1, which I didn't know at the time."
   ]
  },
  {
   "cell_type": "markdown",
   "metadata": {},
   "source": [
    "### Question 22\n",
    "Consider the following Book and AudioBook classes.\n",
    "\n",
    "![22A](https://assets.learnosity.com/organisations/537/media.academicmerit.com/c79fa4afed4476a54d785b4abdd5f148/original.jpg)\n",
    "\n",
    "![22B](https://assets.learnosity.com/organisations/537/media.academicmerit.com/c79fa4afed4476a54d785b4abdd5f148/original.jpg)\n",
    "\n",
    "Consider the following code segment that appears in a class other than Book or AudioBook.\n",
    "\n",
    "![22C](https://assets.learnosity.com/organisations/537/media.academicmerit.com/f5c00e60cd6b239265bcdcc10cd4aad8/original.jpg)\n",
    "\n",
    "Which of the following best explains why the code segment will not compile?\n",
    "\n",
    "A. Line 2 will not compile because variables of type Book may not refer to variables of type AudioBook.\n",
    "\n",
    "**B. Line 4 will not compile because variables of type Book may only call methods in the Book \n",
    "class.**\n",
    "\n",
    "C. Line 5 will not compile because the AudioBook class does not have a method named toString declared or implemented.\n",
    "\n",
    "D. Line 6 will not compile because the statement is ambiguous. The compiler cannot determine which length method should be called.\n",
    "\n",
    "E. Line 7 will not compile because the element at index 1 in the array named books may not have been initialized."
   ]
  },
  {
   "cell_type": "markdown",
   "metadata": {},
   "source": [
    "### Correction\n",
    "I suspected that answer choice C, which I selected, was incorrect because of how the AudioBook subclass would have inherited the toString method from the Book superclass, but I couldn't find a problem with any other questions so I just chose C.\n",
    "\n",
    "B is correct because the books array is declared of the type Book, so any methods that are used on elements of books must belong in Book. pagesPerMinute only exists in the AudioBook class, therefore there would be an error and typecasting (converting the value of a single data type into another data type) would be necessary."
   ]
  },
  {
   "cell_type": "markdown",
   "metadata": {},
   "source": [
    "### Question 23\n",
    "Consider the following instance variable and method.\n",
    "\n",
    "![23A](https://assets.learnosity.com/organisations/537/media.academicmerit.com/ed033b294ad1d99eb6ae4e37a1fe3cc9/original.jpg)\n",
    "\n",
    "Assume that animals has been instantiated and initialized with the following contents.\n",
    "\n",
    "![23B](https://assets.learnosity.com/organisations/537/media.academicmerit.com/2c59528130e496723cdbff5078e2f116/original.jpg)\n",
    "\n",
    "What will the contents of animals be as a result of calling manipulate?\n",
    "\n",
    "A. [\"baboon\", \"zebra\", \"bass\", \"cat\", \"bear\", \"koala\"]\n",
    "\n",
    "**B. [\"bear\", \"zebra\", \"bass\", \"cat\", \"koala\", \"baboon\"]**\n",
    "\n",
    "C. [\"baboon\", \"bear\", \"zebra\", \"bass\", \"cat\", \"koala\"]\n",
    "\n",
    "D. [\"bear\", \"baboon\", \"zebra\", \"bass\", \"cat\", \"koala\"]\n",
    "\n",
    "E. [\"zebra\", \"cat\", \"koala\", \"baboon\", \"bass\", \"bear\"]"
   ]
  },
  {
   "cell_type": "markdown",
   "metadata": {},
   "source": [
    "### Correction\n",
    "I chose A, because I wasn't being careful about how manipulate affects \"baboon\" twice, since if it is moved to the 2nd element, it will be accessed at the end as well and moved to the end given the new `k` value. This means that opton choice B is the correct answer."
   ]
  },
  {
   "cell_type": "markdown",
   "metadata": {},
   "source": [
    "### Question 30\n",
    "Consider the following method.\n",
    "\n",
    "![30](https://assets.learnosity.com/organisations/537/media.academicmerit.com/322e49e63a36e812d997ab61f4ccb08a/original.jpg)\n",
    "\n",
    "What value is returned as a result of the call scramble(\"compiler\", 3)?\n",
    "\n",
    "A. \"compiler\"\n",
    "\n",
    "B. \"pilercom\"\n",
    "\n",
    "C. \"ilercom\"\n",
    "\n",
    "D. \"ilercomp\"\n",
    "\n",
    "E. No value is returned because an IndexOutOfBoundsException will be thrown."
   ]
  },
  {
   "cell_type": "markdown",
   "metadata": {},
   "source": [
    "### Correction\n",
    "I misclicked 😭\n",
    "\n",
    "C is correct because the substring of `howFar + 1` to `word.length()` will go from the the 5th element to the last due to zero indexing of lists, and then substrin from `0` to `howFar` will return \"com\". "
   ]
  },
  {
   "cell_type": "markdown",
   "metadata": {},
   "source": [
    "### Question 35\n",
    "Consider the following code segment.\n",
    "\n",
    "![35](https://assets.learnosity.com/organisations/537/media.academicmerit.com/5c4fd296b6cab7c9d7bf8967009969e8/original.jpg)\n",
    "\n",
    "What is printed as a result of executing the code segment?\n",
    "\n",
    "A. 2\n",
    "\n",
    "B. 4\n",
    "\n",
    "C. 18\n",
    "\n",
    "D. 2574\n",
    "\n",
    "E. 4752"
   ]
  },
  {
   "cell_type": "markdown",
   "metadata": {},
   "source": [
    "### Correction\n",
    "I chose C because I didn't read the code too carefully and didn't see how result was constantly changing.\n",
    "\n",
    "1. result = 0 * 10 + 2574 % 10 = 4\n",
    "2. result = 4 * 10 + 257 % 10 = 47\n",
    "3. result = 47 * 10 + 25 % 10 = 475\n",
    "4. result = 475 * 10 + 2 % 10 = 4752\n",
    "\n",
    "Therefore the correct answer is E."
   ]
  },
  {
   "cell_type": "markdown",
   "metadata": {},
   "source": [
    "### Question 40\n",
    "Consider the following recursive method.\n",
    "\n",
    "![40](https://assets.learnosity.com/organisations/537/media.academicmerit.com/002673dc81c296f0f64de524352d075f/original.jpg)\n",
    "\n",
    "A. WATC, WAT, WA, W\n",
    "\n",
    "B. WATCH, WATC, WAT, WA\n",
    "\n",
    "C. W, WA, WAT, WATC\n",
    "\n",
    "D. W, WA, WAT, WATC, WATCH\n",
    "\n",
    "E. WATCH, WATC, WAT, WA, W, WA, WAT, WATC, WATCH"
   ]
  },
  {
   "cell_type": "markdown",
   "metadata": {},
   "source": [
    "### Correction\n",
    "I misclicked again 😭\n",
    "\n",
    "C is correct over D because for `temp`, the substring only goes from 0 to len - 1, meaning that it will exclude the last element."
   ]
  }
 ],
 "metadata": {
  "language_info": {
   "name": "python"
  }
 },
 "nbformat": 4,
 "nbformat_minor": 2
}
