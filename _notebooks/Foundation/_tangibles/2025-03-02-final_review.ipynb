{
 "cells": [
  {
   "cell_type": "markdown",
   "metadata": {},
   "source": [
    "---\n",
    "toc: False\n",
    "comments: True\n",
    "layout: post\n",
    "title: Trimester 2 Final Review\n",
    "description: This is my blog for my final review, where I show everything I've done throughout the trimester.\n",
    "courses: { csa: {week: 23} }\n",
    "---"
   ]
  },
  {
   "cell_type": "markdown",
   "metadata": {},
   "source": [
    "## 4-5 Things I Did:\n",
    "- Bathroom pass: created bathroom logging ([tinkle](https://github.com/nighthawkcoders/spring_2025/commit/e2f4e06fc5db15d3148f6ab54d4afd1923db16ce)) with a OneToOne relationship\n",
    "- Bathroom pass: This was scrapped, but I learned how to set up an [automated emailing system](https://github.com/nighthawkcoders/spring_2025/commit/da18e58be83efffe2e5f3c5abb0489b5c146671c) to bathroom approvalLinks with SpringBoot\n",
    "- Analytics: Side quest assigned by Aadit. I made analytics for individual bathroom usage data on the frontend paired with Eric's grading data. Unfortunately, I changed the formatting for the times a while ago and forgot to change the analytics page, so some of this is broken (**5 minute fix**)\n",
    "- Bathroom pass: "
   ]
  },
  {
   "cell_type": "markdown",
   "metadata": {},
   "source": [
    "## Planning/Documentation:\n",
    "- Here is a centralized place where most of the planning documents for bathroom pass were placed together: [Burndown list + all planning](https://github.com/CSA-Coders-2025/Planning-Repository-Issue-House-/issues/160)\n",
    "  - Scanner documentation\n",
    "  - Approval requests documentation\n",
    "  - UI documentation"
   ]
  }
 ],
 "metadata": {
  "language_info": {
   "name": "python"
  }
 },
 "nbformat": 4,
 "nbformat_minor": 2
}
