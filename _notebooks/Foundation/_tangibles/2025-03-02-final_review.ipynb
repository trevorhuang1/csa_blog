{
 "cells": [
  {
   "cell_type": "markdown",
   "metadata": {},
   "source": [
    "---\n",
    "toc: False\n",
    "comments: True\n",
    "layout: post\n",
    "title: Trimester 2 Final Review\n",
    "description: This is my blog for my final review, where I show everything I've done throughout the trimester.\n",
    "courses: { csa: {week: 23} }\n",
    "---"
   ]
  },
  {
   "cell_type": "markdown",
   "metadata": {},
   "source": [
    "## DOCSE: 4-5 Things I Did\n",
    "- Bathroom pass: created bathroom logging ([tinkle](https://github.com/nighthawkcoders/spring_2025/commit/e2f4e06fc5db15d3148f6ab54d4afd1923db16ce)) with a OneToOne relationship\n",
    "![OneToOne](https://github.com/user-attachments/assets/994b0cf8-62b0-4e15-8ba8-f4d08fbe24b7)\n",
    "- Bathroom pass: This was scrapped, but I learned how to set up an [automated emailing system](https://github.com/nighthawkcoders/spring_2025/commit/da18e58be83efffe2e5f3c5abb0489b5c146671c) to bathroom approvalLinks with SpringBoot\n",
    "![Automated Email](https://github.com/user-attachments/assets/36882fc4-faba-44f5-a4f4-e6d999cc10bb)\n",
    "- Analytics: Side quest assigned by Aadit. I made [analytics](https://github.com/nighthawkcoders/portfolio_2025/commit/205a8873176313a419ded82ec8d8bc50490dc4d0) for individual bathroom usage data on the frontend paired with Eric's grading data. Unfortunately, I changed the formatting for the times a while ago and forgot to change the analytics page, so some of this is broken (**5 minute fix**)\n",
    "![Analytics](https://github.com/user-attachments/assets/77235fb9-fc34-47c7-a0b1-7da2b3494f34)\n",
    "![BoxWhisker](https://github.com/user-attachments/assets/a0bb31f6-5e10-47ac-8085-fa21deea968f)\n",
    "- Bathroom pass: I made an [admin panel](https://github.com/nighthawkcoders/spring_2025/commit/ede322d90466983d222287f42e024d83b6bfbc6f#diff-d558f65322ee2d4b8b89cd24fd71e6453ed09c9e24e8619385b588164b71d841) with ThymeLeaf to show bathroom usage by person. It is functional and works well with scanner and digital bathroom pass, but as discussed with Mr. Mortensen, it still needs work. There are many parts that still need fine tuning to be actually useable for an administrator.\n",
    "![Tinkle View](https://github.com/user-attachments/assets/b496457a-2266-4a9a-a2a2-cf1512dc32b5)"
   ]
  },
  {
   "cell_type": "markdown",
   "metadata": {},
   "source": [
    "## Planning/Documentation:\n",
    "- Here is a centralized place where most of the planning documents for bathroom pass were placed together: [Burndown list + all planning](https://github.com/CSA-Coders-2025/Planning-Repository-Issue-House-/issues/160)\n",
    "  - Scanner documentation\n",
    "  - Approval requests documentation\n",
    "  - UI documentation"
   ]
  },
  {
   "cell_type": "markdown",
   "metadata": {},
   "source": [
    "## Analytics!!\n",
    "I've been doing my fair share, don't worry.\n",
    "Spring_2025:"
   ]
  },
  {
   "cell_type": "markdown",
   "metadata": {},
   "source": [
    "## N@TM\n",
    "![Presenting :)](https://github.com/user-attachments/assets/b2ac4fd9-2ff7-4cf2-8f51-83c4e86c4666)\n",
    "![Exploring with Ian and Jon](https://github.com/user-attachments/assets/9945fe5d-eb8f-4cbb-850e-bc16085eccaf)\n"
   ]
  },
  {
   "cell_type": "markdown",
   "metadata": {},
   "source": [
    "## Admin Panel Write Up:\n",
    "![DrawIO](https://github.com/user-attachments/assets/31b1e7d5-cafa-4a8b-89d0-966a9bdae937)\n",
    "- What does it do? The admin panel for bathroom pass (tinkle-view) allows for\n",
    "- When can it be used? It works with both scanner and digital hallpass. For both it can add times, but people do not show up in the table unless they interact with the bathroom pass.\n",
    "- Next steps forward (prior to N@TM):\n",
    "  - UI needs to be friendlier. Admin should not need to click so many times to get between approving students and viewing times. Mr. Mortensen suggested putting approval_requests and tinkle-view on the same page, and I agree.\n",
    "  - Backend shows that someone is in the bathroom, but doesn't say who. This should be shown so that admin can see."
   ]
  }
 ],
 "metadata": {
  "language_info": {
   "name": "python"
  }
 },
 "nbformat": 4,
 "nbformat_minor": 2
}
