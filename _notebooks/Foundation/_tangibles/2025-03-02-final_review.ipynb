{
 "cells": [
  {
   "cell_type": "markdown",
   "metadata": {},
   "source": [
    "---\n",
    "toc: False\n",
    "comments: True\n",
    "layout: post\n",
    "title: Trimester 2 Final Review\n",
    "description: This is my blog for my final review, where I show everything I've done throughout the trimester.\n",
    "courses: { csa: {week: 23} }\n",
    "---"
   ]
  },
  {
   "cell_type": "markdown",
   "metadata": {},
   "source": [
    "## DOCSE: 4-5 Things I Did\n",
    "- Bathroom pass: created bathroom logging ([tinkle](https://github.com/nighthawkcoders/spring_2025/commit/e2f4e06fc5db15d3148f6ab54d4afd1923db16ce)) with a OneToOne relationship\n",
    "![OneToOne](https://github.com/user-attachments/assets/994b0cf8-62b0-4e15-8ba8-f4d08fbe24b7)\n",
    "- Bathroom pass: This was scrapped, but I learned how to set up an [automated emailing system](https://github.com/nighthawkcoders/spring_2025/commit/da18e58be83efffe2e5f3c5abb0489b5c146671c) to bathroom approvalLinks with SpringBoot\n",
    "![Automated Email](https://github.com/user-attachments/assets/36882fc4-faba-44f5-a4f4-e6d999cc10bb)\n",
    "- Analytics: Side quest assigned by Aadit. I made [analytics](https://github.com/nighthawkcoders/portfolio_2025/commit/205a8873176313a419ded82ec8d8bc50490dc4d0) for individual bathroom usage data on the frontend paired with Eric's grading data. Unfortunately, I changed the formatting for the times a while ago and forgot to change the analytics page, so some of this is broken (**5 minute fix**)\n",
    "![Analytics](https://github.com/user-attachments/assets/77235fb9-fc34-47c7-a0b1-7da2b3494f34)\n",
    "![BoxWhisker](https://github.com/user-attachments/assets/a0bb31f6-5e10-47ac-8085-fa21deea968f)\n",
    "- Bathroom pass: I made an [admin panel](https://github.com/nighthawkcoders/spring_2025/commit/ede322d90466983d222287f42e024d83b6bfbc6f#diff-d558f65322ee2d4b8b89cd24fd71e6453ed09c9e24e8619385b588164b71d841) with ThymeLeaf to show bathroom usage by person. It is functional and works well with scanner and digital bathroom pass, but as discussed with Mr. Mortensen, it still needs work. There are many parts that still need fine tuning to be actually useable for an administrator.\n",
    "![Tinkle View](https://github.com/user-attachments/assets/b496457a-2266-4a9a-a2a2-cf1512dc32b5)"
   ]
  },
  {
   "cell_type": "markdown",
   "metadata": {},
   "source": [
    "## Planning/Documentation:\n",
    "- Here is a centralized place where most of the planning documents for bathroom pass were placed together: [Burndown list + all planning](https://github.com/CSA-Coders-2025/Planning-Repository-Issue-House-/issues/160)\n",
    "  - Scanner documentation\n",
    "  - Approval requests documentation\n",
    "  - UI documentation\n",
    "  \n",
    "![Planning](https://github.com/user-attachments/assets/11c78ef6-37ce-4dad-895d-264ae0a85a77)"
   ]
  },
  {
   "cell_type": "markdown",
   "metadata": {},
   "source": [
    "## Admin Panel Write Up:\n",
    "![DrawIO](https://github.com/user-attachments/assets/e417ef90-d421-4340-a109-c11d4670c4e3)\n",
    "\n",
    "The main point of this diagram is to show the relationships between scanner, digital bathroom pass, the database, and then my admin view.\n",
    "\n",
    "Breakdown:\n",
    "1. Student can be added to queue from scanner OR digital bathroom pass. This adds to the queue DB table\n",
    "2. Those in scanner can remove themselves from the queue if they please. The same applies for bathroom pass\n",
    "- Split (scanner or bathroom pass):\n",
    "    - Scanner: after user is finished, their time in/time out is added to the tinkle DB table\n",
    "    - Bathroom pass: user can be either approved or denied. If approved, they will be redirected to a hallpass page that can be shown to security. After they are done, their time in/time out is also added to the tinkle DB table.\n",
    "\n",
    "**After the tinkle DB table has been updated, the tinkle-view page on the backend is updated with the new entry.**"
   ]
  },
  {
   "cell_type": "markdown",
   "metadata": {},
   "source": [
    "## N@TM\n",
    "N@TM was a success! Bathroom pass was a very popular project, and many commented on how well digital bathroom pass, scanner, and admin view worked together. I received a lot of feedback, such as:\n",
    "- Grows:\n",
    "  - There is good integration between parts of our project. It is one coherent product\n",
    "  - Features look professional\n",
    "- Glows:\n",
    "  - Readability of time in/time out entries needs to be improved\n",
    "  - Increased accessability needed -- I should try putting the approve student and admin view on the same page\n",
    "  - Leaderboard/sort by time or # of occurences to find suspicious activity easily.\n",
    "\n",
    "I learned a lot from this feedback and I'm ready to implement these changes ASAP (probably a bit after finals week).\n",
    "\n",
    "![Presenting :)](https://github.com/user-attachments/assets/b2ac4fd9-2ff7-4cf2-8f51-83c4e86c4666)\n",
    "![Exploring with Ian and Jon](https://github.com/user-attachments/assets/9945fe5d-eb8f-4cbb-850e-bc16085eccaf)\n"
   ]
  },
  {
   "cell_type": "markdown",
   "metadata": {},
   "source": [
    "I met a student named Alex who is a CSSE student with an awesome project!! I really liked the game and found the production quality similar to even CSA gamify projects.\n",
    "\n",
    "<img src=\"https://github.com/user-attachments/assets/e8ff57dc-4839-4800-af99-d79adb7a96ab\" alt=\"Alex #1\" width=\"300\"/>\n",
    "<img src=\"https://github.com/user-attachments/assets/48300776-654d-41ae-b072-c4ffa4afc207\" alt=\"Alex #2\" width=\"300\"/>\n"
   ]
  },
  {
   "cell_type": "markdown",
   "metadata": {
    "vscode": {
     "languageId": "plaintext"
    }
   },
   "source": [
    "## College Board Work\n",
    "I had an error with college board, so I can't see my score unfortunately.\n",
    "![BRUH](https://github.com/user-attachments/assets/bacc777a-74e4-4e83-a580-8feefc4a766d)\n",
    "\n",
    "I found a work around by going over the test with someone who finished it and could show me the right answers. It looked like I got mostly everything correct, but there was a problem which I recognized I made a mistake on which I included in this [writeup](https://trevorhuang1.github.io/csa_blog/2025/03/04/mcq_frq_writeup_IPYNB_2_.html)."
   ]
  },
  {
   "cell_type": "markdown",
   "metadata": {},
   "source": [
    "## Reflection:\n",
    "This trimester, I learned both hard and soft skills in my work. Specifically, while I did learn a lot about Java (api, viewController, etc), I learned most about working with others.\n",
    "\n",
    "I was the only person in bathroom pass in period 1, so I had to make active efforts to reach out to my teammates whenever I could. I think that my collaboration with Lilian and Matthew was decently frequent but could have still been more often.\n",
    "\n",
    "Strengths:\n",
    "- Working and well integrated project\n",
    "- Communication (to an extent)\n",
    "- Learning to work well by myself, since in class I was doing things mostly solo\n",
    "\n",
    "Weaknesses:\n",
    "- Need to talk to my team on a day to day basis\n",
    "- Over breaks, I could have managed my time better to reduce stress"
   ]
  }
 ],
 "metadata": {
  "language_info": {
   "name": "python"
  }
 },
 "nbformat": 4,
 "nbformat_minor": 2
}
