{
 "cells": [
  {
   "cell_type": "markdown",
   "metadata": {},
   "source": [
    "---\n",
    "toc: False\n",
    "comments: True\n",
    "layout: post\n",
    "title: 2/7 Integration Review\n",
    "description: Diagrams for 2/7\n",
    "courses: { csa: {week: 14} }\n",
    "---"
   ]
  },
  {
   "cell_type": "markdown",
   "metadata": {},
   "source": [
    "~~~mermaid\n",
    "graph TD\n",
    "    subgraph Frontend\n",
    "        A1[Logged in user]\n",
    "        A2[Add to queue button]\n",
    "    end\n",
    "\n",
    "    subgraph API\n",
    "        B1[GET: /api/queue/all]\n",
    "        B2[POST: /api/queue/add]\n",
    "        B2a[POST: /api/approval/approveRequest]\n",
    "        B3[POST: /api/tinkle/add]\n",
    "        B2 --> B2a\n",
    "    end\n",
    "\n",
    "    subgraph Backend\n",
    "        C1[Average duration is calculated on admin view]\n",
    "        C1a[Updated backend admin view panel]\n",
    "        C2[Times go into the log within tinkle DB]\n",
    "        C3[Student can be approved on backend page]\n",
    "        C3a[POST: /api/queue/approve]\n",
    "        C1 --> C1a\n",
    "        C3 --> C3a\n",
    "    end\n",
    "\n",
    "    Frontend --> API\n",
    "    API --> Backend\n",
    "~~~"
   ]
  }
 ],
 "metadata": {
  "language_info": {
   "name": "python"
  }
 },
 "nbformat": 4,
 "nbformat_minor": 2
}
