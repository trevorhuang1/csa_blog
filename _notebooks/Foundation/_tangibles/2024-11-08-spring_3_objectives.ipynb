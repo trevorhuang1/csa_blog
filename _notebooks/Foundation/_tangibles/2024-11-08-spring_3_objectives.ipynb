{
 "cells": [
  {
   "cell_type": "raw",
   "metadata": {
    "vscode": {
     "languageId": "raw"
    }
   },
   "source": [
    "---\n",
    "toc: False\n",
    "comments: True\n",
    "layout: post\n",
    "title: Sprint 3 Objectives\n",
    "description: Recap of N@TM and my progress this trimester. I will be including individual contributions to project Tinkle Time.\n",
    "courses: { csa: {week: 11} }\n",
    "---"
   ]
  },
  {
   "cell_type": "markdown",
   "metadata": {},
   "source": [
    "## N@TM Quick Summary\n",
    "- Night at the Museum was fun! Many students and even parents showed interest in our bathroom pass project.\n",
    "- A handful of parents were software engineers, so we could explain the project in depth and what we did, such as the spring framework and many to many relationships in the database. \n",
    "![natm](https://github.com/user-attachments/assets/92fd0475-cab1-42ba-bf45-6cb80881cd58)"
   ]
  },
  {
   "cell_type": "markdown",
   "metadata": {},
   "source": [
    "## Feedback\n",
    "We received feedback from a variety of students, including those from CSSE, CSP, CSA, and even engineers. With a total of 15 responses, we have a lot of opinions that we can use to grow and change our project.\n",
    "\n",
    "![Chart](https://github.com/user-attachments/assets/9a94a411-c57b-470d-9a47-93f071f3e96f)\n",
    "\n",
    "- **From Rachit (CSA Alumni):**\n",
    "![Rachit](https://github.com/user-attachments/assets/a47dba97-150c-4a71-9db1-430890c43871)\n",
    "- This was a sentiment expressed by many. Integration of a common style across all features is necessary for our project, specifically the hall pass. Rachit also verbally mentioned how he wanted to see an easier, more intuitive way to manage students, since the admin panel was pretty rough at the time of our showcase.\n",
    "\n",
    "- **From Lara Banjac (CSSE Student):**\n",
    "![Lara](https://github.com/user-attachments/assets/f27cfc0a-acdf-42e5-b6e4-734b11a29f82)\n",
    "- Having a map or an visual way to see the bathrooms beforehand was something that our group had discussed prior to N@TM, but never had the time to finish. This idea will definitely be worked on in the future, since it would be nice to have a visual element to discern between bathrooms, especially if certain ones have much more issues than others."
   ]
  },
  {
   "cell_type": "markdown",
   "metadata": {},
   "source": [
    "## Project Progression Timeline (Start - Now)"
   ]
  },
  {
   "cell_type": "markdown",
   "metadata": {},
   "source": [
    "## Ideation:\n",
    "- This was a chart made for the entire project and how all of our features would work together. I think this was a solid foundation for our overall project integration because we knew what to keep in mind for other features when designing ours.\n",
    "![Flowchart](https://github.com/user-attachments/assets/90837018-b218-4f53-8d23-11e4fd2231e0)\n",
    "\n",
    "- I also decided to make a Canva design for my individual feature\n",
    "![Canva](https://github.com/user-attachments/assets/21dd23b1-9257-4646-85e4-de772e1f3668)\n",
    "\n",
    "The flowchart was altered several times during our sprint and was changed based on adjustments to our features. Mr. Mortensen's feedback was quite helpful to guide our project more toward analytics and we changed our plans accordingly."
   ]
  },
  {
   "cell_type": "markdown",
   "metadata": {
    "vscode": {
     "languageId": "raw"
    }
   },
   "source": [
    "## Feature Overview\n",
    "![Feature](https://github.com/user-attachments/assets/2acc7574-bde3-4056-b5f4-8d7ecf4d5726)\n",
    "![Database](https://github.com/user-attachments/assets/7136982f-57ef-4550-9dd2-75488652e5eb)\n"
   ]
  },
  {
   "cell_type": "markdown",
   "metadata": {},
   "source": [
    "## How it works\n",
    "At Del Norte, almost all teachers only want one student in their class to be in the bathroom at a time to prevent students from fooling around. That's where my bathroom queue comes in."
   ]
  },
  {
   "cell_type": "markdown",
   "metadata": {},
   "source": [
    "I was especially proud of this code that I made to add students to queue. I had to understand how data transfer objects work while also gaining familiarity with the lombok annotations for getters and setters.\n",
    "\n",
    "```java\n",
    "@RequestMapping(\"/api/queue\")\n",
    "public class QueueApiController {\n",
    "\n",
    "    @Autowired\n",
    "    private QueueJPARepository repository;\n",
    "\n",
    "    // DTO class for queue entries\n",
    "    @Getter\n",
    "    public static class QueueDto {\n",
    "        private String teacherName;\n",
    "        private String studentName;\n",
    "    }\n",
    "\n",
    "    @PostMapping(\"/add\")\n",
    "    public ResponseEntity<Object> addToQueue(@RequestBody QueueDto queueDto) {\n",
    "        // Check if a queue entry for the teacher already exists\n",
    "        Optional<BathroomQueue> existingQueue = repository.findByTeacherName(queueDto.getTeacherName());\n",
    "        if (existingQueue.isPresent()) {\n",
    "            existingQueue.get().addStudent(queueDto.getStudentName());\n",
    "            repository.save(existingQueue.get());\n",
    "        }\n",
    "        else {\n",
    "            BathroomQueue newQueue = new BathroomQueue(queueDto.getTeacherName(), queueDto.getStudentName());\n",
    "            repository.save(newQueue);\n",
    "        }\n",
    "        return new ResponseEntity<>(queueDto.getStudentName() + \" was added to \" + queueDto.getTeacherName(), HttpStatus.CREATED);\n",
    "    }\n",
    "}\n",
    "```"
   ]
  },
  {
   "cell_type": "markdown",
   "metadata": {},
   "source": [
    "## LIVE CODE DEMONSTRATION"
   ]
  },
  {
   "cell_type": "markdown",
   "metadata": {},
   "source": [
    "## Checklist format for Mr. Mortensen"
   ]
  },
  {
   "cell_type": "markdown",
   "metadata": {},
   "source": [
    "| **Assignment**                | **Points**    | **Grade** | **Evidence** |\n",
    "|-------------------------------|---------------|-----------|--------------|\n",
    "| Sprint 1-3 Review Ticket      | 3             |           |<a href=\"https://github.com/trevorhuang1/csa_blog/issues/7\">Sprint 1</a>, <a href=\"https://github.com/trevorhuang1/csa_blog/issues/10\">Sprint 2</a>              |\n",
    "| Sprint 3 Team Issue(s)/Plan   | 2             |           |![Flowchart](https://github.com/user-attachments/assets/90837018-b218-4f53-8d23-11e4fd2231e0), ![Canva](https://github.com/user-attachments/assets/21dd23b1-9257-4646-85e4-de772e1f3668)              |\n",
    "| Beginning-2-End Contribution  | 2             |           |              |\n",
    "| N@tM Team Presentation        | 2             |           |              |\n",
    "| Live Review Indi Demo         | 1             |           |              |\n",
    "| **Total**                     | 10            |           |              |"
   ]
  }
 ],
 "metadata": {
  "kernelspec": {
   "display_name": "Java",
   "language": "java",
   "name": "java"
  },
  "language_info": {
   "codemirror_mode": "java",
   "file_extension": ".jshell",
   "mimetype": "text/x-java-source",
   "name": "java",
   "pygments_lexer": "java",
   "version": "17.0.12+7-Ubuntu-1ubuntu222.04"
  }
 },
 "nbformat": 4,
 "nbformat_minor": 2
}
