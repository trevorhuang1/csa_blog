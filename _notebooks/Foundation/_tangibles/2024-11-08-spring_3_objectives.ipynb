{
 "cells": [
  {
   "cell_type": "raw",
   "metadata": {
    "vscode": {
     "languageId": "raw"
    }
   },
   "source": [
    "---\n",
    "toc: False\n",
    "comments: True\n",
    "layout: post\n",
    "title: Sprint 3 Objectives\n",
    "description: Recap of N@TM and my progress this trimester. I will be including individual contributions to project Tinkle Time.\n",
    "courses: { csa: {week: 11} }\n",
    "---"
   ]
  },
  {
   "cell_type": "markdown",
   "metadata": {},
   "source": [
    "## N@TM Quick Summary\n",
    "- Night at the Museum was fun! Many students and even parents showed interest in our bathroom pass project.\n",
    "- A handful of parents were software engineers, so we could explain the project in depth and what we did, such as the spring framework and many to many relationships in the database. \n",
    "![N@TM](https://files.catbox.moe/5lpcvn.jpg)"
   ]
  },
  {
   "cell_type": "markdown",
   "metadata": {},
   "source": [
    "## Feedback\n",
    "We received feedback from a variety of students, including those from CSSE, CSP, CSA, and even engineers. With a total of 15 responses, we have a lot of opinions that we can use to grow and change our project.\n",
    "\n",
    "![Chart](https://github.com/user-attachments/assets/9a94a411-c57b-470d-9a47-93f071f3e96f)\n",
    "\n",
    "- **From Rachit (CSA Alumni):**\n",
    "![Rachit](https://github.com/user-attachments/assets/a47dba97-150c-4a71-9db1-430890c43871)\n",
    "- This was a sentiment expressed by many. Integration of a common style across all features is necessary for our project, specifically the hall pass. Rachit also verbally mentioned how he wanted to see an easier, more intuitive way to manage students, since the admin panel was pretty rough at the time of our showcase.\n",
    "\n",
    "- **From Lara Banjac (CSSE Student):**\n",
    "![Lara](https://github.com/user-attachments/assets/f27cfc0a-acdf-42e5-b6e4-734b11a29f82)\n",
    "- Having a map or an visual way to see the bathrooms beforehand was something that our group had discussed prior to N@TM, but never had the time to finish. This idea will definitely be worked on in the future, since it would be nice to have a visual element to discern between bathrooms, especially if certain ones have much more issues than others."
   ]
  },
  {
   "cell_type": "markdown",
   "metadata": {},
   "source": [
    "## Project Progression Timeline (Start - Now)"
   ]
  },
  {
   "cell_type": "markdown",
   "metadata": {},
   "source": [
    "## Ideation:\n",
    "- This was a chart made for the entire project and how all of our features would work together. I think this was a solid foundation for our overall project integration because we knew what to keep in mind for other features when designing ours.\n",
    "![Flowchart](https://github.com/user-attachments/assets/90837018-b218-4f53-8d23-11e4fd2231e0)\n",
    "\n",
    "- I also decided to make a Canva design for my individual feature\n",
    "![Canva](https://github.com/user-attachments/assets/21dd23b1-9257-4646-85e4-de772e1f3668)"
   ]
  },
  {
   "cell_type": "markdown",
   "metadata": {},
   "source": [
    "## Feature Overview\n",
    "![Feature](https://github.com/user-attachments/assets/2acc7574-bde3-4056-b5f4-8d7ecf4d5726)\n",
    "![Database](https://github.com/user-attachments/assets/7136982f-57ef-4550-9dd2-75488652e5eb)\n"
   ]
  },
  {
   "cell_type": "code",
   "execution_count": 1,
   "metadata": {
    "vscode": {
     "languageId": "java"
    }
   },
   "outputs": [
    {
     "name": "stdout",
     "output_type": "stream",
     "text": [
      "5 7 8 11 19 \n"
     ]
    }
   ],
   "source": [
    "public void mystery(int[] data) {\n",
    "    for (int k = 0; k < data.length - 1; k++) {\n",
    "        data[k + 1] = data[k] + data[k + 1];\n",
    "    }\n",
    "}\n",
    "\n",
    "int[] values = {5, 2, 1, 3, 8};\n",
    "mystery(values);\n",
    "for (int v : values) {\n",
    "    System.out.print(v + \" \");\n",
    "}\n",
    "System.out.println();"
   ]
  }
 ],
 "metadata": {
  "kernelspec": {
   "display_name": "Java",
   "language": "java",
   "name": "java"
  },
  "language_info": {
   "codemirror_mode": "java",
   "file_extension": ".jshell",
   "mimetype": "text/x-java-source",
   "name": "Java",
   "pygments_lexer": "java",
   "version": "17.0.12+7-Ubuntu-1ubuntu222.04"
  }
 },
 "nbformat": 4,
 "nbformat_minor": 2
}
