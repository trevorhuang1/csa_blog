{
 "cells": [
  {
   "cell_type": "raw",
   "metadata": {
    "vscode": {
     "languageId": "raw"
    }
   },
   "source": [
    "---\n",
    "toc: False\n",
    "comments: True\n",
    "layout: post\n",
    "title: Unit 9 Summary\n",
    "description: A summary of the key concepts in Unit 9 of AP CSA\n",
    "courses: { csa: {week: 7} }\n",
    "permalink: /csa/sprint2/unit-9/\n",
    "menu: nav/CSA_Units/summary.html\n",
    "---"
   ]
  },
  {
   "cell_type": "markdown",
   "metadata": {},
   "source": [
    "## Overview: Inheritance (Weighted: 5-10%)\n",
    "- `Inheritance` is how a child class inherits a class from the superclass/parent class\n",
    "- Promotes a `hierarchical relationship` between classes "
   ]
  },
  {
   "cell_type": "markdown",
   "metadata": {},
   "source": [
    "## Superclass and Subclass\n",
    "- `Superclass`: the superclass provides common attributes and behaviors that it will pass down to the subclass.\n",
    "- `Subclass`: The subclass inherits from the superclass and can extend/modify features of the superclass."
   ]
  },
  {
   "cell_type": "markdown",
   "metadata": {},
   "source": [
    "## Syntax\n",
    "- The `extend` keyword is used to create a subclass\n",
    "```java\n",
    "public class Subclass extends Superclass {\n",
    "    // Subclass-specific fields and methods\n",
    "}\n",
    "```"
   ]
  },
  {
   "cell_type": "markdown",
   "metadata": {},
   "source": [
    "## Super()\n",
    "- Super() calls the constructor of the superclass inside the constructor of the subclass. This helps initialize the fields inherited it.\n",
    "- Super() must be the first statement called in the subclass constructor\n",
    "- Below is an example, where rectangle inherits name, length, and width from the parent class shape."
   ]
  },
  {
   "cell_type": "code",
   "execution_count": null,
   "metadata": {},
   "outputs": [],
   "source": [
    "public class Shape {\n",
    "    protected String name;\n",
    "    private int length;\n",
    "    private int width;\n",
    "\n",
    "    // Default constructor\n",
    "    public Shape() {\n",
    "        this.name = \"Shape\";\n",
    "        this.length = 10;\n",
    "        this.width = 5;\n",
    "    }\n",
    "\n",
    "    // Parameterized constructor\n",
    "    public Shape(String name, int length, int width) {\n",
    "        this.name = name;\n",
    "        this.length = length;\n",
    "        this.width = width;\n",
    "    }\n",
    "\n",
    "    // Getter methods\n",
    "    public String get_name() {\n",
    "        return this.name;\n",
    "    }\n",
    "\n",
    "    public int get_length() {\n",
    "        return this.length;\n",
    "    }\n",
    "\n",
    "    public int get_width() {\n",
    "        return this.width;\n",
    "    }\n",
    "\n",
    "    // Setter methods\n",
    "    public void set_name(String n) {\n",
    "        this.name = n;\n",
    "    }\n",
    "\n",
    "    public void set_length(int a) {\n",
    "        this.length = a;\n",
    "    }\n",
    "\n",
    "    public void set_width(int b) {\n",
    "        this.width = b;\n",
    "    }\n",
    "}\n",
    "\n",
    "public class Rectangle extends Shape {\n",
    "    public Rectangle() {\n",
    "        super();\n",
    "    }\n",
    "\n",
    "    public Rectangle(String name, int length, int width) {\n",
    "        super(name, length, width);\n",
    "    }\n",
    "\n",
    "\n",
    "}"
   ]
  },
  {
   "cell_type": "markdown",
   "metadata": {},
   "source": [
    "## College Board Practice!"
   ]
  },
  {
   "cell_type": "markdown",
   "metadata": {},
   "source": [
    "Assume that Base b = new Derived(); appears in a client program. What is the result of the call b.methodOne();?\n",
    "\n",
    "```java\n",
    "public class Base\n",
    "{\n",
    "    public void methodOne()\n",
    "    {\n",
    "        System.out.print(\"A\");\n",
    "        methodTwo();\n",
    "    }\n",
    "\n",
    "    public void methodTwo()\n",
    "    {\n",
    "        System.out.print(\"B\");\n",
    "    }\n",
    "}\n",
    "\n",
    "public class Derived extends Base\n",
    "{\n",
    "    public void methodOne()\n",
    "    {\n",
    "        super.methodOne();\n",
    "        System.out.print(\"C\");\n",
    "    }\n",
    "\n",
    "    public void methodTwo()\n",
    "    {\n",
    "        super.methodTwo();\n",
    "        System.out.print(\"D\");\n",
    "    }\n",
    "}\n",
    "```\n",
    "\n",
    "A. ABDC\n",
    "\n",
    "B. AB\n",
    "\n",
    "C. ABCD\n",
    "\n",
    "D. ABC\n",
    "\n",
    "<details>\n",
    "<summary>Click to reveal the answer</summary>\n",
    "\n",
    "The answer is A. Even though b is declared as type Base it is created as an object of the Derived class, so all methods to it will be resolved starting with the Derived class. So the methodOne() in Derived will be called. This method first calls super.methodOne so this will invoke the method in the superclass (which is Base). So next the methodOne in Base will execute. This prints the letter \"A\" and invokes this.methodTwo(). Since b is really a Derived object, we check there first to see if it has a methodTwo. It does, so execution continues in the Derived class methodTwo. This method invokes super.methodTwo. So this will invoke the method in the super class (Base) named methodTwo. This method prints the letter \"B\" and then returns. Next the execution returns from the call to the super.methodTwo and prints the letter \"D\". We return to the Base class methodOne and return from that to the Derived class methodOne and print the letter \"C\".\n",
    "\n",
    "</details>"
   ]
  }
 ],
 "metadata": {
  "kernelspec": {
   "display_name": "Java",
   "language": "java",
   "name": "java"
  },
  "language_info": {
   "name": "java"
  }
 },
 "nbformat": 4,
 "nbformat_minor": 2
}
