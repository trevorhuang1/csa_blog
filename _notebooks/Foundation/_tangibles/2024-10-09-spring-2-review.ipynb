{
 "cells": [
  {
   "cell_type": "raw",
   "metadata": {
    "vscode": {
     "languageId": "raw"
    }
   },
   "source": [
    "---\n",
    "toc: True\n",
    "comments: True\n",
    "layout: post\n",
    "title: Sprint 2 Review\n",
    "description: A comprehensive review of what I've learned in Sprint 2 of AP Computer Science A\n",
    "type: collab\n",
    "courses: { csa: {week: 7} }\n",
    "permalink: /csa/sprint2/intro/\n",
    "menu: nav/CSA_Units/summary.html\n",
    "---"
   ]
  },
  {
   "cell_type": "markdown",
   "metadata": {},
   "source": [
    "## Summaries of Units"
   ]
  }
 ],
 "metadata": {
  "language_info": {
   "name": "python"
  }
 },
 "nbformat": 4,
 "nbformat_minor": 2
}
