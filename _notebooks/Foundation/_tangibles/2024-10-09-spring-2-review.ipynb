{
 "cells": [
  {
   "cell_type": "raw",
   "metadata": {
    "vscode": {
     "languageId": "raw"
    }
   },
   "source": [
    "---\n",
    "toc: True\n",
    "comments: True\n",
    "layout: post\n",
    "title: Sprint 2 Review\n",
    "description: A comprehensive review of what I've learned in Sprint 2 of AP Computer Science A\n",
    "type: collab\n",
    "courses: { csa: {week: 7} }\n",
    "permalink: /csa/sprint2/intro/\n",
    "menu: nav/CSA_Units/summary.html\n",
    "---"
   ]
  },
  {
   "cell_type": "markdown",
   "metadata": {},
   "source": [
    "## Hello!\n",
    "My name is Trevor Huang, and I hope this guide finds you at the right time as you prepare for the AP Computer Science A exam or want to use it to help for PBL. Whether you're a student working through the concepts or just looking for a refresher, my goal is to make this journey a little easier. I've gone through the 10 units of AP CSA myself, and I've created this summary to help you understand the key topics, provide tips, and highlight important areas to focus on. I hope this guide can support you in mastering the material and feeling confident in your Java fundamentals!"
   ]
  },
  {
   "cell_type": "markdown",
   "metadata": {},
   "source": [
    "## General Structure of this Guide\n",
    "This blog is split into the intro, and then the 10 sections that are needed for the AP CSA exam. \n",
    "\n",
    "Every page will generally have the following:\n",
    "> Definition of key terms/concepts\n",
    "\n",
    "> Syntax for code\n",
    "\n",
    "> College board example question\n",
    "\n",
    "> Overall weighting of the section in regards to the test"
   ]
  },
  {
   "cell_type": "markdown",
   "metadata": {},
   "source": [
    "## Questions or Feedback?\n",
    "Java is challenging! Feel free to leave comments through utterances on sections where you might want to ask for help or provide feedback.\n",
    "\n",
    "Also, the AP exam goes through revisions each year, so let me know if this blog needs to be updated through the `CSA Slack` or just through my email `trevorhuangsd@gmail.com`."
   ]
  }
 ],
 "metadata": {
  "language_info": {
   "name": "python"
  }
 },
 "nbformat": 4,
 "nbformat_minor": 2
}
