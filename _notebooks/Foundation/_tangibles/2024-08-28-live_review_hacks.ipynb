{
 "cells": [
  {
   "cell_type": "raw",
   "metadata": {
    "vscode": {
     "languageId": "raw"
    }
   },
   "source": [
    "---\n",
    "toc: True\n",
    "comments: True\n",
    "layout: post\n",
    "title: Tools Hacks for 8/28\n",
    "description: This class will require you to make a Portfolio 2025 Web Site, a GitHub Account, a Slack Account, and as part of final exam will require you update your LinkedIn account.\n",
    "type: collab\n",
    "courses: { csa: {week: 0} }\n",
    "---"
   ]
  },
  {
   "cell_type": "markdown",
   "metadata": {},
   "source": [
    "## Tools Installation Hack (Summary)\n",
    "This was mostly review from CSP, so I'll make this summary brief. The files from github are placed on my local machine when I clone it, and I navigate to those files using the \"cd\" command to go within the repository.\n",
    "\n",
    "These files are updated to GitHub to by pushing the code\n",
    "\n",
    "My localhost link is http://127.0.0.1:4100/csa_blog, and only I can see what I do on localhost because it's locally. My website url is https://trevorhuang1.github.io/csa_blog/ and is unique to me."
   ]
  },
  {
   "cell_type": "markdown",
   "metadata": {},
   "source": [
    "## Tool Verification Hacks"
   ]
  }
 ],
 "metadata": {
  "kernelspec": {
   "display_name": "Bash",
   "language": "bash",
   "name": "bash"
  },
  "language_info": {
   "codemirror_mode": "shell",
   "file_extension": ".sh",
   "mimetype": "text/x-sh",
   "name": "bash"
  }
 },
 "nbformat": 4,
 "nbformat_minor": 2
}
