{
 "cells": [
  {
   "cell_type": "markdown",
   "metadata": {},
   "source": [
    "---\n",
    "toc: False\n",
    "comments: True\n",
    "layout: post\n",
    "title: PBL Review\n",
    "description: A review of my contributions to spring_2025 and portfolio_2025\n",
    "courses: { csa: {week: 13} }\n",
    "---"
   ]
  },
  {
   "cell_type": "markdown",
   "metadata": {},
   "source": [
    "## Work assignment by Aadit\n",
    "![Bug Bounty](https://github.com/user-attachments/assets/33792b9b-b173-4c02-aac8-e7ece8bb1a5b)\n",
    "\n",
    "I took up the bug bounty to fix up the grades analytics on frontend. I did bathroom analytics while I was at it.\n",
    "\n",
    "However, I was also involved with the [planning](https://github.com/CSA-Coders-2025/Planning-Repository-Issue-House-/issues/95) of scanner which I will be focusing on as per Srijan's instructions"
   ]
  },
  {
   "cell_type": "markdown",
   "metadata": {},
   "source": [
    "## What it looked like before\n",
    "![Bathroom before](https://github.com/user-attachments/assets/c8e64dfe-033d-40f4-a78b-917bd5e2e442)\n",
    "![Grades Before](https://github.com/user-attachments/assets/32e76b4a-d3a1-4254-9af3-ee15e91aa2b6)"
   ]
  },
  {
   "cell_type": "markdown",
   "metadata": {},
   "source": [
    "## What it looks like now\n",
    "![Analytics](https://github.com/user-attachments/assets/77235fb9-fc34-47c7-a0b1-7da2b3494f34)\n",
    "![BoxWhisker](https://github.com/user-attachments/assets/a0bb31f6-5e10-47ac-8085-fa21deea968f)"
   ]
  },
  {
   "cell_type": "markdown",
   "metadata": {},
   "source": [
    "## Github Analytics\n",
    "Portfolio_2025:\n",
    "![portfolio_2025](https://github.com/user-attachments/assets/f1b7a9d1-ce26-4ece-a231-f7b0f6ed89db)\n",
    "\n",
    "Spring_2025\n",
    "![spring_2025](https://github.com/user-attachments/assets/d10fae52-dcff-4980-ba0c-fec2cb06febf)"
   ]
  }
 ],
 "metadata": {
  "language_info": {
   "name": "python"
  }
 },
 "nbformat": 4,
 "nbformat_minor": 2
}
