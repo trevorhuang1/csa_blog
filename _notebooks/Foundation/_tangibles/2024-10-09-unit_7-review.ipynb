{
 "cells": [
  {
   "cell_type": "raw",
   "metadata": {
    "vscode": {
     "languageId": "raw"
    }
   },
   "source": [
    "---\n",
    "toc: False\n",
    "comments: True\n",
    "layout: post\n",
    "title: Unit 7 Summary\n",
    "description: A summary of the key concepts in Unit 7 of AP CSA\n",
    "courses: { csa: {week: 7} }\n",
    "permalink: /csa/sprint2/unit-7/\n",
    "menu: nav/CSA_Units/summary.html\n",
    "---"
   ]
  },
  {
   "cell_type": "markdown",
   "metadata": {},
   "source": [
    "## Overview: ArrayList (Weighted 2.5-7.5%)\n",
    "- `ArrayLists`: more flexible than arrays because the amount of information stored is variable\n",
    "- Size can be changed"
   ]
  },
  {
   "cell_type": "markdown",
   "metadata": {
    "vscode": {
     "languageId": "raw"
    }
   },
   "source": [
    "## Methods of ArrayLists\n",
    "- `.size()`: returns the length of the ArrayList as an integer\n",
    "- `.add(int index, element)`: Inserts the element at a specified index, and then shifts elements while increasing the size by 1\n",
    "- `.remove(int index)`: Removes the element at a specified index, and then shifts elements while decreasing the size by 1.\n",
    "- `.get(int index)`: retrieves the element at a specified index of the ArrayList\n",
    "- `.set(int index)`: replaces the element at a specified index with a different value"
   ]
  },
  {
   "cell_type": "markdown",
   "metadata": {},
   "source": [
    "## College Board Practice!\n",
    "\n",
    "> Easy\n",
    "\n",
    "Which index is the last element in a list called nums at?\n",
    "\n",
    "A. nums.length\n",
    "\n",
    "B. nums.length - 1\n",
    "\n",
    "C. nums.size()\n",
    "\n",
    "D. nums.size() - 1\n",
    "\n",
    "<details>\n",
    "<summary>Click to reveal the answer</summary>\n",
    "\n",
    "The answer is D because arrayLists use .size() and are zero indexed.\n",
    "\n",
    "</details>"
   ]
  },
  {
   "cell_type": "markdown",
   "metadata": {},
   "source": [
    "> Medium\n",
    "\n",
    "What is printed as a result of executing the following code segment?\n",
    "\n",
    "```java\n",
    "List<Integer> list1 = new ArrayList<Integer>();\n",
    "list1.add(new Integer(1));\n",
    "list1.add(new Integer(2));\n",
    "list1.add(new Integer(3));\n",
    "list1.set(2, new Integer(4));\n",
    "list1.add(2, new Integer(5));\n",
    "list1.add(new Integer(6));\n",
    "System.out.println(list1);\n",
    "```\n",
    "A. [1, 2, 3, 4, 5]\n",
    "\n",
    "B. [1, 2, 4, 5, 6]\n",
    "\n",
    "C. [1, 2, 5, 4, 6]\n",
    "\n",
    "D. [1, 5, 2, 4, 6]\n",
    "\n",
    "<details>\n",
    "<summary>Click to reveal the answer</summary>\n",
    "\n",
    "The correct answer is C.\n",
    "- [1, 2, 3]\n",
    "- [1, 2, 4]\n",
    "- [1, 2, 5, 4]\n",
    "- [1, 2, 5, 4, 6]\n",
    "\n",
    "</details>"
   ]
  },
  {
   "cell_type": "markdown",
   "metadata": {},
   "source": [
    "> Hard\n",
    "\n",
    "Assume that nums has been created as an ArrayList object and initially contains the following Integer values: [0, 0, 4, 2, 5, 0, 3, 0]. What will nums contain as a result of executing the following method numQuest?\n",
    "\n",
    "```java\n",
    "private List<Integer> nums;\n",
    "\n",
    "//precondition: nums.size() > 0\n",
    "//nums contains Integer objects\n",
    "public void numQuest() {\n",
    "   int k = 0;\n",
    "   Integer zero = new Integer(0);\n",
    "   while (k < nums.size())\n",
    "   {\n",
    "      if (nums.get(k).equals(zero))\n",
    "         nums.remove(k);\n",
    "      k++;\n",
    "   }\n",
    "}\n",
    "```\n",
    "\n",
    "A. [0, 0, 4, 2, 5, 0, 3, 0]\n",
    "\n",
    "B. [3, 5, 2, 4, 0, 0, 0, 0]\n",
    "\n",
    "C. [0, 0, 0, 0, 4, 2, 5, 3]\n",
    "\n",
    "D. [4, 2, 5, 3]\n",
    "\n",
    "E. [0, 4, 2, 5, 3]\n",
    "\n",
    "<details>\n",
    "<summary>Click to reveal the answer</summary>\n",
    "\n",
    "The correct answer is E. This code will loop through the array list and if the current value at the current index (k) is 0, it will remove it. When you remove a value from an array list, it moves all values to the right of that down one. So the first 0 will be deleted but the second one will not since k is incremented even if you remove something. You should only increment k if you didn't remove something and then you would remove all 0's from the list.\n",
    "\n",
    "</details>\n"
   ]
  }
 ],
 "metadata": {
  "language_info": {
   "name": "python"
  }
 },
 "nbformat": 4,
 "nbformat_minor": 2
}
