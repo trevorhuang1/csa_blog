{
 "cells": [
  {
   "cell_type": "raw",
   "metadata": {
    "vscode": {
     "languageId": "raw"
    }
   },
   "source": [
    "---\n",
    "toc: False\n",
    "comments: True\n",
    "layout: post\n",
    "title: Unit 7 Summary\n",
    "description: A summary of the key concepts in Unit 7 of AP CSA\n",
    "courses: { csa: {week: 7} }\n",
    "permalink: /csa/sprint2/unit-7/\n",
    "menu: nav/CSA_Units/summary.html\n",
    "---"
   ]
  },
  {
   "cell_type": "markdown",
   "metadata": {},
   "source": [
    "## Overview: ArrayList (Weighted 2.5-7.5%)"
   ]
  }
 ],
 "metadata": {
  "language_info": {
   "name": "python"
  }
 },
 "nbformat": 4,
 "nbformat_minor": 2
}
