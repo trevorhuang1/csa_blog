{
 "cells": [
  {
   "cell_type": "raw",
   "metadata": {
    "vscode": {
     "languageId": "raw"
    }
   },
   "source": [
    "---\n",
    "toc: False\n",
    "comments: True\n",
    "layout: post\n",
    "title: Unit 7 Summary\n",
    "description: A summary of the key concepts in Unit 7 of AP CSA\n",
    "courses: { csa: {week: 7} }\n",
    "permalink: /csa/sprint2/unit-7/\n",
    "menu: nav/CSA_Units/summary.html\n",
    "---"
   ]
  },
  {
   "cell_type": "markdown",
   "metadata": {},
   "source": [
    "## Overview: ArrayList (Weighted 2.5-7.5%)\n",
    "- `ArrayLists`: more flexible than arrays because the amount of information stored is variable\n",
    "- Size can be changed"
   ]
  },
  {
   "cell_type": "markdown",
   "metadata": {
    "vscode": {
     "languageId": "raw"
    }
   },
   "source": [
    "## Methods of ArrayLists\n",
    "- `.size()`: returns the length of the ArrayList as an integer\n",
    "- `.add(int index, element)`: Inserts the element at a specified index, and then shifts elements while increasing the size by 1\n",
    "- `.remove(int index)`: Removes the element at a specified index, and then shifts elements while decreasing the size by 1.\n",
    "- `.get(int index)`: retrieves the element at a specified index of the ArrayList\n",
    "- `.set(int index)`: replaces the element at a specified index with a different value"
   ]
  }
 ],
 "metadata": {
  "language_info": {
   "name": "python"
  }
 },
 "nbformat": 4,
 "nbformat_minor": 2
}
