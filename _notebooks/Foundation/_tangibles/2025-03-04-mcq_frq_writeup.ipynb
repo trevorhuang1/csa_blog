{
 "cells": [
  {
   "cell_type": "markdown",
   "metadata": {},
   "source": [
    "---\n",
    "toc: False\n",
    "comments: True\n",
    "layout: post\n",
    "title: MCQ and FRQ Corrections\n",
    "description: This is my blog for my final review, where I correct some MCQ and FRQ questions\n",
    "courses: { csa: {week: 23} }\n",
    "---"
   ]
  },
  {
   "cell_type": "markdown",
   "metadata": {},
   "source": [
    "## MCQ\n",
    "- For whatever reason, college board refuses to grade my MCQ which was completed\n",
    "![MCQ](https://github.com/user-attachments/assets/d8e2e3be-7eb7-48b9-96d8-8a7a5e710bfb)\n",
    "- As a result, I had to get the questions and answers from a friend, since I remember my answers from before."
   ]
  },
  {
   "cell_type": "markdown",
   "metadata": {},
   "source": [
    "## My score (memory could be off):  "
   ]
  }
 ],
 "metadata": {
  "language_info": {
   "name": "python"
  }
 },
 "nbformat": 4,
 "nbformat_minor": 2
}
