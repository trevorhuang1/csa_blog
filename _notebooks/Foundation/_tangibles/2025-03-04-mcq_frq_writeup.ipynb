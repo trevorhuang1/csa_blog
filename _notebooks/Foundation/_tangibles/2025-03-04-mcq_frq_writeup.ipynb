{
 "cells": [
  {
   "cell_type": "markdown",
   "metadata": {},
   "source": [
    "---\n",
    "toc: True\n",
    "comments: True\n",
    "layout: post\n",
    "title: MCQ and FRQ Corrections\n",
    "description: This is my blog for my final review, where I correct some MCQ and FRQ questions\n",
    "courses: { csa: {week: 23} }\n",
    "\n",
    "---"
   ]
  },
  {
   "cell_type": "markdown",
   "metadata": {},
   "source": [
    "## MCQ\n",
    "- For whatever reason, college board refuses to grade my MCQ which was completed\n",
    "![MCQ](https://github.com/user-attachments/assets/d8e2e3be-7eb7-48b9-96d8-8a7a5e710bfb)\n",
    "- As a result, I had to get the questions and answers from a friend, since I remember my answers from before.\n",
    "- No official score, but I remember a question that I got wrong, which I can go over."
   ]
  },
  {
   "cell_type": "markdown",
   "metadata": {},
   "source": [
    "![CB MCQ](https://github.com/user-attachments/assets/5dcd2cf1-d483-4068-95bd-33e97e8d0013)"
   ]
  },
  {
   "cell_type": "markdown",
   "metadata": {},
   "source": [
    "## Explanation\n",
    "I picked option choice C, which was wrong. I think I did some of the algebra wrong, so I need to take my steps more clearly.\n",
    "\n",
    "- First loop:\n",
    "  - Initializes a 5x5 board\n",
    "- Second loop:\n",
    "  - val = 0\n",
    "    - Skipped because it is not odd\n",
    "  - val = 1\n",
    "    - row = 1, col = 1\n",
    "    - X: (1,1), (2,0)\n",
    "  - val = 2\n",
    "    - Skipped because it is not odd\n",
    "  - val = 3\n",
    "    - row = 3, col = 3\n",
    "    - x: (3,3), (4,2)\n",
    "\n",
    "Therefore E is the correct answer."
   ]
  }
 ],
 "metadata": {
  "language_info": {
   "name": "python"
  }
 },
 "nbformat": 4,
 "nbformat_minor": 2
}
