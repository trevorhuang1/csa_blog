{
 "cells": [
  {
   "cell_type": "raw",
   "metadata": {
    "vscode": {
     "languageId": "raw"
    }
   },
   "source": [
    "---\n",
    "toc: False\n",
    "comments: True\n",
    "layout: post\n",
    "title: Unit 4 Summary\n",
    "description: A summary of the key concepts in Unit 4 of AP CSA\n",
    "courses: { csa: {week: 7} }\n",
    "permalink: /csa/sprint2/unit-4/\n",
    "menu: nav/CSA_Units/summary.html\n",
    "---"
   ]
  },
  {
   "cell_type": "markdown",
   "metadata": {},
   "source": [
    "## Overview: Iteration (Weighting: 17.5-22.5%):\n",
    "- `Iteration`: repeatedly executing a block of code until a condition is met\n",
    "- The AP exam will test while loops, do while loops, for loops, enhanced iteration, and also nested loops"
   ]
  },
  {
   "cell_type": "markdown",
   "metadata": {},
   "source": [
    "## While Loops\n",
    "- While loops run until the given condition is `false`\n",
    "```java\n",
    "int index = 0; // iterating value\n",
    "while (index < 5) { // condition, if this is false, the loop terminates\n",
    "    System.out.println(index); // body code\n",
    "    index++; // iterates the iterating value\n",
    "}\n",
    "```"
   ]
  },
  {
   "cell_type": "markdown",
   "metadata": {},
   "source": [
    "## Do While Loops\n",
    "- Do while loops run the block inside of the do {} statement once, then iterates through the loop\n",
    "- This means the code will run at least once\n",
    "```java\n",
    "int i = 0;\n",
    "do {\n",
    "    System.out.println(i);\n",
    "    i++;\n",
    "} while (i < 5);\n",
    "```"
   ]
  },
  {
   "cell_type": "markdown",
   "metadata": {},
   "source": [
    "## For Loops\n",
    "- Used for when you know in advance how many times the loop should run\n",
    "```java\n",
    "for (i = 0; i < 10; i++) {\n",
    "    System.out.println(i);\n",
    "}\n",
    "```"
   ]
  },
  {
   "cell_type": "markdown",
   "metadata": {},
   "source": [
    "## Enhanced For loops\n",
    "- Used for when you don't need the index of each element, and you just need to process them\n",
    "```java\n",
    "int[] numbers = {1, 2, 3, 4, 5};\n",
    "for (int num : numbers) {\n",
    "    System.out.println(num);\n",
    "}\n",
    "```"
   ]
  },
  {
   "cell_type": "markdown",
   "metadata": {
    "vscode": {
     "languageId": "raw"
    }
   },
   "source": [
    "## College Board Practice!"
   ]
  },
  {
   "cell_type": "markdown",
   "metadata": {},
   "source": [
    "Consider the following code segment."
   ]
  },
  {
   "cell_type": "code",
   "execution_count": null,
   "metadata": {},
   "outputs": [],
   "source": [
    "int count = 0, sum = 0;\n",
    "while (count <= 6)\n",
    "{\n",
    "    count++;\n",
    "    if (count % 2 == 0)\n",
    "    {\n",
    "        sum += count;\n",
    "    }\n",
    "}\n",
    "System.out.println(sum);"
   ]
  },
  {
   "cell_type": "markdown",
   "metadata": {},
   "source": [
    "Which of the following code segments will produce the same output as the code segment above?"
   ]
  },
  {
   "cell_type": "code",
   "execution_count": null,
   "metadata": {},
   "outputs": [],
   "source": [
    "I.  int sum = 0;\n",
    "    for(int count = 0; count <= 6; count++)\n",
    "    {\n",
    "        count++;\n",
    "        if (count % 2 == 0)\n",
    "        {\n",
    "             sum += count;\n",
    "        }\n",
    "    }\n",
    "    System.out.println(sum);\n",
    "\n",
    "II. int sum = 0;\n",
    "    for(int i = 0; i <= 6; i += 2)\n",
    "    {\n",
    "       sum += i;\n",
    "    }\n",
    "    System.out.println(sum);\n",
    "\n",
    "III. int sum = 0;\n",
    "     for(int j = 7; j > 1; j--)\n",
    "     {\n",
    "        if (j % 2 == 0)\n",
    "        {\n",
    "             sum += j;\n",
    "        }\n",
    "     }\n",
    "     System.out.println(sum);"
   ]
  },
  {
   "cell_type": "markdown",
   "metadata": {},
   "source": [
    "1. I and II only\n",
    "2. II and III only\n",
    "3. I and III only\n",
    "4. III only\n",
    "5. I, II, and III\n",
    "\n",
    "<details>\n",
    "<summary>Click to reveal the answer</summary>\n",
    "\n",
    "The answer choice is B because for II, the loop counter increments by 2’s making sure it visits only even numbers and III generates the same sum but backwards.\n",
    "\n",
    "</details>"
   ]
  }
 ],
 "metadata": {
  "kernelspec": {
   "display_name": "Java",
   "language": "java",
   "name": "java"
  },
  "language_info": {
   "name": "java"
  }
 },
 "nbformat": 4,
 "nbformat_minor": 2
}
