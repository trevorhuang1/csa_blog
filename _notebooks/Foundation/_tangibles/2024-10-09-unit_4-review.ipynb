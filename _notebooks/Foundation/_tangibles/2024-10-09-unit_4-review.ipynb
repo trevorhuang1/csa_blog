{
 "cells": [
  {
   "cell_type": "raw",
   "metadata": {
    "vscode": {
     "languageId": "raw"
    }
   },
   "source": [
    "---\n",
    "toc: False\n",
    "comments: True\n",
    "layout: post\n",
    "title: Unit 4 Summary\n",
    "description: A summary of the key concepts in Unit 4 of AP CSA\n",
    "courses: { csa: {week: 7} }\n",
    "permalink: /csa/sprint2/unit-4/\n",
    "menu: nav/CSA_Units/summary.html\n",
    "---"
   ]
  },
  {
   "cell_type": "markdown",
   "metadata": {},
   "source": [
    "## Overview: Iteration (Weighting: 17.5-22.5%):\n",
    "- `Iteration`: repeatedly executing a block of code until a condition is met\n",
    "- The AP exam will test while loops, do while loops, for loops, enhanced iteration, and also nested loops"
   ]
  },
  {
   "cell_type": "markdown",
   "metadata": {},
   "source": [
    "## While Loops\n",
    "- While loops run until the given condition is `false`\n",
    "```java\n",
    "int index = 0; // iterating value\n",
    "while (index < 5) { // condition, if this is false, the loop terminates\n",
    "    System.out.println(index); // body code\n",
    "    index++; // iterates the iterating value\n",
    "}\n",
    "```"
   ]
  },
  {
   "cell_type": "markdown",
   "metadata": {},
   "source": [
    "## Do While Loops\n",
    "- Do while loops run the block inside of the do {} statement once, then iterates through the loop\n",
    "- This means the code will run at least once\n",
    "```java\n",
    "int i = 0;\n",
    "do {\n",
    "    System.out.println(i);\n",
    "    i++;\n",
    "} while (i < 5);\n",
    "```"
   ]
  },
  {
   "cell_type": "markdown",
   "metadata": {},
   "source": [
    "## For Loops\n",
    "- Used for "
   ]
  }
 ],
 "metadata": {
  "language_info": {
   "name": "python"
  }
 },
 "nbformat": 4,
 "nbformat_minor": 2
}
