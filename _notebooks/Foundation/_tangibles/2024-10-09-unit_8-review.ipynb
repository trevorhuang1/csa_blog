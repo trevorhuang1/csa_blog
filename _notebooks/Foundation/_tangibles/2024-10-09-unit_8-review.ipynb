{
 "cells": [
  {
   "cell_type": "raw",
   "metadata": {
    "vscode": {
     "languageId": "raw"
    }
   },
   "source": [
    "---\n",
    "toc: False\n",
    "comments: True\n",
    "layout: post\n",
    "title: Unit 8 Summary\n",
    "description: A summary of the key concepts in Unit 8 of AP CSA\n",
    "courses: { csa: {week: 7} }\n",
    "permalink: /csa/sprint2/unit-8/\n",
    "menu: nav/CSA_Units/summary.html\n",
    "---"
   ]
  },
  {
   "cell_type": "markdown",
   "metadata": {},
   "source": [
    "## Overview: 2D Arrays (Weighted: 7.5-10%)\n",
    "- A 2D array is essentially an array inside of an array\n",
    "- It has rows and columns and is essentially a matrix"
   ]
  },
  {
   "cell_type": "markdown",
   "metadata": {},
   "source": [
    "## Initializing a 2D Array\n",
    "- 2D arrays have all elements at a value of 0 or null by default\n",
    "```java\n",
    "int[][] 2DArrayName = new datatype[# of rows][# of columns]\n",
    "```\n",
    "- However, 2D arrays can be initialized with values so that it does not need to be populated:\n",
    "```java\n",
    "int[][] grades = {\n",
    "    {90, 85, 88, 92}, \n",
    "    {75, 80, 78, 85},\n",
    "    {60, 65, 70, 75}\n",
    "};\n",
    "```"
   ]
  },
  {
   "cell_type": "markdown",
   "metadata": {},
   "source": [
    "## Traversing a 2D Array\n",
    "- To traverse a 2D array, a `nested for loop` is needed\n",
    "```java\n",
    "int[][] Array1 = {\n",
    "    {1, 2, 3}, \n",
    "    {4, 5, 6}, \n",
    "    {7, 8, 9}\n",
    "};\n",
    "//This loop goes through each of the 3 rows\n",
    "for (int i = 0; i < Array1.length; i++) {\n",
    "    // This loop goes over each element within the row\n",
    "    for (int j = 0; j < Array1[i].length; j++) {\n",
    "        System.out.println(Array1[i][j]);\n",
    "    }\n",
    "}\n",
    "```\n",
    "- Breaking it down:\n",
    "    - Array[0] is {1, 2, 3}\n",
    "    - Array[1] is {4, 5, 6}\n",
    "    - Array[2] is {7, 8 ,9}\n",
    "- When accessing the j element of the array[i] row, that iterates through the all of the columns within the selected array"
   ]
  },
  {
   "cell_type": "markdown",
   "metadata": {},
   "source": [
    "## College Board Practice!"
   ]
  },
  {
   "cell_type": "markdown",
   "metadata": {},
   "source": [
    "Given the following code segment, what is the value of sum after this code executes?\n",
    "\n",
    "```java\n",
    "int[][] matrix = { \n",
    "    {1,1,2,2},\n",
    "    {1,2,2,4},\n",
    "    {1,2,3,4},\n",
    "    {1,4,1,2}\n",
    "};\n",
    "\n",
    "int sum = 0;\n",
    "int col = matrix[0].length - 2;\n",
    "for (int row = 0; row < 4; row++)\n",
    "{\n",
    "   sum = sum + matrix[row][col];\n",
    "}\n",
    "```\n",
    "\n",
    "A. 4\n",
    "\n",
    "B. 8\n",
    "\n",
    "C. 9\n",
    "\n",
    "D. 12\n",
    "\n",
    "E. 10\n",
    "\n",
    "<details>\n",
    "<summary>Click to reveal the answer</summary>\n",
    "\n",
    "The answer is B. Since col is matrix[0].length - 2 it is 4 - 2 which is 2. This code will loop through all the rows and add all the numbers in the third column (index is 2) which is 2 + 2 + 3 + 1 which is 8.\n",
    "\n",
    "</details>\n"
   ]
  }
 ],
 "metadata": {
  "kernelspec": {
   "display_name": "Java",
   "language": "java",
   "name": "java"
  },
  "language_info": {
   "codemirror_mode": "java",
   "file_extension": ".jshell",
   "mimetype": "text/x-java-source",
   "name": "java",
   "pygments_lexer": "java",
   "version": "17.0.12+7-Ubuntu-1ubuntu222.04"
  }
 },
 "nbformat": 4,
 "nbformat_minor": 2
}
