{
 "cells": [
  {
   "cell_type": "raw",
   "metadata": {
    "vscode": {
     "languageId": "raw"
    }
   },
   "source": [
    "---\n",
    "toc: False\n",
    "comments: True\n",
    "layout: post\n",
    "title: Unit 3 Summary\n",
    "description: A summary of the key concepts in Unit 3 of AP CSA\n",
    "courses: { csa: {week: 7} }\n",
    "permalink: /csa/sprint2/unit-3/\n",
    "menu: nav/CSA_Units/summary.html\n",
    "---"
   ]
  },
  {
   "cell_type": "markdown",
   "metadata": {},
   "source": [
    "## Overview: Boolean Expressions (Weighting: 15-17.5%)\n",
    "- `Boolean`: The boolean type in Java can either be `true` or `false`\n",
    "- EX:\n",
    "    ```java\n",
    "    boolean amTired = true;\n",
    "    ```\n",
    "- `Applications`: Booleans used with `conditionals` and `logic gates` can also be applied to them\n",
    "- `Default value`: booleans are false by default\n",
    "- `Boolean expressions`: logical statements that evaluate to a boolean (true or false). This is often done when comparing values or using logic gate operators."
   ]
  },
  {
   "cell_type": "markdown",
   "metadata": {},
   "source": [
    "## College Board Practice!\n",
    "- This section is heavily weighted, and college board tries to be as confusing as possible with the amount of code\n",
    "- A strategy is to just read carefully and follow the code logic/evaluate in your head which allows for easy points most of the time."
   ]
  },
  {
   "cell_type": "markdown",
   "metadata": {},
   "source": [
    "Consider the following code segment."
   ]
  },
  {
   "cell_type": "code",
   "execution_count": null,
   "metadata": {},
   "outputs": [],
   "source": [
    "String message = new String(\"AP Practice\");\n",
    "String note = new String(\"AP Practice\");\n",
    "String memo = new String(\"memo\");\n",
    "int i = 5;\n",
    "\n",
    "if (message.equals(note) && !message.equals(\"memo\"))\n",
    "{\n",
    "    message = note;\n",
    "\n",
    "    if (message == note && message.length() > i)\n",
    "    {\n",
    "       i = 3;\n",
    "       memo = message.substring(i);\n",
    "    }\n",
    "}"
   ]
  },
  {
   "cell_type": "markdown",
   "metadata": {},
   "source": [
    "Which of the following expressions evaluate to true after the code segment above executes?\n",
    "\n",
    "1. message == note && message == memo\n",
    "2. message.equals(note) && message.equals(memo)\n",
    "3. message == note && memo.equals(“Practice”)\n",
    "4. message != note `||` message == memo\n",
    "5. message.equals(memo) `||` memo.equals(note)\n",
    "\n",
    "<details>\n",
    "<summary>Click to reveal the answer</summary>\n",
    "\n",
    "The answer choice is C because the only expression that evaluates to true is \n",
    "\n",
    "</details>"
   ]
  }
 ],
 "metadata": {
  "kernelspec": {
   "display_name": "Java",
   "language": "java",
   "name": "java"
  },
  "language_info": {
   "name": "java"
  }
 },
 "nbformat": 4,
 "nbformat_minor": 2
}
