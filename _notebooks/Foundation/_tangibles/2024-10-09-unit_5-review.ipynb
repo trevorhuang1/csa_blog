{
 "cells": [
  {
   "cell_type": "raw",
   "metadata": {
    "vscode": {
     "languageId": "raw"
    }
   },
   "source": [
    "---\n",
    "toc: False\n",
    "comments: True\n",
    "layout: post\n",
    "title: Unit 5 Summary\n",
    "description: A summary of the key concepts in Unit 5 of AP CSA\n",
    "courses: { csa: {week: 7} }\n",
    "permalink: /csa/sprint2/unit-5/\n",
    "menu: nav/CSA_Units/summary.html\n",
    "---"
   ]
  },
  {
   "cell_type": "markdown",
   "metadata": {},
   "source": [
    "## Overview: Writing Classes (Weighting: 5-7.5%)\n",
    "- `Classes`: classes are the \"blueprint\" for the objects to build upon\n",
    "- `Objects`: an object is an instance of a class, meaning that it is a instance with actual values assigned to the fields"
   ]
  },
  {
   "cell_type": "markdown",
   "metadata": {},
   "source": [
    "## Static Variables and Methods\n",
    "- `Static variables`: belong to the class itself, not any specific instance of a class. Static variables are shared across all instances of the class, meaning that all objects are changed when a static variable is changed.\n",
    "- `Static methods`: a method that can be called without creating an instance of the class and can be used to access and manipulate static variables."
   ]
  },
  {
   "cell_type": "markdown",
   "metadata": {},
   "source": [
    "## Types of Methods\n",
    "- `Accessor methods`: a getter method that allows other objects to obtain the value of instance variables or static variables.\n",
    "- `Mutator methods`: a method that modifies an object's state my changing the value of its fields or attributes."
   ]
  }
 ],
 "metadata": {
  "kernelspec": {
   "display_name": "Java",
   "language": "java",
   "name": "java"
  },
  "language_info": {
   "name": "java"
  }
 },
 "nbformat": 4,
 "nbformat_minor": 2
}
