{
 "cells": [
  {
   "cell_type": "raw",
   "metadata": {
    "vscode": {
     "languageId": "raw"
    }
   },
   "source": [
    "---\n",
    "toc: False\n",
    "comments: True\n",
    "layout: post\n",
    "title: Unit 5 Summary\n",
    "description: A summary of the key concepts in Unit 5 of AP CSA\n",
    "courses: { csa: {week: 7} }\n",
    "permalink: /csa/sprint2/unit-5/\n",
    "menu: nav/CSA_Units/summary.html\n",
    "---"
   ]
  },
  {
   "cell_type": "markdown",
   "metadata": {},
   "source": [
    "## Overview: Writing Classes (Weighting: 5-7.5%)\n",
    "- `Classes`: classes are the \"blueprint\" for the objects to build upon\n",
    "- `Objects`: an object is an instance of a class, meaning that it is a instance with actual values assigned to the fields"
   ]
  },
  {
   "cell_type": "markdown",
   "metadata": {},
   "source": [
    "## Static Variables and Methods\n",
    "- `Static variables`: belong to the class itself, not any specific instance of a class. Static variables are shared across all instances of the class, meaning that all objects are changed when a static variable is changed.\n",
    "- `Static methods`: a method that can be called without creating an instance of the class and can be used to access and manipulate static variables."
   ]
  },
  {
   "cell_type": "markdown",
   "metadata": {},
   "source": [
    "## Types of Methods\n",
    "- `Accessor methods`: a getter method that allows other objects to obtain the value of instance variables or static variables.\n",
    "- `Mutator methods`: a method that modifies an object's state my changing the value of its fields or attributes."
   ]
  },
  {
   "cell_type": "markdown",
   "metadata": {},
   "source": [
    "## College Board Practice!\n",
    "The Cat class below will contain two String attributes and one int attribute for name, color, and age; a constructor; and an adoptCat method. The adoptCat method is intended to be accessed outside the class."
   ]
  },
  {
   "cell_type": "code",
   "execution_count": null,
   "metadata": {},
   "outputs": [],
   "source": [
    "public class Cat\n",
    "{\n",
    "  /* missing code */\n",
    "}"
   ]
  },
  {
   "cell_type": "markdown",
   "metadata": {},
   "source": [
    "Which of the following replacements for /* missing code */ is the most appropriate\n",
    "implementation of the class?\n",
    "\n",
    "A. \n",
    "```java\n",
    "private String name;\n",
    "private String color;\n",
    "private int age;\n",
    "public Cat()\n",
    "{ /* implementation not shown */ }\n",
    "private void adoptCat(String n, String c, int a)\n",
    "{ /* implementation not shown */ }\n",
    "```\n",
    "\n",
    "B.\n",
    "```java\n",
    "public String name;\n",
    "public String color;\n",
    "public int age;\n",
    "private Cat()\n",
    "{ /* implementation not shown */ }\n",
    "private void adoptCat(String n, String c, int a)\n",
    "{ /* implementation not shown */ }\n",
    "```\n",
    "\n",
    "C.\n",
    "```java\n",
    "public String name;\n",
    "public String color;\n",
    "public int age;\n",
    "private Cat()\n",
    "{ /* implementation not shown */ }\n",
    "public void adoptCat(String n, String c, int a)\n",
    "{ /* implementation not shown */ }\n",
    "```\n",
    "\n",
    "D.\n",
    "```java\n",
    "private String name;\n",
    "private String color;\n",
    "private int age;\n",
    "public Cat()\n",
    "{ /* implementation not shown */ }\n",
    "public void adoptCat(String n, String c, int a)\n",
    "{ /* implementation not shown */ }\n",
    "```\n",
    "\n",
    "E.\n",
    "```java\n",
    "public String name;\n",
    "public String color;\n",
    "public int age;\n",
    "public Cat()\n",
    "{ /* implementation not shown */ }\n",
    "public void adoptCat(String n, String c, int a)\n",
    "{ /* implementation not shown */ }\n",
    "```"
   ]
  },
  {
   "cell_type": "markdown",
   "metadata": {},
   "source": [
    "<details>\n",
    "<summary>Click to reveal the answer</summary>\n",
    "\n",
    "The correct answer is D because the instance variables should be private, but the method and constructor should be public because `adoptCat` needs to be accessed outside of the class.\n",
    "\n",
    "</details>"
   ]
  }
 ],
 "metadata": {
  "kernelspec": {
   "display_name": "Java",
   "language": "java",
   "name": "java"
  },
  "language_info": {
   "name": "java"
  }
 },
 "nbformat": 4,
 "nbformat_minor": 2
}
