{
 "cells": [
  {
   "cell_type": "raw",
   "metadata": {
    "vscode": {
     "languageId": "raw"
    }
   },
   "source": [
    "---\n",
    "toc: False\n",
    "comments: True\n",
    "layout: post\n",
    "title: Unit 6 Summary\n",
    "description: A summary of the key concepts in Unit 6 of AP CSA\n",
    "courses: { csa: {week: 7} }\n",
    "permalink: /csa/sprint2/unit-6/\n",
    "menu: nav/CSA_Units/summary.html\n",
    "---"
   ]
  },
  {
   "cell_type": "markdown",
   "metadata": {},
   "source": [
    "## Overview: Arrays (Weighted: 10-15%)\n",
    "- `Arrays`: a data structure that allows for multiple values of the same type within the same variables\n",
    "- Arrays have a fixed size"
   ]
  },
  {
   "cell_type": "markdown",
   "metadata": {},
   "source": [
    "## Declaration\n",
    "- Defining the number of elements in the array:\n",
    "```java\n",
    "int [] nums = new int[5];\n",
    "```\n",
    "- OR arrays can be initialized with values\n",
    "```java\n",
    "int [] nums = {1, 2, 3, 4, 5};\n",
    "```"
   ]
  },
  {
   "cell_type": "markdown",
   "metadata": {},
   "source": [
    "## Accessing/Altering Arrays\n",
    "- The values of elements in the array can be changed:\n",
    "```java\n",
    "nums[1] = 55;\n",
    "```\n",
    "- Elements can be accessed in the same way:\n",
    "```\n",
    "int firstElement = nums[0];\n",
    "```"
   ]
  }
 ],
 "metadata": {
  "language_info": {
   "name": "python"
  }
 },
 "nbformat": 4,
 "nbformat_minor": 2
}
