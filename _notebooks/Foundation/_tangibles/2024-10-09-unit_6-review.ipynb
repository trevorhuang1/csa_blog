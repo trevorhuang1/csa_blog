{
 "cells": [
  {
   "cell_type": "raw",
   "metadata": {
    "vscode": {
     "languageId": "raw"
    }
   },
   "source": [
    "---\n",
    "toc: False\n",
    "comments: True\n",
    "layout: post\n",
    "title: Unit 6 Summary\n",
    "description: A summary of the key concepts in Unit 6 of AP CSA\n",
    "courses: { csa: {week: 7} }\n",
    "permalink: /csa/sprint2/unit-6/\n",
    "menu: nav/CSA_Units/summary.html\n",
    "---"
   ]
  },
  {
   "cell_type": "markdown",
   "metadata": {},
   "source": [
    "## Overview: Arrays (Weighted: 10-15%)\n",
    "- `Arrays`: a data structure that allows for multiple values of the same type within the same variables\n",
    "- Arrays have a fixed size"
   ]
  },
  {
   "cell_type": "markdown",
   "metadata": {},
   "source": [
    "## Declaration\n",
    "- Defining the number of elements in the array:\n",
    "```java\n",
    "int [] nums = new int[5];\n",
    "```\n",
    "- OR arrays can be initialized with values\n",
    "```java\n",
    "int [] nums = {1, 2, 3, 4, 5};\n",
    "```"
   ]
  },
  {
   "cell_type": "markdown",
   "metadata": {},
   "source": [
    "## Accessing/Altering Arrays\n",
    "- The values of elements in the array can be changed:\n",
    "```java\n",
    "nums[1] = 55;\n",
    "```\n",
    "- Elements can be accessed in the same way:\n",
    "```\n",
    "int firstElement = nums[0];\n",
    "```"
   ]
  },
  {
   "cell_type": "markdown",
   "metadata": {},
   "source": [
    "## College Board Practice!"
   ]
  },
  {
   "cell_type": "markdown",
   "metadata": {},
   "source": [
    "> Easy\n",
    "\n",
    "Which index is the last element in an array called nums at?\n",
    "\n",
    "A. nums.length\n",
    "\n",
    "B. nums.length - 1\n",
    "\n",
    "<details>\n",
    "<summary>Click to reveal the answer</summary>\n",
    "\n",
    "The answer is 2 because arrays in Java are zero indexed, so the index of the last element is the length - 1.\n",
    "\n",
    "</details>"
   ]
  },
  {
   "cell_type": "markdown",
   "metadata": {},
   "source": [
    "> Medium\n",
    "\n",
    "Which of the following statements is a valid conclusion. Assume that variable b is an array of k integers and that the following is true:\n",
    "\n",
    "```java\n",
    "b[0] != b[i] for all i from 1 to k-1\n",
    "```\n",
    "\n",
    "A. The value in b[0] does not occur anywhere else in the array\n",
    "\n",
    "B. Array b is sorted\n",
    "\n",
    "C. Array b is not sorted\n",
    "\n",
    "D. Array b contains no duplicates\n",
    "\n",
    "E. The value in b[0] is the smallest value in the array\n",
    "\n",
    "<details>\n",
    "<summary>Click to reveal the answer</summary>\n",
    "\n",
    "The correct answer is A. Since from the second element onward, there is no other value equal to b[0]. D is not correct because other elements could be duplicates.\n",
    "\n",
    "</details>"
   ]
  },
  {
   "cell_type": "markdown",
   "metadata": {},
   "source": [
    "> Hard\n",
    "\n",
    "Consider the following data field and incomplete method, partialSum, which is intended to return an integer array sum such that for all i, sum[i] is equal to arr[0] + arr[1] + ... + arr[i]. For instance, if arr contains the values {1, 4, 1, 3}, the array sum will contain the values {1, 5, 6, 9}. Which of the following is true about the two implementations of missing code on line 9 that are proposed?\n",
    "\n",
    "```java\n",
    "private int[] arr;\n",
    "\n",
    "public int[] partialSum()\n",
    "{\n",
    "   int[] sum = new int[arr.length];\n",
    "\n",
    "   for (int j = 0; j < sum.length; j++)\n",
    "      sum[j] = 0;\n",
    "\n",
    "   /* missing code */\n",
    "   return sum;\n",
    "}\n",
    "```\n",
    "\n",
    "Implementation 1\n",
    "```java\n",
    "for (int j = 0; j < arr.length; j++)\n",
    "    sum[j] = sum[j - 1] + arr[j];\n",
    "```\n",
    "\n",
    "Implementation 2\n",
    "```java\n",
    "for (int j = 0; j < arr.length; j++)\n",
    "   for (int k = 0; k <= j; k++)\n",
    "      sum[j] = sum [j] + arr[k];\n",
    "```\n",
    "\n",
    "A. Both implementations work as intended and are equally fast.\n",
    "\n",
    "B. Both implementations work as intended, but implementation 1 is faster than implementation 2.\n",
    "\n",
    "C. Both implementations work as intended, but implementation 2 is faster than implementation 1.\n",
    "\n",
    "D. Implementation 1 does not work as intended, because it will cause an ArrayIndexOutOfBoundsException.\n",
    "\n",
    "E. Implementation 2 does not work as intended, because it will cause an ArrayIndexOutOfBoundsException.\n",
    "\n",
    "<details>\n",
    "<summary>Click to reveal the answer</summary>\n",
    "\n",
    "Implementation 1 doesn't work and will cause an ArrayIndexOutOfBoundsException because when j is 0, sum[j-1] will be sum[-1] which will cause an ArrayIndexOutOfBoundsException. This means that D is the best answer.\n",
    "\n",
    "</details>"
   ]
  }
 ],
 "metadata": {
  "language_info": {
   "name": "python"
  }
 },
 "nbformat": 4,
 "nbformat_minor": 2
}
