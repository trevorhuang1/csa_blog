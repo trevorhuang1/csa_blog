{
 "cells": [
  {
   "cell_type": "markdown",
   "metadata": {},
   "source": [
    "---\n",
    "layout: post\n",
    "title: How to Make Friends\n",
    "description: If you want to learn how to make friends\n",
    "categories: ['Collaboration']\n",
    "courses: {'csse': {'week': 0}, 'csp': {'week': 0}, 'csa': {'week': 3}}\n",
    "type: collab\n",
    "toc: True\n",
    "---\n"
   ]
  },
  {
   "cell_type": "code",
   "execution_count": 1,
   "metadata": {},
   "outputs": [
    {
     "data": {
      "text/html": [
       "\n",
       "<h2>How to Make Friends</h2>\n",
       "<div>\n",
       "    <p>In order to make friends, one must first create an html button with javascript so that they can create people that they can befriend later on.</p>\n",
       "    <br>\n",
       "    <button class='button-30' onclick=\"makefriend()\">Click Here To Make Friend</button>\n",
       "</div>\n",
       "\n",
       "<div>\n",
       "<a href=\"https://www.wikihow.com/Make-Friends\">Some more links to make friends <span>👍</span></a>\n",
       "<a href=\"https://www.youtube.com/watch?v=PL3Odw-k8W4\">Anyone who can do cool scss effects can easily make friends</a>\n",
       "\n",
       "<p>Thanks to this awesome blog page you should be able to make as many friends as you need</p>\n",
       "</div>\n",
       "\n",
       "<script>\n",
       "    function makefriend()\n",
       "    {\n",
       "        alert(\"404 Not Found Error, Cannot find friend\")\n",
       "    }\n",
       "</script>\n"
      ],
      "text/plain": [
       "<IPython.core.display.HTML object>"
      ]
     },
     "metadata": {},
     "output_type": "display_data"
    }
   ],
   "source": [
    "%%html\n",
    "\n",
    "<h2>How to Make Friends</h2>\n",
    "<div>\n",
    "    <p>In order to make friends, one must first create an html button with javascript so that they can create people that they can befriend later on.</p>\n",
    "    <br>\n",
    "    <button class='button-30' onclick=\"makefriend()\">Click Here To Make Friend</button>\n",
    "</div>\n",
    "\n",
    "<div>\n",
    "<a href=\"https://www.wikihow.com/Make-Friends\">Some more links to make friends <span>👍</span></a>\n",
    "<a href=\"https://www.youtube.com/watch?v=PL3Odw-k8W4\">Anyone who can do cool scss effects can easily make friends</a>\n",
    "\n",
    "<p>Thanks to this awesome blog page you should be able to make as many friends as you need</p>\n",
    "</div>\n",
    "\n",
    "<script>\n",
    "    function makefriend()\n",
    "    {\n",
    "        alert(\"404 Not Found Error, Cannot find friend\")\n",
    "    }\n",
    "</script>"
   ]
  }
 ],
 "metadata": {
  "kernelspec": {
   "display_name": "Python 3",
   "language": "python",
   "name": "python3"
  },
  "language_info": {
   "codemirror_mode": {
    "name": "ipython",
    "version": 3
   },
   "file_extension": ".py",
   "mimetype": "text/x-python",
   "name": "python",
   "nbconvert_exporter": "python",
   "pygments_lexer": "ipython3",
   "version": "3.10.12"
  }
 },
 "nbformat": 4,
 "nbformat_minor": 2
}
