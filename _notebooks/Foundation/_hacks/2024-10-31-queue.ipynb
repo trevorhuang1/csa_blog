{
 "cells": [
  {
   "cell_type": "markdown",
   "metadata": {},
   "source": [
    "---\n",
    "toc: False\n",
    "comments: True\n",
    "layout: post\n",
    "title: Tinkle Time Queue\n",
    "description: Ideation and testing for the queuing system I will be doing on the tinkle time backend.\n",
    "courses: { csa: {week: 10} }\n",
    "permalink: /queue\n",
    "---"
   ]
  },
  {
   "cell_type": "code",
   "execution_count": 2,
   "metadata": {},
   "outputs": [
    {
     "name": "stdout",
     "output_type": "stream",
     "text": [
      "queue: [1, 2, 3]\n",
      "1\n",
      "1\n",
      "2\n",
      "2\n",
      "3\n",
      "3\n",
      "queue: []\n"
     ]
    }
   ],
   "source": [
    "import java.util.*;\n",
    "\n",
    "public class Queuing {\n",
    "    public static void main(String[] args) {\n",
    "        Queue<Integer> q = new LinkedList<>();\n",
    "        q.add(1);\n",
    "        q.add(2);\n",
    "        q.add(3);\n",
    "        System.out.println(\"queue: \" + q);\n",
    "        System.out.println(q.peek());\n",
    "        System.out.println(q.poll());\n",
    "        System.out.println(q.peek());\n",
    "        System.out.println(q.poll());\n",
    "        System.out.println(q.peek());\n",
    "        System.out.println(q.poll());\n",
    "        System.out.println(\"queue: \" + q);\n",
    "    }\n",
    "}\n",
    "\n",
    "Queuing.main(null);"
   ]
  },
  {
   "cell_type": "code",
   "execution_count": 16,
   "metadata": {},
   "outputs": [
    {
     "name": "stdout",
     "output_type": "stream",
     "text": [
      "Trevor Matthew Aashray Lilian Tara \n",
      "Trevor\n",
      "[Matthew, Aashray, Lilian, Tara]"
     ]
    }
   ],
   "source": [
    "public class BathroomQueue {\n",
    "    public static void main(String[] args) {\n",
    "        Queue<String> people = new LinkedList();\n",
    "        people.add(\"Trevor\");\n",
    "        people.add(\"Matthew\");\n",
    "        people.add(\"Aashray\");\n",
    "        people.add(\"Lilian\");\n",
    "        people.add(\"Tara\");\n",
    "\n",
    "        Iterator iterator = people.iterator();\n",
    "        while (iterator.hasNext()) {\n",
    "            System.out.print(iterator.next() + \" \");\n",
    "        }\n",
    "        System.out.println();\n",
    "        System.out.println(people.poll());\n",
    "        System.out.print(people);\n",
    "    }\n",
    "}\n",
    "\n",
    "BathroomQueue.main(null);"
   ]
  }
 ],
 "metadata": {
  "kernelspec": {
   "display_name": "Java",
   "language": "java",
   "name": "java"
  },
  "language_info": {
   "codemirror_mode": "java",
   "file_extension": ".jshell",
   "mimetype": "text/x-java-source",
   "name": "java",
   "pygments_lexer": "java",
   "version": "17.0.12+7-Ubuntu-1ubuntu222.04"
  }
 },
 "nbformat": 4,
 "nbformat_minor": 2
}
