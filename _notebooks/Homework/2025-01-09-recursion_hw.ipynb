{
 "cells": [
  {
   "cell_type": "markdown",
   "metadata": {},
   "source": [
    "---\n",
    "layout: post\n",
    "toc: True\n",
    "title: Recursion Homework\n",
    "description: Due at the end of class 1/9\n",
    "courses: {'csa': {'week': 17}}\n",
    "type: collab\n",
    "categories: [AP CSA]\n",
    "---"
   ]
  },
  {
   "cell_type": "markdown",
   "metadata": {},
   "source": [
    "## Part A: Count Ways to Climb Stairs"
   ]
  },
  {
   "cell_type": "code",
   "execution_count": 1,
   "metadata": {},
   "outputs": [
    {
     "data": {
      "text/plain": [
       "5"
      ]
     },
     "execution_count": 1,
     "metadata": {},
     "output_type": "execute_result"
    }
   ],
   "source": [
    "public int countWays(int n) {\n",
    "    // Base case #1: If there are no stairs to climb, then there are no ways to climb them\n",
    "    if (n < 0) {\n",
    "        return 0;\n",
    "    }\n",
    "    // Base case #2: If there is only step, then there is only one way to climb the stairs\n",
    "    if (n == 0) {\n",
    "        return 1;\n",
    "    }\n",
    "    // Recursive call for when we decide to take 1 or 2 steps\n",
    "    return countWays(n - 1) + countWays(n - 2);\n",
    "}\n",
    "\n",
    "countWays(4); //Should return 5"
   ]
  },
  {
   "cell_type": "markdown",
   "metadata": {},
   "source": [
    "## Explanation (I'll do a better one for part B):\n",
    "- countWays(4) = countWays(3) + countWays(2) // 3 + 2\n",
    "- countWays(3) = countWays(2) + countWays(1) // 2 + 1\n",
    "- countWays(2) = countWays(1) + countWays(0) // 1 + 1\n",
    "- countWays(1) = countWays(0) + countWays(−1) // 1 + 0"
   ]
  },
  {
   "cell_type": "markdown",
   "metadata": {},
   "source": [
    "## Part B: Trace Recursive Calls\n",
    "Trace the recursive calls for the method countWays with input 3. Show how the recursion reaches the base case and unwinds."
   ]
  },
  {
   "cell_type": "markdown",
   "metadata": {},
   "source": [
    "- countWays(3) = countWays(2) + countWays(1)\n",
    "- countWays(2) = countWays(1) + countWays(0)\n",
    "- countWays(1) = countWays(0) + countWays(-1)\n",
    "\n",
    "Now, we have unwinded until we have reached out base cases, which are countWays(0) and countWays(-1). We work back up and find countWays(3) from here.\n",
    "\n",
    "- countWays(1) = countWays(0) + countWays(-1) = 1 + 0 = 1\n",
    "- countWays(2) = countWays(1) + countWays(0) = 1 + 1 = 2\n",
    "- countWays(3) = countWays(2) + countWays(1) = 2 + 1 = 3\n",
    "\n",
    "By tracing the recursive calls, we can see that countWays(3) has a value of 3. This means that there are three different ways to climb a staircase with 3 steps.\n",
    "\n",
    "Double checking:\n",
    "1. 1 + 1 + 1\n",
    "2. 2 + 1\n",
    "3. 1 + 2"
   ]
  },
  {
   "cell_type": "markdown",
   "metadata": {},
   "source": [
    "## Part C: Modify for Variable Steps\n",
    "Write a method countWaysVariableSteps that calculates the total number of ways the person can climb a staircase with n steps using the allowed step sizes."
   ]
  },
  {
   "cell_type": "code",
   "execution_count": 2,
   "metadata": {},
   "outputs": [
    {
     "data": {
      "text/plain": [
       "5"
      ]
     },
     "execution_count": 2,
     "metadata": {},
     "output_type": "execute_result"
    }
   ],
   "source": [
    "public int countWaysVariableSteps(int n, int[] steps) {\n",
    "    // Base case #1: If there are no stairs to climb, then there are no ways to climb them\n",
    "    if (n < 0) {\n",
    "        return 0;\n",
    "    }\n",
    "    // Base case #2: If there is only one step, then there is only one way to climb the stairs\n",
    "    if (n == 0) {\n",
    "        return 1;\n",
    "    }\n",
    "\n",
    "    int totalWays = 0;\n",
    "    // Recursive call for how many steps we can use climb the stairs\n",
    "    for (int step : steps) {\n",
    "        totalWays += countWaysVariableSteps(n - step, steps);\n",
    "    }\n",
    "    return totalWays;\n",
    "}\n",
    "\n",
    "int[] steps = {1, 3, 5};\n",
    "countWaysVariableSteps(5, steps) // Should return 5\n"
   ]
  },
  {
   "cell_type": "markdown",
   "metadata": {},
   "source": [
    "## Explanation (better this time):\n",
    "- countWaysVariableSteps(5, {1, 3, 5}) = countWaysVariableSteps(4, {1, 3, 5}) + countWaysVariableSteps(2, {1, 3, 5}) + countWaysVariableSteps(0, {1, 3, 5})\n",
    "- countWaysVariableSteps(4, {1, 3, 5}) = countWaysVariableSteps(3, {1, 3, 5}) + countWaysVariableSteps(1, {1, 3, 5}) + countWaysVariableSteps(-1, {1, 3, 5})\n",
    "- countWaysVariableSteps(3, {1, 3, 5}) = countWaysVariableSteps(2, {1, 3, 5}) + countWaysVariableSteps(0, {1, 3, 5}) + countWaysVariableSteps(-2, {1, 3, 5})\n",
    "- countWaysVariableSteps(2, {1, 3, 5}) = countWaysVariableSteps(1, {1, 3, 5}) + countWaysVariableSteps(-1, {1, 3, 5}) + countWaysVariableSteps(-3, {1, 3, 5})\n",
    "- countWaysVariableSteps(1, {1, 3, 5}) = countWaysVariableSteps(0, {1, 3, 5}) + countWaysVariableSteps(-2, {1, 3, 5}) + countWaysVariableSteps(-4, {1, 3, 5})\n",
    "\n",
    "Now, we have unwound the recursion until we have reached the base cases: \n",
    "- Base Case #1: countWaysVariableSteps(0, {1, 3, 5}) = 1 (1 way to stay where you are)\n",
    "- Base Case #2: countWaysVariableSteps(n, {1, 3, 5}) = 0 for any n < 0 (no valid ways)\n",
    "\n",
    "We work back up:\n",
    "\n",
    "- countWaysVariableSteps(1, {1, 3, 5}) = countWaysVariableSteps(0, {1, 3, 5}) + countWaysVariableSteps(-2, {1, 3, 5}) + countWaysVariableSteps(-4, {1, 3, 5}) = 1 + 0 + 0 = 1\n",
    "- countWaysVariableSteps(2, {1, 3, 5}) = countWaysVariableSteps(1, {1, 3, 5}) + countWaysVariableSteps(-1, {1, 3, 5}) + countWaysVariableSteps(-3, {1, 3, 5}) = 1 + 0 + 0 = 1\n",
    "- countWaysVariableSteps(3, {1, 3, 5}) = countWaysVariableSteps(2, {1, 3, 5}) + countWaysVariableSteps(0, {1, 3, 5}) + countWaysVariableSteps(-2, {1, 3, 5}) = 1 + 1 + 0 = 2\n",
    "- countWaysVariableSteps(4, {1, 3, 5}) = countWaysVariableSteps(3, {1, 3, 5}) + countWaysVariableSteps(1, {1, 3, 5}) + countWaysVariableSteps(-1, {1, 3, 5}) = 2 + 1 + 0 = 3\n",
    "- countWaysVariableSteps(5, {1, 3, 5}) = countWaysVariableSteps(4, {1, 3, 5}) + countWaysVariableSteps(2, {1, 3, 5}) + countWaysVariableSteps(0, {1, 3, 5}) = 3 + 1 + 1 = 5\n",
    "\n",
    "By tracing the recursive calls, we can see that `countWaysVariableSteps(5, {1, 3, 5})` has a value of 5. This means that there are 5 different ways to climb a staircase with 5 steps using steps of size 1, 3, or 5.\n",
    "\n",
    "Double-checking:\n",
    "1. 1 + 1 + 1 + 1 + 1\n",
    "2. 1 + 1 + 3\n",
    "3. 1 + 3 + 1\n",
    "4. 3 + 1 + 1\n",
    "5. 5"
   ]
  },
  {
   "cell_type": "markdown",
   "metadata": {},
   "source": [
    "## Multiple Choice (images were not working for me)"
   ]
  },
  {
   "cell_type": "markdown",
   "metadata": {},
   "source": [
    "1. The answer should be D because the of how the base cases are set up.\n",
    "- equation(8) = equation(7) * equation(6)\n",
    "- equation(7) = equation(6) * equation(5)\n",
    "- equation(6) = equation(5) * equation(4)\n",
    "\n",
    "We've reached the base case, and can begin working our way back up.\n",
    "- equation(6) = equation(5) * equation(4) = 12 * 12 = 144\n",
    "- equation(7) = equation(6) * equation(5) = 144 * 12 = 1728\n",
    "- equation(8) = equation(7) * equation(6) = 1728 * 144 = 248832"
   ]
  },
  {
   "cell_type": "markdown",
   "metadata": {},
   "source": [
    "2. The answer should be D.\n",
    "Step-by-Step Transformation of Input String: `\"This is my favorite: Yay for programming!!!\"`\n",
    "\n",
    "1. **`'T'` → `'t'`**\n",
    "2. **`'h'` → `'H'`**\n",
    "3. **`'i'` → `'I'`**\n",
    "4. **`'s'` → `'S'`**\n",
    "5. **`' '` → Done**\n",
    "\n",
    "6. **`'i'` → `'I'`**\n",
    "7. **`'s'` → `'S'`**\n",
    "8. **`' '` → Done**\n",
    "\n",
    "9. **`'m'` → `'M'`**\n",
    "10. **`'y'` → `'Y'`**\n",
    "11. **`' '` → Done**\n",
    "\n",
    "12. **`'f'` → `'F'`**\n",
    "13. **`'a'` → `'A'`**\n",
    "14. **`'v'` → `'V'`**\n",
    "15. **`'o'` → `'O'`**\n",
    "16. **`'r'` → `'R'`**\n",
    "17. **`'i'` → `'I'`**\n",
    "18. **`'t'` → `'T'`**\n",
    "19. **`'e'` → `'E'`**\n",
    "\n",
    "20. **`':'` → Done**\n",
    "21. **`' '` → Done**\n",
    "\n",
    "22. **`'Y'` → `'y'`**\n",
    "23. **`'a'` → `'A'`**\n",
    "24. **`'y'` → `'Y'`**\n",
    "25. **`' '` → Done**\n",
    "\n",
    "26. **`'f'` → `'F'`**\n",
    "27. **`'o'` → `'O'`**\n",
    "28. **`'r'` → `'R'`**\n",
    "29. **`' '` → Done**\n",
    "\n",
    "30. **`'p'` → `'P'`**\n",
    "31. **`'r'` → `'R'`**\n",
    "32. **`'o'` → `'O'`**\n",
    "33. **`'g'` → `'G'`**\n",
    "34. **`'r'` → `'R'`**\n",
    "35. **`'a'` → `'A'`**\n",
    "36. **`'m'` → `'M'`**\n",
    "37. **`'m'` → `'M'`**\n",
    "38. **`'i'` → `'I'`**\n",
    "39. **`'n'` → `'N'`**\n",
    "40. **`'g'` → `'G'`**\n",
    "\n",
    "41. **`'!'` → Done**\n",
    "42. **`'!'` → Done**\n",
    "43. **`'!'` → Done**\n",
    "\n",
    "Result: tHIS IS MY FAVORITE: yAY FOR PROGRAMMING!!!"
   ]
  },
  {
   "cell_type": "markdown",
   "metadata": {},
   "source": [
    "3. What is the base case in a recursive function?\n",
    "\n",
    "A. The first function call in a recursive chain.\n",
    "B. A condition that stops the recursion by returning a value.\n",
    "C. A recursive call that reduces the problem size.\n",
    "D. A function that calls itself indefinitely.\n",
    "\n",
    "The correct answer is B, since a base case is the condition that terminates recursion because returning a value allows for the problem to be solved by working backward. If there was no base case, there would be infinite recursions and it would lead to a stack overflow."
   ]
  },
  {
   "cell_type": "code",
   "execution_count": 14,
   "metadata": {},
   "outputs": [],
   "source": [
    "class Result {\n",
    "    public static String scoreTosses(int numPlayers, List<String> tosses) {\n",
    "        Map<String, Integer> singleRings = new HashMap<>();\n",
    "        singleRings.put(\"A\", 1);\n",
    "        singleRings.put(\"R\", 1);\n",
    "        singleRings.put(\"O\", 3);\n",
    "        singleRings.put(\"G\", 3);\n",
    "        singleRings.put(\"B\", 6);\n",
    "\n",
    "        Map<String, Integer> overlappingRings = new HashMap<>();\n",
    "        overlappingRings.put(\"AO\", 5);\n",
    "        overlappingRings.put(\"OA\", 5);\n",
    "        overlappingRings.put(\"OB\", 10);\n",
    "        overlappingRings.put(\"BO\", 10);\n",
    "        overlappingRings.put(\"BG\", 10);\n",
    "        overlappingRings.put(\"GB\", 10);\n",
    "        overlappingRings.put(\"GR\", 5);\n",
    "        overlappingRings.put(\"RG\", 5);\n",
    "\n",
    "        Map<String, Integer> bonus = new HashMap<>();\n",
    "        bonus.put(\"+\", 2);\n",
    "\n",
    "        List<Map.Entry<Integer, int[]>> playerScores = new ArrayList<>();\n",
    "\n",
    "        for (int i = 0; i < numPlayers; i++) {\n",
    "            int score = 0;\n",
    "            int attempts = 0;\n",
    "            for (String toss : tosses) {\n",
    "                attempts++;\n",
    "                for (String ring : toss.split(\"\")) {\n",
    "                    if (singleRings.containsKey(ring)) {\n",
    "                        score += singleRings.get(ring);\n",
    "                    }\n",
    "                    if (bonus.containsKey(ring)) {\n",
    "                        score += bonus.get(ring);\n",
    "                    }\n",
    "                    if (overlappingRings.containsKey(ring)) {\n",
    "                        score += overlappingRings.get(ring);\n",
    "                    }\n",
    "                }\n",
    "            }\n",
    "            playerScores.add(new AbstractMap.SimpleEntry<>(i + 1, new int[]{score, attempts}));\n",
    "        }\n",
    "\n",
    "        // Sort by score descending, then by attempts ascending\n",
    "        playerScores.sort((e1, e2) -> {\n",
    "            int scoreComparison = Integer.compare(e2.getValue()[0], e1.getValue()[0]);\n",
    "            if (scoreComparison != 0) {\n",
    "                return scoreComparison;\n",
    "            }\n",
    "            return Integer.compare(e1.getValue()[1], e2.getValue()[1]);\n",
    "        });\n",
    "\n",
    "        // Build the result string\n",
    "        StringBuilder result = new StringBuilder();\n",
    "        for (Map.Entry<Integer, int[]> entry : playerScores) {\n",
    "            result.append(entry.getKey())\n",
    "                  .append(\"-\")\n",
    "                  .append(entry.getValue()[0])\n",
    "                  ;\n",
    "        }\n",
    "\n",
    "        return result.toString().trim();\n",
    "    }\n",
    "}\n"
   ]
  },
  {
   "cell_type": "code",
   "execution_count": null,
   "metadata": {},
   "outputs": [],
   "source": []
  },
  {
   "cell_type": "code",
   "execution_count": 15,
   "metadata": {},
   "outputs": [],
   "source": [
    "import java.util.*;\n",
    "\n",
    "public class ResultTest {\n",
    "    public static void main(String[] args) {\n",
    "        int numPlayers = 5;\n",
    "        List<String> tosses = Arrays.asList(\n",
    "            \"A\",\n",
    "            \"R\",\n",
    "            \"O+\",\n",
    "            \"GB\",\n",
    "            \"AO\",\n",
    "            \"OBG\",\n",
    "            \"RG+\"\n",
    "        );\n",
    "\n",
    "        String outcome = Result.scoreTosses(numPlayers, tosses);\n",
    "        System.out.println(\"Scores: \" + outcome);\n",
    "    }\n",
    "}"
   ]
  }
 ],
 "metadata": {
  "kernelspec": {
   "display_name": "Java",
   "language": "java",
   "name": "java"
  },
  "language_info": {
   "codemirror_mode": "java",
   "file_extension": ".jshell",
   "mimetype": "text/x-java-source",
   "name": "java",
   "pygments_lexer": "java",
   "version": "17.0.13+11-Ubuntu-2ubuntu122.04"
  }
 },
 "nbformat": 4,
 "nbformat_minor": 2
}
