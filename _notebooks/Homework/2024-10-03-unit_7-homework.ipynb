{
 "cells": [
  {
   "cell_type": "raw",
   "metadata": {
    "vscode": {
     "languageId": "raw"
    }
   },
   "source": [
    "---\n",
    "layout: post\n",
    "toc: True\n",
    "title: Unit 6 Homework\n",
    "courses: {'csa': {'week': 6}}\n",
    "type: ccc\n",
    "categories: [AP CSA]\n",
    "author: Trevor Huang\n",
    "---"
   ]
  },
  {
   "cell_type": "markdown",
   "metadata": {},
   "source": [
    "## Array Lists Intro/Methods"
   ]
  },
  {
   "cell_type": "markdown",
   "metadata": {},
   "source": [
    "**POPCORN HACKS 7.1 & 7.2**\n",
    "Create an ArrayList of Strings with the following elements: \"Apple\", \"Banana\", \"Cherry\", \"Date\", \"Elderberry\".\n",
    "Complete the following tasks using the ArrayList methods you've learned:\n",
    "- Task 1: Print the size of the ArrayList.\n",
    "- Task 2: Add a new element \"Fig\" to the end of the list.\n",
    "- Task 3: Insert \"Grape\" at index 2.\n",
    "- Task 4: Replace the element at index 4 with \"Guava\".\n",
    "- Task 5: Remove the element at index 1.\n",
    "- Task 6: Retrieve and print the element at index 3.\n",
    "\n",
    "At the end of each task, print the current state of the ArrayList to verify the result."
   ]
  },
  {
   "cell_type": "code",
   "execution_count": 7,
   "metadata": {},
   "outputs": [
    {
     "name": "stdout",
     "output_type": "stream",
     "text": [
      "Length of list: 5\n",
      "[Apple, Banana, Grape, Cherry, Date, Elderberry, Fig]\n",
      "[Apple, Banana, Grape, Cherry, Guava, Elderberry, Fig]\n",
      "Guava\n"
     ]
    }
   ],
   "source": [
    "import java.util.ArrayList;\n",
    "\n",
    "// Task 1:\n",
    "ArrayList<String> fruits = new ArrayList<>();\n",
    "fruits.add(\"Apple\");\n",
    "fruits.add(\"Banana\");\n",
    "fruits.add(\"Cherry\");\n",
    "fruits.add(\"Date\");\n",
    "fruits.add(\"Elderberry\");\n",
    "System.out.println(\"Length of list: \" + fruits.size());\n",
    "\n",
    "// Task 2:\n",
    "fruits.add(\"Fig\");\n",
    "\n",
    "// Task 3:\n",
    "fruits.add(2, \"Grape\");\n",
    "System.out.println(fruits);\n",
    "\n",
    "// Task 4:\n",
    "fruits.set(4, \"Guava\");\n",
    "System.out.println(fruits);\n",
    "\n",
    "// Task 5:\n",
    "fruits.remove(0);\n",
    "\n",
    "// Task 6:\n",
    "System.out.println(fruits.get(3));"
   ]
  },
  {
   "cell_type": "markdown",
   "metadata": {},
   "source": [
    "**7.4 MCQ #1**\n",
    "```java\n",
    "List<Integer> list1 = new ArrayList<Integer>();\n",
    "list1.add(new Integer(1));\n",
    "list1.add(new Integer(2));\n",
    "list1.add(new Integer(3));\n",
    "list1.remove(1);\n",
    "```\n",
    "A. [2, 3]\n",
    "\n",
    "B. [1, 2, 3]\n",
    "\n",
    "C. [1, 2]\n",
    "\n",
    "D. [1, 3]\n",
    "\n",
    "**The correct answer is D** because the array list [1, 2, 3] has its second element removed (0 indexed) which would result in an array list of [1, 3]"
   ]
  },
  {
   "cell_type": "markdown",
   "metadata": {},
   "source": [
    "**7.4 MCQ #2**\n",
    "```java\n",
    "List<Integer> numList = new ArrayList<Integer>();\n",
    "numList.add(new Integer(1));\n",
    "numList.add(new Integer(2));\n",
    "numList.add(new Integer(3));\n",
    "numList.set(2,new Integer(4));\n",
    "numList.add(1, new Integer(5));\n",
    "numList.add(new Integer(6));\n",
    "```\n",
    "A. [1, 2, 3, 4, 5]\n",
    "\n",
    "B. [1, 2, 4, 5, 6]\n",
    "\n",
    "C. [1, 2, 5, 4, 6]\n",
    "\n",
    "D. [1, 5, 2, 4, 6]\n",
    "\n",
    "**The correct answer is D**\n",
    "[1, 2, 3]\n",
    "[1, 2, 4, 3]\n",
    "[1, 5, 2, 4, 3]\n",
    "[1, 5, 2, 4, 3, 6] --> this is the final array list!"
   ]
  },
  {
   "cell_type": "markdown",
   "metadata": {},
   "source": [
    "**POPCORN HACKS 7.4**\n",
    "Finish the code below so that it uses the findSum() method and it finds the sum of the numbers. "
   ]
  },
  {
   "cell_type": "code",
   "execution_count": 3,
   "metadata": {},
   "outputs": [
    {
     "name": "stdout",
     "output_type": "stream",
     "text": [
      "Sum of array: 19\n",
      "Exponent of array: 2147483647\n",
      "The array list multipled: 240\n"
     ]
    }
   ],
   "source": [
    "import java.util.ArrayList;\n",
    "\n",
    "public class ArrayListHacks {\n",
    "    private int findSum(ArrayList<Integer> values) {\n",
    "        int sum = 0;\n",
    "        for (int value : values) {\n",
    "            sum += value;\n",
    "        }\n",
    "        return sum;\n",
    "    }\n",
    "\n",
    "    // Extra work. Please give me xc :)\n",
    "    private int calculator(ArrayList<Integer> values, int expression) {\n",
    "        int result = 0;\n",
    "        switch (expression) {\n",
    "            // sum of the list\n",
    "            case 1:\n",
    "                for (int value : values) {\n",
    "                    result += value;\n",
    "                }\n",
    "                break;\n",
    "            // subtract the list\n",
    "            case 2:\n",
    "                for (int value : values) {\n",
    "                    result -= value;\n",
    "                }\n",
    "                break;\n",
    "            // multiply the list\n",
    "            case 3:\n",
    "                result = 1;\n",
    "                for (int value : values) {\n",
    "                    if (value == 0) {\n",
    "                        continue;\n",
    "                    }\n",
    "                    result *= value;\n",
    "                }\n",
    "                break;\n",
    "            // exponentiate the list\n",
    "            case 4:\n",
    "                result = 1; // Reset result to 1 for exponentiation\n",
    "                for (int value : values) {\n",
    "                    result = (int) Math.pow(value, result); // Cast to int\n",
    "                }\n",
    "                break;\n",
    "        }\n",
    "        return result;\n",
    "    }\n",
    "\n",
    "    public static void main(String[] args) {\n",
    "        ArrayList<Integer> nums = new ArrayList<>();\n",
    "        nums.add(0);\n",
    "        nums.add(1);\n",
    "        nums.add(2);\n",
    "        nums.add(3);\n",
    "        nums.add(5);\n",
    "        nums.add(8);\n",
    "\n",
    "        ArrayListHacks hacks = new ArrayListHacks();\n",
    "        int total = hacks.findSum(nums);\n",
    "        System.out.println(\"Sum of array: \" + total);\n",
    "\n",
    "        int result = hacks.calculator(nums, 4);\n",
    "        System.out.println(\"Exponent of array: \" + result);\n",
    "\n",
    "        result = hacks.calculator(nums, 3);\n",
    "        System.out.println(\"The array list multipled: \" + result);\n",
    "    }\n",
    "}\n",
    "\n",
    "ArrayListHacks.main(null);\n"
   ]
  },
  {
   "cell_type": "markdown",
   "metadata": {},
   "source": [
    "**6th Popcorn Hack - Sort the Ducks!**"
   ]
  },
  {
   "cell_type": "code",
   "execution_count": 7,
   "metadata": {},
   "outputs": [
    {
     "name": "stdout",
     "output_type": "stream",
     "text": [
      "Duck D (1.9 kg)\n",
      "Duck B (2.1 kg)\n",
      "Duck A (4.5 kg)\n",
      "Duck C (5.0 kg)\n"
     ]
    }
   ],
   "source": [
    "import java.util.ArrayList;\n",
    "\n",
    "// The DebugDuck class with Comparable implementation\n",
    "class DebugDuck implements Comparable<DebugDuck> {\n",
    "    String name;\n",
    "    double weight;\n",
    "\n",
    "    public DebugDuck(String name, double weight) {\n",
    "        this.name = name;\n",
    "        this.weight = weight;\n",
    "    }\n",
    "\n",
    "    @Override\n",
    "    public int compareTo(DebugDuck other) {\n",
    "        return Double.compare(this.weight, other.weight);\n",
    "    }\n",
    "\n",
    "    @Override\n",
    "    public String toString() {\n",
    "        return name + \" (\" + weight + \" kg)\";\n",
    "    }\n",
    "}\n",
    "\n",
    "public class DuckSortInsertion {\n",
    "    public static void insertionSort(ArrayList<DebugDuck> ducks) {\n",
    "        int n = ducks.size();\n",
    "        for (int i = 1; i < n; i++) {\n",
    "            DebugDuck key = ducks.get(i);\n",
    "            int j = i - 1;\n",
    "\n",
    "            // Move elements of ducks[0..i-1] that are greater than key to one position ahead\n",
    "            while (j >= 0 && ducks.get(j).compareTo(key) > 0) {\n",
    "                ducks.set(j + 1, ducks.get(j));\n",
    "                j = j - 1;\n",
    "            }\n",
    "            ducks.set(j + 1, key);\n",
    "        }\n",
    "    }\n",
    "\n",
    "    public static void main(String[] args) {\n",
    "        ArrayList<DebugDuck> ducks = new ArrayList<>();\n",
    "        ducks.add(new DebugDuck(\"Duck A\", 4.5));\n",
    "        ducks.add(new DebugDuck(\"Duck B\", 2.1));\n",
    "        ducks.add(new DebugDuck(\"Duck C\", 5.0));\n",
    "        ducks.add(new DebugDuck(\"Duck D\", 1.9));\n",
    "\n",
    "        // Perform insertion sort\n",
    "        insertionSort(ducks);\n",
    "        \n",
    "        // Print the sorted ducks\n",
    "        for (DebugDuck duck : ducks) {\n",
    "            System.out.println(duck);\n",
    "        }\n",
    "    }\n",
    "}\n",
    "\n",
    "DuckSortInsertion.main(null);\n"
   ]
  },
  {
   "cell_type": "markdown",
   "metadata": {},
   "source": [
    "**POPCORN HACK 7.7**\n",
    "What can be used in place of the blank to ensure the users data is cleared"
   ]
  },
  {
   "cell_type": "code",
   "execution_count": 8,
   "metadata": {},
   "outputs": [],
   "source": [
    "ArrayList<String> userData = new ArrayList<>();\n",
    "userData.add(\"John Doe\");\n",
    "userData.add(\"john@example.com\");\n",
    "\n",
    "// Once you're done using the data\n",
    "userData.clear(); // Removes all entries\n",
    "userData = null;  //"
   ]
  },
  {
   "cell_type": "markdown",
   "metadata": {},
   "source": [
    "**Homework Hacks**"
   ]
  },
  {
   "cell_type": "code",
   "execution_count": 10,
   "metadata": {},
   "outputs": [
    {
     "name": "stdout",
     "output_type": "stream",
     "text": [
      "ArrayList after adding elements: [10, 20, 30, 40, 50]\n",
      "ArrayList after modifying second element: [10, 100, 30, 40, 50]\n",
      "ArrayList after removing third element: [10, 100, 40, 50]\n",
      "30 is not in the ArrayList.\n",
      "ArrayList elements: 10 100 40 50 \n",
      "ArrayList after sorting: [10, 40, 50, 100]\n",
      "Final sorted ArrayList: [10, 40, 50, 100]\n"
     ]
    }
   ],
   "source": [
    "import java.util.ArrayList;\n",
    "import java.util.Collections;\n",
    "\n",
    "public class ArrayListTasks {\n",
    "    public static void main(String[] args) {\n",
    "        // 1. Create an ArrayList and add 5 elements\n",
    "        ArrayList<Integer> numbers = new ArrayList<>();\n",
    "        numbers.add(10);\n",
    "        numbers.add(20);\n",
    "        numbers.add(30);\n",
    "        numbers.add(40);\n",
    "        numbers.add(50);\n",
    "        System.out.println(\"ArrayList after adding elements: \" + numbers);\n",
    "\n",
    "        // 2. Modify the second element (index 1) to 100\n",
    "        numbers.set(1, 100);\n",
    "        System.out.println(\"ArrayList after modifying second element: \" + numbers);\n",
    "\n",
    "        // 3. Remove the third element (index 2)\n",
    "        numbers.remove(2);\n",
    "        System.out.println(\"ArrayList after removing third element: \" + numbers);\n",
    "\n",
    "        // 4. Search for the element 30\n",
    "        if (numbers.contains(30)) {\n",
    "            System.out.println(\"30 is in the ArrayList.\");\n",
    "        } else {\n",
    "            System.out.println(\"30 is not in the ArrayList.\");\n",
    "        }\n",
    "\n",
    "        // 5. Loop through the ArrayList\n",
    "        System.out.print(\"ArrayList elements: \");\n",
    "        for (int number : numbers) {\n",
    "            System.out.print(number + \" \");\n",
    "        }\n",
    "        System.out.println();\n",
    "\n",
    "        // 6. Sort the ArrayList in ascending order\n",
    "        Collections.sort(numbers);\n",
    "        System.out.println(\"ArrayList after sorting: \" + numbers);\n",
    "\n",
    "        // 7. Print the sorted ArrayList\n",
    "        System.out.println(\"Final sorted ArrayList: \" + numbers);\n",
    "    }\n",
    "}\n",
    "\n",
    "ArrayListTasks.main(null);\n"
   ]
  }
 ],
 "metadata": {
  "kernelspec": {
   "display_name": "Java",
   "language": "java",
   "name": "java"
  },
  "language_info": {
   "codemirror_mode": "java",
   "file_extension": ".jshell",
   "mimetype": "text/x-java-source",
   "name": "java",
   "pygments_lexer": "java",
   "version": "17.0.12+7-Ubuntu-1ubuntu222.04"
  }
 },
 "nbformat": 4,
 "nbformat_minor": 2
}
