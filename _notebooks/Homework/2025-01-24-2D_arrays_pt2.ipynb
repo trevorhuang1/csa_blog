{
 "cells": [
  {
   "cell_type": "markdown",
   "metadata": {},
   "source": [
    "---\n",
    "layout: post\n",
    "toc: True\n",
    "title: 2D Arrays pt 2\n",
    "description: My solution and thought process behind the 2022 FRQ problem 4\n",
    "courses: {'csa': {'week': 18}}\n",
    "type: collab\n",
    "categories: [AP CSA]\n",
    "---"
   ]
  },
  {
   "cell_type": "markdown",
   "metadata": {},
   "source": [
    "## Part A (notes to self):\n",
    "- Implement the repopulate method, which fills up a 2D array\n",
    "- Ranges from 1-MAX --> inclusive\n",
    "- Probably need a while loop to keep generating values until it meets the criteria set"
   ]
  },
  {
   "cell_type": "code",
   "execution_count": null,
   "metadata": {},
   "outputs": [],
   "source": [
    "public void repopulate() {\n",
    "    // go through each row\n",
    "    for (int row = 0; row <= grid.length - 1; row++) {\n",
    "        // use grid[row].length to get the length of the row if jagged\n",
    "        for (int col = 0; col <= grid[row].length - 1; col++) {\n",
    "            // generate a random number\n",
    "            int randomVal = (int) (Math.random() * MAX);\n",
    "            // keep generating random numbers until it fits the criteria\n",
    "            while (randomVal % 100 == 0 || randomVal % 10 != 0) {\n",
    "                randomVal = (int) (Math.random() * MAX);\n",
    "            }\n",
    "            // set the value of the cell to the random number\n",
    "            grid[row][col] = randomVal;\n",
    "        }\n",
    "    }\n",
    "}"
   ]
  },
  {
   "cell_type": "markdown",
   "metadata": {},
   "source": [
    "## Part B (notes to self):\n",
    "- Need to iterate down a column, comparing with values set above\n",
    "- Probably create a counting variable, then return it\n",
    "- I'm thinking to only increment the counting variable if a boolean value isIncreasing is true."
   ]
  },
  {
   "cell_type": "code",
   "execution_count": null,
   "metadata": {},
   "outputs": [],
   "source": [
    "public int countIncreasingCols() {\n",
    "    int count = 0;\n",
    "    // go through each column\n",
    "    for (int col = 0; col <= grid[0].length - 1; col++) {\n",
    "        // set default to true\n",
    "        boolean isIncreasing = true;\n",
    "        // do grid.length - 2 to avoid out of bounds exception\n",
    "        for (int row = 0; row <= grid.length - 2; row++) {\n",
    "            // if the current cell is greater than or equal to the next cell, set isIncreasing to false and break\n",
    "            if (grid[row][col] >= grid[row + 1][col]) {\n",
    "                isIncreasing = false;\n",
    "                break;\n",
    "            }\n",
    "        }\n",
    "        // if isIncreasing is still true, increment count\n",
    "        if (isIncreasing) {\n",
    "            count++;\n",
    "        }\n",
    "    }\n",
    "    return count;\n",
    "}"
   ]
  },
  {
   "cell_type": "markdown",
   "metadata": {},
   "source": [
    "## Grading myself:\n",
    "1. Traverses grid (no bounds errors) ✅\n",
    "2. Generates a random integer in a range based on MAX ❌\n",
    "3. Ensures that all produced values are divisible by 10 but not by 100 ✅\n",
    "4. Assigns appropriate values to all elements of grid (algorithm) ✅\n",
    "\n",
    "5. Traverses grid in column major order (no loop header bounds errors) ✅\n",
    "6. Compares two elements in the same column of grid ✅\n",
    "7. Determines whether a single column is in increasing order (algorithm) ✅\n",
    "8. Counts all columns that are identified as increasing (algorithm) ✅\n",
    "9. Returns calculated count of increasing columns ✅"
   ]
  },
  {
   "cell_type": "markdown",
   "metadata": {},
   "source": [
    "## Correction\n",
    "int randomVal = (int) (Math.random() * MAX); --> int randomVal = (int) (Math.random() * MAX) + 1;\n",
    "- I needed to add +1 to keep it in range because the problem stated 1-MAX, not 0-MAX"
   ]
  },
  {
   "cell_type": "markdown",
   "metadata": {},
   "source": [
    "## Reflection\n",
    "I got 8/9 on this FRQ, which I'm pretty happy about. My only error is that I forgot to add 1 to the random value to keep it in range. For problems like these, I found that putting out my thought process first is really helps. During the actual AP test, I think that I will do something similar to help guide my code."
   ]
  }
 ],
 "metadata": {
  "kernelspec": {
   "display_name": "Java",
   "language": "java",
   "name": "java"
  },
  "language_info": {
   "name": "java"
  }
 },
 "nbformat": 4,
 "nbformat_minor": 2
}
