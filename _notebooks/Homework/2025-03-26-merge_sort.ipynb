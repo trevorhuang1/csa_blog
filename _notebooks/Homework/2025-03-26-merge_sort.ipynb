{
 "cells": [
  {
   "cell_type": "markdown",
   "metadata": {},
   "source": [
    "---\n",
    "toc: false \n",
    "layout: post\n",
    "title: Merge Sort HW\n",
    "description: Popcorn hacks & hw for the merge sort quiz\n",
    "courses: { csa: {week: 25} }\n",
    "type: ccc\n",
    "---"
   ]
  },
  {
   "cell_type": "markdown",
   "metadata": {},
   "source": [
    "# Popcorn Hack #1\n",
    "Write a Java program that merges two already sorted arrays into one sorted array without using extra sorting functions."
   ]
  },
  {
   "cell_type": "code",
   "execution_count": 7,
   "metadata": {},
   "outputs": [
    {
     "name": "stdout",
     "output_type": "stream",
     "text": [
      "Sorted Array 1: [1, 3, 5, 7]\n",
      "Sorted Array 2: [2, 4, 6, 8]\n",
      "Merged Sorted Array: [1, 2, 3, 4, 5, 6, 7, 8]\n"
     ]
    }
   ],
   "source": [
    "import java.util.Arrays;\n",
    "\n",
    "public class MergeSortedArrays {\n",
    "    public static int[] mergeSortedArrays(int[] arr1, int[] arr2) {\n",
    "        int n1 = arr1.length, n2 = arr2.length;\n",
    "        int[] mergedArray = new int[n1 + n2];\n",
    "        int i = 0, j = 0, k = 0;\n",
    "\n",
    "        while (i < n1 && j < n2) {\n",
    "            if (arr1[i] <= arr2[j]) {\n",
    "                mergedArray[k++] = arr1[i++];\n",
    "            } else {\n",
    "                mergedArray[k++] = arr2[j++];\n",
    "            }\n",
    "        }\n",
    "\n",
    "        while (i < n1) {\n",
    "            mergedArray[k++] = arr1[i++];\n",
    "        }\n",
    "\n",
    "        while (j < n2) {\n",
    "            mergedArray[k++] = arr2[j++];\n",
    "        }\n",
    "\n",
    "        return mergedArray;\n",
    "    }\n",
    "\n",
    "    public static void main() {\n",
    "        int[] arr1 = {1, 3, 5, 7};\n",
    "        int[] arr2 = {2, 4, 6, 8};\n",
    "        int[] mergedArray = mergeSortedArrays(arr1, arr2);\n",
    "\n",
    "        System.out.println(\"Sorted Array 1: \" + Arrays.toString(arr1));\n",
    "        System.out.println(\"Sorted Array 2: \" + Arrays.toString(arr2));\n",
    "        System.out.println(\"Merged Sorted Array: \" + Arrays.toString(mergedArray));\n",
    "    }\n",
    "}\n",
    "\n",
    "MergeSortedArrays.main();"
   ]
  },
  {
   "cell_type": "markdown",
   "metadata": {},
   "source": [
    "# Homework Part 1:\n",
    "> What is the time complexity of merge sort in the best, worst, and average cases? Explain why.\n",
    "- Merge Sort has a consistent time complexity of O(n logn) for best, worst, and average cases. This is because the dividing process takes O(log n) time complexity and the merging takes O(n) time for all cases.\n",
    "\n",
    "> Compare merge sort with bubble sort and quicksort. When might merge sort be preferred?\n",
    "- Bubble sort is O(n^2) for worst and average cases, and O(n) for best case. It is inefficient for large sets.\n",
    "- Quick sort is O(n logn) for average case but O(n^2) for worst case. It is usually faster in practice than merge sort\n",
    "- Merge sort should be used for large datasets because it is always O(n logn) complexity.\n",
    "\n",
    "> Why is merge sort considered a “divide and conquer” algorithm?\n",
    "- Merge sort recursively divides the array into smaller halves, conquers by sorting them individually, and then combines them back into a sorted array.\n",
    "\n",
    "> Is merge sort stable? Why does this matter?\n",
    "- Yes, merge sort is stable because it maintains the relative order of equal elements during merging."
   ]
  },
  {
   "cell_type": "markdown",
   "metadata": {},
   "source": [
    "## Homework Part 2:"
   ]
  },
  {
   "cell_type": "code",
   "execution_count": 9,
   "metadata": {},
   "outputs": [
    {
     "name": "stdout",
     "output_type": "stream",
     "text": [
      "Unsorted Array: [38, 27, 43, 3, 9, 82, 10]\n",
      "Sorted Array: [3, 9, 10, 27, 38, 43, 82]\n",
      "Total Comparisons: 14\n"
     ]
    }
   ],
   "source": [
    "import java.util.Arrays;\n",
    "\n",
    "public class MergeSortAlgorithm {\n",
    "    private static int comparisonCount = 0;  // Counter for comparisons\n",
    "\n",
    "    // Merge Sort function: Recursively splits the array into smaller parts and sorts them\n",
    "    public static void mergeSort(int[] arr, int left, int right) {\n",
    "        if (left < right) {\n",
    "            int mid = (left + right) / 2;  // Find the middle point\n",
    "\n",
    "            // Recursively sort first and second halves\n",
    "            mergeSort(arr, left, mid);  // Sort left half\n",
    "            mergeSort(arr, mid + 1, right);  // Sort right half\n",
    "\n",
    "            // Merge the sorted halves\n",
    "            merge(arr, left, mid, right);\n",
    "        }\n",
    "    }\n",
    "\n",
    "    // Merging two sorted subarrays into one sorted array\n",
    "    private static void merge(int[] arr, int left, int mid, int right) {\n",
    "        int leftSize = mid - left + 1;  // Size of left subarray\n",
    "        int rightSize = right - mid;    // Size of right subarray\n",
    "\n",
    "        // Create temporary arrays to store left and right subarrays\n",
    "        int[] leftArr = new int[leftSize];\n",
    "        int[] rightArr = new int[rightSize];\n",
    "\n",
    "        // Copy data to temporary arrays\n",
    "        System.arraycopy(arr, left, leftArr, 0, leftSize);\n",
    "        System.arraycopy(arr, mid + 1, rightArr, 0, rightSize);\n",
    "\n",
    "        // Merge the temporary arrays back into the original array\n",
    "        int i = 0, j = 0, k = left;\n",
    "        while (i < leftSize && j < rightSize) {\n",
    "            comparisonCount++;  // Increment comparison counter\n",
    "            if (leftArr[i] <= rightArr[j]) {\n",
    "                arr[k++] = leftArr[i++];\n",
    "            } else {\n",
    "                arr[k++] = rightArr[j++];\n",
    "            }\n",
    "        }\n",
    "\n",
    "        // Copy any remaining elements from leftArr (if any)\n",
    "        while (i < leftSize) {\n",
    "            arr[k++] = leftArr[i++];\n",
    "        }\n",
    "\n",
    "        // Copy any remaining elements from rightArr (if any)\n",
    "        while (j < rightSize) {\n",
    "            arr[k++] = rightArr[j++];\n",
    "        }\n",
    "    }\n",
    "\n",
    "    // Main method to test Merge Sort\n",
    "    public static void main() {\n",
    "        int[] array = {38, 27, 43, 3, 9, 82, 10};  // Unsorted array\n",
    "        System.out.println(\"Unsorted Array: \" + Arrays.toString(array));\n",
    "\n",
    "        // Call mergeSort function to sort the array\n",
    "        mergeSort(array, 0, array.length - 1);\n",
    "\n",
    "        // Print the sorted array\n",
    "        System.out.println(\"Sorted Array: \" + Arrays.toString(array));\n",
    "        System.out.println(\"Total Comparisons: \" + comparisonCount);\n",
    "    }\n",
    "}\n",
    "MergeSortAlgorithm.main();"
   ]
  }
 ],
 "metadata": {
  "kernelspec": {
   "display_name": "Java",
   "language": "java",
   "name": "java"
  },
  "language_info": {
   "codemirror_mode": "java",
   "file_extension": ".jshell",
   "mimetype": "text/x-java-source",
   "name": "java",
   "pygments_lexer": "java",
   "version": "17.0.14+7-Ubuntu-122.04.1"
  }
 },
 "nbformat": 4,
 "nbformat_minor": 2
}
