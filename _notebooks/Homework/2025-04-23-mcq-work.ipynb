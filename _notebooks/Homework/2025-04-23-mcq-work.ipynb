{
 "cells": [
  {
   "cell_type": "markdown",
   "id": "5b8b0fe4",
   "metadata": {},
   "source": [
    "---\n",
    "toc: false \n",
    "comments: True\n",
    "layout: post\n",
    "title: MCQ Work\n",
    "description: The MCQ Work I've done so far and plans moving forward\n",
    "courses: { csa: {week: 26} }\n",
    "permalink: /ap-exam/mcqs\n",
    "menu: nav/CSA_Units/collegeboard.html\n",
    "type: collab\n",
    "---"
   ]
  },
  {
   "cell_type": "markdown",
   "id": "5ad5d5df",
   "metadata": {},
   "source": [
    "# Please check my issue!!\n",
    "[Link](https://github.com/trevorhuang1/csa_blog/issues/28)"
   ]
  }
 ],
 "metadata": {
  "language_info": {
   "name": "python"
  }
 },
 "nbformat": 4,
 "nbformat_minor": 5
}
