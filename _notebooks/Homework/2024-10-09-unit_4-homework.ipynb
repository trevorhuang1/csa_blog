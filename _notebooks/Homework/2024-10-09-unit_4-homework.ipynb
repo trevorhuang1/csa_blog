{
 "cells": [
  {
   "cell_type": "raw",
   "metadata": {
    "vscode": {
     "languageId": "raw"
    }
   },
   "source": [
    "---\n",
    "layout: post\n",
    "toc: True\n",
    "title: Unit 4 Homework\n",
    "courses: {'csa': {'week': 7}}\n",
    "type: collab\n",
    "categories: [AP CSA]\n",
    "author: Trevor Huang\n",
    "---"
   ]
  },
  {
   "cell_type": "markdown",
   "metadata": {},
   "source": [
    "## 4.1 Popcorn Hacks\n",
    "find and fix the missing increment in the while loop"
   ]
  },
  {
   "cell_type": "code",
   "execution_count": 1,
   "metadata": {},
   "outputs": [
    {
     "name": "stdout",
     "output_type": "stream",
     "text": [
      "0\n",
      "1\n",
      "2\n",
      "3\n",
      "4\n"
     ]
    }
   ],
   "source": [
    "int i = 0;\n",
    "while (i < 5) {\n",
    "    System.out.println(i);\n",
    "    i++;\n",
    "}"
   ]
  },
  {
   "cell_type": "markdown",
   "metadata": {},
   "source": [
    "## 4.2 Popcorn Hacks\n",
    "Create a program that iterates through a list of numbers (int_list = {0, 4, 51, 83, 92, 10, 123, 145}) using both a for loop and a for each loop, then split the numbers in the list into even/odd lists, and output them."
   ]
  },
  {
   "cell_type": "code",
   "execution_count": 3,
   "metadata": {},
   "outputs": [
    {
     "name": "stdout",
     "output_type": "stream",
     "text": [
      "Even numbers (for loop): [0, 4, 92, 10]\n",
      "Odd numbers (for loop): [51, 83, 123, 145]\n",
      "Even numbers (for-each loop): [0, 4, 92, 10]\n",
      "Odd numbers (for-each loop): [51, 83, 123, 145]\n"
     ]
    }
   ],
   "source": [
    "import java.util.ArrayList;\n",
    "import java.util.List;\n",
    "\n",
    "public class Main {\n",
    "    public static void main(String[] args) {\n",
    "        // List of numbers\n",
    "        int[] intList = {0, 4, 51, 83, 92, 10, 123, 145};\n",
    "        \n",
    "        // Using a traditional for loop\n",
    "        List<Integer> evenNumbers = new ArrayList<>();\n",
    "        List<Integer> oddNumbers = new ArrayList<>();\n",
    "        \n",
    "        for (int i = 0; i < intList.length; i++) {\n",
    "            if (intList[i] % 2 == 0) {\n",
    "                evenNumbers.add(intList[i]);\n",
    "            } else {\n",
    "                oddNumbers.add(intList[i]);\n",
    "            }\n",
    "        }\n",
    "\n",
    "        System.out.println(\"Even numbers (for loop): \" + evenNumbers);\n",
    "        System.out.println(\"Odd numbers (for loop): \" + oddNumbers);\n",
    "\n",
    "        // Reset lists for the for-each loop\n",
    "        evenNumbers.clear();\n",
    "        oddNumbers.clear();\n",
    "\n",
    "        // Using an enhanced for-each loop\n",
    "        for (int num : intList) {\n",
    "            if (num % 2 == 0) {\n",
    "                evenNumbers.add(num);\n",
    "            } else {\n",
    "                oddNumbers.add(num);\n",
    "            }\n",
    "        }\n",
    "\n",
    "        System.out.println(\"Even numbers (for-each loop): \" + evenNumbers);\n",
    "        System.out.println(\"Odd numbers (for-each loop): \" + oddNumbers);\n",
    "    }\n",
    "}\n",
    "\n",
    "Main.main(null);"
   ]
  },
  {
   "cell_type": "markdown",
   "metadata": {},
   "source": [
    "## 4.3 Popcorn Hacks\n",
    "Iterate through the characters a string with a `while` loop"
   ]
  },
  {
   "cell_type": "code",
   "execution_count": 5,
   "metadata": {},
   "outputs": [
    {
     "name": "stdout",
     "output_type": "stream",
     "text": [
      "a\n",
      "b\n",
      "c\n",
      "d\n",
      "e\n",
      "f\n",
      "g\n",
      "h\n",
      "i\n",
      "j\n",
      "k\n",
      "l\n",
      "m\n",
      "n\n",
      "o\n",
      "p\n",
      "q\n",
      "r\n",
      "s\n",
      "t\n",
      "u\n",
      "v\n",
      "w\n",
      "x\n",
      "y\n",
      "z\n"
     ]
    }
   ],
   "source": [
    "String alphabet = \"abcdefghijklmnopqrstuvwxyz\";\n",
    "\n",
    "for (int i = 0; i < alphabet.length(); i++) {\n",
    "    System.out.println(alphabet.charAt(i));\n",
    "}"
   ]
  },
  {
   "cell_type": "markdown",
   "metadata": {},
   "source": [
    "## 4.4 Popcorn Hacks"
   ]
  },
  {
   "cell_type": "markdown",
   "metadata": {},
   "source": [
    "What's wrong with this code?"
   ]
  },
  {
   "cell_type": "code",
   "execution_count": null,
   "metadata": {},
   "outputs": [],
   "source": [
    "//Hint: Check the Syntax and look at the equals to signs on the example above\n",
    "\n",
    "import java.util.Scanner;\n",
    "Scanner scanner = new Scanner(System.in);\n",
    "System.out.print(\"Enter the number of rows: \");\n",
    "int rows = scanner.nextInt();\n",
    "for (int i = rows; i>1; i-) {\n",
    "    for (int j = 1; j <= i; j++) {\n",
    "        System.out.print(j + \" \");\n",
    "    }\n",
    "    System.out.println();\n",
    "    }\n",
    "        \n",
    "scanner.close();\n"
   ]
  },
  {
   "cell_type": "markdown",
   "metadata": {},
   "source": [
    "There are 2 problems with the code:\n",
    "1. The for loop does not decrement correctly, it should be `i--` not `i-`\n",
    "2. Your outer loop runs from i = rows to i > 1, meaning it skips printing the first row. If you want to print all rows, you should use i >= 1.\n",
    "\n",
    "Corrected code is shown at the bottom:"
   ]
  },
  {
   "cell_type": "code",
   "execution_count": 13,
   "metadata": {},
   "outputs": [
    {
     "name": "stdout",
     "output_type": "stream",
     "text": [
      "Enter the number of rows: \n",
      "1 2 3 4 5 \n",
      "1 2 3 4 \n",
      "1 2 3 \n",
      "1 2 \n",
      "1 \n"
     ]
    }
   ],
   "source": [
    "import java.util.Scanner;\n",
    "\n",
    "public class Main {\n",
    "    public static void main(String[] args) {\n",
    "        Scanner scanner = new Scanner(System.in);\n",
    "        \n",
    "        System.out.print(\"Enter the number of rows: \\n\");\n",
    "        int rows = scanner.nextInt();\n",
    "        \n",
    "        for (int i = rows; i >= 1; i--) {  // Fixed decrement and loop condition\n",
    "            for (int j = 1; j <= i; j++) {\n",
    "                System.out.print(j + \" \");\n",
    "            }\n",
    "            System.out.println();\n",
    "        }\n",
    "        \n",
    "        scanner.close();\n",
    "    }\n",
    "}\n",
    "\n",
    "Main.main(null);"
   ]
  },
  {
   "cell_type": "markdown",
   "metadata": {},
   "source": [
    "### MCQ 1\n",
    "<img width=\"540\" alt=\"Screenshot 2024-09-19 at 20 45 04\" src=\"https://github.com/user-attachments/assets/ef76eea5-ffa1-432b-9ca0-95c1b9fd002d\">"
   ]
  },
  {
   "cell_type": "markdown",
   "metadata": {},
   "source": [
    "**The answer is B** since it prints 5 rows of 4 asterisks each for a total of 20 asterisks. This is because the inner loop controls how many asterisks per row (4) and the other loop controls how many rows in total (5)."
   ]
  },
  {
   "cell_type": "markdown",
   "metadata": {},
   "source": [
    "### MCQ 2\n",
    "<img width=\"542\" alt=\"Screenshot 2024-09-29 at 15 54 38\" src=\"https://github.com/user-attachments/assets/e3639622-1162-49fa-84fa-8853f5a7c347\">"
   ]
  },
  {
   "cell_type": "markdown",
   "metadata": {},
   "source": [
    "**The answer is D** because it prints out 6 rows of 5 asterisks each for a total of 30 asterisks. This is because the inner loop controls how many asterisks per row (5) and the other loop controls how many rows in total (6)."
   ]
  },
  {
   "cell_type": "markdown",
   "metadata": {},
   "source": [
    "## Homework Hacks"
   ]
  },
  {
   "cell_type": "markdown",
   "metadata": {},
   "source": [
    "### Question 1:\n",
    "What does the following code print?   \n",
    "\n",
    "A. 5 6 7 8 9   \n",
    "\n",
    "B. 4 5 6 7 8 9 10 11 12   \n",
    "\n",
    "C. 3 5 7 9 11   \n",
    "\n",
    "D. 3 4 5 6 7 8 9 10 11 12   \n",
    "\n",
    "<details>\n",
    "<summary>Click to reveal answer:</summary> \n",
    "  D\n",
    "</details>\n",
    "\n",
    "Explain your answer. (explanation is graded not answer)"
   ]
  },
  {
   "cell_type": "code",
   "execution_count": null,
   "metadata": {},
   "outputs": [],
   "source": [
    "for (int i = 3; i <= 12; i++) {\n",
    "    System.out.print(i + \" \");\n",
    " }"
   ]
  },
  {
   "cell_type": "markdown",
   "metadata": {},
   "source": [
    "The answer is D because the code prints out all values starting from 3 and ending at 12 because it is inclusive. Therefore, since the output is the i value and then a space, it print all numbers from 3-12 inclusive separated by spaces."
   ]
  },
  {
   "cell_type": "markdown",
   "metadata": {},
   "source": [
    "### Bonus:\n",
    "- Explain the difference between using a variable like i inside a for loop, vs. using a variable that exists in the code itself for a while loop\n",
    "\n",
    "A variable such as i in a for loop is initialized at teh start, but a while loop uses an external variable outside of the loop to increment itself. This makes while loops more dynamic than for loops since it can continue until an unpredictable condition is met."
   ]
  },
  {
   "cell_type": "markdown",
   "metadata": {},
   "source": [
    "### Question 2:\n",
    "How many times does the following method print a \"*\" ?\n",
    "\n",
    "A. 9\n",
    "\n",
    "B. 7\n",
    "\n",
    "C. 8\n",
    "\n",
    "D. 6\n",
    "\n",
    "<details>\n",
    "<summary>Click to reveal answer:</summary> \n",
    "  C\n",
    "</details>\n",
    "\n",
    "Explain your answer. (explanation is graded not answer)"
   ]
  },
  {
   "cell_type": "code",
   "execution_count": null,
   "metadata": {},
   "outputs": [],
   "source": [
    "for (int i = 3; i < 11; i++) {\n",
    "    System.out.print(\"*\");\n",
    " }"
   ]
  },
  {
   "cell_type": "markdown",
   "metadata": {},
   "source": [
    "The program prints 8 asterisks because it starts at 3 until it reaches 10, therefore the program prints all integers from 3-10. This means that 8 values will be printed because there is a total of 8 iterations."
   ]
  },
  {
   "cell_type": "markdown",
   "metadata": {},
   "source": [
    "### Question 3:\n",
    "What does the following code print?\n",
    "\n",
    "A. -4 -3 -2 -1 0\n",
    "\n",
    "B. -5 -4 -3 -2 -1\n",
    "\n",
    "C. 5 4 3 2 1\n",
    "\n",
    "<details>\n",
    "<summary>Click to reveal answer:</summary> \n",
    "  A\n",
    "</details>\n",
    "\n",
    "Explain your answer. (explanation is graded not answer)"
   ]
  },
  {
   "cell_type": "code",
   "execution_count": 17,
   "metadata": {},
   "outputs": [
    {
     "name": "stdout",
     "output_type": "stream",
     "text": [
      "-4 -3 -2 -1 0 "
     ]
    }
   ],
   "source": [
    "int x = -5;\n",
    "while (x < 0)\n",
    "{\n",
    "   x++;\n",
    "   System.out.print(x + \" \");\n",
    "}"
   ]
  },
  {
   "cell_type": "markdown",
   "metadata": {},
   "source": [
    "The answer is A because the code checks if x is still under 0, increments, and then prints. This results in the first value being -4 (-5 + 1) and then the last element being 0 since -1 is the last number that satisfies the while loop condition but then -1 is added by 1 before printing so the output is 0."
   ]
  },
  {
   "cell_type": "markdown",
   "metadata": {},
   "source": [
    "### Question 4:\n",
    "What does the following code print?\n",
    "\n",
    "A. 20\n",
    "\n",
    "B. 21\n",
    "\n",
    "C. 25\n",
    "\n",
    "D. 30\n",
    "\n",
    "<details>\n",
    "<summary>Click to reveal answer:</summary> \n",
    "  B\n",
    "</details>\n",
    "\n",
    "Explain your answer. (explanation is graded not answer)"
   ]
  },
  {
   "cell_type": "code",
   "execution_count": null,
   "metadata": {},
   "outputs": [],
   "source": [
    "int sum = 0;\n",
    "\n",
    "for (int i = 1; i <= 5; i++) {\n",
    "    if (i % 2 == 0) {\n",
    "        sum += i * 2;\n",
    "    } else {\n",
    "        sum += i;\n",
    "    }\n",
    "}\n",
    "\n",
    "System.out.println(sum);"
   ]
  },
  {
   "cell_type": "markdown",
   "metadata": {},
   "source": [
    "In the 5 iterations, this is what happens to the value of sum:\n",
    "1. 1 is not even, so sum += 1 --> sum = 1\n",
    "2. 2 is even, so sum += 2*2 --> sum = 5\n",
    "3. 3 is not even, so sum += 3 --> sum = 8\n",
    "4. 4 is even, so sum += 4*2 --> sum = 16\n",
    "5. 5 is not even, so sum += 5 --> sum = 21"
   ]
  },
  {
   "cell_type": "markdown",
   "metadata": {},
   "source": [
    "## Loops HW Hack"
   ]
  },
  {
   "cell_type": "markdown",
   "metadata": {},
   "source": [
    "### Easy Hack\n",
    "- Use a while loop to find the numbers from 1-50 that are divisible by 3 or 5, then store them into a list (make sure to print it out at the end)\n",
    "- Use a for loop to do the same thing detailed above"
   ]
  },
  {
   "cell_type": "code",
   "execution_count": 20,
   "metadata": {},
   "outputs": [
    {
     "name": "stdout",
     "output_type": "stream",
     "text": [
      "Numbers divisible by 3 or 5 (while loop): [3, 5, 6, 9, 10, 12, 15, 18, 20, 21, 24, 25, 27, 30, 33, 35, 36, 39, 40, 42, 45, 48, 50]\n"
     ]
    }
   ],
   "source": [
    "//While loop\n",
    "import java.util.ArrayList;\n",
    "\n",
    "public class Main {\n",
    "    public static void main(String[] args) {\n",
    "        ArrayList<Integer> divisibleNumbers = new ArrayList<>();\n",
    "        int i = 1;\n",
    "\n",
    "        while (i <= 50) {\n",
    "            if (i % 3 == 0 || i % 5 == 0) {\n",
    "                divisibleNumbers.add(i);\n",
    "            }\n",
    "            i++;\n",
    "        }\n",
    "        System.out.println(\"Numbers divisible by 3 or 5 (while loop): \" + divisibleNumbers);\n",
    "    }\n",
    "}\n",
    "\n",
    "Main.main(null);"
   ]
  },
  {
   "cell_type": "code",
   "execution_count": 23,
   "metadata": {},
   "outputs": [
    {
     "name": "stdout",
     "output_type": "stream",
     "text": [
      "Numbers divisible by 3 or 5 (for loop): [3, 5, 6, 9, 10, 12, 15, 18, 20, 21, 24, 25, 27, 30, 33, 35, 36, 39, 40, 42, 45, 48, 50]\n"
     ]
    }
   ],
   "source": [
    "//For loop\n",
    "import java.util.ArrayList;\n",
    "\n",
    "public class Main {\n",
    "    public static void main(String[] args) {\n",
    "        ArrayList<Integer> divisibleNumbers = new ArrayList<>();\n",
    "\n",
    "        for (int i = 1; i <= 50; i++) {\n",
    "            if (i % 3 == 0 || i % 5 == 0) {\n",
    "                divisibleNumbers.add(i);\n",
    "            }\n",
    "        }\n",
    "\n",
    "        System.out.println(\"Numbers divisible by 3 or 5 (for loop): \" + divisibleNumbers);\n",
    "    }\n",
    "}\n",
    "\n",
    "Main.main(null);"
   ]
  },
  {
   "cell_type": "markdown",
   "metadata": {},
   "source": [
    "### Harder Hack\n",
    "#### Palindromes are numbers that have the same value when reversed (ex: “123321” or “323”). Create a program that uses a while loop that outputs all palindromes in any given list. \n",
    "\n",
    "Sample Input: \n",
    "test_list = [5672, 235, 5537, 6032, 317, 8460, 1672, 8104, 7770, 4442, 913, 2508, 1116, 9969, 9091, 522, 8756, 9527, 7968, 1520, 4444, 515, 2882, 6556, 595]\n",
    "\n",
    "Sample Output:\n",
    "4444, 515, 2882, 6556, 595"
   ]
  },
  {
   "cell_type": "code",
   "execution_count": 24,
   "metadata": {},
   "outputs": [
    {
     "name": "stdout",
     "output_type": "stream",
     "text": [
      "Palindromes: [4444, 515, 2882, 6556, 595]\n"
     ]
    }
   ],
   "source": [
    "import java.util.ArrayList;\n",
    "\n",
    "public class Main {\n",
    "    public static void main(String[] args) {\n",
    "        int[] testList = {5672, 235, 5537, 6032, 317, 8460, 1672, 8104, 7770, \n",
    "                          4442, 913, 2508, 1116, 9969, 9091, 522, 8756, \n",
    "                          9527, 7968, 1520, 4444, 515, 2882, 6556, 595};\n",
    "\n",
    "        ArrayList<Integer> palindromes = new ArrayList<>();\n",
    "        int index = 0;\n",
    "\n",
    "        while (index < testList.length) {\n",
    "            if (isPalindrome(testList[index])) {\n",
    "                palindromes.add(testList[index]);\n",
    "            }\n",
    "            index++;\n",
    "        }\n",
    "\n",
    "        System.out.println(\"Palindromes: \" + palindromes);\n",
    "    }\n",
    "\n",
    "    // Helper method to check if a number is a palindrome\n",
    "    private static boolean isPalindrome(int num) {\n",
    "        String str = Integer.toString(num);\n",
    "        int start = 0;\n",
    "        int end = str.length() - 1;\n",
    "\n",
    "        while (start < end) {\n",
    "            if (str.charAt(start) != str.charAt(end)) {\n",
    "                return false;\n",
    "            }\n",
    "            start++;\n",
    "            end--;\n",
    "        }\n",
    "        return true;\n",
    "    }\n",
    "}\n",
    "\n",
    "Main.main(null);"
   ]
  },
  {
   "cell_type": "markdown",
   "metadata": {},
   "source": [
    "## Bonus Hack (for above 0.9)\n",
    "### Use a for loop to output a spiral matrix with size n\n",
    "Example:\n",
    "\n",
    "Sample Input: n = 3\n",
    "\n",
    "Output: [[1, 2, 3], [8, 9, 4], [7, 6, 5]]"
   ]
  },
  {
   "cell_type": "code",
   "execution_count": 27,
   "metadata": {},
   "outputs": [
    {
     "name": "stdout",
     "output_type": "stream",
     "text": [
      "Enter The Value For N:\n",
      "Spiral Matrix:\n",
      "[1, 2, 3, 4, 5]\n",
      "[16, 17, 18, 19, 6]\n",
      "[15, 24, 25, 20, 7]\n",
      "[14, 23, 22, 21, 8]\n",
      "[13, 12, 11, 10, 9]\n"
     ]
    }
   ],
   "source": [
    "import java.util.Scanner;\n",
    "\n",
    "public class Main {\n",
    "    public static void main(String args[]) {\n",
    "        System.out.println(\"Enter The Value For N:\");\n",
    "         \n",
    "        Scanner input = new Scanner(System.in);\n",
    "        int n = input.nextInt();\n",
    "         \n",
    "        int[][] spiral = new int[n][n];\n",
    "        int value = 1;\n",
    "         \n",
    "        int minCol = 0;\n",
    "        int maxCol = n - 1;\n",
    "        int minRow = 0;\n",
    "        int maxRow = n - 1;\n",
    "         \n",
    "        while (value <= n * n) {\n",
    "            for (int i = minCol; i <= maxCol; i++) {\n",
    "                spiral[minRow][i] = value;\n",
    "                value++;\n",
    "            }\n",
    "             \n",
    "            for (int i = minRow + 1; i <= maxRow; i++) { \n",
    "                spiral[i][maxCol] = value; \n",
    "                value++; \n",
    "            }\n",
    "             \n",
    "            if (minRow < maxRow) {\n",
    "                for (int i = maxCol - 1; i >= minCol; i--) {\n",
    "                    spiral[maxRow][i] = value;\n",
    "                    value++;\n",
    "                }\n",
    "            }\n",
    "             \n",
    "            if (minCol < maxCol) {\n",
    "                for (int i = maxRow - 1; i >= minRow + 1; i--) {\n",
    "                    spiral[i][minCol] = value;\n",
    "                    value++;\n",
    "                }\n",
    "            }\n",
    "             \n",
    "            minCol++;\n",
    "            minRow++;\n",
    "            maxCol--;\n",
    "            maxRow--;\n",
    "        }\n",
    "         \n",
    "        System.out.println(\"Spiral Matrix:\");\n",
    "        for (int i = 0; i < spiral.length; i++) {\n",
    "            System.out.print(\"[\");\n",
    "            for (int j = 0; j < spiral[i].length; j++) {\n",
    "                System.out.print(spiral[i][j]);\n",
    "                if (j < spiral[i].length - 1) {\n",
    "                    System.out.print(\", \");\n",
    "                }\n",
    "            }\n",
    "            System.out.println(\"]\");\n",
    "        }\n",
    "        \n",
    "        input.close();\n",
    "    }\n",
    "}\n",
    "\n",
    "Main.main(null);\n"
   ]
  }
 ],
 "metadata": {
  "kernelspec": {
   "display_name": "Java",
   "language": "java",
   "name": "java"
  },
  "language_info": {
   "codemirror_mode": "java",
   "file_extension": ".jshell",
   "mimetype": "text/x-java-source",
   "name": "java",
   "pygments_lexer": "java",
   "version": "17.0.12+7-Ubuntu-1ubuntu222.04"
  }
 },
 "nbformat": 4,
 "nbformat_minor": 2
}
