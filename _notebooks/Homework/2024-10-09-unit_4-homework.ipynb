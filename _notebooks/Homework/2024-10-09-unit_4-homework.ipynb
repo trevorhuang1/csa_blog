{
 "cells": [
  {
   "cell_type": "code",
   "execution_count": null,
   "metadata": {
    "vscode": {
     "languageId": "java"
    }
   },
   "outputs": [],
   "source": [
    "---\n",
    "layout: post\n",
    "toc: True\n",
    "title: Unit 4 Homework\n",
    "courses: {'csa': {'week': 7}}\n",
    "type: ccc\n",
    "categories: [AP CSA]\n",
    "author: Trevor Huang\n",
    "---"
   ]
  },
  {
   "cell_type": "markdown",
   "metadata": {},
   "source": [
    "## 4.1 Popcorn Hacks\n",
    "find and fix the missing increment in the while loop"
   ]
  },
  {
   "cell_type": "code",
   "execution_count": 1,
   "metadata": {
    "vscode": {
     "languageId": "java"
    }
   },
   "outputs": [
    {
     "name": "stdout",
     "output_type": "stream",
     "text": [
      "0\n",
      "1\n",
      "2\n",
      "3\n",
      "4\n"
     ]
    }
   ],
   "source": [
    "int i = 0;\n",
    "while (i < 5) {\n",
    "    System.out.println(i);\n",
    "    i++;\n",
    "}"
   ]
  },
  {
   "cell_type": "markdown",
   "metadata": {},
   "source": [
    "## 4.2 Popcorn Hacks\n",
    "Create a program that iterates through a list of numbers (int_list = {0, 4, 51, 83, 92, 10, 123, 145}) using both a for loop and a for each loop, then split the numbers in the list into even/odd lists, and output them."
   ]
  },
  {
   "cell_type": "code",
   "execution_count": 3,
   "metadata": {
    "vscode": {
     "languageId": "java"
    }
   },
   "outputs": [
    {
     "name": "stdout",
     "output_type": "stream",
     "text": [
      "Even numbers (for loop): [0, 4, 92, 10]\n",
      "Odd numbers (for loop): [51, 83, 123, 145]\n",
      "Even numbers (for-each loop): [0, 4, 92, 10]\n",
      "Odd numbers (for-each loop): [51, 83, 123, 145]\n"
     ]
    }
   ],
   "source": [
    "import java.util.ArrayList;\n",
    "import java.util.List;\n",
    "\n",
    "public class Main {\n",
    "    public static void main(String[] args) {\n",
    "        // List of numbers\n",
    "        int[] intList = {0, 4, 51, 83, 92, 10, 123, 145};\n",
    "        \n",
    "        // Using a traditional for loop\n",
    "        List<Integer> evenNumbers = new ArrayList<>();\n",
    "        List<Integer> oddNumbers = new ArrayList<>();\n",
    "        \n",
    "        for (int i = 0; i < intList.length; i++) {\n",
    "            if (intList[i] % 2 == 0) {\n",
    "                evenNumbers.add(intList[i]);\n",
    "            } else {\n",
    "                oddNumbers.add(intList[i]);\n",
    "            }\n",
    "        }\n",
    "\n",
    "        System.out.println(\"Even numbers (for loop): \" + evenNumbers);\n",
    "        System.out.println(\"Odd numbers (for loop): \" + oddNumbers);\n",
    "\n",
    "        // Reset lists for the for-each loop\n",
    "        evenNumbers.clear();\n",
    "        oddNumbers.clear();\n",
    "\n",
    "        // Using an enhanced for-each loop\n",
    "        for (int num : intList) {\n",
    "            if (num % 2 == 0) {\n",
    "                evenNumbers.add(num);\n",
    "            } else {\n",
    "                oddNumbers.add(num);\n",
    "            }\n",
    "        }\n",
    "\n",
    "        System.out.println(\"Even numbers (for-each loop): \" + evenNumbers);\n",
    "        System.out.println(\"Odd numbers (for-each loop): \" + oddNumbers);\n",
    "    }\n",
    "}\n",
    "\n",
    "Main.main(null);"
   ]
  },
  {
   "cell_type": "markdown",
   "metadata": {},
   "source": [
    "## 4.3 Popcorn Hacks\n",
    "Iterate through the characters a string with a `while` loop"
   ]
  },
  {
   "cell_type": "code",
   "execution_count": 5,
   "metadata": {
    "vscode": {
     "languageId": "java"
    }
   },
   "outputs": [
    {
     "name": "stdout",
     "output_type": "stream",
     "text": [
      "a\n",
      "b\n",
      "c\n",
      "d\n",
      "e\n",
      "f\n",
      "g\n",
      "h\n",
      "i\n",
      "j\n",
      "k\n",
      "l\n",
      "m\n",
      "n\n",
      "o\n",
      "p\n",
      "q\n",
      "r\n",
      "s\n",
      "t\n",
      "u\n",
      "v\n",
      "w\n",
      "x\n",
      "y\n",
      "z\n"
     ]
    }
   ],
   "source": [
    "String alphabet = \"abcdefghijklmnopqrstuvwxyz\";\n",
    "\n",
    "for (int i = 0; i < alphabet.length(); i++) {\n",
    "    System.out.println(alphabet.charAt(i));\n",
    "}"
   ]
  },
  {
   "cell_type": "markdown",
   "metadata": {},
   "source": [
    "## 4.4 Popcorn Hacks"
   ]
  },
  {
   "cell_type": "markdown",
   "metadata": {},
   "source": [
    "What's wrong with this code?"
   ]
  },
  {
   "cell_type": "code",
   "execution_count": null,
   "metadata": {
    "vscode": {
     "languageId": "java"
    }
   },
   "outputs": [],
   "source": [
    "//Hint: Check the Syntax and look at the equals to signs on the example above\n",
    "\n",
    "import java.util.Scanner;\n",
    "Scanner scanner = new Scanner(System.in);\n",
    "System.out.print(\"Enter the number of rows: \");\n",
    "int rows = scanner.nextInt();\n",
    "for (int i = rows; i>1; i-) {\n",
    "    for (int j = 1; j <= i; j++) {\n",
    "        System.out.print(j + \" \");\n",
    "    }\n",
    "    System.out.println();\n",
    "    }\n",
    "        \n",
    "scanner.close();\n"
   ]
  },
  {
   "cell_type": "markdown",
   "metadata": {},
   "source": [
    "There are 2 problems with the code:\n",
    "1. The for loop does not decrement correctly, it should be `i--` not `i-`\n",
    "2. Your outer loop runs from i = rows to i > 1, meaning it skips printing the first row. If you want to print all rows, you should use i >= 1.\n",
    "\n",
    "Corrected code is shown at the bottom:"
   ]
  },
  {
   "cell_type": "code",
   "execution_count": 13,
   "metadata": {
    "vscode": {
     "languageId": "java"
    }
   },
   "outputs": [
    {
     "name": "stdout",
     "output_type": "stream",
     "text": [
      "Enter the number of rows: \n",
      "1 2 3 4 5 \n",
      "1 2 3 4 \n",
      "1 2 3 \n",
      "1 2 \n",
      "1 \n"
     ]
    }
   ],
   "source": [
    "import java.util.Scanner;\n",
    "\n",
    "public class Main {\n",
    "    public static void main(String[] args) {\n",
    "        Scanner scanner = new Scanner(System.in);\n",
    "        \n",
    "        System.out.print(\"Enter the number of rows: \\n\");\n",
    "        int rows = scanner.nextInt();\n",
    "        \n",
    "        for (int i = rows; i >= 1; i--) {  // Fixed decrement and loop condition\n",
    "            for (int j = 1; j <= i; j++) {\n",
    "                System.out.print(j + \" \");\n",
    "            }\n",
    "            System.out.println();\n",
    "        }\n",
    "        \n",
    "        scanner.close();\n",
    "    }\n",
    "}\n",
    "\n",
    "Main.main(null);"
   ]
  },
  {
   "cell_type": "markdown",
   "metadata": {},
   "source": [
    "### MCQ 1\n",
    "<img width=\"540\" alt=\"Screenshot 2024-09-19 at 20 45 04\" src=\"https://github.com/user-attachments/assets/ef76eea5-ffa1-432b-9ca0-95c1b9fd002d\">"
   ]
  },
  {
   "cell_type": "markdown",
   "metadata": {},
   "source": [
    "**The answer is B** since it prints 5 rows of 4 asterisks each for a total of 20 asterisks. This is because the inner loop controls how many asterisks per row (4) and the other loop controls how many rows in total (5)."
   ]
  },
  {
   "cell_type": "markdown",
   "metadata": {},
   "source": [
    "### MCQ 2\n",
    "<img width=\"542\" alt=\"Screenshot 2024-09-29 at 15 54 38\" src=\"https://github.com/user-attachments/assets/e3639622-1162-49fa-84fa-8853f5a7c347\">"
   ]
  },
  {
   "cell_type": "markdown",
   "metadata": {},
   "source": [
    "**The answer is D** because it prints out 6 rows of 5 asterisks each for a total of 30 asterisks. This is because the inner loop controls how many asterisks per row (5) and the other loop controls how many rows in total (6)."
   ]
  },
  {
   "cell_type": "markdown",
   "metadata": {},
   "source": [
    "## Homework Hacks"
   ]
  },
  {
   "cell_type": "markdown",
   "metadata": {},
   "source": [
    "### Question 1:\n",
    "What does the following code print?   \n",
    "\n",
    "A. 5 6 7 8 9   \n",
    "\n",
    "B. 4 5 6 7 8 9 10 11 12   \n",
    "\n",
    "C. 3 5 7 9 11   \n",
    "\n",
    "D. 3 4 5 6 7 8 9 10 11 12   \n",
    "\n",
    "<details>\n",
    "<summary>Click to reveal answer:</summary> \n",
    "  D\n",
    "</details>\n",
    "\n",
    "Explain your answer. (explanation is graded not answer)"
   ]
  },
  {
   "cell_type": "code",
   "execution_count": null,
   "metadata": {
    "vscode": {
     "languageId": "java"
    }
   },
   "outputs": [],
   "source": [
    "for (int i = 3; i <= 12; i++) {\n",
    "    System.out.print(i + \" \");\n",
    " }"
   ]
  },
  {
   "cell_type": "markdown",
   "metadata": {},
   "source": [
    "The answer is D because the code prints out all values starting from 3 and ending at 12 because it is inclusive. Therefore, since the output is the i value and then a space, it print all numbers from 3-12 inclusive separated by spaces."
   ]
  }
 ],
 "metadata": {
  "kernelspec": {
   "display_name": "Java",
   "language": "java",
   "name": "java"
  },
  "language_info": {
   "codemirror_mode": "java",
   "file_extension": ".jshell",
   "mimetype": "text/x-java-source",
   "name": "Java",
   "pygments_lexer": "java",
   "version": "17.0.12+7-Ubuntu-1ubuntu222.04"
  }
 },
 "nbformat": 4,
 "nbformat_minor": 2
}
