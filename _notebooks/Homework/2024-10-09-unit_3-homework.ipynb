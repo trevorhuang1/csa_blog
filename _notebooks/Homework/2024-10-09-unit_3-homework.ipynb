{
 "cells": [
  {
   "cell_type": "raw",
   "metadata": {
    "vscode": {
     "languageId": "raw"
    }
   },
   "source": [
    "---\n",
    "layout: post\n",
    "toc: True\n",
    "title: Unit 3 Homework\n",
    "courses: {'csa': {'week': 7}}\n",
    "type: ccc\n",
    "categories: [AP CSA]\n",
    "author: Trevor Huang\n",
    "---"
   ]
  },
  {
   "cell_type": "markdown",
   "metadata": {},
   "source": [
    "## 3.1 Popcorn Hacks/Homework"
   ]
  },
  {
   "cell_type": "code",
   "execution_count": 8,
   "metadata": {},
   "outputs": [
    {
     "name": "stdout",
     "output_type": "stream",
     "text": [
      "Is my age less than 16? true\n",
      "Is my age less than or equal to 15? true\n",
      "Is my age equal to 15? true\n"
     ]
    },
    {
     "name": "stdout",
     "output_type": "stream",
     "text": [
      "Am I older than my friend? false\n",
      "Am I the same age or older than my friend? false\n",
      "Are my friend and I not the same age? true\n"
     ]
    }
   ],
   "source": [
    "int myAge = 15;\n",
    "int otherAge = 45;\n",
    "\n",
    "// 1. Prints True\n",
    "System.out.println(\"Is my age less than 16? \" + (myAge < 16));\n",
    "\n",
    "// 2. Prints True\n",
    "System.out.println(\"Is my age less than or equal to 15? \" + (myAge <= 15));\n",
    "\n",
    "// 3. Prints True\n",
    "System.out.println(\"Is my age equal to 15? \" + (myAge == 15));\n",
    "\n",
    "// 4. Prints False\n",
    "System.out.println(\"Am I older than my friend? \" + (myAge > otherAge));\n",
    "\n",
    "// 5. Prints False\n",
    "System.out.println(\"Am I the same age or older than my friend? \" + (myAge >= otherAge));\n",
    "\n",
    "// 6. Prints True\n",
    "System.out.println(\"Are my friend and I not the same age? \" + (myAge != otherAge));"
   ]
  },
  {
   "cell_type": "markdown",
   "metadata": {},
   "source": [
    "What is wrong with this code?"
   ]
  },
  {
   "cell_type": "code",
   "execution_count": null,
   "metadata": {},
   "outputs": [],
   "source": [
    "String myName = Alisha;\n",
    "\n",
    "myName != Anika;\n",
    "myName == Alisha ;"
   ]
  },
  {
   "cell_type": "markdown",
   "metadata": {},
   "source": [
    "1. Since myName is a string being compared to another string, \"Anika\" and \"Alisha\" needs to be in quotes\n",
    "2. In Java, == and != don't compare string content directly, they compare references."
   ]
  },
  {
   "cell_type": "code",
   "execution_count": 10,
   "metadata": {},
   "outputs": [
    {
     "name": "stdout",
     "output_type": "stream",
     "text": [
      "Is my name Alisha? true\n",
      "Is my name not Anika? true\n"
     ]
    }
   ],
   "source": [
    "String myName = \"Alisha\";\n",
    "\n",
    "System.out.println(\"Is my name Alisha? \" + (myName == \"Alisha\"));\n",
    "System.out.println(\"Is my name not Anika? \" + (myName != \"Anika\"));"
   ]
  },
  {
   "cell_type": "markdown",
   "metadata": {},
   "source": [
    "### homework question\n",
    "<img width=\"693\" alt=\"Screenshot 2024-09-16 at 8 05 24 AM\" src=\"https://github.com/user-attachments/assets/1fe21854-ca17-4cfd-9e9d-14a92e6e6205\">\n",
    "\n",
    "what is the precondition for num?\n",
    "\n",
    "**The precondition for num is that it is between one and six inclusive**"
   ]
  },
  {
   "cell_type": "markdown",
   "metadata": {},
   "source": [
    "## 3.2 Popcorn Hacks/Homework"
   ]
  },
  {
   "cell_type": "markdown",
   "metadata": {},
   "source": [
    "Create test cases that do not satisy the condition above. you can copy/paste the code into the new code cell"
   ]
  },
  {
   "cell_type": "code",
   "execution_count": 20,
   "metadata": {},
   "outputs": [
    {
     "name": "stdout",
     "output_type": "stream",
     "text": [
      "Test case for 16 years old: Current age: 16\n",
      "You can start learning to drive!\n",
      "On your next birthday, you will be 17 years old!\n",
      "Test case for 15 years old: Current age: 15\n",
      "You are not old enough to learn to drive yet.\n",
      "On your next birthday, you will be 16 years old!\n",
      "Test case for 10 years old: Current age: 10\n",
      "You are not old enough to learn to drive yet.\n",
      "On your next birthday, you will be 11 years old!\n"
     ]
    }
   ],
   "source": [
    "public class Main {\n",
    "    public static String checkDrivingAge(int age) {\n",
    "        String result = \"Current age: \" + age + \"\\n\";\n",
    "        \n",
    "        if (age >= 16) {\n",
    "            result += \"You can start learning to drive!\\n\";\n",
    "        } else {\n",
    "            result += \"You are not old enough to learn to drive yet.\\n\";\n",
    "        }\n",
    "        \n",
    "        result += \"On your next birthday, you will be \" + (age + 1) + \" years old!\";\n",
    "        return result;\n",
    "    }\n",
    "    \n",
    "    public static void main(String[] args) {\n",
    "        // Test case example\n",
    "        int testAge = 16;\n",
    "        String result = checkDrivingAge(testAge);\n",
    "        System.out.println(\"Test case for 16 years old: \" + result);\n",
    "\n",
    "        // Test case example\n",
    "        testAge = 15;\n",
    "        result = checkDrivingAge(testAge);\n",
    "        System.out.println(\"Test case for 15 years old: \" + result);\n",
    "\n",
    "        // Test case example\n",
    "        testAge = 10;\n",
    "        result = checkDrivingAge(testAge);\n",
    "        System.out.println(\"Test case for 10 years old: \" + result);\n",
    "    }\n",
    "}\n",
    "\n",
    "Main.main(null);"
   ]
  },
  {
   "cell_type": "markdown",
   "metadata": {},
   "source": [
    "## 3.3 Popcorn Hacks/Homework"
   ]
  },
  {
   "cell_type": "markdown",
   "metadata": {},
   "source": [
    "<img width=\"816\" alt=\"image\" src=\"https://github.com/user-attachments/assets/c6701143-b87f-427b-a206-6cee0660571c\">\n",
    "\n",
    "1. Based on this code, if you were younger than 16 what would it print out?\n",
    "2. Write your own if else statement\n",
    "\n",
    "**If I was younger than 16, the code would print out: \"You are not old enough for a license yet.\"**"
   ]
  },
  {
   "cell_type": "code",
   "execution_count": 22,
   "metadata": {},
   "outputs": [
    {
     "name": "stdout",
     "output_type": "stream",
     "text": [
      "You should take a nap.\n"
     ]
    }
   ],
   "source": [
    "boolean tired = true;\n",
    "boolean hungry = false;\n",
    "\n",
    "if (tired) {\n",
    "    System.out.println(\"You should take a nap.\");\n",
    "}\n",
    "else if (hungry) {\n",
    "    System.out.println(\"You should eat something.\");\n",
    "} \n",
    "else {\n",
    "    System.out.println(\"You should go for a walk.\");\n",
    "}"
   ]
  },
  {
   "cell_type": "markdown",
   "metadata": {},
   "source": [
    "## 3.4 Popcorn Hacks/Homework"
   ]
  },
  {
   "cell_type": "markdown",
   "metadata": {},
   "source": [
    "<img width=\"734\" alt=\"image\" src=\"https://github.com/user-attachments/assets/d7864258-6f7a-4de1-a6f3-4905dd3eb503\">\n",
    "\n",
    "1. If I was 19 what would it print out? \n",
    "2. If I was 13 what would it print out? \n",
    "3. Create your if statement with one else if condition.\n",
    "\n",
    "a. If you were 19, it would print that you can register to vote and are old enough for a license to drive. At the start it would print that your current age is 19.\n",
    "\n",
    "b. It would only print out that your current age is 13"
   ]
  },
  {
   "cell_type": "code",
   "execution_count": 23,
   "metadata": {},
   "outputs": [
    {
     "name": "stdout",
     "output_type": "stream",
     "text": [
      "You got an A!\n"
     ]
    }
   ],
   "source": [
    "// Create your if statement with one if else condition\n",
    "int grade = 90;\n",
    "\n",
    "if (grade >= 90) {\n",
    "    System.out.println(\"You got an A!\");\n",
    "}\n",
    "else if (grade >= 80) {\n",
    "    System.out.println(\"You got a B!\");\n",
    "}\n",
    "else if (grade >= 70) {\n",
    "    System.out.println(\"You got a C!\");\n",
    "}\n",
    "else if (grade >= 60) {\n",
    "    System.out.println(\"You got a D!\");\n",
    "}\n",
    "else {\n",
    "    System.out.println(\"You got an F!\");\n",
    "}"
   ]
  },
  {
   "cell_type": "markdown",
   "metadata": {},
   "source": [
    "## 3.5 Popcorn Hacks/Homework"
   ]
  },
  {
   "cell_type": "markdown",
   "metadata": {},
   "source": [
    "- explain the purpose of this algorithm, and what each if condition is used for\n",
    "- what would be output if input is \n",
    "    - age 20\n",
    "    - anual income 1500\n",
    "    - student status: yes"
   ]
  },
  {
   "cell_type": "code",
   "execution_count": null,
   "metadata": {},
   "outputs": [],
   "source": [
    "function checkMembershipEligibility() {\n",
    "    // Get user input\n",
    "    let age = parseInt(prompt(\"Enter your age:\"));  // Age input\n",
    "    let income = parseFloat(prompt(\"Enter your annual income:\"));  // Annual income input\n",
    "    let isStudent = prompt(\"Are you a student? (yes/no):\").toLowerCase() === 'yes';  // Student status input\n",
    "\n",
    "    // Initialize an empty array to hold results\n",
    "    let results = [];\n",
    "\n",
    "    // Check eligibility for different memberships\n",
    "\n",
    "    // Basic Membership\n",
    "    if (age >= 18 && income >= 20000) {\n",
    "        results.push(\"You qualify for Basic Membership.\");\n",
    "    }\n",
    "\n",
    "    // Premium Membership\n",
    "    if (age >= 25 && income >= 50000) {\n",
    "        results.push(\"You qualify for Premium Membership.\");\n",
    "    }\n",
    "\n",
    "    // Student Discount\n",
    "    if (isStudent) {\n",
    "        results.push(\"You are eligible for a Student Discount.\");\n",
    "    }\n",
    "\n",
    "    // Senior Discount\n",
    "    if (age >= 65) {\n",
    "        results.push(\"You qualify for a Senior Discount.\");\n",
    "    }\n",
    "\n",
    "    // If no eligibility, provide a default message\n",
    "    if (results.length === 0) {\n",
    "        results.push(\"You do not qualify for any memberships or discounts.\");\n",
    "    }\n",
    "\n",
    "    // Output all results\n",
    "    results.forEach(result => console.log(result));\n",
    "}\n",
    "\n",
    "// Call the function to execute\n",
    "checkMembershipEligibility();"
   ]
  },
  {
   "cell_type": "markdown",
   "metadata": {},
   "source": [
    "This algorithm is designed to check eligibility for various types of memberships and discounts based on a user's age, annual income, and student status. The algorithm collects user input for these criteria, evaluates them against specific conditions, and outputs messages indicating which memberships or discounts the user qualifies for.\n",
    "\n",
    "- Age: 20\n",
    "- Annual Income: 1500\n",
    "- Student Status: yes\n",
    "\n",
    "**The output would be: \"You are eligible for a Student Discount\" and \"You do not qualify for any memberships or discounts.\"**"
   ]
  },
  {
   "cell_type": "markdown",
   "metadata": {},
   "source": [
    "Write a program that checks if a person can get a discount based on their age and student status. You can define your own discount criteria! Use compound conditionals to determine the output."
   ]
  },
  {
   "cell_type": "code",
   "execution_count": 26,
   "metadata": {},
   "outputs": [
    {
     "name": "stdout",
     "output_type": "stream",
     "text": [
      "You qualify for a Student Discount.\n"
     ]
    }
   ],
   "source": [
    "public class Main {\n",
    "    public static void main(String[] args) {\n",
    "        int age = 30; // Change this value for testing\n",
    "        boolean isStudent = true; // Change this value for testing\n",
    "\n",
    "        // Compound conditionals to check for discount eligibility\n",
    "\n",
    "        if (age < 18) {\n",
    "            System.out.println(\"You qualify for a Youth Discount.\");\n",
    "        } else if (age >= 60) {\n",
    "            System.out.println(\"You qualify for a Senior Discount.\");\n",
    "        } else if (isStudent && (age >= 18 && age < 60)) {\n",
    "            System.out.println(\"You qualify for a Student Discount.\");\n",
    "        } else {\n",
    "            System.out.println(\"You do not qualify for any discounts.\");\n",
    "        }\n",
    "\n",
    "        // Additional combined discount logic\n",
    "        if (isStudent && (age < 18 || age >= 60)) {\n",
    "            System.out.println(\"You also qualify for an additional Student Discount on top of the age-based discount.\");\n",
    "        }\n",
    "    }\n",
    "}\n",
    "\n",
    "Main.main(null);\n"
   ]
  },
  {
   "cell_type": "markdown",
   "metadata": {},
   "source": [
    "## 3.6 Popcorn Hacks/Homework"
   ]
  },
  {
   "cell_type": "markdown",
   "metadata": {},
   "source": [
    "What is !(x == 0) equivalent to?\n",
    "\n",
    "Using De Morgan's Law to negate the expression x == 0, we get:\n",
    "!(x == 0) is equivalent to x != 0.\n",
    "Negate the expression (x < -5 || x > 10):\n",
    "\n",
    "Applying De Morgan's Law to negate the expression (x < -5 || x > 10):\n",
    "Negate each part of the condition and change the || (OR) to && (AND):\n",
    "!(x < -5 || x > 10) becomes: (x >= -5 && x <= 10)\n",
    "\n",
    "\n",
    "Explanation of De Morgan's Law:\n",
    "The law states that the negation of a conjunction (&&) is the disjunction (||) of the negations, and vice versa:\n",
    "!(A && B) is equivalent to !A || !B\n",
    "!(A || B) is equivalent to !A && !B"
   ]
  },
  {
   "cell_type": "markdown",
   "metadata": {},
   "source": [
    "## 3.7 Popcorn Hacks/Homework"
   ]
  },
  {
   "cell_type": "markdown",
   "metadata": {},
   "source": [
    "Would the sharons house and my house be the same?"
   ]
  },
  {
   "cell_type": "code",
   "execution_count": null,
   "metadata": {},
   "outputs": [],
   "source": [
    "class House {\n",
    "    private String color;\n",
    "    private int size;\n",
    "\n",
    "    public House(String color, int size) {\n",
    "        this.color = color;\n",
    "        this.size = size;\n",
    "    }\n",
    "\n",
    "    // Override equals method to compare House objects by content\n",
    "    @Override\n",
    "    public boolean equals(Object obj) {\n",
    "        if (this == obj) return true;  // Check if same object reference\n",
    "        if (obj == null || getClass() != obj.getClass()) return false;  // Check if same class\n",
    "        House house = (House) obj;\n",
    "        return size == house.size && color.equals(house.color);  // Compare attributes\n",
    "    }\n",
    "}\n",
    "\n",
    "public class Main {\n",
    "    public static void main(String[] args) {\n",
    "        House myHouse = new House(\"green\", 150);\n",
    "        House anikasHouse = new House(\"green\", 150);\n",
    "        House sharonsHouse = new House(\"green\", 150);\n",
    "\n",
    "        // Correct comparison using equals()\n",
    "        System.out.println(myHouse.equals(sharonsHouse));  // This should return true\n",
    "    }\n",
    "}\n"
   ]
  }
 ],
 "metadata": {
  "kernelspec": {
   "display_name": "Java",
   "language": "java",
   "name": "java"
  },
  "language_info": {
   "codemirror_mode": "java",
   "file_extension": ".jshell",
   "mimetype": "text/x-java-source",
   "name": "java",
   "pygments_lexer": "java",
   "version": "17.0.12+7-Ubuntu-1ubuntu222.04"
  }
 },
 "nbformat": 4,
 "nbformat_minor": 2
}
