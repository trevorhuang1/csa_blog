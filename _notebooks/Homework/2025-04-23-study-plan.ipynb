{
 "cells": [
  {
   "cell_type": "markdown",
   "id": "d45beba5",
   "metadata": {},
   "source": [
    "---\n",
    "toc: false \n",
    "comments: True\n",
    "layout: post\n",
    "title: Study plan for 5/7 Exam\n",
    "description: This will be how I study for the AP CSA exam. I have blocked my time out to hopefully ensure success on the exam.\n",
    "courses: { csa: {week: 26} }\n",
    "permalink: /ap-exam/study-plan\n",
    "menu: nav/CSA_Units/collegeboard.html\n",
    "type: issues\n",
    "---"
   ]
  },
  {
   "cell_type": "markdown",
   "id": "ced0a582",
   "metadata": {},
   "source": [
    "# Checklist\n",
    "Big thank you to Shuban for providing our study group with a checklist. My copy is [here](https://docs.google.com/document/d/189nPjcqD8MyUQTIw8zpGSUgRNsDYVYbHrdyenAxNfrM/edit?usp=sharing). I pair this study guide with an online website called [runscape academy](https://runestone.academy/ns/books/published/csawesome/index.html)."
   ]
  },
  {
   "cell_type": "markdown",
   "id": "84462edc",
   "metadata": {},
   "source": [
    "# Calendar\n",
    "### 📅 AP CSA Study Calendar (4/15–5/7)\n",
    "\n",
    "| Date       | Plan                                                                 |\n",
    "|------------|----------------------------------------------------------------------|\n",
    "| Apr 15 (Mon) | Review Unit 1 (Primitive Types) & finish any weak spots            |\n",
    "| Apr 16 (Tue) | Finish Unit 3 (Boolean Expressions and if Statements)              |\n",
    "| Apr 17 (Wed) | Review Unit 2 (Using Objects) & practice FRQs                      |\n",
    "| Apr 18 (Thu) | Review Unit 5 (Writing Classes) + Class design practice             |\n",
    "| Apr 19 (Fri) | Study Unit 6 (Array)                                               |\n",
    "| Apr 20 (Sat) | Practice Array-based FRQs + MCQs                                   |\n",
    "| Apr 21 (Sun) | Study Unit 7 (ArrayList)                                           |\n",
    "| Apr 22 (Mon) | Practice with ArrayList MCQs and FRQs                              |\n",
    "| Apr 23 (Tue) | Study Unit 8 (2D Array)                                            |\n",
    "| Apr 24 (Wed) | Practice 2D Array problems (nested loops, indexing)                |\n",
    "| Apr 25 (Thu) | Study Unit 9 (Inheritance)                                         |\n",
    "| Apr 26 (Fri) | Practice FRQs using inheritance (super, override, polymorphism)    |\n",
    "| Apr 27 (Sat) | Study Unit 10 (Recursion)                                          |\n",
    "| Apr 28 (Sun) | Practice recursion problems (tracing, base case, recursive step)   |\n",
    "| Apr 29 (Mon) | Mixed Practice: Arrays, ArrayLists, Inheritance                    |\n",
    "| Apr 30 (Tue) | Mixed Practice: Recursion, 2D Array                                |\n",
    "| May 1 (Wed)  | Practice test (MCQ-style) + review solutions                       |\n",
    "| May 2 (Thu)  | Practice FRQs under time constraints                               |\n",
    "| May 3 (Fri)  | Light review of weak spots + notes summary                         |\n",
    "| May 4 (Sat)  | Final practice (your pick: MCQs or FRQs) + confidence boost        |\n",
    "| **May 5 (Sun)** | **Relaxation day: Very light review on weak subjects and get a good night's sleep**               |\n",
    "| **May 6 (Mon)** | **Relaxation day: Do some fun java coding challenges with friends on google docs to get practice**              |\n",
    "| **May 7 (Tue)** | **Rest. No new content. Get a good night's sleep.**              |\n"
   ]
  }
 ],
 "metadata": {
  "kernelspec": {
   "display_name": "Java",
   "language": "java",
   "name": "java"
  },
  "language_info": {
   "name": "java"
  }
 },
 "nbformat": 4,
 "nbformat_minor": 5
}
