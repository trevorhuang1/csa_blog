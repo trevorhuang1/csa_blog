{
 "cells": [
  {
   "cell_type": "raw",
   "metadata": {
    "vscode": {
     "languageId": "raw"
    }
   },
   "source": [
    "---\n",
    "layout: post\n",
    "toc: True\n",
    "title: Unit 2 Homework\n",
    "courses: {'csa': {'week': 4}}\n",
    "type: ccc\n",
    "categories: [AP CSA]\n",
    "author: Trevor Huang\n",
    "---"
   ]
  },
  {
   "cell_type": "markdown",
   "metadata": {},
   "source": [
    "### Popcorn Hack 1"
   ]
  },
  {
   "cell_type": "code",
   "execution_count": 5,
   "metadata": {
    "vscode": {
     "languageId": "java"
    }
   },
   "outputs": [
    {
     "name": "stdout",
     "output_type": "stream",
     "text": [
      "Woof!\n"
     ]
    }
   ],
   "source": [
    "class Dog {\n",
    "    public String name;\n",
    "    public String breed;\n",
    "    public int age;\n",
    "\n",
    "    public Dog(String name, String breed, int age) {\n",
    "        this.name = name;\n",
    "        this.breed = breed;\n",
    "        this.age = age;\n",
    "    }\n",
    "    public void bark() {\n",
    "        System.out.println(\"Woof!\");\n",
    "    }\n",
    "}\n",
    "\n",
    "public class Main {\n",
    "    public static void main(String[] args) {\n",
    "        Dog myDog = new Dog(\"Shelby\", \"Golden Retriever\", 5); // name, breed, age\n",
    "        myDog.bark(); // should print \"Woof!\"\n",
    "    }\n",
    "}\n",
    "\n",
    "Main.main(null);"
   ]
  },
  {
   "cell_type": "markdown",
   "metadata": {},
   "source": [
    "## Rahul's digitial movie catalog"
   ]
  },
  {
   "cell_type": "code",
   "execution_count": 6,
   "metadata": {
    "vscode": {
     "languageId": "java"
    }
   },
   "outputs": [
    {
     "name": "stdout",
     "output_type": "stream",
     "text": [
      "null\n"
     ]
    }
   ],
   "source": [
    "public class Movie {\n",
    "    public String tittle;\n",
    "    public Movie (String title) {\n",
    "        this.tittle = tittle;\n",
    "    }\n",
    "    public void printTitle () {\n",
    "        System.out.println(this.tittle);\n",
    "    }\n",
    "}\n",
    "\n",
    "public class Main {\n",
    "    public static void main(String[] args) {\n",
    "        Movie myMovie = new Movie(\"sadasads\");\n",
    "        myMovie.printTitle();\n",
    "    }\n",
    "}\n",
    "\n",
    "Main.main(null);"
   ]
  },
  {
   "cell_type": "markdown",
   "metadata": {},
   "source": [
    "## Homework"
   ]
  },
  {
   "cell_type": "code",
   "execution_count": 7,
   "metadata": {
    "vscode": {
     "languageId": "java"
    }
   },
   "outputs": [
    {
     "name": "stdout",
     "output_type": "stream",
     "text": [
      "Circle 1:\n",
      "Radius: 5.0\n",
      "Circumference: 31.41592653589793\n",
      "Area: 78.53981633974483\n",
      "\n",
      "Circle 2:\n",
      "Radius: 7.0\n",
      "Circumference: 43.982297150257104\n",
      "Area: 153.93804002589985\n",
      "\n",
      "Student 1:\n",
      "Name: Aadit\n",
      "Name Length: 5\n",
      "Grade: 75.0\n",
      "Scaled Grade: 37.5\n",
      "\n",
      "Student 2:\n",
      "Name: Emily\n",
      "Name Length: 5\n",
      "Grade: 45.0\n",
      "Scaled Grade: 22.5\n"
     ]
    }
   ],
   "source": [
    "public class Circle {\n",
    "    // 1. Class variable: radius (double)\n",
    "    public double radius;\n",
    "    // 2. Make a constructor that takes in the radius as a parameter, and sets the radius property\n",
    "    public Circle(double radius) {\n",
    "        this.radius = radius;\n",
    "    }\n",
    "    // 3. cirumference() method: Calculate and return the circumference\n",
    "    public double circumference() {\n",
    "        return 2 * Math.PI * radius;\n",
    "    }\n",
    "    // 4. area() method: Calculate and return the area, use Math.pow()\n",
    "    public double area() {\n",
    "        return Math.PI * Math.pow(radius, 2);\n",
    "    }\n",
    "}\n",
    "\n",
    "public class Student {\n",
    "    // 1. Class variables: name (String) and grade (Integer)\n",
    "    public String name;\n",
    "    public Integer grade;\n",
    "    // 2. Constructor to initialize name and grade\n",
    "    public Student(String name, Integer grade) {\n",
    "        this.name = name;\n",
    "        this.grade = grade;\n",
    "    }\n",
    "    // 3. nameLength() method: Return the length of the student's name\n",
    "    public int nameLength() {\n",
    "        return name.length();\n",
    "    }\n",
    "    // 4. getGradeAsDouble() method: Return the grade as the Double wrapper type\n",
    "    public Double getGradeAsDouble() {\n",
    "        return Double.valueOf(grade);\n",
    "    }\n",
    "    // 5. getScaledGrade() method: Return grade divided by 2\n",
    "    public Double getScaledGrade() {\n",
    "        return Double.valueOf(grade) / 2;\n",
    "    }\n",
    "}\n",
    "\n",
    "public class Main {\n",
    "    public static void main(String[] args) {\n",
    "        // Testing the Circle class\n",
    "        Circle circle1 = new Circle(5.0);\n",
    "        Circle circle2 = new Circle(7.0);\n",
    "\n",
    "        System.out.println(\"Circle 1:\");\n",
    "        System.out.println(\"Radius: \" + circle1.radius);\n",
    "        System.out.println(\"Circumference: \" + circle1.circumference());\n",
    "        System.out.println(\"Area: \" + circle1.area());\n",
    "\n",
    "        System.out.println(\"\\nCircle 2:\");\n",
    "        System.out.println(\"Radius: \" + circle2.radius);\n",
    "        System.out.println(\"Circumference: \" + circle2.circumference());\n",
    "        System.out.println(\"Area: \" + circle2.area());\n",
    "\n",
    "        // Testing the Student class\n",
    "        Student student1 = new Student(\"Aadit\", 75);\n",
    "        Student student2 = new Student(\"Emily\", 45);\n",
    "\n",
    "        System.out.println(\"\\nStudent 1:\");\n",
    "        System.out.println(\"Name: \" + student1.name);\n",
    "        System.out.println(\"Name Length: \" + student1.nameLength());\n",
    "        System.out.println(\"Grade: \" + student1.getGradeAsDouble());\n",
    "        System.out.println(\"Scaled Grade: \" + student1.getScaledGrade());\n",
    "\n",
    "        System.out.println(\"\\nStudent 2:\");\n",
    "        System.out.println(\"Name: \" + student2.name);\n",
    "        System.out.println(\"Name Length: \" + student2.nameLength());\n",
    "        System.out.println(\"Grade: \" + student2.getGradeAsDouble());\n",
    "        System.out.println(\"Scaled Grade: \" + student2.getScaledGrade());\n",
    "    }\n",
    "}\n",
    "\n",
    "Main.main(null);"
   ]
  },
  {
   "cell_type": "markdown",
   "metadata": {},
   "source": [
    "## Extra work on HW"
   ]
  },
  {
   "cell_type": "code",
   "execution_count": 9,
   "metadata": {
    "vscode": {
     "languageId": "java"
    }
   },
   "outputs": [
    {
     "name": "stdout",
     "output_type": "stream",
     "text": [
      "Triangle Area: 25.0\n",
      "Circle Area: 153.93804002589985\n",
      "Square Area: 16.0\n",
      "Rectangle Area: 18.0\n",
      "Trapezoid Area: 24.0\n"
     ]
    }
   ],
   "source": [
    "class Shape {\n",
    "    private String shapeType;\n",
    "    private double length;\n",
    "    private double width;\n",
    "    private double height;\n",
    "    private double base1;\n",
    "    private double base2;\n",
    "\n",
    "    // Constructor for initializing shape type and dimensions\n",
    "    public Shape(String shapeType, double length, double width, double height, double base1, double base2) {\n",
    "        this.shapeType = shapeType;\n",
    "        this.length = length;\n",
    "        this.width = width;\n",
    "        this.height = height;\n",
    "        this.base1 = base1;\n",
    "        this.base2 = base2;\n",
    "    }\n",
    "\n",
    "    // Method to print area information\n",
    "    public void getArea() {\n",
    "        if (shapeType.equals(\"triangle\")) {\n",
    "            System.out.println(\"Triangle Area: \" + (base1 * height) / 2);\n",
    "        } else if (shapeType.equals(\"circle\")) {\n",
    "            System.out.println(\"Circle Area: \" + (Math.PI * Math.pow(length, 2)));\n",
    "        } else if (shapeType.equals(\"square\")) {\n",
    "            System.out.println(\"Square Area: \" + (length * length));\n",
    "        } else if (shapeType.equals(\"rectangle\")) {\n",
    "            System.out.println(\"Rectangle Area: \" + (length * width));\n",
    "        } else if (shapeType.equals(\"trapezoid\")) {\n",
    "            System.out.println(\"Trapezoid Area: \" + ((base1 + base2) * height) / 2);\n",
    "        } else {\n",
    "            System.out.println(\"Unknown shape type.\");\n",
    "        }\n",
    "    }\n",
    "}\n",
    "\n",
    "public class Main {\n",
    "    public static void main(String[] args) {\n",
    "        // Example usage\n",
    "        Shape triangle = new Shape(\"triangle\", 0, 0, 10, 5, 0);\n",
    "        triangle.getArea();\n",
    "\n",
    "        Shape circle = new Shape(\"circle\", 7, 0, 0, 0, 0); // Using 'length' as the radius\n",
    "        circle.getArea();\n",
    "\n",
    "        Shape square = new Shape(\"square\", 4, 0, 0, 0, 0);\n",
    "        square.getArea();\n",
    "\n",
    "        Shape rectangle = new Shape(\"rectangle\", 6, 3, 0, 0, 0);\n",
    "        rectangle.getArea();\n",
    "\n",
    "        Shape trapezoid = new Shape(\"trapezoid\", 0, 0, 4, 5, 7);\n",
    "        trapezoid.getArea();\n",
    "    }\n",
    "}\n",
    "\n",
    "Main.main(null);"
   ]
  }
 ],
 "metadata": {
  "kernelspec": {
   "display_name": "Java",
   "language": "java",
   "name": "java"
  },
  "language_info": {
   "codemirror_mode": "java",
   "file_extension": ".jshell",
   "mimetype": "text/x-java-source",
   "name": "Java",
   "pygments_lexer": "java",
   "version": "17.0.12+7-Ubuntu-1ubuntu222.04"
  }
 },
 "nbformat": 4,
 "nbformat_minor": 2
}
