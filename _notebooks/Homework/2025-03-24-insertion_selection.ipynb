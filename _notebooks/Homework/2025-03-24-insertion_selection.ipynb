{
 "cells": [
  {
   "cell_type": "markdown",
   "metadata": {
    "vscode": {
     "languageId": "java"
    }
   },
   "source": [
    "---\n",
    "toc: false \n",
    "layout: post\n",
    "title: Selection and Insertion sort\n",
    "description: Trevor's answers to the HW\n",
    "courses: { csa: {week: 25} }\n",
    "type: ccc\n",
    "image: /images/data_structures/fibonacci.png\n",
    "---"
   ]
  },
  {
   "cell_type": "code",
   "execution_count": 4,
   "metadata": {
    "vscode": {
     "languageId": "java"
    }
   },
   "outputs": [
    {
     "name": "stdout",
     "output_type": "stream",
     "text": [
      "Insertion Sort: [4, 9, 10, 12, 13, 14, 18, 23, 25, 28, 29, 30, 37, 40, 50]\n",
      "Selection Sort: [4, 9, 10, 12, 13, 14, 18, 23, 25, 28, 29, 30, 37, 40, 50]\n"
     ]
    }
   ],
   "source": [
    "import java.util.Arrays;\n",
    "\n",
    "// Test Array\n",
    "int[] supplies = {29, 10, 14, 37, 13, 18, 25, 30, 4, 9, 12, 40, 50, 23, 28};\n",
    "\n",
    "// Insertion Sort\n",
    "public static void insertionSort(int[] arr) {\n",
    "    for (int i = 1; i < arr.length; i++) {\n",
    "        int currentValue = arr[i];\n",
    "        int j = i - 1;\n",
    "        \n",
    "        while (j >= 0 && arr[j] > currentValue) {\n",
    "            arr[j + 1] = arr[j];\n",
    "            j--;\n",
    "        }\n",
    "        \n",
    "        arr[j + 1] = currentValue;\n",
    "    }\n",
    "    \n",
    "    System.out.println(\"Insertion Sort: \" + Arrays.toString(arr));\n",
    "}\n",
    "\n",
    "// Selection Sort\n",
    "public static void selectionSort(int[] arr) {\n",
    "    for (int i = 0; i < arr.length - 1; i++) {\n",
    "        int minIndex = i;\n",
    "        \n",
    "        for (int j = i + 1; j < arr.length; j++) {\n",
    "            if (arr[j] < arr[minIndex]) {\n",
    "                minIndex = j;\n",
    "            }\n",
    "        }\n",
    "        \n",
    "        int temp = arr[i];\n",
    "        arr[i] = arr[minIndex];\n",
    "        arr[minIndex] = temp;\n",
    "    }\n",
    "    \n",
    "    System.out.println(\"Selection Sort: \" + Arrays.toString(arr));\n",
    "}\n",
    "\n",
    "insertionSort(supplies);\n",
    "selectionSort(supplies);"
   ]
  }
 ],
 "metadata": {
  "kernelspec": {
   "display_name": "Java",
   "language": "java",
   "name": "java"
  },
  "language_info": {
   "codemirror_mode": "java",
   "file_extension": ".jshell",
   "mimetype": "text/x-java-source",
   "name": "Java",
   "pygments_lexer": "java",
   "version": "17.0.14+7-Ubuntu-122.04.1"
  }
 },
 "nbformat": 4,
 "nbformat_minor": 2
}
