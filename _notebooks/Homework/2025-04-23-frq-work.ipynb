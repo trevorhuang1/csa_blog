{
 "cells": [
  {
   "cell_type": "markdown",
   "id": "d13cc498",
   "metadata": {},
   "source": [
    "---\n",
    "toc: false \n",
    "comments: True\n",
    "layout: post\n",
    "title: Four FRQ types review\n",
    "description: Tips and tricks for the four frq types. \n",
    "courses: { csa: {week: 26} }\n",
    "permalink: /ap-exam/frq-work\n",
    "menu: nav/CSA_Units/collegeboard.html\n",
    "type: collab\n",
    "---"
   ]
  }
 ],
 "metadata": {
  "language_info": {
   "name": "python"
  }
 },
 "nbformat": 4,
 "nbformat_minor": 5
}
