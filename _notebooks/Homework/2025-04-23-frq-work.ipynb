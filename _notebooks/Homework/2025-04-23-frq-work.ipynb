{
 "cells": [
  {
   "cell_type": "markdown",
   "id": "d13cc498",
   "metadata": {},
   "source": [
    "---\n",
    "toc: false \n",
    "comments: True\n",
    "layout: post\n",
    "title: Four FRQ types review\n",
    "description: Tips and tricks for the four frq types. \n",
    "courses: { csa: {week: 26} }\n",
    "permalink: /ap-exam/frq-work\n",
    "menu: nav/CSA_Units/collegeboard.html\n",
    "type: collab\n",
    "---"
   ]
  },
  {
   "cell_type": "markdown",
   "id": "471c46c1",
   "metadata": {},
   "source": [
    "# 2023 FRQ Work"
   ]
  },
  {
   "cell_type": "code",
   "execution_count": null,
   "id": "b4072bfc",
   "metadata": {
    "vscode": {
     "languageId": "java"
    }
   },
   "outputs": [],
   "source": [
    "// FRQ #1\n",
    "public class AppointmentBook {\n",
    "  private boolean isMinuteFree(int period, int minute){ // +1 constructor\n",
    "    // Stub method used for structural practice\n",
    "    return true;\n",
    "  }\n",
    "  private void reserveBlock(int period, int startMinute, int duration){\n",
    "    // Stub method used for structural practice\n",
    "  }\n",
    "  public int findFreeBlock(int period, int duration){\n",
    "    for(int i = 0; i <= 60 - duration; i++){\n",
    "      boolean blockFree = true;\n",
    "      for(int j = 0; j < duration; j++){\n",
    "        if (!isMinuteFree(period, i + j)) {\n",
    "          blockFree = false;\n",
    "          break;\n",
    "        }\n",
    "      }\n",
    "      if (blockFree) { //+1 correct method declaration\n",
    "        return i;\n",
    "      }\n",
    "    }\n",
    "    return -1;\n",
    "  }\n",
    "  public boolean makeAppointment(int startPeriod, int endPeriod, int duration) {\n",
    "    for (int period = startPeriod; period <= endPeriod; period++) {\n",
    "      int start = findFreeBlock(period, duration);\n",
    "      if (start != -1) {\n",
    "        reserveBlock(period, start, duration);\n",
    "        return true;\n",
    "      }\n",
    "    }\n",
    "    return false; // +1 constructor initialization\n",
    "  }\n",
    "}"
   ]
  },
  {
   "cell_type": "code",
   "execution_count": null,
   "id": "5bec2457",
   "metadata": {
    "vscode": {
     "languageId": "java"
    }
   },
   "outputs": [],
   "source": [
    "// FRQ #2\n",
    "public class Sign {\n",
    "    private String message;\n",
    "    private int width;\n",
    "    public Sign(String message, int width){\n",
    "      this.message = message;\n",
    "      this.width = width;\n",
    "    }\n",
    "    public int numberOfLines(String message, int width){\n",
    "      int numberOfCharacters = message.length();\n",
    "      if (numberOfCharacters % width == 0){\n",
    "        return numberOfCharacters / width;\n",
    "      } else {\n",
    "        return (numberOfCharacters / width) + 1;\n",
    "      }\n",
    "    }\n",
    "    public String getLines(String message, int width){\n",
    "      int numberOfCharacters = message.length();\n",
    "      int lines = numberOfLines(message, width);\n",
    "      String result = \"\";\n",
    "      for (int i = 0; i < lines; i++) {\n",
    "        for (int j = 0; j < width && (i * width + j) < numberOfCharacters; j++) {\n",
    "          result += message.charAt(i * width + j);\n",
    "        }\n",
    "        result += \";\";\n",
    "      }\n",
    "      return result;\n",
    "    }\n",
    "  }\n",
    "  "
   ]
  }
 ],
 "metadata": {
  "language_info": {
   "name": "python"
  }
 },
 "nbformat": 4,
 "nbformat_minor": 5
}
