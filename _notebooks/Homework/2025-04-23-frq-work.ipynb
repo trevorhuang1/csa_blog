{
 "cells": [
  {
   "cell_type": "markdown",
   "id": "d13cc498",
   "metadata": {},
   "source": [
    "---\n",
    "toc: false \n",
    "comments: True\n",
    "layout: post\n",
    "title: FRQ Work\n",
    "description: Tips and tricks for the four frq types. \n",
    "courses: { csa: {week: 26} }\n",
    "permalink: /ap-exam/frq-work\n",
    "menu: nav/CSA_Units/collegeboard.html\n",
    "type: collab\n",
    "---"
   ]
  },
  {
   "cell_type": "markdown",
   "id": "471c46c1",
   "metadata": {},
   "source": [
    "# 2023 FRQ Work"
   ]
  },
  {
   "cell_type": "code",
   "execution_count": null,
   "id": "b4072bfc",
   "metadata": {
    "vscode": {
     "languageId": "java"
    }
   },
   "outputs": [],
   "source": [
    "// FRQ #1\n",
    "//a \n",
    "public int findFreeBlock(int period, int duration) {\n",
    "  int free = -1;\n",
    "  for (int i = 0; i < 60 - duration + 1; i++) {\n",
    "      int count = 0;\n",
    "      for (int j = i; j < i + duration; j++) {\n",
    "          if (isMinuteFree(period, j)) {\n",
    "              count++;\n",
    "          }\n",
    "      }\n",
    "      if (count == duration) {\n",
    "          free = i;\n",
    "      }\n",
    "  }\n",
    "  return free;\n",
    "}\n",
    "\n",
    "  //b\n",
    "  public boolean makeAppointment(int startPeriod, int endPeriod, int duration) {\n",
    "    int s = 0;\n",
    "    for (int p = startPeriod; p < endPeriod + 1; p++) {\n",
    "        if (findFreeBlock(p, duration) != -1) {\n",
    "            s = findFreeBlock.(p, duration);\n",
    "            reserveBlock(p, s, duration);\n",
    "            return true;\n",
    "        }\n",
    "        else {\n",
    "            return false;\n",
    "        }\n",
    "    }\n",
    "}"
   ]
  },
  {
   "cell_type": "markdown",
   "id": "fc0542ed",
   "metadata": {},
   "source": [
    "# Corrections\n",
    "**Part (a) - findFreeBlock**\n",
    "- ✅ Earned 3/4 points  \n",
    "- ❌ Missed point 3&4: Doesn't return first valid block immediately\n",
    "- ✔ Correct loop structure  \n",
    "- ✔ Proper use of `isMinuteFree()`  \n",
    "- ✔ Valid nested loop implementation\n",
    "\n",
    "**Part (b) - makeAppointment**  \n",
    "- ✅ Earned 4/5 points  \n",
    "- ❌ Missed point 9: Early return prevents full checking  \n",
    "- ✔ Correct period iteration  \n",
    "- ✔ Valid method calls  \n",
    "- ✔ Proper condition checking\n",
    "\n",
    "**Key Issues**:\n",
    "1. `findFreeBlock` keeps searching after finding valid blocks\n",
    "2. `makeAppointment` exits after first period check\n",
    "\n",
    "**Total Score**: 7/9 points"
   ]
  },
  {
   "cell_type": "code",
   "execution_count": null,
   "id": "5bec2457",
   "metadata": {
    "vscode": {
     "languageId": "java"
    }
   },
   "outputs": [],
   "source": [
    "public class Sign {\n",
    "  private String message;\n",
    "  private int width;\n",
    "\n",
    "  public Sign(String message, int width) {\n",
    "      this.message = message;\n",
    "      this.width = width;\n",
    "  }\n",
    "\n",
    "  public int numberOfLines() {\n",
    "      double temp = (double)message.length() / width;\n",
    "      if (temp != message.length() / width) {\n",
    "          return (int)temp + 1;\n",
    "      }\n",
    "      return (int)temp;\n",
    "  }\n",
    "\n",
    "  public String getLines() {\n",
    "      String line = \"\";\n",
    "      String temp = message;\n",
    "      while (temp.length() > width) {\n",
    "          line += temp.substring(0, width) + \"\\n\";\n",
    "          temp = temp.substring(width);\n",
    "      }\n",
    "      line += temp;\n",
    "      return line;\n",
    "  }\n",
    "}"
   ]
  },
  {
   "cell_type": "markdown",
   "id": "9e763b93",
   "metadata": {},
   "source": [
    "# Corrections\n",
    "**Class Implementation**\n",
    "- ✅ Point 1: Correct class header (`public class Sign`)\n",
    "- ✅ Point 2: Proper private instance variables\n",
    "- ✅ Point 3: Correct constructor header (`public Sign(String, int)`)\n",
    "\n",
    "**Method Headers**\n",
    "- ✅ Point 4: Both methods have correct headers (public, return types, no parameters)\n",
    "\n",
    "**numberOfLines() Method**\n",
    "- ✅ Point 5: Correctly divides message length by width\n",
    "- ❌ Point 6: Incorrect handling of partial last line (adds remainder instead of 1)\n",
    "\n",
    "**getLines() Method**\n",
    "- ❌ Point 7: Doesn't handle empty string case\n",
    "- ✅ Point 8: Proper use of substring() and length()\n",
    "- ❌ Point 9: Fails to handle last line correctly (always uses else block)\n",
    "\n",
    "**Key Issues**:\n",
    "1. Incorrect partial line calculation in numberOfLines()\n",
    "2. Missing empty string check\n",
    "3. Last line handling throws exceptions\n",
    "\n",
    "**Total Score**: 6/9 points"
   ]
  },
  {
   "cell_type": "code",
   "execution_count": null,
   "id": "c83fe58f",
   "metadata": {
    "vscode": {
     "languageId": "java"
    }
   },
   "outputs": [],
   "source": [
    "// FRQ #3\n",
    "public void cleanData(double lower, double upper) {\n",
    "    for (int i = temperatures.size() - 1; i >= 0; i--) {\n",
    "        double temp = temperatures.get(i);\n",
    "        if (temp < lower || temp > upper) {\n",
    "            temperatures.remove(i);\n",
    "        }\n",
    "    }\n",
    "}\n",
    "\n",
    "public int longestHeatWave(double threshold) {\n",
    "    int waveLength = 0;\n",
    "    int maxWavelength = 0;\n",
    "\n",
    "    for (double temp : temperatures) {\n",
    "        if (temp > threshold) {\n",
    "            waveLength++;\n",
    "            if (waveLength > maxWavelength) {\n",
    "                maxWavelength = waveLength;\n",
    "            }\n",
    "        } else {\n",
    "            waveLength = 0;\n",
    "        }\n",
    "    }\n",
    "    return maxWavelength;\n",
    "}"
   ]
  },
  {
   "cell_type": "markdown",
   "id": "2993dc45",
   "metadata": {},
   "source": [
    "# Corrections\n",
    "\n",
    "#### Part (a) - Temperature Removal\n",
    "- ✅ **Point 1**: Correct iteration through list elements\n",
    "- ✅ **Point 2**: Proper comparisons using `upper`/`lower` bounds\n",
    "- ✅ **Point 3**: Correct use of `remove()` method  \n",
    "- ✅ **Point 4**: Correct algorithm with index adjustment after removal\n",
    "\n",
    "#### Part (b) - Heat Wave Detection\n",
    "- ✅ **Point 5**: Proper iteration through temperatures  \n",
    "- ✅ **Point 6**: Correct threshold comparisons\n",
    "- ✅ **Point 7**: Proper `temp` variable initialization/increment\n",
    "- ❌ **Point 8**: Infinite loop (failed to update loop control variable)\n",
    "- ✅ **Point 9**: Correct heat wave length comparison/update\n",
    "\n",
    "**Key Issues**:\n",
    "1. Infinite loop in heat wave detection (missed point 8)\n",
    "2. No penalty for using `length` instead of `size`\n",
    "\n",
    "**Total Score**: 8/9 points"
   ]
  },
  {
   "cell_type": "code",
   "execution_count": null,
   "id": "d303de3c",
   "metadata": {
    "vscode": {
     "languageId": "java"
    }
   },
   "outputs": [],
   "source": [
    "// FRQ #4\n",
    "public boolean moveCandyToFirstRow(int col) {\n",
    "    if (box[0][col] != null) {\n",
    "        return true;\n",
    "    }\n",
    "    for (int row = 1; row < box.length; row++) {\n",
    "        if (box[row][col] != null) {\n",
    "            box[0][col] = box[row][col];\n",
    "            box[row][col] = null;\n",
    "            return true;\n",
    "        }\n",
    "    }\n",
    "    return false;\n",
    "}\n",
    "\n",
    "public Candy removeNextByFlavor(String flavor) {\n",
    "    for (int row = box.length - 1; row >= 0; row--) {\n",
    "        for (int col = 0; col < box[0].length; col++) {\n",
    "            if (box[row][col] != null && \n",
    "                box[row][col].getFlavor().equals(flavor)) {\n",
    "                Candy taken = box[row][col];\n",
    "                box[row][col] = null;\n",
    "                return taken;\n",
    "            }\n",
    "        }\n",
    "    }\n",
    "    return null;\n",
    "}"
   ]
  },
  {
   "cell_type": "markdown",
   "id": "7acd7eda",
   "metadata": {},
   "source": [
    "# Corrections\n",
    "\n",
    "#### Part (a) - Column Processing\n",
    "- ✅ **Point 1**: Correct column value access  \n",
    "- ✅ **Point 2**: Proper null check (`box[0][col] != null`)\n",
    "- ✅ **Point 3**: Correct candy movement logic\n",
    "- ❌ **Point 4**: Early return prevents full column search\n",
    "\n",
    "#### Part (b) - Flavor Search\n",
    "- ❌ **Point 5**: Incorrect traversal order (top-to-bottom)\n",
    "- ❌ **Point 6**: Missing null check before flavor access\n",
    "- ✅ **Point 7**: Correct `getFlavor()` call (minor syntax forgiven)\n",
    "- ❌ **Point 8**: Incorrect `equals` comparison (`String.flavor`)\n",
    "- ❌ **Point 9**: Early return + fails to return candy object\n",
    "\n",
    "**Key Issues**:\n",
    "1. Premature returns in both parts\n",
    "2. Incorrect 2D array traversal direction\n",
    "3. Missing null safety checks\n",
    "4. Flavor comparison syntax error\n",
    "\n",
    "**Total Score**: 4/9 points"
   ]
  },
  {
   "cell_type": "markdown",
   "id": "9abd8619",
   "metadata": {},
   "source": [
    "# 2014 FRQ Work"
   ]
  },
  {
   "cell_type": "code",
   "execution_count": null,
   "id": "8aa6653b",
   "metadata": {
    "vscode": {
     "languageId": "java"
    }
   },
   "outputs": [],
   "source": [
    "// FRQ #1\n",
    "//a\n",
    "private String recombine(String word1, String word2) {\n",
    "    private int length1 = word1.length();\n",
    "    private int length2 = word2.length()\n",
    "    return word1.substring(0, length1 / 2) + word2.substring(length2 / 2);\n",
    "}\n",
    "\n",
    "//b\n",
    "private String[] mixedWords(String[] words) {\n",
    "    String[] mixedWords = new String[words.length];\n",
    "    for (int i = 0; i < words.length; i++) {\n",
    "        if (i % 2 == 0) {\n",
    "            mixedWords[i] = recombine(words[i], words[i + 1]);\n",
    "        } \n",
    "        else {\n",
    "            mixedWords[i] = recombine(words[i - 1], words[i]);\n",
    "        }\n",
    "    }\n",
    "    return mixedWords;\n",
    "}"
   ]
  },
  {
   "cell_type": "markdown",
   "id": "53e511cb",
   "metadata": {},
   "source": [
    "# Corrections\n",
    "I took 17 mins on this portion. I was mostly correct, but I need to remember that I **cannot declare variables as private within a method.** I forgot about this and should probably return to unit 1 for practice."
   ]
  },
  {
   "cell_type": "code",
   "execution_count": null,
   "id": "8603a999",
   "metadata": {
    "vscode": {
     "languageId": "java"
    }
   },
   "outputs": [],
   "source": [
    "// FRQ #2\n",
    "//a\n",
    "public static int getPeakIndex(int[] array) {\n",
    "    for (int i = 1; i < array.length - 1; i++) {\n",
    "        if (array[i] > array[i - 1] && array[i] > array[i + 1]) {\n",
    "            return i;\n",
    "        }\n",
    "    }\n",
    "    return -1;\n",
    "}\n",
    "\n",
    "//b\n",
    "\n",
    "public static boolean isMountain(int[] array) {\n",
    "    // Find the peak index\n",
    "    int peakIndex = getPeakIndex(array);\n",
    "    \n",
    "    // Condition 1: Must have a peak that's not at the start or end\n",
    "    if (peakIndex == -1 || peakIndex == 0 || peakIndex == array.length - 1) {\n",
    "        return false;\n",
    "    }\n",
    "    \n",
    "    // Condition 2: Check increasing up to peak\n",
    "    for (int i = 0; i < peakIndex; i++) {\n",
    "        if (array[i] >= array[i + 1]) {\n",
    "            return false;\n",
    "        }\n",
    "    }\n",
    "    \n",
    "    // Condition 3: Check decreasing after peak\n",
    "    for (int i = peakIndex; i < array.length - 1; i++) {\n",
    "        if (array[i] <= array[i + 1]) {\n",
    "            return false;\n",
    "        }\n",
    "    }\n",
    "    \n",
    "    return true;\n",
    "}"
   ]
  },
  {
   "cell_type": "markdown",
   "id": "f843d299",
   "metadata": {},
   "source": [
    "# Corrections\n",
    "I tool 22 minutes on this portion. My main mistake was in part b, because I think i was supposed to implement the helper methods instead of using iteration."
   ]
  },
  {
   "cell_type": "code",
   "execution_count": null,
   "id": "5c127e8e",
   "metadata": {
    "vscode": {
     "languageId": "java"
    }
   },
   "outputs": [],
   "source": [
    "// Correction for part B\n",
    "public static boolean isMountain(int[] array) {\n",
    "    // Find the peak index\n",
    "    int peakIndex = getPeakIndex(array);\n",
    "    \n",
    "    // Condition 1: Must have a peak that's not at the start or end\n",
    "    if (peakIndex == -1 || peakIndex == 0 || peakIndex == array.length - 1) {\n",
    "        return false;\n",
    "    }\n",
    "    \n",
    "    // Condition 2: Check increasing up to peak using isIncreasing\n",
    "    if (!isIncreasing(array, peakIndex)) {\n",
    "        return false;\n",
    "    }\n",
    "    \n",
    "    // Condition 3: Check decreasing after peak using isDecreasing\n",
    "    if (!isDecreasing(array, peakIndex)) {\n",
    "        return false;\n",
    "    }\n",
    "    \n",
    "    return true;\n",
    "}"
   ]
  },
  {
   "cell_type": "code",
   "execution_count": null,
   "id": "95e340a8",
   "metadata": {
    "vscode": {
     "languageId": "java"
    }
   },
   "outputs": [],
   "source": [
    "// FRQ #3\n",
    "//a\n",
    "private double computeTemp(int row, int col) {\n",
    "    // Check if the element is on the border\n",
    "    if (row == 0 || row == temps.length - 1 || col == 0 || col == temps[0].length - 1) {\n",
    "        return temps[row][col];  // Border elements stay the same\n",
    "    }\n",
    "    \n",
    "    // Calculate average of four adjacent cells\n",
    "    double sum = temps[row-1][col] + temps[row+1][col] + temps[row][col-1] + temps[row][col+1];\n",
    "    return sum / 4.0;\n",
    "}\n",
    "\n",
    "//b\n",
    "public boolean updateAllTemps(double tolerance) {\n",
    "    // Create a new array to store updated temperatures\n",
    "    double[][] newTemps = new double[temps.length][];\n",
    "    for (int i = 0; i < temps.length; i++) {\n",
    "        newTemps[i] = new double[temps[i].length];\n",
    "    }\n",
    "    \n",
    "    boolean allWithinTolerance = true;\n",
    "    \n",
    "    // Compute new temperatures and check tolerance\n",
    "    for (int row = 0; row < temps.length; row++) {\n",
    "        for (int col = 0; col < temps[row].length; col++) {\n",
    "            newTemps[row][col] = computeTemp(row, col);\n",
    "            if (newTemps[row][col] - temps[row][col] > tolerance) {\n",
    "                allWithinTolerance = false;\n",
    "            }\n",
    "        }\n",
    "    }\n",
    "    \n",
    "    // Update temps with new values\n",
    "    temps = newTemps;\n",
    "    \n",
    "    return allWithinTolerance;\n",
    "}"
   ]
  },
  {
   "cell_type": "markdown",
   "id": "7d003634",
   "metadata": {},
   "source": [
    "# Corrections\n",
    "For part B, when comparing the new temperatures to check tolerance, I need to take the `Math.abs()` to avoid negative numbers."
   ]
  }
 ],
 "metadata": {
  "language_info": {
   "name": "python"
  }
 },
 "nbformat": 4,
 "nbformat_minor": 5
}
