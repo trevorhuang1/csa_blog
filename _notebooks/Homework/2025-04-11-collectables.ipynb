{
 "cells": [
  {
   "cell_type": "markdown",
   "id": "a531f31c",
   "metadata": {},
   "source": [
    "---\n",
    "toc: True\n",
    "layout: post\n",
    "comments: True\n",
    "title: Collectables Homework\n",
    "description: Popcorn hacks and homework fo the collectables lesson by Aashray and Nikhil.\n",
    "courses: { csa: {week: 27} }\n",
    "type: ccc\n",
    "---"
   ]
  },
  {
   "cell_type": "markdown",
   "id": "a4f6249a",
   "metadata": {},
   "source": [
    "## Popcorn Hack 1\n",
    "*Task:* Create an `ArrayList` of at least 10 integers.\n",
    "1. Sort the list in ascending order using Collections.sort().\n",
    "2. Filter out all the odd numbers using an enhanced for loop (or with streams if you prefer) and then print the even numbers.\n",
    "\n",
    "**Hint (using streams in Java 8+):**\n",
    "\n",
    "Optional:\n",
    "- Display only the odd numbers instead.\n",
    "- Find and print the largest even number from the filtered list."
   ]
  },
  {
   "cell_type": "code",
   "execution_count": 8,
   "id": "7e336725",
   "metadata": {},
   "outputs": [
    {
     "name": "stdout",
     "output_type": "stream",
     "text": [
      "Sorted List: [1, 3, 23, 35, 55, 64, 99, 176, 423, 554]\n",
      "List after removing odd numbers: [64, 176, 554]\n"
     ]
    }
   ],
   "source": [
    "// Popcorn Hack #1\n",
    "import java.util.ArrayList;\n",
    "import java.util.Collections;\n",
    "import java.util.List;\n",
    "import java.util.stream.Collectors;\n",
    "\n",
    "public class ListExperiment {\n",
    "    public static void main(String[] args) {\n",
    "        ArrayList<Integer> list = new ArrayList<>();\n",
    "        list.add(554);\n",
    "        list.add(64);\n",
    "        list.add(55);\n",
    "        list.add(423);\n",
    "        list.add(23);\n",
    "        list.add(35);\n",
    "        list.add(99);\n",
    "        list.add(176);\n",
    "        list.add(1);\n",
    "        list.add(3);\n",
    "\n",
    "        Collections.sort(list);\n",
    "        System.out.println(\"Sorted List: \" + list);\n",
    "\n",
    "        // Create a new list with only even numbers\n",
    "        list = new ArrayList<>(list.stream()\n",
    "                                .filter(num -> num % 2 == 0)\n",
    "                                .collect(Collectors.toList()));\n",
    "\n",
    "                System.out.println(\"List after removing odd numbers: \" + list);\n",
    "            }\n",
    "}\n",
    "\n",
    "ListExperiment.main(null);\n"
   ]
  },
  {
   "cell_type": "markdown",
   "id": "77de3182",
   "metadata": {
    "vscode": {
     "languageId": "java"
    }
   },
   "source": [
    "## Popcorn Hack 2\n",
    "*Task:* Create a `HashMap` that stores names as keys and phone numbers (as strings) as values.\n",
    "\n",
    "Add at least 5 entries.\n",
    "Implement a simple search method that prompts the user (using Scanner) to enter a name and then prints out the corresponding phone number (or a “not found” message).\n",
    "Optional:\n",
    "\n",
    "Allow the user to perform multiple lookups (looping until the user enters a quit command).\n",
    "Implement a method to print the entire phone book in a sorted order (by key)."
   ]
  },
  {
   "cell_type": "code",
   "execution_count": 12,
   "id": "391ae8c4",
   "metadata": {},
   "outputs": [
    {
     "name": "stdout",
     "output_type": "stream",
     "text": [
      "Enter a name to search (or type 'quit' to exit): Gurt's number: 555-555-555\n",
      "Enter a name to search (or type 'quit' to exit): \n",
      "Phone Book (Sorted):\n",
      "Coleslawg: 523-485-475\n",
      "Gurt: 555-555-555\n",
      "Nettspend: 123-456-789\n",
      "Pmover: 787-323-222\n",
      "Washington: 111-111-111\n",
      "Yogurt: 987-654-321\n",
      "Zawg: 222-222-222\n"
     ]
    }
   ],
   "source": [
    "// Popcorn Hack #2\n",
    "import java.util.HashMap;\n",
    "import java.util.Map;\n",
    "import java.util.Scanner;\n",
    "\n",
    "public class PhoneBook {\n",
    "    public static void main(String[] args) {\n",
    "        Map<String, String> phoneNumbers = new HashMap<>();\n",
    "        phoneNumbers.put(\"Nettspend\", \"123-456-789\");\n",
    "        phoneNumbers.put(\"Yogurt\", \"987-654-321\");\n",
    "        phoneNumbers.put(\"Gurt\", \"555-555-555\");\n",
    "        phoneNumbers.put(\"Zawg\", \"222-222-222\");\n",
    "        phoneNumbers.put(\"Coleslawg\", \"523-485-475\");\n",
    "        phoneNumbers.put(\"Pmover\", \"787-323-222\");\n",
    "        phoneNumbers.put(\"Washington\", \"111-111-111\");\n",
    "        Scanner scanner = new Scanner(System.in);\n",
    "        String input;\n",
    "\n",
    "        // loop until user types \"quit\"\n",
    "        while (true) {\n",
    "            System.out.print(\"Enter a name to search (or type 'quit' to exit): \");\n",
    "            input = scanner.nextLine();\n",
    "\n",
    "            if (input.equalsIgnoreCase(\"quit\")) {\n",
    "                break;\n",
    "            }\n",
    "\n",
    "            if (phoneNumbers.containsKey(input)) {\n",
    "                System.out.println(input + \"'s number: \" + phoneNumbers.get(input));\n",
    "            } else {\n",
    "                System.out.println(\"Name not found.\");\n",
    "            }\n",
    "        }\n",
    "\n",
    "        // optional: print entire phone book sorted by name\n",
    "        System.out.println(\"\\nPhone Book (Sorted):\");\n",
    "        TreeMap<String, String> sortedPhoneNumbers = new TreeMap<>(phoneNumbers);\n",
    "        for (Map.Entry<String, String> entry : sortedPhoneNumbers.entrySet()) {\n",
    "            System.out.println(entry.getKey() + \": \" + entry.getValue());\n",
    "        }\n",
    "\n",
    "        scanner.close();\n",
    "    }\n",
    "}\n",
    "\n",
    "PhoneBook.main(null);"
   ]
  },
  {
   "cell_type": "code",
   "execution_count": 13,
   "id": "6730aee8",
   "metadata": {},
   "outputs": [
    {
     "name": "stdout",
     "output_type": "stream",
     "text": [
      "Initial deque: [Front3, Front2, Front1, Back1, Back2, Back3]\n",
      "Removed from front: Front3\n",
      "Removed from back: Back3\n",
      "Deque after removal: [Front2, Front1, Back1, Back2]\n",
      "Deque converted to list: [Front2, Front1, Back1, Back2]\n",
      "\n",
      "Emptying the deque:\n",
      "Removed: Front2, Remaining: [Front1, Back1, Back2]\n",
      "Removed: Front1, Remaining: [Back1, Back2]\n",
      "Removed: Back1, Remaining: [Back2]\n",
      "Removed: Back2, Remaining: []\n"
     ]
    }
   ],
   "source": [
    "import java.util.ArrayDeque;\n",
    "import java.util.Deque;\n",
    "import java.util.ArrayList;\n",
    "import java.util.List;\n",
    "\n",
    "public class DequeExperiment {\n",
    "    public static void main(String[] args) {\n",
    "        // Create a deque\n",
    "        Deque<String> deque = new ArrayDeque<>();\n",
    "        \n",
    "        // Add elements to both ends\n",
    "        deque.addFirst(\"Front1\");\n",
    "        deque.addLast(\"Back1\");\n",
    "        deque.addFirst(\"Front2\");\n",
    "        deque.addLast(\"Back2\");\n",
    "        deque.addFirst(\"Front3\");\n",
    "        deque.addLast(\"Back3\");\n",
    "        \n",
    "        System.out.println(\"Initial deque: \" + deque);\n",
    "        \n",
    "        // Remove one element from each end\n",
    "        String removedFromFront = deque.removeFirst();\n",
    "        String removedFromBack = deque.removeLast();\n",
    "        \n",
    "        System.out.println(\"Removed from front: \" + removedFromFront);\n",
    "        System.out.println(\"Removed from back: \" + removedFromBack);\n",
    "        System.out.println(\"Deque after removal: \" + deque);\n",
    "        \n",
    "        // Optional: Convert deque to list\n",
    "        List<String> list = new ArrayList<>(deque);\n",
    "        System.out.println(\"Deque converted to list: \" + list);\n",
    "        \n",
    "        // Optional: Empty the deque while printing each removed element\n",
    "        System.out.println(\"\\nEmptying the deque:\");\n",
    "        while (!deque.isEmpty()) {\n",
    "            String removed = deque.removeFirst();\n",
    "            System.out.println(\"Removed: \" + removed + \", Remaining: \" + deque);\n",
    "        }\n",
    "    }\n",
    "}\n",
    "\n",
    "DequeExperiment.main(null);"
   ]
  },
  {
   "cell_type": "markdown",
   "id": "cbd939c3",
   "metadata": {
    "vscode": {
     "languageId": "java"
    }
   },
   "source": [
    "## Homework Part 1\n",
    "Part 1: Working with Lists\n",
    "Task:\n",
    "Create a method named filterEvenNumbers that takes a `List<Integer>` as input and returns a new list containing only the even numbers (in the same order).\n",
    "\n",
    "Requirements:\n",
    "\n",
    "Use `ArrayList<Integer>`.\n",
    "Use methods: add(), get(), and size().\n",
    "Use a traditional loop (do not use streams)."
   ]
  },
  {
   "cell_type": "code",
   "execution_count": 14,
   "id": "0c69ff0f",
   "metadata": {},
   "outputs": [
    {
     "name": "stdout",
     "output_type": "stream",
     "text": [
      "Input List: [1, 2, 3, 4, 5, 6, 7, 8, 9, 10]\n",
      "Filtered Even Numbers: [2, 4, 6, 8, 10]\n"
     ]
    }
   ],
   "source": [
    "import java.util.ArrayList;\n",
    "import java.util.List;\n",
    "\n",
    "public class ListFilter {\n",
    "    public static List<Integer> filterEvenNumbers(List<Integer> inputList) {\n",
    "        List<Integer> evenNumbers = new ArrayList<>();\n",
    "        \n",
    "        for (int i = 0; i < inputList.size(); i++) {\n",
    "            int number = inputList.get(i);\n",
    "            if (number % 2 == 0) {\n",
    "                evenNumbers.add(number);\n",
    "            }\n",
    "        }\n",
    "        \n",
    "        return evenNumbers;\n",
    "    }\n",
    "\n",
    "    public static void main(String[] args) {\n",
    "        // Create and populate the input list\n",
    "        List<Integer> numbers = new ArrayList<>();\n",
    "        numbers.add(1);\n",
    "        numbers.add(2);\n",
    "        numbers.add(3);\n",
    "        numbers.add(4);\n",
    "        numbers.add(5);\n",
    "        numbers.add(6);\n",
    "        numbers.add(7);\n",
    "        numbers.add(8);\n",
    "        numbers.add(9);\n",
    "        numbers.add(10);\n",
    "        \n",
    "        System.out.println(\"Input List: \" + numbers);\n",
    "        \n",
    "        // Filter even numbers\n",
    "        List<Integer> evenNumbers = filterEvenNumbers(numbers);\n",
    "        \n",
    "        System.out.println(\"Filtered Even Numbers: \" + evenNumbers);\n",
    "    }\n",
    "}\n",
    "\n",
    "ListFilter.main(null);"
   ]
  },
  {
   "cell_type": "markdown",
   "id": "71a1737c",
   "metadata": {},
   "source": [
    "## Homework Part 2\n",
    "*Task:* Create a method called findIntersection that accepts two `Set<String>` objects and returns a new set containing only the common elements (i.e., the intersection).\n",
    "\n",
    "Requirements:\n",
    "\n",
    "- Use `HashSet<String>`.\n",
    "- Use methods: contains(), add(), and iterate through one of the sets.\n",
    "- The resulting set should naturally have no duplicates."
   ]
  },
  {
   "cell_type": "code",
   "execution_count": 15,
   "id": "c47d5f2e",
   "metadata": {},
   "outputs": [
    {
     "name": "stdout",
     "output_type": "stream",
     "text": [
      "Set1: [banana, date, apple, cherry]\n",
      "Set2: [banana, date, fig, grape]\n",
      "Intersection: [banana, date]\n"
     ]
    }
   ],
   "source": [
    "import java.util.HashSet;\n",
    "import java.util.Set;\n",
    "\n",
    "public class SetIntersection {\n",
    "    public static Set<String> findIntersection(Set<String> set1, Set<String> set2) {\n",
    "        Set<String> intersection = new HashSet<>();\n",
    "        \n",
    "        for (String element : set1) {\n",
    "            if (set2.contains(element)) {\n",
    "                intersection.add(element);\n",
    "            }\n",
    "        }\n",
    "        \n",
    "        return intersection;\n",
    "    }\n",
    "\n",
    "    public static void main(String[] args) {\n",
    "        // Create and populate the sets\n",
    "        Set<String> set1 = new HashSet<>();\n",
    "        set1.add(\"apple\");\n",
    "        set1.add(\"banana\");\n",
    "        set1.add(\"cherry\");\n",
    "        set1.add(\"date\");\n",
    "        \n",
    "        Set<String> set2 = new HashSet<>();\n",
    "        set2.add(\"banana\");\n",
    "        set2.add(\"date\");\n",
    "        set2.add(\"fig\");\n",
    "        set2.add(\"grape\");\n",
    "        \n",
    "        System.out.println(\"Set1: \" + set1);\n",
    "        System.out.println(\"Set2: \" + set2);\n",
    "        \n",
    "        // Find intersection\n",
    "        Set<String> intersection = findIntersection(set1, set2);\n",
    "        \n",
    "        System.out.println(\"Intersection: \" + intersection);\n",
    "    }\n",
    "}\n",
    "\n",
    "SetIntersection.main(null);"
   ]
  },
  {
   "cell_type": "markdown",
   "id": "06fe9e8d",
   "metadata": {},
   "source": [
    "## Homework Part 3\n",
    "*Task:* Simulate a line of customers using a `Deque<String>` that behaves as both a queue and a deque. Implement the following steps:\n",
    "\n",
    "1. Enqueue: Add 4 customer names to the end of the deque.\n",
    "2. VIP Arrival: A VIP customer arrives—add this customer to the front of the deque.\n",
    "3. Process Line: Remove the customer at the front (simulate serving them).\n",
    "4. Inspect Line: Display the current front and the back of the deque.\n",
    "5. Size Check: Print the size of the deque (the number of customers still in line).\n",
    "Requirements:\n",
    "\n",
    "- Use ArrayDeque<String>.\n",
    "- Utilize these methods: addLast(), addFirst(), removeFirst(), peekFirst(), peekLast(), and size()."
   ]
  },
  {
   "cell_type": "code",
   "execution_count": null,
   "id": "db5ebdeb",
   "metadata": {},
   "outputs": [],
   "source": [
    "import java.util.ArrayDeque;\n",
    "import java.util.Deque;\n",
    "\n",
    "public class CustomerLine {\n",
    "    public static void main(String[] args) {\n",
    "        // Create a deque to represent the customer line\n",
    "        Deque<String> customerLine = new ArrayDeque<>();\n",
    "        \n",
    "        // Step 1: Enqueue 4 customers to the end\n",
    "        customerLine.addLast(\"Alice\");\n",
    "        customerLine.addLast(\"Bob\");\n",
    "        customerLine.addLast(\"Charlie\");\n",
    "        customerLine.addLast(\"Diana\");\n",
    "        System.out.println(\"Initial line after adding 4 customers (end): \" + customerLine);\n",
    "        \n",
    "        // Step 2: VIP arrives - add to front\n",
    "        customerLine.addFirst(\"VIP1\");\n",
    "        System.out.println(\"After VIP arrival (added at front): \" + customerLine);\n",
    "        \n",
    "        // Step 3: Process line - serve customer at front\n",
    "        String servedCustomer = customerLine.removeFirst();\n",
    "        System.out.println(\"After serving the customer at the front (removed \" + servedCustomer + \"): \" + customerLine);\n",
    "        \n",
    "        // Step 4: Inspect line - show front and back\n",
    "        System.out.println(\"Current front of the line: \" + customerLine.peekFirst());\n",
    "        System.out.println(\"Current back of the line: \" + customerLine.peekLast());\n",
    "        \n",
    "        // Step 5: Size check\n",
    "        System.out.println(\"Total number of customers waiting: \" + customerLine.size());\n",
    "    }\n",
    "}\n",
    "\n",
    "CustomerLine.main(null);"
   ]
  }
 ],
 "metadata": {
  "kernelspec": {
   "display_name": "Java",
   "language": "java",
   "name": "java"
  },
  "language_info": {
   "codemirror_mode": "java",
   "file_extension": ".jshell",
   "mimetype": "text/x-java-source",
   "name": "java",
   "pygments_lexer": "java",
   "version": "17.0.14+7-Ubuntu-122.04.1"
  }
 },
 "nbformat": 4,
 "nbformat_minor": 5
}
