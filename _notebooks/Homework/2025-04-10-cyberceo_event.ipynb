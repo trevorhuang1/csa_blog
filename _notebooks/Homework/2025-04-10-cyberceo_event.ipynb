{
 "cells": [
  {
   "cell_type": "markdown",
   "id": "a4ba6493",
   "metadata": {},
   "source": [
    "---\n",
    "toc: false \n",
    "layout: post\n",
    "title: CyberCEO Panelist Event\n",
    "description: Summary of my notes for the CyberCEO event. I added takeaways and next steps for myself here as a reminder.\n",
    "courses: { csa: {week: 26} }\n",
    "type: ccc\n",
    "---"
   ]
  },
  {
   "cell_type": "markdown",
   "id": "999beb1e",
   "metadata": {},
   "source": [
    "# Overview"
   ]
  },
  {
   "cell_type": "markdown",
   "id": "97bb7ddf",
   "metadata": {},
   "source": [
    "I feel lucky to be able to attend the CyberCEO event as a student interested in STEM. Here are my [full notes](https://docs.google.com/document/d/13pCFT672Gj2ooPFaAWe8ic9-16G3nx97lZV4WDkxdqM/edit?tab=t.0) that I took while listening. \n",
    "\n",
    "\n",
    "My main motivation for choosing to come was to learn more about the growing field of cybersecurity. My parents tell me all the time about how important cybersecurity will be in the future, so I thought it would be useful to get a surface level understanding and see if I have any interest in the field.\n",
    "\n",
    "<img src=\"../../images/cyberceo.jpg\" alt=\"CyberCEO Image\">"
   ]
  },
  {
   "cell_type": "markdown",
   "id": "ff1f1d54",
   "metadata": {},
   "source": [
    "## The Panelists\n",
    "\n",
    "### David Tomasz  \n",
    "**Role:** Intelligence Analyst, FBI San Diego Field Office  \n",
    "**Notable Experience:**\n",
    "- Created PowerShell scripts to eliminate exposed soldier data.\n",
    "- Emphasized the importance of being mission-driven (“catch the bad guy”).\n",
    "- Transitioned into cybersecurity by realizing it's learnable with persistence.\n",
    "\n",
    "### Tricia Mercer  \n",
    "**Role:** Board Member, San Diego Cyber Center of Excellence  \n",
    "**Notable Experience:**\n",
    "- Detected a disgruntled employee leaking company data to competitors using cybersecurity skills.\n",
    "- Stressed the importance of soft skills and clear communication, especially with leadership.\n",
    "- Advocates for foundational IT knowledge and hands-on experience.\n",
    "\n",
    "### Victor Nzeata  \n",
    "**Role:** Founder and CEO, Cyber Brain Academy  \n",
    "**Notable Experience:**\n",
    "- Promotes cybersecurity education and career transitions from other tech fields (e.g., software development).\n",
    "- Believes the field is easy to get into with curiosity and consistent learning.\n",
    "- Encourages students to attend conferences and network with professionals."
   ]
  },
  {
   "cell_type": "markdown",
   "id": "e1ab1445",
   "metadata": {},
   "source": [
    "### Current Cybersecurity Threats\n",
    "- Ransomware\n",
    "- Foreign espionage/IP theft\n",
    "- AI weaponization\n",
    "- Phishing due to low cyber awareness"
   ]
  },
  {
   "cell_type": "markdown",
   "id": "da3603c5",
   "metadata": {},
   "source": [
    "### Advice for High School Students\n",
    "- Learn IT basics (build your own network)\n",
    "- Gain computer science experience\n",
    "- Practice **soft skills** like communication and professionalism"
   ]
  },
  {
   "cell_type": "markdown",
   "id": "e4f2fef5",
   "metadata": {},
   "source": [
    "### Future Trends (Next 5–10 Years)\n",
    "- Increased specialization (e.g., healthcare IT)\n",
    "- AI-enhanced penetration testing --> ethical hackers in demand\n",
    "- Automation may replace poor coders. **To survive you need to code well**\n",
    "- Broader cybersecurity adoption in smaller businesses\n"
   ]
  },
  {
   "cell_type": "markdown",
   "id": "e2caeb27",
   "metadata": {},
   "source": [
    "### Opportunities for Students (like me!)\n",
    "- Penetration testing roles are in high demand.\n",
    "- Cybersecurity welcomes transitions from related tech fields.\n",
    "- Great entry-level certs:\n",
    "  - **CC by ISC2** (free, beginner-friendly)\n",
    "  - **A+** and **N+** certifications\n",
    "- Attending **conferences** is strongly recommended."
   ]
  },
  {
   "cell_type": "markdown",
   "id": "7a240455",
   "metadata": {},
   "source": [
    "### Key takeaways\n",
    "- Cybersecurity is accessible: Many professionals transitioned from related fields like software development or IT. **Curiosity and persistence matter more than starting experience.**\n",
    "- Soft skills are critical. **Communicating** technical ideas in simple terms helps gain leadership support\n",
    "- Threats are constantly **evolving**, so the field has to as well\n",
    "- Cybersecurity experts must be deliberate and careful. Mistakes can be costly for security at all levels"
   ]
  },
  {
   "cell_type": "markdown",
   "id": "78ac0ef9",
   "metadata": {},
   "source": [
    "### Summary\n",
    "The panel made me realize how important cybersecurity is for a variety of fields, but also that soft skills are necessary for me wherever I go--even if I'm not pursuing something like software engineering specifically.\n",
    "\n",
    "My ultimate dream is to do work with nuclear fusion reactors, and when I did research cybersecurity is actually important. Cybersecurity is crucial for protecting intellectual property (data or designs) and making sure control systems stay safe. The intersection between the two fields is definitely something I'll be looking into!!"
   ]
  }
 ],
 "metadata": {
  "kernelspec": {
   "display_name": "Java",
   "language": "java",
   "name": "java"
  },
  "language_info": {
   "name": "java"
  }
 },
 "nbformat": 4,
 "nbformat_minor": 5
}
