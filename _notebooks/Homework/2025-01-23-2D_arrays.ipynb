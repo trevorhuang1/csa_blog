{
 "cells": [
  {
   "cell_type": "markdown",
   "metadata": {},
   "source": [
    "---\n",
    "layout: post\n",
    "toc: True\n",
    "title: 2D Arrays\n",
    "description: My solution and thought process behind the 2021 FRQ problem 4\n",
    "courses: {'csa': {'week': 18}}\n",
    "type: collab\n",
    "categories: [AP CSA]\n",
    "---"
   ]
  },
  {
   "cell_type": "markdown",
   "metadata": {},
   "source": [
    "## Part A (notes to self):\n",
    "- Make sure to declare the method as static\n",
    "- Iterate through each element of the selected row and then use a conditional to see if the element is 0 or not\n",
    "- Return a boolean value"
   ]
  },
  {
   "cell_type": "code",
   "execution_count": null,
   "metadata": {
    "vscode": {
     "languageId": "java"
    }
   },
   "outputs": [],
   "source": [
    "// Create the method isNonZeroRow\n",
    "public static boolean isNonZeroRow(int[][] array2D, int r) {\n",
    "    // Loop through the row, where i is the column index\n",
    "    for (int i = 0; i < array2D[r].length; i++) {\n",
    "        // If a zero is found, return false\n",
    "        if (array2D[r][i] == 0) {\n",
    "            return false;\n",
    "        }\n",
    "    }\n",
    "    // If the loop completes without finding a zero, return true\n",
    "    return true;\n",
    "}"
   ]
  },
  {
   "cell_type": "markdown",
   "metadata": {},
   "source": [
    "## Part B (notes to self):\n",
    "- Use both numNonZeroRows AND isNonZeroRow to receive full credit\n",
    "- Remove all rows that contain a zero --> isNonZeroRow will be useful for this\n",
    "    - I'm thinking to use a for loop to go through each row using the isNonZeroRow on each row"
   ]
  },
  {
   "cell_type": "code",
   "execution_count": 1,
   "metadata": {
    "vscode": {
     "languageId": "java"
    }
   },
   "outputs": [],
   "source": [
    "// Create the method resize\n",
    "public static int[][] resize (int[][] array2D) {\n",
    "    // Get the number of rows and columns in the 2D array\n",
    "    int rows = array2D.length;\n",
    "    int columns = array2D[0].length;\n",
    "    // Create a new 2D array with the same number of columns, but only the number of non-zero rows\n",
    "    int[][] resized = new int[numNonZeroRows(array2D)][columns];\n",
    "\n",
    "    // Loop through the rows of the original array\n",
    "    for (int i = 0, j = 0; i < rows; i++) {\n",
    "        // If the row is non-zero, copy it to the resized array\n",
    "        if (isNonZeroRow(array2D, i)) {\n",
    "            for (int k = 0; k < columns; k++) {\n",
    "                // Copy the value from the original array to the resized array\n",
    "                resized[j][k] = array2D[i][k];\n",
    "            }\n",
    "            j++;\n",
    "        }\n",
    "    }\n",
    "    // Return the resized array\n",
    "    return resized;\n",
    "}"
   ]
  },
  {
   "cell_type": "markdown",
   "metadata": {},
   "source": [
    "## Grading myself:\n",
    "1. Compares an item from array2D with 0 ✅\n",
    "2. Accesses every item from row r of 2D array (no bounds errors) ✅\n",
    "3. Returns true if and only if row contains no zeros ✅\n",
    "\n",
    "4. Calls numNonZeroRows and isNonZeroRow ✅\n",
    "5. Identifies rows with no zeros (in the context of an if) ✅\n",
    "6. Declares and creates a new 2D array of the correct size ✅\n",
    "7. Maintains an index in the new array ✅\n",
    "8. Traverses all necessary elements of\n",
    "array2D (no bounds errors) ✅\n",
    "9. Copies all and only rows identified as having no zero elements into the new array ✅"
   ]
  },
  {
   "cell_type": "markdown",
   "metadata": {},
   "source": [
    "## Reflection\n",
    "I did a lot better on this FRQ compared to others. It could be that I'm getting more experience, but I do think that commenting as I went and also making a plan before I start was also useful. \n",
    "\n",
    "One thing that could have been done better was my time management since this one took a bit long. I spend ~20 mins on this homework which is kind of long. Hopefully, now that I'm more familiar with 2D arrays, the 2D arrays pt 2 homework will be a bit faster for me."
   ]
  }
 ],
 "metadata": {
  "kernelspec": {
   "display_name": "Java",
   "language": "java",
   "name": "java"
  },
  "language_info": {
   "codemirror_mode": "java",
   "file_extension": ".jshell",
   "mimetype": "text/x-java-source",
   "name": "Java",
   "pygments_lexer": "java",
   "version": "17.0.13+11-Ubuntu-2ubuntu122.04"
  }
 },
 "nbformat": 4,
 "nbformat_minor": 2
}
