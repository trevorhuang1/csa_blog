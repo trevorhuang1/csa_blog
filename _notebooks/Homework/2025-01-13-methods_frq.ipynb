{
 "cells": [
  {
   "cell_type": "markdown",
   "metadata": {},
   "source": [
    "---\n",
    "layout: post\n",
    "toc: True\n",
    "title: Methods and Controls Homework\n",
    "description: My solutions to the 2022 FRQ Question 1\n",
    "courses: {'csa': {'week': 17}}\n",
    "type: collab\n",
    "categories: [AP CSA]\n",
    "---"
   ]
  },
  {
   "cell_type": "markdown",
   "metadata": {},
   "source": [
    "## Dissecting Part A\n",
    "- Part A asks for to write the getScore method\n",
    "- isBonus method returns true if its a bonus game, false otherwise\n",
    "- Points for higher levels can only be earned if lower levels are achieved too\n",
    "- Bonus = score x 3"
   ]
  },
  {
   "cell_type": "code",
   "execution_count": null,
   "metadata": {},
   "outputs": [],
   "source": [
    "// My solution to part A\n",
    "public int getScore {\n",
    "    // Score starts at zero\n",
    "    private int score;\n",
    "    \n",
    "    // Checks for every level if the goal is reached\n",
    "    if (levelOne.goalReached()) {\n",
    "        score += levelOne.getPoints();\n",
    "        // Can only get points for level two if level one is completed\n",
    "        if (levelTwo.goalReached()) {\n",
    "            score += levelTwo.getPoints();\\\n",
    "            // Can only get points for level three if level two is completed\n",
    "            if (levelThree.goalReached()) {\n",
    "                score += levelThree.getPoints();\n",
    "            }\n",
    "        }\n",
    "    }\n",
    "    // Tripling score for bonus\n",
    "    if (isBonus()) {\n",
    "        score *= 3;\n",
    "    }\n",
    "    return score;\n",
    "}"
   ]
  },
  {
   "cell_type": "markdown",
   "metadata": {},
   "source": [
    "## Dissecting Part B\n",
    "- Need to use play(); helper method before being able to getScore() for the game\n",
    "- Only take highest score\n",
    "- Should use some kind of for loop for this"
   ]
  },
  {
   "cell_type": "code",
   "execution_count": null,
   "metadata": {},
   "outputs": [],
   "source": [
    "// My solution to part B\n",
    "public int playManyTimes (int num) {\n",
    "    // Highscore starts at zero\n",
    "    private int highScore;\n",
    "    // Enhanced for loops to play the game num times\n",
    "    for (int game : num) {\n",
    "        // Play the game\n",
    "        play();\n",
    "        // Get the score for the game played\n",
    "        int score = getScore();\n",
    "        // If the score is higher than the highscore, set the highscore to the score\n",
    "        if (score > highScore) {\n",
    "            highScore = score;\n",
    "       } \n",
    "    }\n",
    "    // Return the score after the loop terminates\n",
    "    return highScore;\n",
    "}"
   ]
  }
 ],
 "metadata": {
  "kernelspec": {
   "display_name": "Java",
   "language": "java",
   "name": "java"
  },
  "language_info": {
   "name": "java"
  }
 },
 "nbformat": 4,
 "nbformat_minor": 2
}
