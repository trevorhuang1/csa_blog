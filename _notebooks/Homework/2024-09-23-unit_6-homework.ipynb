{
 "cells": [
  {
   "cell_type": "raw",
   "metadata": {
    "vscode": {
     "languageId": "raw"
    }
   },
   "source": [
    "---\n",
    "layout: post\n",
    "toc: True\n",
    "title: Unit 6 Homework\n",
    "courses: {'csa': {'week': 4}}\n",
    "type: collab\n",
    "categories: [AP CSA]\n",
    "author: Trevor Huang\n",
    "---"
   ]
  },
  {
   "cell_type": "markdown",
   "metadata": {},
   "source": [
    "## Lesson 6.1"
   ]
  },
  {
   "cell_type": "markdown",
   "metadata": {},
   "source": [
    "### Popcorn Hack 1"
   ]
  },
  {
   "cell_type": "code",
   "execution_count": 33,
   "metadata": {},
   "outputs": [
    {
     "name": "stdout",
     "output_type": "stream",
     "text": [
      "San Diego\n",
      "San Francisco\n",
      "Sacramento\n",
      "4\n"
     ]
    }
   ],
   "source": [
    "// requirements\n",
    "\n",
    "String[] city_array = {\"San Diego\", \"Los Angeles\", \"San Francisco\", \"Sacramento\"};\n",
    "\n",
    "System.out.println(city_array[0]);\n",
    "System.out.println(city_array[2]);\n",
    "System.out.println(city_array[3]);\n",
    "\n",
    "city_array[1] = \"Sacaramento\";\n",
    "city_array[3] = \"San Jose\";\n",
    "\n",
    "System.out.println(city_array.length);"
   ]
  },
  {
   "cell_type": "code",
   "execution_count": 34,
   "metadata": {},
   "outputs": [
    {
     "name": "stdout",
     "output_type": "stream",
     "text": [
      "San Diego Population: 1423851\n",
      "Los Angeles Population: 3980400\n",
      "San Francisco Population: 883305\n",
      "San Jose Population: 1035317\n",
      "Number of cities: 4\n"
     ]
    }
   ],
   "source": [
    "// came back to this popcorn hack and used knew knowledge of loops to make the code more interesting\n",
    "String[] city_array = {\"San Diego\", \"Los Angeles\", \"San Francisco\", \"San Jose\"};\n",
    "\n",
    "// Define an array of populations corresponding to each city\n",
    "int[] population_array = {1423851, 3980400, 883305, 1035317};\n",
    "\n",
    "// Print city names and their populations\n",
    "for (int i = 0; i < city_array.length; i++) {\n",
    "    System.out.println(city_array[i] + \" Population: \" + population_array[i]);\n",
    "}\n",
    "\n",
    "// Print the total number of cities in the array\n",
    "System.out.println(\"Number of cities: \" + city_array.length);"
   ]
  },
  {
   "cell_type": "markdown",
   "metadata": {},
   "source": [
    "### Popcorn Hack 2"
   ]
  },
  {
   "cell_type": "code",
   "execution_count": 35,
   "metadata": {},
   "outputs": [
    {
     "name": "stdout",
     "output_type": "stream",
     "text": [
      "Default value of an integer: 0\n",
      "Default value of a string: null\n",
      "Default value of an array: 0.0\n",
      "Default value of a boolean: false\n"
     ]
    }
   ],
   "source": [
    "int[] intArray = new int[4];\n",
    "String[] stringArray = new String[4];\n",
    "double[] doubleArray = new double[4];\n",
    "boolean[] booleanArray = new boolean[4];\n",
    "\n",
    "System.out.println(\"Default value of an integer: \" + intArray[1]);\n",
    "System.out.println(\"Default value of a string: \" + stringArray[1]);\n",
    "System.out.println(\"Default value of an array: \" + doubleArray[1]);\n",
    "System.out.println(\"Default value of a boolean: \" + booleanArray[1]);"
   ]
  },
  {
   "cell_type": "markdown",
   "metadata": {},
   "source": [
    "### MCQ 1\n",
    "Consider the following method which is intended to return the position of `find` within the String referenced at the third last index of `arr`.\n",
    "<br>\n",
    "<br>\n",
    "`public static int findThirdLast(String [] arr, String find)`\n",
    "<br>\n",
    "`{`\n",
    "<br>\n",
    "`return /*missing code*/;`\n",
    "    <br>\n",
    "`}`\n",
    "<br>\n",
    "<br>\n",
    "Which of the following could replace `/*missing code*/` to complete the method as specified?\n",
    "<br>\n",
    "A. `arr[].indexOf(find)`\n",
    "<br>\n",
    "B. `arr.indexOf(find)`\n",
    "<br>\n",
    "C. `arr[arr.length].indexOf(find)`\n",
    "<br>\n",
    "D. `arr[arr.length - 3].indexOf(find)`\n",
    "<br>\n",
    "E. `arr[arr.length - 2].indexOf(find)`"
   ]
  },
  {
   "cell_type": "markdown",
   "metadata": {},
   "source": [
    "- A. arr[] does not include a specific index error. This would cause a syntax error\n",
    "- B. Does not reference ay index at all\n",
    "- C. OutofBounds error, since arrays are zero indexed so arr[arr.length] does not actually exist\n",
    "- E. This would find the second last index of the array\n",
    "- D. This correctly finds the third last index of the array!\n",
    "\n",
    "**D is the correct answer**"
   ]
  },
  {
   "cell_type": "markdown",
   "metadata": {},
   "source": [
    "### MCQ 2\n",
    "Consider the following method:\n",
    "<br>\n",
    "<br>\n",
    "`public static int mystery(int [] arr)`\n",
    "<br>\n",
    "`{`\n",
    "<br>\n",
    "`return arr[1] + arr[4]/2`\n",
    "<br>\n",
    "`}`\n",
    "<br>\n",
    "<br>\n",
    "The `mystery` method is called from another method in the same class:\n",
    "`int[] list = {1,9,2,5,6};`\n",
    "<br>\n",
    "`int result = mystery(list);`\n",
    "<br>\n",
    "<br>\n",
    "What is stored in result after executing the above code?\n",
    "<br>\n",
    "<br>\n",
    "A. 2\n",
    "<br>\n",
    "B. 12\n",
    "<br>\n",
    "C. 15\n",
    "<br>\n",
    "D. 9\n",
    "<br>\n",
    "E. 8"
   ]
  },
  {
   "cell_type": "markdown",
   "metadata": {},
   "source": [
    "- arr[1] = 9\n",
    "- arr[4]/2 = 6/3 = 3\n",
    "- arr[4]/2 + arr[1] --> 3 + 9 = 12\n",
    "\n",
    "**B is the correct answer**"
   ]
  },
  {
   "cell_type": "markdown",
   "metadata": {},
   "source": [
    "## Lesson 6.2"
   ]
  },
  {
   "cell_type": "markdown",
   "metadata": {},
   "source": [
    "### Popcorn Hack 1"
   ]
  },
  {
   "cell_type": "code",
   "execution_count": 36,
   "metadata": {},
   "outputs": [
    {
     "name": "stdout",
     "output_type": "stream",
     "text": [
      "6\n"
     ]
    }
   ],
   "source": [
    "public static int sumOfEvenNumbers(int[] arr) {\n",
    "    /* \n",
    "     * This function takes an array of integers as input and returns the sum of all even numbers in the array.\n",
    "     */\n",
    "    int sum = 0;\n",
    "    for (int i = 0; i < arr.length; i++) {\n",
    "        if (arr[i] % 2 == 0) {\n",
    "            sum += arr[i];\n",
    "        }\n",
    "    }\n",
    "    return sum;\n",
    "}\n",
    "\n",
    "// Example usage:\n",
    "int[] arr = {1, 2, 3, 4, 5};\n",
    "System.out.println(sumOfEvenNumbers(arr)); // Output: 6\n"
   ]
  },
  {
   "cell_type": "markdown",
   "metadata": {},
   "source": [
    "### Popcorn Hack 2"
   ]
  },
  {
   "cell_type": "code",
   "execution_count": 37,
   "metadata": {},
   "outputs": [
    {
     "name": "stdout",
     "output_type": "stream",
     "text": [
      "3\n"
     ]
    }
   ],
   "source": [
    "public static int countOccurrences(int[] arr, int target) {\n",
    "    /*\n",
    "     * This function takes an array of integers and a target integer as input and returns the number of times the target integer appears in the array.\n",
    "     */\n",
    "    int count = 0;\n",
    "    for (int i = 0; i < arr.length; i++) {\n",
    "        if (arr[i] == target) {\n",
    "            count++;\n",
    "        }\n",
    "    }\n",
    "    return count;\n",
    "}\n",
    "\n",
    "// Example usage:\n",
    "int[] arr = {3, 5, 3, 3, 7, 5};\n",
    "int target = 3;\n",
    "System.out.println(countOccurrences(arr, target)); // Output: 3"
   ]
  },
  {
   "cell_type": "markdown",
   "metadata": {},
   "source": [
    "### Popcorn Hack 3"
   ]
  },
  {
   "cell_type": "code",
   "execution_count": 38,
   "metadata": {},
   "outputs": [
    {
     "name": "stdout",
     "output_type": "stream",
     "text": [
      "2\n"
     ]
    }
   ],
   "source": [
    "public static int firstNegativeIndex(int[] arr) {\n",
    "    /*\n",
    "     * This function takes an array of integers as input and returns the index of the first negative number in the array. \n",
    "     * If there are no negative numbers in the array, the function should return -1.\n",
    "     */\n",
    "    for (int i = 0; i < arr.length; i++) {\n",
    "        if (arr[i] < 0) {\n",
    "            return i;\n",
    "        }\n",
    "    }\n",
    "    return -1;\n",
    "}\n",
    "\n",
    "// Example usage:\n",
    "int[] arr = {4, 7, -2, 5};\n",
    "System.out.println(firstNegativeIndex(arr)); // Output: 2"
   ]
  },
  {
   "cell_type": "markdown",
   "metadata": {},
   "source": [
    "### MCQ 1\n",
    "Consider the following code:"
   ]
  },
  {
   "cell_type": "code",
   "execution_count": null,
   "metadata": {},
   "outputs": [],
   "source": [
    "String[] list = {\"red\", \"yellow\", \"blue\"};\n",
    "for (int i = 0; i < list.length; i++) {\n",
    "    System.out.print(list[i].length() + \"_\");\n",
    "}"
   ]
  },
  {
   "cell_type": "markdown",
   "metadata": {},
   "source": [
    "What is displayed after the code is executed?\n",
    "\n",
    "A. `red_yellow_blue`\n",
    "\n",
    "B. `3_3_3_`\n",
    "\n",
    "C. `3_6_4_`\n",
    "\n",
    "D. `3_3_`\n",
    "\n",
    "E. `3_6_`\n",
    "\n",
    "**C is executed, since the lengths of red (3), yellow (6), and blue (4) are being printed and seperated by underscores**"
   ]
  },
  {
   "cell_type": "markdown",
   "metadata": {},
   "source": [
    "### MCQ 2"
   ]
  },
  {
   "cell_type": "markdown",
   "metadata": {},
   "source": [
    "Consider the following code segment which is intended to display every other element in `numbers`, beginning with the first element:"
   ]
  },
  {
   "cell_type": "code",
   "execution_count": null,
   "metadata": {},
   "outputs": [],
   "source": [
    "int[] numbers = {13, 33, 3, -3, -333};\n",
    "for (/*missing*/) {\n",
    "    System.out.print(numbers[i]);\n",
    "}"
   ]
  },
  {
   "cell_type": "markdown",
   "metadata": {},
   "source": [
    "Which of the following could replace `/*missing code*/` to make the code work as intended?\n",
    "\n",
    "(A) `int i = 0; i < numbers. length 12; it+`\n",
    "\n",
    "(B) `int i = 1; i ‹ numbers. length; i++`\n",
    "\n",
    "(C) `int i = 1; i < numbers.length; i+=2`\n",
    "\n",
    "(D) `int i = 0; i ‹ numbers.length; i++`\n",
    "\n",
    "(E) `int i = 0; i < numbers.length; i+=2`\n",
    "\n",
    "**C and E are both correct, since they will skip over the next index after printing the current index**"
   ]
  },
  {
   "cell_type": "markdown",
   "metadata": {},
   "source": [
    "### MCQ 3\n",
    "Consider the method which is intended to reverse the order of the elements in `arr`."
   ]
  },
  {
   "cell_type": "code",
   "execution_count": null,
   "metadata": {},
   "outputs": [],
   "source": [
    "public static void reverseArray (double [] arr) {\n",
    "    for (int i = 0; i < arr.length; i++) {\n",
    "        double temp = arr [i];\n",
    "        arr[i] = arr[arr.length-1-i];\n",
    "        arr[arr.length-1-i] = temp;\n",
    "    }\n",
    "}"
   ]
  },
  {
   "cell_type": "markdown",
   "metadata": {},
   "source": [
    "Which of the following would fix the method so it works as intended?\n",
    "\n",
    "(A) Change the loop condition to: \n",
    "\n",
    "```java\n",
    "i < arr. length - 1\n",
    "```\n",
    "\n",
    "(B) Change the loop condition to: \n",
    "\n",
    "```java\n",
    "i < arr.length/2\n",
    "```\n",
    "\n",
    "(C) Change the loop condition to: \n",
    "\n",
    "```java\n",
    "i < arr.length/2 - 1\n",
    "```\n",
    "\n",
    "(D) Change lines 6 and 7 to:\n",
    "\n",
    "```java\n",
    "arr[1] = arr[arr.length-1];\n",
    "\n",
    "arr [arr.length-i] = temp;\n",
    "```\n",
    "\n",
    "(E) Change the loop body to:\n",
    "\n",
    "```java\n",
    "arr[1] = arr[arr.length-1-1];\n",
    "\n",
    "arr [arr.length-1-1] = arr[i];\n",
    "```\n",
    "\n",
    "**B is the correct answer because it only loops to the midpoint of the array, so elements are only swapped once**"
   ]
  },
  {
   "cell_type": "markdown",
   "metadata": {},
   "source": [
    "### Homework Hack\n",
    "\n",
    "**Problem Statement:** Given an array of integers, write a method to find the second largest unique element in the array. If the array has fewer than two distinct elements, return -1."
   ]
  },
  {
   "cell_type": "code",
   "execution_count": 39,
   "metadata": {},
   "outputs": [
    {
     "name": "stdout",
     "output_type": "stream",
     "text": [
      "6\n",
      "-1\n"
     ]
    }
   ],
   "source": [
    "public static int findSecondLargest(int[] arr) {\n",
    "    if (arr.length < 2) {\n",
    "        return -1; // Return -1 if there are fewer than 2 elements\n",
    "    }\n",
    "    \n",
    "    int largest = Integer.MIN_VALUE;\n",
    "    int secondLargest = Integer.MIN_VALUE;\n",
    "\n",
    "    for (int num : arr) {\n",
    "        // Update largest and secondLargest accordingly\n",
    "        if (num > largest) {\n",
    "            secondLargest = largest; // Update second largest\n",
    "            largest = num; // Update largest\n",
    "        } else if (num > secondLargest && num < largest) {\n",
    "            secondLargest = num; // Update second largest if num is unique and less than largest\n",
    "        }\n",
    "    }\n",
    "\n",
    "    return (secondLargest == Integer.MIN_VALUE) ? -1 : secondLargest; // Return -1 if second largest was never updated\n",
    "}\n",
    "\n",
    "// Example usage:\n",
    "public static void main(String[] args) {\n",
    "    int[] arr1 = {3, 1, 4, 1, 5, 9, 2, 6};\n",
    "    System.out.println(findSecondLargest(arr1)); // Output: 6\n",
    "\n",
    "    int[] arr2 = {10, 10, 10, 10};\n",
    "    System.out.println(findSecondLargest(arr2)); // Output: -1\n",
    "}\n",
    "\n",
    "main(null);"
   ]
  },
  {
   "cell_type": "markdown",
   "metadata": {},
   "source": [
    "## Lesson 6.3"
   ]
  },
  {
   "cell_type": "markdown",
   "metadata": {},
   "source": [
    "### Popcorn Hack 1\n",
    "Rewrite this code to use an enhanced for loop instead. make comments explaining what you added/changed"
   ]
  },
  {
   "cell_type": "code",
   "execution_count": null,
   "metadata": {},
   "outputs": [],
   "source": [
    "String[] languages = {\"Java\", \"Python\", \"Markdown\", \"C++\", \"Go\", \"JavaScript\", \"HTML\"};\n",
    "\n",
    "// changed to for each loop\n",
    "// accesses each element in the array and prints it\n",
    "for (String language : languages) {\n",
    "    System.out.println(language);\n",
    "};"
   ]
  },
  {
   "cell_type": "markdown",
   "metadata": {},
   "source": [
    "### Popcorn Hack 2"
   ]
  },
  {
   "cell_type": "code",
   "execution_count": null,
   "metadata": {},
   "outputs": [],
   "source": [
    "String[] minions = {\"Gru\", \"Dr. Nefario\", \"Margo\", \"Edith\", \"Agnes\", \"Kevin\", \"Bob\"};\n",
    "\n",
    "// Loop through the array and print each minion's name\n",
    "for (String minion : minions) {\n",
    "    System.out.println(minion);\n",
    "}"
   ]
  },
  {
   "cell_type": "markdown",
   "metadata": {},
   "source": [
    "### Popcorns Hack 3"
   ]
  },
  {
   "cell_type": "code",
   "execution_count": 40,
   "metadata": {},
   "outputs": [],
   "source": [
    "private String[] myArray = {\n",
    "    \"And\", \"Table\", \"Shirts\", \"Tea\", \"School Day\"\n",
    "};\n",
    "\n",
    "for (String currentWord : myArray) {\n",
    "    // Add code here\n",
    "}"
   ]
  },
  {
   "cell_type": "markdown",
   "metadata": {},
   "source": [
    "- A. System.out.println(myArray.currentWord.length());\n",
    "- B. System.out.println(myArray[index].length());\n",
    "- C. System.out.println(myArray[currentWord].length());\n",
    "- D. System.out.println(currentWord.length());\n",
    "\n",
    "**D is the correct answer because the enhanced for loop removes the need to use an index of myArray**"
   ]
  },
  {
   "cell_type": "markdown",
   "metadata": {},
   "source": [
    "### Popcorn Hacks 4"
   ]
  },
  {
   "cell_type": "code",
   "execution_count": 41,
   "metadata": {},
   "outputs": [
    {
     "name": "stdout",
     "output_type": "stream",
     "text": [
      "Indices of 'a' in Apple: 0 \n",
      "Indices of 'a' in Banana: 1 3 5 \n",
      "Indices of 'a' in Orange: 2 \n"
     ]
    }
   ],
   "source": [
    "String[] fruits = {\"Apple\", \"Banana\", \"Orange\"};\n",
    "\n",
    "for (String fruit : fruits) {\n",
    "    System.out.print(\"Indices of 'a' in \" + fruit + \": \");\n",
    "    int index = fruit.toLowerCase().indexOf('a'); // Convert to lowercase\n",
    "\n",
    "    while (index != -1) {\n",
    "        System.out.print(index + \" \"); // Print the index\n",
    "        index = fruit.toLowerCase().indexOf('a', index + 1); // Find the next 'a'\n",
    "    }\n",
    "    System.out.println(); // New line for the next fruit\n",
    "}"
   ]
  },
  {
   "cell_type": "markdown",
   "metadata": {},
   "source": [
    "### Popcorn Hack 5"
   ]
  },
  {
   "cell_type": "code",
   "execution_count": null,
   "metadata": {},
   "outputs": [],
   "source": [
    "String[] myArray = {\"Object 1\", \"Object 2\", \"Object 3\", \"Object 4\", \"Object 5\"};\n",
    "\n",
    "for (currentWord: myArray) {\n",
    "    System.out(currentWord)\n",
    "};\n",
    "\n",
    "// There are 3 errors, can you find them?"
   ]
  },
  {
   "cell_type": "markdown",
   "metadata": {},
   "source": [
    "1. currentWord needs to be specified as a String\n",
    "2. System.out --> System.out.println()\n",
    "3. Needs a semicolon after the print statement"
   ]
  },
  {
   "cell_type": "markdown",
   "metadata": {},
   "source": [
    "### Final Hack\n",
    "\n",
    "Add to the code below to create a average grade calculator (using an enhanced for loop)"
   ]
  },
  {
   "cell_type": "code",
   "execution_count": 44,
   "metadata": {},
   "outputs": [
    {
     "name": "stdout",
     "output_type": "stream",
     "text": [
      "Enter a grade: Updated Grades: [88, 93, 55, 68, 77, 55]\n",
      "Average Grade: 72.66666666666667\n"
     ]
    }
   ],
   "source": [
    "import java.util.Arrays;\n",
    "import java.util.Scanner;\n",
    "\n",
    "public class Main {\n",
    "    public static void main(String[] args) {\n",
    "        Integer[] grades = {88, 93, 55, 68, 77};\n",
    "\n",
    "        Scanner userGrades = new Scanner(System.in);\n",
    "        System.out.print(\"Enter a grade: \");\n",
    "        int grade = Integer.parseInt(userGrades.nextLine());\n",
    "\n",
    "        // Add the new grade to the array\n",
    "        grades = Arrays.copyOf(grades, grades.length + 1);\n",
    "        grades[grades.length - 1] = grade;\n",
    "        \n",
    "        // Calculate the average grade\n",
    "        double sum = 0;\n",
    "        for (int g : grades) {\n",
    "            sum += g; // Sum all grades\n",
    "        }\n",
    "        double average = sum / grades.length; // Calculate average\n",
    "        \n",
    "        System.out.println(\"Updated Grades: \" + Arrays.toString(grades));\n",
    "        System.out.println(\"Average Grade: \" + average);\n",
    "        \n",
    "        userGrades.close(); // Close the scanner to prevent resource leaks\n",
    "    }\n",
    "}\n",
    "\n",
    "Main.main(null);"
   ]
  },
  {
   "cell_type": "markdown",
   "metadata": {},
   "source": [
    "## Lesson 6.4"
   ]
  },
  {
   "cell_type": "markdown",
   "metadata": {},
   "source": [
    "### Popcorn Hack: If an integer in the array is greater than the integer below it, print \"Increase\""
   ]
  },
  {
   "cell_type": "code",
   "execution_count": 46,
   "metadata": {},
   "outputs": [
    {
     "name": "stdout",
     "output_type": "stream",
     "text": [
      "Increase: 5 is greater than 3\n",
      "Increase: 7 is greater than 5\n",
      "Increase: 8 is greater than 2\n",
      "Increase: 4 is greater than -1\n",
      "Increase: 12 is greater than 0\n",
      "Maximum value: 12\n",
      "Minimum value: -1\n"
     ]
    }
   ],
   "source": [
    "public class MaxMinInArray {\n",
    "\n",
    "    public static void findMaxAndMin(int[] array) {\n",
    "       \n",
    "        if (array == null || array.length == 0) {\n",
    "            System.out.println(\"Array is empty\");\n",
    "            return;\n",
    "        }\n",
    "\n",
    "        int max = array[0];\n",
    "        int min = array[0];\n",
    "\n",
    "        for (int i = 1; i < array.length; i++) {\n",
    "            // Check for increase\n",
    "            if (array[i] > array[i - 1]) {\n",
    "                System.out.println(\"Increase: \" + array[i] + \" is greater than \" + array[i - 1]);\n",
    "            }\n",
    "            \n",
    "            // Update max and min\n",
    "            if (array[i] > max) {\n",
    "                max = array[i];  \n",
    "            }\n",
    "            if (array[i] < min) {\n",
    "                min = array[i];  \n",
    "            }\n",
    "        }\n",
    "\n",
    "        System.out.println(\"Maximum value: \" + max);\n",
    "        System.out.println(\"Minimum value: \" + min);\n",
    "    }\n",
    "\n",
    "    public static void main(String[] args) {\n",
    "        int[] array = {3, 5, 7, 2, 8, -1, 4, 0, 12};\n",
    "\n",
    "        findMaxAndMin(array);\n",
    "    }\n",
    "}\n",
    "\n",
    "MaxMinInArray.main(null);\n"
   ]
  },
  {
   "cell_type": "markdown",
   "metadata": {},
   "source": [
    "### HW Hack: Go through the array in reverse order and output each object"
   ]
  },
  {
   "cell_type": "code",
   "execution_count": 47,
   "metadata": {},
   "outputs": [
    {
     "name": "stdout",
     "output_type": "stream",
     "text": [
      "5\n",
      "4\n",
      "3\n",
      "2\n",
      "1\n",
      "0\n"
     ]
    }
   ],
   "source": [
    "Integer[] myArray = {0, 1, 2, 3, 4, 5};\n",
    "\n",
    "for (int i = myArray.length - 1; i >= 0; i--) {\n",
    "    System.out.println(myArray[i]);\n",
    "}"
   ]
  },
  {
   "cell_type": "markdown",
   "metadata": {},
   "source": [
    "### HW Hack: Print words while skipping every other word (\"Alpha\", \"Gamma\", \"Beta\", \"Delta\")"
   ]
  },
  {
   "cell_type": "code",
   "execution_count": 49,
   "metadata": {},
   "outputs": [
    {
     "name": "stdout",
     "output_type": "stream",
     "text": [
      "gamma alpha "
     ]
    }
   ],
   "source": [
    "public class WordShifter {  \n",
    "    public static void main(String[] args) {\n",
    "        String[] words = {\"alpha\", \"beta\", \"gamma\", \"delta\"};\n",
    "        int shiftWord = 2;\n",
    "\n",
    "        for (int count = 0; count < shiftWord; count++) {\n",
    "            String temp = words[0];\n",
    "            for (int index = 0; index < words.length - 1; index++) {\n",
    "                words[index] = words[index + 1];\n",
    "            }\n",
    "            words[words.length - 1] = temp;\n",
    "        }\n",
    "\n",
    "        for (int i = 0; i < words.length; i++) {\n",
    "            if (i % 2 == 0) {\n",
    "                System.out.print(words[i] + \" \");\n",
    "            }\n",
    "        }\n",
    "    }\n",
    "}\n",
    "\n",
    "WordShifter.main(null);"
   ]
  }
 ],
 "metadata": {
  "kernelspec": {
   "display_name": "Java",
   "language": "java",
   "name": "java"
  },
  "language_info": {
   "codemirror_mode": "java",
   "file_extension": ".jshell",
   "mimetype": "text/x-java-source",
   "name": "java",
   "pygments_lexer": "java",
   "version": "17.0.12+7-Ubuntu-1ubuntu222.04"
  }
 },
 "nbformat": 4,
 "nbformat_minor": 2
}
