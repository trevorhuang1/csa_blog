{
 "cells": [
  {
   "cell_type": "markdown",
   "metadata": {},
   "source": [
    "---\n",
    "layout: post\n",
    "toc: True\n",
    "title: Arrays/ArrayLists Homework\n",
    "description: My solutions to the 2023 FRQ question 3\n",
    "courses: {'csa': {'week': 17}}\n",
    "type: collab\n",
    "categories: [AP CSA]\n",
    "---"
   ]
  },
  {
   "cell_type": "markdown",
   "metadata": {},
   "source": [
    "## Original Code"
   ]
  },
  {
   "cell_type": "code",
   "execution_count": null,
   "metadata": {},
   "outputs": [],
   "source": [
    "// Part A\n",
    "public void cleanData(double lower, double upper) {\n",
    "    // Iterate backward to not skip elements\n",
    "    for (int i = temperatures.size(); i < 0; i--) {\n",
    "        // Use get(i) to get the element at index i\n",
    "        // If it's outside of the acceptable range, remove it\n",
    "        if (temperatures.get(i) < lower || temperatures.get(i) > upper) {\n",
    "            temperatures.remove(i);\n",
    "        }\n",
    "    }\n",
    "}"
   ]
  },
  {
   "cell_type": "code",
   "execution_count": null,
   "metadata": {},
   "outputs": [],
   "source": [
    "// Part B\n",
    "public int longestHeatWave(double threshold) {\n",
    "    // Initialize variables to keep track of the current heat wave and the longest heat wave\n",
    "    int currentHeatWave = 0;\n",
    "    int longestHeatWave = 0;\n",
    "\n",
    "    // Iterate through the temperatures\n",
    "    for (double temp: temperatures) {\n",
    "        // If it's greater than the threshhold, increment the current heat wave\n",
    "        if (temp > threshold) {\n",
    "            currentHeatWave++;\n",
    "            // If the current heat wave is longer than the longest heat wave, update the longest heat wave\n",
    "            if (currentHeatWave > longestHeatWave) {\n",
    "                longestHeatWave = currentHeatWave;\n",
    "            }\n",
    "        }\n",
    "        // If it's not greater than the threshold, reset the current heat wave\n",
    "        else {\n",
    "            currentHeatWave = 0;\n",
    "        }\n",
    "    }\n",
    "}"
   ]
  }
 ],
 "metadata": {
  "kernelspec": {
   "display_name": "Java",
   "language": "java",
   "name": "java"
  },
  "language_info": {
   "name": "java"
  }
 },
 "nbformat": 4,
 "nbformat_minor": 2
}
