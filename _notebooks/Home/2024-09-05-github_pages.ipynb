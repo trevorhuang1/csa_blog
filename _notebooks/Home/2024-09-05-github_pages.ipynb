{
 "cells": [
  {
   "cell_type": "markdown",
   "metadata": {
    "vscode": {
     "languageId": "raw"
    }
   },
   "source": [
    "---\n",
    "toc: True\n",
    "comments: True\n",
    "layout: post\n",
    "title: Github Pages Mini Project Brain Write\n",
    "description: Here, Matthew and I will be writing down our ideas for the Github Pages mini project. We originally ideated on a google document, so I am just pasting it in right now.\n",
    "type: issues\n",
    "permalink: brain\n",
    "courses: { csa: {week: 1} }\n",
    "---"
   ]
  },
  {
   "cell_type": "markdown",
   "metadata": {},
   "source": [
    "## Ideation/Brainstorming:\n",
    "- Games\n",
    "- Water Brands\n",
    "- Tortoises\n",
    "- Minecraft\n",
    "- Driving\n",
    "- Food\n",
    "- Condiments\n",
    "- Peanut butter\n",
    "- Desserts\n",
    "- Guide to chatgpt\n",
    "- How to get accurate responses\n",
    "- Being student athlete (Balancing sport and academics = No sleep)\n",
    "- Guide to having fun in junior year of high school\n",
    "- Best WIkihow articles\n",
    "- Continue on bathroom pass/give guide on alias\n",
    "- How to improve your CSA grade :)\n",
    "- Making website snazzy\n",
    "- How to transfer a jekyll theme\n",
    "- Types of Goats\n",
    "- Interesting Literature\n",
    "- Bash Scripting\n",
    "- How to make friends\n"
   ]
  },
  {
   "cell_type": "markdown",
   "metadata": {},
   "source": [
    "## What we decided on:\n",
    "Matthew and I ultimately decided on centering our mini project around various different types of foods.\n",
    "\n",
    "We will incorperate javascript by adding fun facts for each food that we review as the page loads, which can hopefully be entertaining for visitors on our sites."
   ]
  }
 ],
 "metadata": {
  "language_info": {
   "name": "python"
  }
 },
 "nbformat": 4,
 "nbformat_minor": 2
}
