{
 "cells": [
  {
   "cell_type": "markdown",
   "metadata": {},
   "source": [
    "---\n",
    "toc: True\n",
    "comments: True\n",
    "layout: post\n",
    "title: Condiments\n",
    "description: A cool place to learn a bit about condiments.\n",
    "permalink: condiment\n",
    "courses: { csa: {week: 0} }\n",
    "menu: nav/home.html\n",
    "---"
   ]
  },
  {
   "cell_type": "markdown",
   "metadata": {},
   "source": [
    "{% include load2.html %}"
   ]
  },
  {
   "cell_type": "markdown",
   "metadata": {},
   "source": [
    "## What Are Condiments?\n",
    "Condiments are amazing little add-ons to food that can take a meal from \"meh\" to \"wow!\" They can add flavor, texture, and even a bit of kick to a meal.\n",
    "![image](https://github.com/user-attachments/assets/fdec76e3-04aa-48f0-96e9-11d757d9fd20)\n"
   ]
  },
  {
   "cell_type": "markdown",
   "metadata": {},
   "source": [
    "## Condiment Fun Facts\n",
    "- Ancient Egyptians used mustard seeds as medicine.\n",
    "- A staple in Chinese cuisine, soy sauce dates back over 2,500 years.\n",
    "- Some believe hot sauce can help boost metabolism.\n",
    "![image](https://github.com/user-attachments/assets/09c33a39-e308-4a49-a310-2cad6e8504cd)\n",
    "\n"
   ]
  },
  {
   "cell_type": "markdown",
   "metadata": {},
   "source": [
    "## ChatGPT creates condiment combos!\n",
    "- Mayo + Sriracha: Creamy with a spicy kick.\n",
    "- Ketchup + Relish: Sweet and tangy in every bite.\n",
    "- Soy Sauce + Honey: Sweet and salty perfection."
   ]
  },
  {
   "cell_type": "markdown",
   "metadata": {},
   "source": [
    "{% include ranking.html %}"
   ]
  }
 ],
 "metadata": {
  "language_info": {
   "name": "python"
  }
 },
 "nbformat": 4,
 "nbformat_minor": 2
}
