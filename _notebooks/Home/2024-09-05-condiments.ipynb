{
 "cells": [
  {
   "cell_type": "markdown",
   "metadata": {},
   "source": [
    "---\n",
    "toc: True\n",
    "comments: True\n",
    "layout: post\n",
    "title: Peanut Butter\n",
    "description: Curious about peanut butter? This is the place for you.\n",
    "permalink: peanut\n",
    "courses: { csa: {week: 0} }\n",
    "---"
   ]
  }
 ],
 "metadata": {
  "language_info": {
   "name": "python"
  }
 },
 "nbformat": 4,
 "nbformat_minor": 2
}
