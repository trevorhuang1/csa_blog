{
 "cells": [
  {
   "cell_type": "markdown",
   "metadata": {},
   "source": [
    "---\n",
    "toc: True\n",
    "comments: True\n",
    "layout: post\n",
    "title: Peanut Butter\n",
    "description: Curious about peanut butter? This is the place for you.\n",
    "type: ccc\n",
    "permalink: peanut\n",
    "menu: nav/home.html\n",
    "courses: { csa: {week: 0} }\n",
    "---"
   ]
  },
  {
   "cell_type": "markdown",
   "metadata": {},
   "source": [
    "{% include load.html %}"
   ]
  },
  {
   "cell_type": "markdown",
   "metadata": {},
   "source": [
    "![image](https://github.com/user-attachments/assets/48ab1718-3d43-4895-b3d4-eedae90d1344)"
   ]
  },
  {
   "cell_type": "markdown",
   "metadata": {},
   "source": [
    "**Before we embark on this journey, we must first ask ourselves: what is peanut butter?**\n",
    "> *Peanut butter is a food paste or spread made from ground, dry-roasted peanuts.*\n",
    "There are many things to explore when it comes to peanut butter. This blog is meant to explore all of your questions about peanut butter.\n",
    "\n",
    "## More Wikipedia Information:"
   ]
  },
  {
   "cell_type": "code",
   "execution_count": null,
   "metadata": {},
   "outputs": [],
   "source": [
    "import wikipedia\n",
    "from IPython.display import display, Markdown\n",
    "import emoji\n",
    "\n",
    "terms = ['peanut butter']\n",
    "for term in terms:\n",
    "    result = wikipedia.search(term)\n",
    "    summary = wikipedia.summary((result[0]))\n",
    "    display(Markdown(summary))\n",
    "    \n",
    "## Want with more emojis?\n",
    "\n",
    "summary_cool = summary.replace('peanut',':peanuts:')\n",
    "# summary_cool = summary.replace('Peanut',':peanuts:')\n",
    "summary_cool = summary.replace('butter',':butter:')\n",
    "\n",
    "summary_cool = emoji.emojize(summary_cool)\n",
    "\n",
    "print(summary_cool)\n"
   ]
  },
  {
   "cell_type": "code",
   "execution_count": null,
   "metadata": {},
   "outputs": [],
   "source": [
    "import requests\n",
    "from bs4 import BeautifulSoup\n",
    "import re\n",
    "from statistics import median\n",
    "import statistics\n",
    "url = 'https://minimalistbaker.com/store-bought-peanut-butter-review/'\n",
    "\n",
    "response = requests.get(url)\n",
    "soup = BeautifulSoup(response.text, 'html.parser')\n",
    "\n",
    "p_tags = soup.find_all('p')\n",
    "vals = []\n",
    "for p in p_tags:\n",
    "    if '/20' in p.get_text():\n",
    "        floats = re.findall(\"\\d+\\.\\d+\",p.get_text())\n",
    "        for sublist in floats:\n",
    "            vals.append(sublist)\n",
    "for i in range(len(vals)):\n",
    "    vals[i] = float(vals[i])\n",
    "\n",
    "## The median review out of 20:\n",
    "print(\" According to Minimalist Baker's reviews of peanut butter brands...\")\n",
    "print('The median for the review scores for peanut butter:',median(vals))\n",
    "print('The mean value of all the ratings for peanut butter:', statistics.mean(vals))\n",
    "\n"
   ]
  },
  {
   "cell_type": "markdown",
   "metadata": {},
   "source": [
    "## What is the best peanut butter?\n",
    "Choosing the best peanut butter often comes down to personal preference, but many people swear by the creamy, classic taste of Jif or Skippy. If you're a fan of natural options, brands like Justin's or Smucker's Natural offer rich, roasted flavors with minimal added sugars and oils. For those who like a bit of a crunch, the texture of chunky peanut butter from any of these brands can add a satisfying bite. I am personally a fan of creamy Skippy peanut butter, especially in smoothies.\n",
    "\n",
    "<img src='https://github.com/user-attachments/assets/3c7aae67-f806-4cd7-b5ca-695ec0d53a3a' width='200' height='auto'>"
   ]
  },
  {
   "cell_type": "markdown",
   "metadata": {},
   "source": [
    "## Is peanut butter healthy? \n",
    "Peanut butter is loaded with tons of good nutrients, including vitamin E, magnesium, iron, selenium, and vitamin B6. Research shows that people who regularly eat peanut butter are less likely to develop **heart disease** which is super cool."
   ]
  },
  {
   "cell_type": "markdown",
   "metadata": {},
   "source": [
    "## Is peanut butter delicious?\n",
    "yes."
   ]
  },
  {
   "cell_type": "markdown",
   "metadata": {},
   "source": [
    "## What is the healthiest peanut butter?\n",
    "\n",
    "According to healthline.com...\n",
    "### Best Overall Healthy Peanut Butter\n",
    " Crazy Richard's Natural Peanut Butter\n",
    "\n",
    " ![image](https://github.com/user-attachments/assets/7faf6534-36f7-45b1-a0a2-3967286297ab)\n",
    "\n",
    "### Best affordable peanut butter\n",
    " Trader Joe's Creamy Salted Peanut Butter\n",
    "\n",
    " ![image](https://github.com/user-attachments/assets/564e568a-70ae-46c3-bbbb-68a1f14ac997)\n",
    "\n",
    "### Best organic peanut butter\n",
    " Spread The Love Naked Organic Peanut\n",
    "\n",
    "![image](https://github.com/user-attachments/assets/9cd48b8d-ccdc-4a85-a221-0adb66b41972)\n",
    "  \n",
    "### Best Crunchy Peanut Butter\n",
    " Adam's Natural Crunchy Peanut Butter\n",
    "\n",
    "![image](https://github.com/user-attachments/assets/89494668-e217-4546-a0d7-c0e1ea135d72)\n"
   ]
  },
  {
   "cell_type": "markdown",
   "metadata": {},
   "source": [
    "## Almond Butter or Peanut Butter?\n",
    "Almond butter is often praised for its higher content of healthy fats, vitamins, and minerals like vitamin E and magnesium. It's also usually less processed than peanut butter, depending on the brand. On the other hand, peanut butter is a classic choice with a more familiar taste for many people. It tends to be a bit cheaper and can be easier to find in various flavors."
   ]
  },
  {
   "cell_type": "markdown",
   "metadata": {},
   "source": [
    "## Peanut Butter Resources:\n",
    "**If you would like to learn more about peanut butter:**"
   ]
  },
  {
   "cell_type": "code",
   "execution_count": null,
   "metadata": {},
   "outputs": [],
   "source": [
    "from googlesearch import search\n",
    "def query(Search,numResults):\n",
    "    urls = []\n",
    "    for url in search(Search,stop = numResults):\n",
    "        urls.append(url)\n",
    "    return urls\n",
    "    #\\\n",
    "peanut_resources = query('peanut butter', 10)\n",
    "for link in peanut_resources:\n",
    "    print(link)"
   ]
  },
  {
   "cell_type": "markdown",
   "metadata": {},
   "source": [
    "{% include peanut_poll.html %}"
   ]
  }
 ],
 "metadata": {
  "kernelspec": {
   "display_name": "Python 3",
   "language": "python",
   "name": "python3"
  },
  "language_info": {
   "codemirror_mode": {
    "name": "ipython",
    "version": 3
   },
   "file_extension": ".py",
   "mimetype": "text/x-python",
   "name": "python",
   "nbconvert_exporter": "python",
   "pygments_lexer": "ipython3",
   "version": "3.10.12"
  }
 },
 "nbformat": 4,
 "nbformat_minor": 2
}
