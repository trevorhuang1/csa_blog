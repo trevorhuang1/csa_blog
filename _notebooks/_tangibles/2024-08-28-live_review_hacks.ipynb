{
 "cells": [
  {
   "cell_type": "raw",
   "metadata": {
    "vscode": {
     "languageId": "raw"
    }
   },
   "source": [
    "---\n",
    "toc: True\n",
    "comments: True\n",
    "layout: post\n",
    "title: Tools Hacks for 8/28\n",
    "description: This class will require you to make a Portfolio 2025 Web Site, a GitHub Account, a Slack Account, and as part of final exam will require you update your LinkedIn account.\n",
    "type: collab\n",
    "courses: { csa: {week: 0} }\n",
    "---"
   ]
  },
  {
   "cell_type": "markdown",
   "metadata": {},
   "source": [
    "## Tools Installation Hack (Summary)\n",
    "This was mostly review from CSP, so I'll make this summary brief. The files from github are placed on my local machine when I clone it, and I navigate to those files using the \"cd\" command to go within the repository.\n",
    "\n",
    "These files are updated to GitHub"
   ]
  },
  {
   "cell_type": "markdown",
   "metadata": {},
   "source": [
    "## Tools Verification Hacks\n",
    "Matthew and I both took CSP, so much of this is review. Files from GitHub are placed on my local machine using git pull and I can navigate to those files using the cd command. If I wanted to update the template of portfolio_2025, I would just use git pull within the repository terminal.\n",
    "\n",
    "The localhost url for my project "
   ]
  }
 ],
 "metadata": {
  "kernelspec": {
   "display_name": "Python 3",
   "language": "python",
   "name": "python3"
  },
  "language_info": {
   "codemirror_mode": {
    "name": "ipython",
    "version": 3
   },
   "file_extension": ".py",
   "mimetype": "text/x-python",
   "name": "python",
   "nbconvert_exporter": "python",
   "pygments_lexer": "ipython3",
   "version": "3.10.12"
  }
 },
 "nbformat": 4,
 "nbformat_minor": 2
}
