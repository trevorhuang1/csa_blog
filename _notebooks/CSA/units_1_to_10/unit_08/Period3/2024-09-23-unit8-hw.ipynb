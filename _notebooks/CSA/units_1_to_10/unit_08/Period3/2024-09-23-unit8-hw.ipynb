{
 "cells": [
  {
   "cell_type": "markdown",
   "metadata": {},
   "source": [
    "---\n",
    "layout: post\n",
    "title: Unit 8 - Homework\n",
    "description: By Torin\n",
    "menu: nav/CSA_Units/csa_unit8_p3.html\n",
    "courses: {'csa': {'week': 5}}\n",
    "toc: true\n",
    "comments: true\n",
    "permalink: /csa/unit8yay/hw/\n",
    "---"
   ]
  },
  {
   "cell_type": "markdown",
   "metadata": {},
   "source": [
    "# HW Hack for 8.1:\n",
    "\n",
    "You are given a function below, and your goal is to match the table to match the 2d array provided in the function."
   ]
  },
  {
   "cell_type": "markdown",
   "metadata": {},
   "source": [
    "{% raw %}\n",
    "```java\n",
    "public class Main {\n",
    "    public static void main(String[] args) {\n",
    "        String[][] array = {{\"My\", \"A\"}, {\"AP\", \"Class\"}, {\"CS\", \"Rocks!\"}};\n",
    "        \n",
    "        for (int col = 0; col < array[0].length; col++) {\n",
    "            for (int row = 0; row < array.length; row++) {\n",
    "                System.out.print(array[row][col] + \" \");\n",
    "            }\n",
    "        }\n",
    "    }\n",
    "}\n",
    "\n",
    "Main.main(null);\n",
    "```\n",
    "{% endraw %}"
   ]
  },
  {
   "cell_type": "markdown",
   "metadata": {},
   "source": [
    "Of the following, which is the correct table for the 2d array provided in the function?\n",
    "\n",
    "\n",
    "A)\n",
    "\n",
    "|   | 1   | 2   | 3      |\n",
    "|---|-----|-----|--------|\n",
    "| 1 | My  | CS  | Class  |\n",
    "| 2 | AP  | A   | Rocks! |\n",
    "\n",
    "B)\n",
    "\n",
    "|   | 1   | 2   | 3      |\n",
    "|---|-----|-----|--------|\n",
    "| 1 | My  | AP  | CS  |\n",
    "| 2 | A  | Class   | Rocks! |\n",
    "\n",
    "C)\n",
    "\n",
    "|   | 1   | 2   | 3      |\n",
    "|---|-----|-----|--------|\n",
    "| 1 | My  | AP  | Class  |\n",
    "| 2 | Rocks!  | CS   | A |"
   ]
  },
  {
   "cell_type": "markdown",
   "metadata": {},
   "source": [
    "**The correct answer is B**. Since \"My\", \"AP\", and \"CS\" are the columns, the second row needs to correspond in the correct order. As a result, the only option that maintains the correct order is option B."
   ]
  },
  {
   "cell_type": "markdown",
   "metadata": {},
   "source": [
    "# HW Hack for 8.2:\n",
    "\n",
    "\n",
    "Write a program to search through a 2d array to find the grade for John. You will be given a list of students and their grades and you must find the grade of John. If a student is not in the list, then return \"Student not found\".\n",
    "\n",
    "Use this program as a template:\n"
   ]
  },
  {
   "cell_type": "code",
   "execution_count": 5,
   "metadata": {
    "vscode": {
     "languageId": "java"
    }
   },
   "outputs": [
    {
     "name": "stdout",
     "output_type": "stream",
     "text": [
      "Alice's grade: 85\n",
      "Charlie's grade: Student not found\n",
      "John's grade: 93\n"
     ]
    }
   ],
   "source": [
    "public class GradeSearch {\n",
    "    public static String searchGrade(String[][] grades, String name) {\n",
    "        // Loop through each row in the grades array\n",
    "        for (int i = 0; i < grades.length; i++) {\n",
    "            // Check if the first element (name) matches the search name\n",
    "            if (grades[i][0].equals(name)) {\n",
    "                // Return the second element (grade) if the name matches\n",
    "                return grades[i][1];\n",
    "            }\n",
    "        }\n",
    "        // If the student is not found, return \"Student not found\"\n",
    "        return \"Student not found\";\n",
    "    }\n",
    "\n",
    "    public static void main(String[] args) {\n",
    "        // Sample 2D array with names and grades\n",
    "        String[][] grades = {\n",
    "            {\"John\", \"93\"},\n",
    "            {\"Alice\", \"85\"},\n",
    "            {\"Bob\", \"78\"},\n",
    "            {\"Eve\", \"92\"}\n",
    "        };\n",
    "\n",
    "        // Test the search function\n",
    "        String nameToSearch = \"Alice\";\n",
    "        String grade = searchGrade(grades, nameToSearch);\n",
    "        System.out.println(nameToSearch + \"'s grade: \" + grade);\n",
    "\n",
    "        nameToSearch = \"Charlie\";\n",
    "        grade = searchGrade(grades, nameToSearch);\n",
    "        System.out.println(nameToSearch + \"'s grade: \" + grade);\n",
    "\n",
    "        nameToSearch = \"John\";\n",
    "        grade = searchGrade(grades, nameToSearch);\n",
    "        System.out.println(nameToSearch + \"'s grade: \" + grade);\n",
    "    }\n",
    "}\n",
    "\n",
    "// Execute the main method to see the output\n",
    "GradeSearch.main(null);\n"
   ]
  },
  {
   "cell_type": "markdown",
   "metadata": {},
   "source": [
    "Heres a hint, try to use enhanced for loops to check each row for the name John. If you find John, then return the grade. If you don't find John, then return \"Student not found\"."
   ]
  },
  {
   "cell_type": "markdown",
   "metadata": {},
   "source": [
    "## Lesson 8.1 Popcorn Hacks"
   ]
  },
  {
   "cell_type": "markdown",
   "metadata": {},
   "source": [
    "What's wrong with this code:"
   ]
  },
  {
   "cell_type": "code",
   "execution_count": null,
   "metadata": {
    "vscode": {
     "languageId": "java"
    }
   },
   "outputs": [],
   "source": [
    "int[][] exampleArray = {\n",
    "    {\"Hello\", \"World\"},\n",
    "    {\"Java\", \"Array\"}\n",
    "};"
   ]
  },
  {
   "cell_type": "markdown",
   "metadata": {},
   "source": [
    "The code above is trying to initialize a 2D array of integers with string values. An easy fix would be to change the type of the array to a 2D string array (String[][])."
   ]
  },
  {
   "cell_type": "markdown",
   "metadata": {},
   "source": [
    "How many total elements can this 2D array hold, and how would you calculate it?"
   ]
  },
  {
   "cell_type": "code",
   "execution_count": null,
   "metadata": {
    "vscode": {
     "languageId": "java"
    }
   },
   "outputs": [],
   "source": [
    "int[][] matrix = new int[2][3];"
   ]
  },
  {
   "cell_type": "markdown",
   "metadata": {},
   "source": [
    "The two 2D array can hold 6 values, since it is 2 rows by 3 columns for a total of 6 different elements."
   ]
  },
  {
   "cell_type": "markdown",
   "metadata": {},
   "source": [
    "<img src=\"https://github.com/user-attachments/assets/4bae6ef7-dee0-4b6f-ba92-bd05af8fa84d\" alt=\"Image 1\">\n",
    "\n",
    "How would you write the code to access the last score? MC\n",
    "- A. grades[6][3]\n",
    "- B. grades[7][4]\n",
    "- C. grades[grades.length - 1] [grades[0].length - 1]\n",
    "- D. A and C"
   ]
  },
  {
   "cell_type": "markdown",
   "metadata": {},
   "source": [
    "D is the correct answer since both would access the 7th column, 4th row which would be the last MCQ score. However we would need to be careful about option C because the 2D array could be jagged."
   ]
  },
  {
   "cell_type": "markdown",
   "metadata": {},
   "source": [
    "<img src=\"https://github.com/user-attachments/assets/72f2ff0f-7d8b-4d5b-90e4-da9403a5570b\" alt=\"Image 1\">"
   ]
  },
  {
   "cell_type": "markdown",
   "metadata": {},
   "source": [
    "**B is the correct answer** since we would need to access the row 2, column 1 and the columns/rows are zero indexed."
   ]
  },
  {
   "cell_type": "markdown",
   "metadata": {},
   "source": [
    "## Lesson 8.2 Popcorn Hacks"
   ]
  },
  {
   "cell_type": "markdown",
   "metadata": {},
   "source": [
    "An array called find is shown below. In this popcorn hack, I want you to loop through the numbers until you get to the number that doesn’t belong (55). Then print that number along with which row and column it is located in."
   ]
  },
  {
   "cell_type": "code",
   "execution_count": 6,
   "metadata": {
    "vscode": {
     "languageId": "java"
    }
   },
   "outputs": [
    {
     "name": "stdout",
     "output_type": "stream",
     "text": [
      "Found 55 at index 1, 1\n"
     ]
    }
   ],
   "source": [
    "public class Main {\n",
    "    public static void main(String[] args) {\n",
    "        int find[][] = {\n",
    "            {10, 20, 30},\n",
    "            {40, 55, 60},\n",
    "            {70, 80, 90},\n",
    "        };\n",
    "\n",
    "        // Write your code here\n",
    "        int search = 55;\n",
    "        for (int i = 0; i < find.length; i++) {\n",
    "            for (int j = 0; j < find[i].length; j++) {\n",
    "                if (find[i][j] == search) {\n",
    "                    System.out.println(\"Found \" + search + \" at index \" + i + \", \" + j);\n",
    "                }\n",
    "            }\n",
    "        }\n",
    "    }\n",
    "}\n",
    "Main.main(null);"
   ]
  },
  {
   "cell_type": "markdown",
   "metadata": {},
   "source": [
    "Create your own 2D array and use either binary search or linear search. (maybe both 😏 )"
   ]
  },
  {
   "cell_type": "code",
   "execution_count": null,
   "metadata": {
    "vscode": {
     "languageId": "java"
    }
   },
   "outputs": [],
   "source": [
    "public class Main {\n",
    "    public static void main(String[] args) {\n",
    "        int[][] array = {\n",
    "            {1, 2, 3, 4, 5},\n",
    "            {6, 7, 8, 9, 10},\n",
    "            {11, 12, 13, 14, 15},\n",
    "            {16, 17, 18, 19, 20},\n",
    "            {21, 22, 23, 24, 25}\n",
    "        };\n",
    "        int target = 25;\n",
    "        int[] result = binarySearch2D(array, target);\n",
    "        \n",
    "        if (result[0] != -1) {\n",
    "            System.out.println(\"Element found at: Row \" + result[0] + \", Column \" + result[1]);\n",
    "        } else {\n",
    "            System.out.println(\"Element not found.\");\n",
    "        }\n",
    "    }\n",
    "    \n",
    "    public static int[] binarySearch2D(int[][] array, int target) {\n",
    "        int rows = array.length;\n",
    "        if (rows == 0) return new int[] {-1, -1};\n",
    "        int cols = array[0].length;\n",
    "        \n",
    "        int left = 0;\n",
    "        int right = rows * cols - 1;\n",
    "        \n",
    "        while (left <= right) {\n",
    "            int mid = left + (right - left) / 2;\n",
    "            int midValue = array[mid / cols][mid % cols];\n",
    "            \n",
    "            if (midValue == target) {\n",
    "                return new int[] {mid / cols, mid % cols}; // Return the row and column index\n",
    "            }\n",
    "            if (midValue < target) {\n",
    "                left = mid + 1; // Move to the right half\n",
    "            } else {\n",
    "                right = mid - 1; // Move to the left half\n",
    "            }\n",
    "        }\n",
    "        \n",
    "        return new int[] {-1, -1}; // Target not found\n",
    "    }\n",
    "}\n",
    "\n",
    "Main.main(null);"
   ]
  },
  {
   "cell_type": "markdown",
   "metadata": {},
   "source": [
    "Write a code that performs global sorting on your own 2D array."
   ]
  },
  {
   "cell_type": "code",
   "execution_count": 7,
   "metadata": {
    "vscode": {
     "languageId": "java"
    }
   },
   "outputs": [
    {
     "name": "stdout",
     "output_type": "stream",
     "text": [
      "Element found at: Row 1, Column 1\n"
     ]
    }
   ],
   "source": [
    "public class PopcornHack {\n",
    "    public static void main(String[] args) {\n",
    "        // Step 1: Create a globally sorted 2D array\n",
    "        int[][] array = {\n",
    "            {1, 3, 5},\n",
    "            {7, 9, 11},\n",
    "            {13, 15, 17}\n",
    "        };\n",
    "\n",
    "        // Step 2: Define your target number\n",
    "        int target = 9;\n",
    "\n",
    "        // Step 3: Call the binary search method\n",
    "        int[] result = binarySearch2D(array, target);\n",
    "\n",
    "        // Step 4: Output the result\n",
    "        if (result[0] != -1) {\n",
    "            System.out.println(\"Element found at: Row \" + result[0] + \", Column \" + result[1]);\n",
    "        } else {\n",
    "            System.out.println(\"Element not found.\");\n",
    "        }\n",
    "    }\n",
    "\n",
    "    // Option 2: Binary Search on a 2D array\n",
    "    public static int[] binarySearch2D(int[][] array, int target) {\n",
    "        int rows = array.length;\n",
    "        int cols = array[0].length;\n",
    "        int low = 0;\n",
    "        int high = rows * cols - 1;\n",
    "\n",
    "        while (low <= high) {\n",
    "            int mid = (low + high) / 2;\n",
    "            int midElement = array[mid / cols][mid % cols];  // Convert 1D index to 2D\n",
    "\n",
    "            if (midElement == target) {\n",
    "                return new int[]{mid / cols, mid % cols}; // Return row and column\n",
    "            } else if (midElement < target) {\n",
    "                low = mid + 1;\n",
    "            } else {\n",
    "                high = mid - 1;\n",
    "            }\n",
    "        }\n",
    "\n",
    "        return new int[]{-1, -1};  // If not found, return [-1, -1]\n",
    "    }\n",
    "}\n",
    "PopcornHack.main(null);"
   ]
  }
 ],
 "metadata": {
  "kernelspec": {
   "display_name": "Java",
   "language": "java",
   "name": "java"
  },
  "language_info": {
   "codemirror_mode": "java",
   "file_extension": ".jshell",
   "mimetype": "text/x-java-source",
   "name": "Java",
   "pygments_lexer": "java",
   "version": "17.0.12+7-Ubuntu-1ubuntu222.04"
  }
 },
 "nbformat": 4,
 "nbformat_minor": 2
}
